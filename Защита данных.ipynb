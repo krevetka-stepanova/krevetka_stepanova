{
 "cells": [
  {
   "cell_type": "markdown",
   "metadata": {
    "toc": true
   },
   "source": [
    "<h1>Содержание<span class=\"tocSkip\"></span></h1>\n",
    "<div class=\"toc\"><ul class=\"toc-item\"><li><span><a href=\"#Загрузка-данных\" data-toc-modified-id=\"Загрузка-данных-1\"><span class=\"toc-item-num\">1&nbsp;&nbsp;</span>Загрузка данных</a></span></li><li><span><a href=\"#Умножение-матриц\" data-toc-modified-id=\"Умножение-матриц-2\"><span class=\"toc-item-num\">2&nbsp;&nbsp;</span>Умножение матриц</a></span></li><li><span><a href=\"#Алгоритм-преобразования\" data-toc-modified-id=\"Алгоритм-преобразования-3\"><span class=\"toc-item-num\">3&nbsp;&nbsp;</span>Алгоритм преобразования</a></span></li><li><span><a href=\"#Проверка-алгоритма\" data-toc-modified-id=\"Проверка-алгоритма-4\"><span class=\"toc-item-num\">4&nbsp;&nbsp;</span>Проверка алгоритма</a></span></li><li><span><a href=\"#Чек-лист-проверки\" data-toc-modified-id=\"Чек-лист-проверки-5\"><span class=\"toc-item-num\">5&nbsp;&nbsp;</span>Чек-лист проверки</a></span></li></ul></div>"
   ]
  },
  {
   "cell_type": "markdown",
   "metadata": {},
   "source": [
    "# Защита персональных данных клиентов"
   ]
  },
  {
   "cell_type": "markdown",
   "metadata": {},
   "source": [
    "Вам нужно защитить данные клиентов страховой компании «Хоть потоп». Разработайте такой метод преобразования данных, чтобы по ним было сложно восстановить персональную информацию. Обоснуйте корректность его работы.\n",
    "\n",
    "Нужно защитить данные, чтобы при преобразовании качество моделей машинного обучения не ухудшилось. Подбирать наилучшую модель не требуется."
   ]
  },
  {
   "cell_type": "markdown",
   "metadata": {},
   "source": [
    "## Загрузка данных"
   ]
  },
  {
   "cell_type": "code",
   "execution_count": 1,
   "metadata": {},
   "outputs": [],
   "source": [
    "import pandas as pd\n",
    "import numpy as np\n",
    "from sklearn.model_selection import train_test_split\n",
    "from sklearn.preprocessing import StandardScaler\n",
    "from sklearn.pipeline import Pipeline\n",
    "from sklearn.linear_model import LinearRegression\n",
    "from sklearn.metrics import r2_score"
   ]
  },
  {
   "cell_type": "code",
   "execution_count": 2,
   "metadata": {},
   "outputs": [],
   "source": [
    "df = pd.read_csv('/datasets/insurance.csv')"
   ]
  },
  {
   "cell_type": "code",
   "execution_count": 3,
   "metadata": {},
   "outputs": [
    {
     "name": "stdout",
     "output_type": "stream",
     "text": [
      "<class 'pandas.core.frame.DataFrame'>\n",
      "RangeIndex: 5000 entries, 0 to 4999\n",
      "Data columns (total 5 columns):\n",
      " #   Column             Non-Null Count  Dtype  \n",
      "---  ------             --------------  -----  \n",
      " 0   Пол                5000 non-null   int64  \n",
      " 1   Возраст            5000 non-null   float64\n",
      " 2   Зарплата           5000 non-null   float64\n",
      " 3   Члены семьи        5000 non-null   int64  \n",
      " 4   Страховые выплаты  5000 non-null   int64  \n",
      "dtypes: float64(2), int64(3)\n",
      "memory usage: 195.4 KB\n"
     ]
    }
   ],
   "source": [
    "df.info()"
   ]
  },
  {
   "cell_type": "code",
   "execution_count": 4,
   "metadata": {},
   "outputs": [
    {
     "data": {
      "text/html": [
       "<div>\n",
       "<style scoped>\n",
       "    .dataframe tbody tr th:only-of-type {\n",
       "        vertical-align: middle;\n",
       "    }\n",
       "\n",
       "    .dataframe tbody tr th {\n",
       "        vertical-align: top;\n",
       "    }\n",
       "\n",
       "    .dataframe thead th {\n",
       "        text-align: right;\n",
       "    }\n",
       "</style>\n",
       "<table border=\"1\" class=\"dataframe\">\n",
       "  <thead>\n",
       "    <tr style=\"text-align: right;\">\n",
       "      <th></th>\n",
       "      <th>Пол</th>\n",
       "      <th>Возраст</th>\n",
       "      <th>Зарплата</th>\n",
       "      <th>Члены семьи</th>\n",
       "      <th>Страховые выплаты</th>\n",
       "    </tr>\n",
       "  </thead>\n",
       "  <tbody>\n",
       "    <tr>\n",
       "      <th>0</th>\n",
       "      <td>1</td>\n",
       "      <td>41.0</td>\n",
       "      <td>49600.0</td>\n",
       "      <td>1</td>\n",
       "      <td>0</td>\n",
       "    </tr>\n",
       "    <tr>\n",
       "      <th>1</th>\n",
       "      <td>0</td>\n",
       "      <td>46.0</td>\n",
       "      <td>38000.0</td>\n",
       "      <td>1</td>\n",
       "      <td>1</td>\n",
       "    </tr>\n",
       "    <tr>\n",
       "      <th>2</th>\n",
       "      <td>0</td>\n",
       "      <td>29.0</td>\n",
       "      <td>21000.0</td>\n",
       "      <td>0</td>\n",
       "      <td>0</td>\n",
       "    </tr>\n",
       "    <tr>\n",
       "      <th>3</th>\n",
       "      <td>0</td>\n",
       "      <td>21.0</td>\n",
       "      <td>41700.0</td>\n",
       "      <td>2</td>\n",
       "      <td>0</td>\n",
       "    </tr>\n",
       "    <tr>\n",
       "      <th>4</th>\n",
       "      <td>1</td>\n",
       "      <td>28.0</td>\n",
       "      <td>26100.0</td>\n",
       "      <td>0</td>\n",
       "      <td>0</td>\n",
       "    </tr>\n",
       "  </tbody>\n",
       "</table>\n",
       "</div>"
      ],
      "text/plain": [
       "   Пол  Возраст  Зарплата  Члены семьи  Страховые выплаты\n",
       "0    1     41.0   49600.0            1                  0\n",
       "1    0     46.0   38000.0            1                  1\n",
       "2    0     29.0   21000.0            0                  0\n",
       "3    0     21.0   41700.0            2                  0\n",
       "4    1     28.0   26100.0            0                  0"
      ]
     },
     "execution_count": 4,
     "metadata": {},
     "output_type": "execute_result"
    }
   ],
   "source": [
    "df.head()"
   ]
  },
  {
   "cell_type": "code",
   "execution_count": 5,
   "metadata": {},
   "outputs": [
    {
     "data": {
      "text/plain": [
       "Пол                  0\n",
       "Возраст              0\n",
       "Зарплата             0\n",
       "Члены семьи          0\n",
       "Страховые выплаты    0\n",
       "dtype: int64"
      ]
     },
     "execution_count": 5,
     "metadata": {},
     "output_type": "execute_result"
    }
   ],
   "source": [
    "df.isna().sum()"
   ]
  },
  {
   "cell_type": "markdown",
   "metadata": {},
   "source": [
    "Изменим тип данных в столбцах Пол, Возраст, Члены семьи и Страховые выплаты на целочисленный ввиду отсуствия дробных частей. "
   ]
  },
  {
   "cell_type": "code",
   "execution_count": 6,
   "metadata": {},
   "outputs": [
    {
     "name": "stdout",
     "output_type": "stream",
     "text": [
      "<class 'pandas.core.frame.DataFrame'>\n",
      "RangeIndex: 5000 entries, 0 to 4999\n",
      "Data columns (total 5 columns):\n",
      " #   Column             Non-Null Count  Dtype  \n",
      "---  ------             --------------  -----  \n",
      " 0   Пол                5000 non-null   int8   \n",
      " 1   Возраст            5000 non-null   int8   \n",
      " 2   Зарплата           5000 non-null   float64\n",
      " 3   Члены семьи        5000 non-null   int8   \n",
      " 4   Страховые выплаты  5000 non-null   int8   \n",
      "dtypes: float64(1), int8(4)\n",
      "memory usage: 58.7 KB\n"
     ]
    }
   ],
   "source": [
    "df['Пол'] = pd.to_numeric(df['Пол'], downcast='integer')\n",
    "df['Возраст'] = pd.to_numeric(df['Возраст'], downcast='integer')\n",
    "df['Члены семьи'] = pd.to_numeric(df['Члены семьи'], downcast='integer')\n",
    "df['Страховые выплаты'] = pd.to_numeric(df['Страховые выплаты'], downcast='integer')\n",
    "df.info()"
   ]
  },
  {
   "cell_type": "markdown",
   "metadata": {},
   "source": [
    "Данные загружены и не имеют аномалий. "
   ]
  },
  {
   "cell_type": "markdown",
   "metadata": {},
   "source": [
    "## Умножение матриц"
   ]
  },
  {
   "cell_type": "markdown",
   "metadata": {},
   "source": [
    "В этом задании вы можете записывать формулы в *Jupyter Notebook.*\n",
    "\n",
    "Чтобы записать формулу внутри текста, окружите её символами доллара \\\\$; если снаружи —  двойными символами \\\\$\\\\$. Эти формулы записываются на языке вёрстки *LaTeX.* \n",
    "\n",
    "Для примера мы записали формулы линейной регрессии. Можете их скопировать и отредактировать, чтобы решить задачу.\n",
    "\n",
    "Работать в *LaTeX* необязательно."
   ]
  },
  {
   "cell_type": "markdown",
   "metadata": {},
   "source": [
    "Обозначения:\n",
    "\n",
    "- $X$ — матрица признаков (нулевой столбец состоит из единиц)\n",
    "\n",
    "- $y$ — вектор целевого признака\n",
    "\n",
    "- $P$ — матрица, на которую умножаются признаки\n",
    "\n",
    "- $w$ — вектор весов линейной регрессии (нулевой элемент равен сдвигу)"
   ]
  },
  {
   "cell_type": "markdown",
   "metadata": {},
   "source": [
    "Предсказания:\n",
    "\n",
    "$$\n",
    "a = Xw\n",
    "$$\n",
    "\n",
    "Задача обучения:\n",
    "\n",
    "$$\n",
    "w = \\arg\\min_w MSE(Xw, y)\n",
    "$$\n",
    "\n",
    "Формула обучения:\n",
    "\n",
    "$$\n",
    "w = (X^T X)^{-1} X^T y\n",
    "$$"
   ]
  },
  {
   "cell_type": "markdown",
   "metadata": {},
   "source": [
    "**Вопрос:** Признаки умножают на обратимую матрицу. Изменится ли качество линейной регрессии?"
   ]
  },
  {
   "cell_type": "markdown",
   "metadata": {},
   "source": [
    "## Алгоритм преобразования"
   ]
  },
  {
   "cell_type": "markdown",
   "metadata": {},
   "source": [
    "**Алгоритм**\n",
    "\n",
    "    \n",
    "1. Строю линейную регрессию на начальных данных и нахожу метрику R2.\n",
    "\n",
    "\n",
    "2. Создаю случайную матрицу.\n",
    "\n",
    "\n",
    "3. Проверяю её на обратимость.\n",
    "\n",
    "\n",
    "4. Умножаю начальные данные на случайную матрицу.\n",
    "\n",
    "\n",
    "5. Строю линейную регрессию на основе данных, умноженных на случайную матрицу, и нахожу метрику R2.\n",
    "\n",
    "\n",
    "6. Сравниваю результаты между собой метрики R2."
   ]
  },
  {
   "cell_type": "markdown",
   "metadata": {},
   "source": [
    "## Проверка алгоритма"
   ]
  },
  {
   "cell_type": "markdown",
   "metadata": {},
   "source": [
    "1. Строю линейную регрессию на начальных данных и нахожу метрику R2."
   ]
  },
  {
   "cell_type": "code",
   "execution_count": 7,
   "metadata": {},
   "outputs": [],
   "source": [
    "features = df.drop('Страховые выплаты',axis=1)\n",
    "target = df['Страховые выплаты']"
   ]
  },
  {
   "cell_type": "code",
   "execution_count": 8,
   "metadata": {},
   "outputs": [],
   "source": [
    "features_train, features_test, target_train, target_test = train_test_split(\n",
    "    features, target, test_size=0.25, random_state=12345)"
   ]
  },
  {
   "cell_type": "code",
   "execution_count": 9,
   "metadata": {},
   "outputs": [
    {
     "name": "stdout",
     "output_type": "stream",
     "text": [
      "0.42494550286668\n"
     ]
    }
   ],
   "source": [
    "class LinearRegression:\n",
    "    def fit(self, train_features, train_target):\n",
    "        X = np.concatenate((np.ones((train_features.shape[0], 1)), train_features), axis=1)\n",
    "        y = train_target\n",
    "        w = np.linalg.inv(X.T.dot(X)).dot(X.T).dot(y)\n",
    "        self.w = w[1:]\n",
    "        self.w0 = w[0]\n",
    "\n",
    "    def predict(self, test_features):\n",
    "        return test_features.dot(self.w) + self.w0\n",
    "    \n",
    "model = LinearRegression()\n",
    "model.fit(features, target)\n",
    "predictions = model.predict(features)\n",
    "R2 = r2_score(target, predictions)\n",
    "print(R2)"
   ]
  },
  {
   "cell_type": "markdown",
   "metadata": {},
   "source": [
    "2. Создаю случайную матрицу.\n",
    "\n",
    "3. Проверяю её на обратимость.\n",
    "\n",
    "4. Умножаю начальные данные на случайную матрицу.\n",
    "\n",
    "5. Строю линейную регрессию на основе данных, умноженных на случайную матрицу, и нахожу метрику R2.\n"
   ]
  },
  {
   "cell_type": "code",
   "execution_count": 10,
   "metadata": {},
   "outputs": [
    {
     "name": "stdout",
     "output_type": "stream",
     "text": [
      "0.42494550286668\n"
     ]
    }
   ],
   "source": [
    "class LinearRegression:\n",
    "    def fit(self, train_features, train_target):\n",
    "        X = np.concatenate((np.ones((train_features.shape[0], 1)), train_features), axis=1)\n",
    "        y = train_target\n",
    "        w = np.linalg.inv(X.T.dot(X)).dot(X.T).dot(y)\n",
    "        self.w = w[1:]\n",
    "        self.w0 = w[0]\n",
    "        \n",
    "        X_d = X.shape[1]\n",
    "        Z = np.random.normal(size=(X_d, X_d))\n",
    "        \n",
    "        self.Z = Z\n",
    "        self.X = X\n",
    "        return self\n",
    "    \n",
    "    def check(self):\n",
    "        Z_rev = np.linalg.inv(Z)\n",
    "        if np.allclose(np.dot(self.Z, Z_rev), np.eye(self.Z.shape[0])) is True:\n",
    "            ans = \"Матрица обратима.\"\n",
    "        else:\n",
    "            ans = \"Ошибка: матрица не обратима.\"\n",
    "        return ans\n",
    "    \n",
    "    def transform(self, X, y=None):  \n",
    "        return X.dot(self.Z)\n",
    "\n",
    "    def predict(self, test_features):\n",
    "        return test_features.dot(self.w) + self.w0\n",
    "            \n",
    "model = LinearRegression()\n",
    "model.fit(features, target)\n",
    "predictions_new = model.predict(features)\n",
    "R2_new = r2_score(target, predictions_new)\n",
    "#print(ans)\n",
    "print(R2_new)"
   ]
  },
  {
   "cell_type": "markdown",
   "metadata": {},
   "source": [
    "6. Сравниваю результаты между собой метрики R2."
   ]
  },
  {
   "cell_type": "code",
   "execution_count": 12,
   "metadata": {},
   "outputs": [
    {
     "data": {
      "text/html": [
       "<div>\n",
       "<style scoped>\n",
       "    .dataframe tbody tr th:only-of-type {\n",
       "        vertical-align: middle;\n",
       "    }\n",
       "\n",
       "    .dataframe tbody tr th {\n",
       "        vertical-align: top;\n",
       "    }\n",
       "\n",
       "    .dataframe thead th {\n",
       "        text-align: right;\n",
       "    }\n",
       "</style>\n",
       "<table border=\"1\" class=\"dataframe\">\n",
       "  <thead>\n",
       "    <tr style=\"text-align: right;\">\n",
       "      <th></th>\n",
       "      <th>Линейная регрессия</th>\n",
       "      <th>Линейная регрессия преобразованая</th>\n",
       "    </tr>\n",
       "  </thead>\n",
       "  <tbody>\n",
       "    <tr>\n",
       "      <th>0</th>\n",
       "      <td>0.424946</td>\n",
       "      <td>0.424946</td>\n",
       "    </tr>\n",
       "  </tbody>\n",
       "</table>\n",
       "</div>"
      ],
      "text/plain": [
       "   Линейная регрессия  Линейная регрессия преобразованая\n",
       "0            0.424946                           0.424946"
      ]
     },
     "execution_count": 12,
     "metadata": {},
     "output_type": "execute_result"
    }
   ],
   "source": [
    "answers = pd.DataFrame({'Линейная регрессия': [R2],\n",
    "                      'Линейная регрессия преобразованая': [R2_new]})\n",
    "answers"
   ]
  }
 ],
 "metadata": {
  "ExecuteTimeLog": [
   {
    "duration": 395,
    "start_time": "2022-10-03T10:40:06.484Z"
   },
   {
    "duration": 79,
    "start_time": "2022-10-03T10:40:06.881Z"
   },
   {
    "duration": 10,
    "start_time": "2022-10-03T10:40:07.163Z"
   },
   {
    "duration": 10,
    "start_time": "2022-10-03T10:40:39.035Z"
   },
   {
    "duration": 6,
    "start_time": "2022-10-03T10:41:01.131Z"
   },
   {
    "duration": 385,
    "start_time": "2022-10-05T08:09:43.718Z"
   },
   {
    "duration": 89,
    "start_time": "2022-10-05T08:09:44.212Z"
   },
   {
    "duration": 11,
    "start_time": "2022-10-05T08:09:44.741Z"
   },
   {
    "duration": 14,
    "start_time": "2022-10-05T08:09:45.349Z"
   },
   {
    "duration": 5,
    "start_time": "2022-10-05T08:09:45.990Z"
   },
   {
    "duration": 48,
    "start_time": "2022-10-05T09:18:46.292Z"
   },
   {
    "duration": 759,
    "start_time": "2022-10-05T09:18:54.250Z"
   },
   {
    "duration": 28,
    "start_time": "2022-10-05T09:18:58.697Z"
   },
   {
    "duration": 10,
    "start_time": "2022-10-05T09:18:59.145Z"
   },
   {
    "duration": 6,
    "start_time": "2022-10-05T09:19:00.106Z"
   },
   {
    "duration": 5,
    "start_time": "2022-10-05T09:19:01.498Z"
   },
   {
    "duration": 232,
    "start_time": "2022-10-05T14:03:48.001Z"
   },
   {
    "duration": 1166,
    "start_time": "2022-10-06T10:56:11.852Z"
   },
   {
    "duration": 96,
    "start_time": "2022-10-06T10:56:13.021Z"
   },
   {
    "duration": 12,
    "start_time": "2022-10-06T10:56:13.177Z"
   },
   {
    "duration": 10,
    "start_time": "2022-10-06T10:56:13.963Z"
   },
   {
    "duration": 6,
    "start_time": "2022-10-06T10:56:18.057Z"
   },
   {
    "duration": 4,
    "start_time": "2022-10-06T10:58:59.338Z"
   },
   {
    "duration": 11,
    "start_time": "2022-10-06T11:00:30.490Z"
   },
   {
    "duration": 73,
    "start_time": "2022-10-06T11:01:46.922Z"
   },
   {
    "duration": 44,
    "start_time": "2022-10-06T11:01:57.673Z"
   },
   {
    "duration": 57,
    "start_time": "2022-10-06T11:02:08.058Z"
   },
   {
    "duration": 9,
    "start_time": "2022-10-06T11:02:51.178Z"
   },
   {
    "duration": 3,
    "start_time": "2022-10-06T11:03:16.426Z"
   },
   {
    "duration": 19,
    "start_time": "2022-10-06T11:03:28.442Z"
   },
   {
    "duration": 4,
    "start_time": "2022-10-06T11:05:19.913Z"
   },
   {
    "duration": 14,
    "start_time": "2022-10-06T11:05:36.841Z"
   },
   {
    "duration": 116,
    "start_time": "2022-10-06T11:07:58.637Z"
   },
   {
    "duration": 15,
    "start_time": "2022-10-06T11:08:14.418Z"
   },
   {
    "duration": 15,
    "start_time": "2022-10-06T11:09:34.954Z"
   },
   {
    "duration": 4,
    "start_time": "2022-10-06T11:12:40.747Z"
   },
   {
    "duration": 11,
    "start_time": "2022-10-06T11:22:34.875Z"
   },
   {
    "duration": 11,
    "start_time": "2022-10-06T11:22:50.771Z"
   },
   {
    "duration": 8,
    "start_time": "2022-10-06T11:24:03.835Z"
   },
   {
    "duration": 8,
    "start_time": "2022-10-06T11:24:48.011Z"
   },
   {
    "duration": 5,
    "start_time": "2022-10-06T11:41:28.605Z"
   },
   {
    "duration": 88,
    "start_time": "2022-10-06T11:42:26.333Z"
   },
   {
    "duration": 6,
    "start_time": "2022-10-06T11:42:40.532Z"
   },
   {
    "duration": 78,
    "start_time": "2022-10-06T11:42:41.804Z"
   },
   {
    "duration": 93,
    "start_time": "2022-10-06T11:43:48.605Z"
   },
   {
    "duration": 76,
    "start_time": "2022-10-06T11:45:33.836Z"
   },
   {
    "duration": 20,
    "start_time": "2022-10-06T11:46:55.517Z"
   },
   {
    "duration": 74,
    "start_time": "2022-10-06T11:48:55.295Z"
   },
   {
    "duration": 13,
    "start_time": "2022-10-06T11:50:20.046Z"
   },
   {
    "duration": 46,
    "start_time": "2022-10-06T11:51:06.253Z"
   },
   {
    "duration": 62,
    "start_time": "2022-10-06T11:51:53.774Z"
   },
   {
    "duration": 43,
    "start_time": "2022-10-06T12:02:47.258Z"
   },
   {
    "duration": 17,
    "start_time": "2022-10-06T12:36:15.725Z"
   },
   {
    "duration": 12,
    "start_time": "2022-10-06T12:36:26.509Z"
   },
   {
    "duration": 63,
    "start_time": "2022-10-06T12:57:47.182Z"
   },
   {
    "duration": 228,
    "start_time": "2022-10-06T13:00:14.190Z"
   },
   {
    "duration": 9,
    "start_time": "2022-10-06T13:00:44.992Z"
   },
   {
    "duration": 8,
    "start_time": "2022-10-06T13:00:51.438Z"
   },
   {
    "duration": 192,
    "start_time": "2022-10-06T13:01:07.206Z"
   },
   {
    "duration": 17,
    "start_time": "2022-10-06T13:01:12.688Z"
   },
   {
    "duration": 9,
    "start_time": "2022-10-06T13:02:06.943Z"
   },
   {
    "duration": 9,
    "start_time": "2022-10-06T13:17:19.057Z"
   },
   {
    "duration": 11,
    "start_time": "2022-10-06T13:17:20.320Z"
   },
   {
    "duration": 10,
    "start_time": "2022-10-06T13:17:22.593Z"
   },
   {
    "duration": 4,
    "start_time": "2022-10-06T13:25:16.865Z"
   },
   {
    "duration": 93,
    "start_time": "2022-10-07T06:47:37.121Z"
   },
   {
    "duration": 49,
    "start_time": "2022-10-07T06:53:24.882Z"
   },
   {
    "duration": 215,
    "start_time": "2022-10-07T07:02:16.338Z"
   },
   {
    "duration": 40,
    "start_time": "2022-10-07T11:09:42.770Z"
   },
   {
    "duration": 1218,
    "start_time": "2022-10-07T11:09:49.016Z"
   },
   {
    "duration": 75,
    "start_time": "2022-10-07T11:09:50.236Z"
   },
   {
    "duration": 11,
    "start_time": "2022-10-07T11:09:50.312Z"
   },
   {
    "duration": 15,
    "start_time": "2022-10-07T11:09:51.112Z"
   },
   {
    "duration": 7,
    "start_time": "2022-10-07T11:09:51.496Z"
   },
   {
    "duration": 6,
    "start_time": "2022-10-07T11:09:52.072Z"
   },
   {
    "duration": 13,
    "start_time": "2022-10-07T11:09:52.584Z"
   },
   {
    "duration": 4,
    "start_time": "2022-10-07T11:10:03.688Z"
   },
   {
    "duration": 13,
    "start_time": "2022-10-07T11:10:05.015Z"
   },
   {
    "duration": 14,
    "start_time": "2022-10-07T11:10:07.079Z"
   },
   {
    "duration": 99,
    "start_time": "2022-10-07T11:14:36.015Z"
   },
   {
    "duration": 1315,
    "start_time": "2022-10-10T13:06:14.495Z"
   },
   {
    "duration": 74,
    "start_time": "2022-10-10T13:06:16.108Z"
   },
   {
    "duration": 14,
    "start_time": "2022-10-10T13:06:16.603Z"
   },
   {
    "duration": 15,
    "start_time": "2022-10-10T13:06:17.062Z"
   },
   {
    "duration": 7,
    "start_time": "2022-10-10T13:06:17.613Z"
   },
   {
    "duration": 20,
    "start_time": "2022-10-10T13:06:18.858Z"
   },
   {
    "duration": 46,
    "start_time": "2022-10-17T06:41:04.259Z"
   },
   {
    "duration": 6,
    "start_time": "2022-10-17T06:55:35.756Z"
   },
   {
    "duration": 1107,
    "start_time": "2022-10-17T06:57:50.700Z"
   },
   {
    "duration": 95,
    "start_time": "2022-10-17T06:57:51.809Z"
   },
   {
    "duration": 12,
    "start_time": "2022-10-17T06:57:52.012Z"
   },
   {
    "duration": 15,
    "start_time": "2022-10-17T06:57:52.621Z"
   },
   {
    "duration": 7,
    "start_time": "2022-10-17T06:57:53.212Z"
   },
   {
    "duration": 14,
    "start_time": "2022-10-17T06:57:54.348Z"
   },
   {
    "duration": 5,
    "start_time": "2022-10-17T06:58:05.171Z"
   },
   {
    "duration": 6,
    "start_time": "2022-10-17T06:58:05.932Z"
   },
   {
    "duration": 15,
    "start_time": "2022-10-17T06:58:06.796Z"
   },
   {
    "duration": 73,
    "start_time": "2022-10-17T06:59:29.246Z"
   },
   {
    "duration": 12,
    "start_time": "2022-10-17T07:13:38.815Z"
   },
   {
    "duration": 75,
    "start_time": "2022-10-17T07:18:30.718Z"
   },
   {
    "duration": 77,
    "start_time": "2022-10-17T07:24:58.181Z"
   },
   {
    "duration": 13,
    "start_time": "2022-10-17T07:25:12.654Z"
   },
   {
    "duration": 10,
    "start_time": "2022-10-17T07:27:11.150Z"
   },
   {
    "duration": 10,
    "start_time": "2022-10-17T07:27:12.829Z"
   },
   {
    "duration": 8,
    "start_time": "2022-10-17T07:27:26.132Z"
   },
   {
    "duration": 7,
    "start_time": "2022-10-17T07:27:33.517Z"
   },
   {
    "duration": 52,
    "start_time": "2022-10-18T09:46:40.096Z"
   },
   {
    "duration": 1131,
    "start_time": "2022-10-18T10:40:22.476Z"
   },
   {
    "duration": 97,
    "start_time": "2022-10-18T10:40:23.609Z"
   },
   {
    "duration": 13,
    "start_time": "2022-10-18T10:40:23.849Z"
   },
   {
    "duration": 15,
    "start_time": "2022-10-18T10:40:24.713Z"
   },
   {
    "duration": 6,
    "start_time": "2022-10-18T10:40:25.496Z"
   },
   {
    "duration": 17,
    "start_time": "2022-10-18T10:40:26.906Z"
   },
   {
    "duration": 5,
    "start_time": "2022-10-18T10:40:43.289Z"
   },
   {
    "duration": 5,
    "start_time": "2022-10-18T10:40:43.978Z"
   },
   {
    "duration": 10,
    "start_time": "2022-10-18T10:40:44.986Z"
   },
   {
    "duration": 269,
    "start_time": "2022-10-18T10:40:48.089Z"
   },
   {
    "duration": 16,
    "start_time": "2022-10-18T10:41:09.610Z"
   },
   {
    "duration": 9,
    "start_time": "2022-10-18T10:41:13.705Z"
   },
   {
    "duration": 34,
    "start_time": "2022-10-18T12:02:22.362Z"
   },
   {
    "duration": 10,
    "start_time": "2022-10-18T12:02:52.168Z"
   },
   {
    "duration": 1084,
    "start_time": "2022-10-19T06:15:21.081Z"
   },
   {
    "duration": 50,
    "start_time": "2022-10-19T06:15:22.166Z"
   },
   {
    "duration": 11,
    "start_time": "2022-10-19T06:15:22.217Z"
   },
   {
    "duration": 14,
    "start_time": "2022-10-19T06:15:22.649Z"
   },
   {
    "duration": 6,
    "start_time": "2022-10-19T06:15:23.388Z"
   },
   {
    "duration": 13,
    "start_time": "2022-10-19T06:15:24.344Z"
   },
   {
    "duration": 4,
    "start_time": "2022-10-19T06:15:38.136Z"
   },
   {
    "duration": 5,
    "start_time": "2022-10-19T06:15:38.665Z"
   },
   {
    "duration": 15,
    "start_time": "2022-10-19T06:15:39.241Z"
   },
   {
    "duration": 9,
    "start_time": "2022-10-19T06:15:40.394Z"
   },
   {
    "duration": 7,
    "start_time": "2022-10-19T06:15:41.819Z"
   },
   {
    "duration": 7,
    "start_time": "2022-10-19T06:16:10.137Z"
   }
  ],
  "kernelspec": {
   "display_name": "Python 3 (ipykernel)",
   "language": "python",
   "name": "python3"
  },
  "language_info": {
   "codemirror_mode": {
    "name": "ipython",
    "version": 3
   },
   "file_extension": ".py",
   "mimetype": "text/x-python",
   "name": "python",
   "nbconvert_exporter": "python",
   "pygments_lexer": "ipython3",
   "version": "3.9.5"
  },
  "toc": {
   "base_numbering": 1,
   "nav_menu": {},
   "number_sections": true,
   "sideBar": true,
   "skip_h1_title": true,
   "title_cell": "Содержание",
   "title_sidebar": "Contents",
   "toc_cell": true,
   "toc_position": {},
   "toc_section_display": true,
   "toc_window_display": true
  }
 },
 "nbformat": 4,
 "nbformat_minor": 2
}
