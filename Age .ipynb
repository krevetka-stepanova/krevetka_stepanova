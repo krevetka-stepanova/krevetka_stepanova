{
 "cells": [
  {
   "cell_type": "markdown",
   "id": "e37d330a",
   "metadata": {},
   "source": [
    "# Обучение модели"
   ]
  },
  {
   "cell_type": "code",
   "execution_count": null,
   "id": "e4973f3f",
   "metadata": {},
   "outputs": [],
   "source": [
    "import tensorflow\n",
    "from tensorflow.keras.preprocessing.image import ImageDataGenerator\n",
    "from tensorflow.keras.applications.resnet import ResNet50\n",
    "from tensorflow.keras.callbacks import EarlyStopping\n",
    "from tensorflow.keras.layers import Dense, Conv2D, MaxPooling2D, Flatten, Dropout, BatchNormalization, Activation, GlobalAveragePooling2D\n",
    "from tensorflow.keras.models import Sequential\n",
    "from tensorflow.keras.optimizers import Adam\n",
    "import pandas as pd\n",
    "import numpy as np\n",
    " "
   ]
  },
  {
   "cell_type": "code",
   "execution_count": null,
   "id": "bfc64543",
   "metadata": {},
   "outputs": [],
   "source": [
    "def load_train(path):\n",
    " \n",
    "    labels = pd.read_csv(path + 'labels.csv')\n",
    "    images_dir = path + '/final_files'\n",
    " \n",
    "    data_gen = ImageDataGenerator(rescale=1./255., validation_split=0.25)\n",
    " \n",
    "    data_gen_flow = data_gen.flow_from_dataframe(dataframe=labels, directory=images_dir,\n",
    "                                                x_col='file_name', y_col='real_age',\n",
    "                                                target_size=(256,256), batch_size=32,\n",
    "                                                class_mode='raw', seed=1337, subset='training')\n",
    " \n",
    "    return data_gen_flow"
   ]
  },
  {
   "cell_type": "code",
   "execution_count": null,
   "id": "62951cc0",
   "metadata": {},
   "outputs": [],
   "source": [
    "def load_test(path):\n",
    "    labels_test = pd.read_csv(path+'labels.csv')\n",
    "    test_datagen = ImageDataGenerator(rescale=1/255., validation_split=0.25)\n",
    "    \n",
    "    test_datagen_flow = test_datagen.flow_from_dataframe(dataframe=labels_test, directory=path+'/final_files',\n",
    "                                                         x_col='file_name', y_col='real_age',\n",
    "                                                         target_size=(224,224), batch_size=32,\n",
    "                                                         class_mode='raw', subset='validation', seed = 12345)\n",
    "    \n",
    "    return test_datagen_flow"
   ]
  },
  {
   "cell_type": "code",
   "execution_count": null,
   "id": "3036297d",
   "metadata": {},
   "outputs": [],
   "source": [
    "def create_model(input_shape):\n",
    "    \n",
    "    backbone = ResNet50(input_shape=input_shape, \n",
    "                        weights='imagenet',\n",
    "                        include_top=False)\n",
    "    \n",
    "    optimizer = Adam(lr=0.0001)\n",
    "    \n",
    "    model = Sequential()\n",
    "    model.add(backbone)\n",
    "    model.add(GlobalAveragePooling2D())\n",
    "    model.add(Dense(64, activation='relu'))\n",
    "    model.add(Dropout(0.3))\n",
    "    model.add(Dense(12, activation='relu'))\n",
    "    model.add(Dropout(0.2))\n",
    "    model.add(Dense(1, activation='relu'))\n",
    "    \n",
    "    model.compile(optimizer=optimizer, loss='mean_squared_error', metrics=['mae'])\n",
    "\n",
    "    return model "
   ]
  },
  {
   "cell_type": "code",
   "execution_count": null,
   "id": "cb661e7b",
   "metadata": {},
   "outputs": [],
   "source": [
    "def train_model(model, train_data, test_data, batch_size=None, epochs=10, steps_per_epoch=None, validation_steps=None):\n",
    "    \n",
    "    if steps_per_epoch is None:\n",
    "        steps_per_epoch = len(train_data)\n",
    "    if validation_steps is None:\n",
    "        validation_steps = len(test_data)\n",
    "   \n",
    "    model.fit(train_data,\n",
    "              validation_data=test_data,\n",
    "              batch_size=batch_size, \n",
    "              epochs=epochs,\n",
    "              steps_per_epoch=steps_per_epoch,\n",
    "              validation_steps=validation_steps,\n",
    "              verbose=2, shuffle=True)\n",
    "    \n",
    "    return model"
   ]
  }
 ],
 "metadata": {
  "kernelspec": {
   "display_name": "Python 3 (ipykernel)",
   "language": "python",
   "name": "python3"
  },
  "language_info": {
   "codemirror_mode": {
    "name": "ipython",
    "version": 3
   },
   "file_extension": ".py",
   "mimetype": "text/x-python",
   "name": "python",
   "nbconvert_exporter": "python",
   "pygments_lexer": "ipython3",
   "version": "3.10.6"
  }
 },
 "nbformat": 4,
 "nbformat_minor": 5
}
