{
 "cells": [
  {
   "cell_type": "markdown",
   "metadata": {
    "toc": true
   },
   "source": [
    "<h1>Содержание<span class=\"tocSkip\"></span></h1>\n",
    "<div class=\"toc\"><ul class=\"toc-item\"><li><span><a href=\"#Подготовка-данных\" data-toc-modified-id=\"Подготовка-данных-1\"><span class=\"toc-item-num\">1&nbsp;&nbsp;</span>Подготовка данных</a></span></li><li><span><a href=\"#Анализ-данных\" data-toc-modified-id=\"Анализ-данных-2\"><span class=\"toc-item-num\">2&nbsp;&nbsp;</span>Анализ данных</a></span></li><li><span><a href=\"#Модель\" data-toc-modified-id=\"Модель-3\"><span class=\"toc-item-num\">3&nbsp;&nbsp;</span>Модель</a></span><ul class=\"toc-item\"><li><span><a href=\"#Модель-Линейная-регрессия.\" data-toc-modified-id=\"Модель-Линейная-регрессия.-3.1\"><span class=\"toc-item-num\">3.1&nbsp;&nbsp;</span>Модель Линейная регрессия.</a></span></li><li><span><a href=\"#Модель-Решающее-дерево\" data-toc-modified-id=\"Модель-Решающее-дерево-3.2\"><span class=\"toc-item-num\">3.2&nbsp;&nbsp;</span>Модель Решающее дерево</a></span></li><li><span><a href=\"#Модель-Случайный-лес\" data-toc-modified-id=\"Модель-Случайный-лес-3.3\"><span class=\"toc-item-num\">3.3&nbsp;&nbsp;</span>Модель Случайный лес</a></span></li></ul></li></ul></div>"
   ]
  },
  {
   "cell_type": "markdown",
   "metadata": {},
   "source": [
    "# Восстановление золота из руды"
   ]
  },
  {
   "cell_type": "markdown",
   "metadata": {},
   "source": [
    "<b>Задача подготовить прототип модели машинного обучения для «Цифры». Компания разрабатывает решения для эффективной работы промышленных предприятий.<b/>\n",
    "\n",
    "<b>Модель должна предсказать коэффициент восстановления золота из золотосодержащей руды. Используйте данные с параметрами добычи и очистки.<b/>\n",
    "\n",
    "<b>Модель поможет оптимизировать производство, чтобы не запускать предприятие с убыточными характеристиками.<b/>\n",
    "\n",
    "План работы:\n",
    "\n",
    "1. Подготовить данные;\n",
    "2. Провести исследовательский анализ данных;\n",
    "3. Построить и обучить модель."
   ]
  },
  {
   "cell_type": "markdown",
   "metadata": {},
   "source": [
    "<b>Данные находятся в трёх файлах:</b>\n",
    "\n",
    "•\tgold_recovery_train_new.csv — обучающая выборка;\n",
    "\n",
    "•\tgold_recovery_test_new.csv — тестовая выборка;\n",
    "\n",
    "•\tgold_recovery_full_new.csv — исходные данные, на этих данных я буду делать анализ.\n",
    "\n",
    "<b>Данные индексируются датой и временем получения информации (признак date). Соседние по времени параметры часто похожи.\n",
    "Некоторые параметры недоступны, потому что замеряются и/или рассчитываются значительно позже. Из-за этого в тестовой выборке отсутствуют некоторые признаки, которые могут быть в обучающей. Также в тестовом наборе нет целевых признаков.\n",
    "Исходный датасет содержит обучающую и тестовую выборки со всеми признаками.\n",
    "В вашем распоряжении сырые данные: их просто выгрузили из хранилища. </b>\n"
   ]
  },
  {
   "cell_type": "markdown",
   "metadata": {},
   "source": [
    "## Подготовка данных"
   ]
  },
  {
   "cell_type": "code",
   "execution_count": 1,
   "metadata": {},
   "outputs": [],
   "source": [
    "import pandas as pd\n",
    "import numpy as np\n",
    "from numpy.random import RandomState\n",
    "import seaborn as sns\n",
    "import matplotlib.pyplot as plt\n",
    "\n",
    "from sklearn.model_selection import train_test_split, cross_val_score\n",
    "from sklearn.metrics import make_scorer, mean_absolute_error\n",
    "from sklearn.preprocessing import StandardScaler\n",
    "from sklearn.tree import DecisionTreeRegressor\n",
    "from sklearn.ensemble import RandomForestRegressor\n",
    "from sklearn.linear_model import LinearRegression\n",
    "from sklearn.model_selection import cross_validate\n",
    "from sklearn.utils import shuffle\n",
    "from sklearn.model_selection import GridSearchCV\n",
    "from sklearn.dummy import DummyRegressor\n",
    "\n",
    "import warnings\n",
    "warnings.filterwarnings('ignore')"
   ]
  },
  {
   "cell_type": "code",
   "execution_count": 2,
   "metadata": {},
   "outputs": [],
   "source": [
    "train = pd.read_csv('/datasets/gold_recovery_train_new.csv')\n",
    "test = pd.read_csv('/datasets/gold_recovery_test_new.csv')\n",
    "df = pd.read_csv('/datasets/gold_recovery_full_new.csv')"
   ]
  },
  {
   "cell_type": "code",
   "execution_count": 3,
   "metadata": {},
   "outputs": [
    {
     "name": "stdout",
     "output_type": "stream",
     "text": [
      "<class 'pandas.core.frame.DataFrame'>\n",
      "RangeIndex: 19439 entries, 0 to 19438\n",
      "Data columns (total 87 columns):\n",
      " #   Column                                              Non-Null Count  Dtype  \n",
      "---  ------                                              --------------  -----  \n",
      " 0   date                                                19439 non-null  object \n",
      " 1   final.output.concentrate_ag                         19438 non-null  float64\n",
      " 2   final.output.concentrate_pb                         19438 non-null  float64\n",
      " 3   final.output.concentrate_sol                        19228 non-null  float64\n",
      " 4   final.output.concentrate_au                         19439 non-null  float64\n",
      " 5   final.output.recovery                               19439 non-null  float64\n",
      " 6   final.output.tail_ag                                19438 non-null  float64\n",
      " 7   final.output.tail_pb                                19338 non-null  float64\n",
      " 8   final.output.tail_sol                               19433 non-null  float64\n",
      " 9   final.output.tail_au                                19439 non-null  float64\n",
      " 10  primary_cleaner.input.sulfate                       19415 non-null  float64\n",
      " 11  primary_cleaner.input.depressant                    19402 non-null  float64\n",
      " 12  primary_cleaner.input.feed_size                     19439 non-null  float64\n",
      " 13  primary_cleaner.input.xanthate                      19335 non-null  float64\n",
      " 14  primary_cleaner.output.concentrate_ag               19439 non-null  float64\n",
      " 15  primary_cleaner.output.concentrate_pb               19323 non-null  float64\n",
      " 16  primary_cleaner.output.concentrate_sol              19069 non-null  float64\n",
      " 17  primary_cleaner.output.concentrate_au               19439 non-null  float64\n",
      " 18  primary_cleaner.output.tail_ag                      19435 non-null  float64\n",
      " 19  primary_cleaner.output.tail_pb                      19418 non-null  float64\n",
      " 20  primary_cleaner.output.tail_sol                     19377 non-null  float64\n",
      " 21  primary_cleaner.output.tail_au                      19439 non-null  float64\n",
      " 22  primary_cleaner.state.floatbank8_a_air              19435 non-null  float64\n",
      " 23  primary_cleaner.state.floatbank8_a_level            19438 non-null  float64\n",
      " 24  primary_cleaner.state.floatbank8_b_air              19435 non-null  float64\n",
      " 25  primary_cleaner.state.floatbank8_b_level            19438 non-null  float64\n",
      " 26  primary_cleaner.state.floatbank8_c_air              19437 non-null  float64\n",
      " 27  primary_cleaner.state.floatbank8_c_level            19438 non-null  float64\n",
      " 28  primary_cleaner.state.floatbank8_d_air              19436 non-null  float64\n",
      " 29  primary_cleaner.state.floatbank8_d_level            19438 non-null  float64\n",
      " 30  rougher.calculation.sulfate_to_au_concentrate       19437 non-null  float64\n",
      " 31  rougher.calculation.floatbank10_sulfate_to_au_feed  19437 non-null  float64\n",
      " 32  rougher.calculation.floatbank11_sulfate_to_au_feed  19437 non-null  float64\n",
      " 33  rougher.calculation.au_pb_ratio                     19439 non-null  float64\n",
      " 34  rougher.input.feed_ag                               19439 non-null  float64\n",
      " 35  rougher.input.feed_pb                               19339 non-null  float64\n",
      " 36  rougher.input.feed_rate                             19428 non-null  float64\n",
      " 37  rougher.input.feed_size                             19294 non-null  float64\n",
      " 38  rougher.input.feed_sol                              19340 non-null  float64\n",
      " 39  rougher.input.feed_au                               19439 non-null  float64\n",
      " 40  rougher.input.floatbank10_sulfate                   19405 non-null  float64\n",
      " 41  rougher.input.floatbank10_xanthate                  19431 non-null  float64\n",
      " 42  rougher.input.floatbank11_sulfate                   19395 non-null  float64\n",
      " 43  rougher.input.floatbank11_xanthate                  18986 non-null  float64\n",
      " 44  rougher.output.concentrate_ag                       19439 non-null  float64\n",
      " 45  rougher.output.concentrate_pb                       19439 non-null  float64\n",
      " 46  rougher.output.concentrate_sol                      19416 non-null  float64\n",
      " 47  rougher.output.concentrate_au                       19439 non-null  float64\n",
      " 48  rougher.output.recovery                             19439 non-null  float64\n",
      " 49  rougher.output.tail_ag                              19438 non-null  float64\n",
      " 50  rougher.output.tail_pb                              19439 non-null  float64\n",
      " 51  rougher.output.tail_sol                             19439 non-null  float64\n",
      " 52  rougher.output.tail_au                              19439 non-null  float64\n",
      " 53  rougher.state.floatbank10_a_air                     19438 non-null  float64\n",
      " 54  rougher.state.floatbank10_a_level                   19438 non-null  float64\n",
      " 55  rougher.state.floatbank10_b_air                     19438 non-null  float64\n",
      " 56  rougher.state.floatbank10_b_level                   19438 non-null  float64\n",
      " 57  rougher.state.floatbank10_c_air                     19438 non-null  float64\n",
      " 58  rougher.state.floatbank10_c_level                   19438 non-null  float64\n",
      " 59  rougher.state.floatbank10_d_air                     19439 non-null  float64\n",
      " 60  rougher.state.floatbank10_d_level                   19439 non-null  float64\n",
      " 61  rougher.state.floatbank10_e_air                     19003 non-null  float64\n",
      " 62  rougher.state.floatbank10_e_level                   19439 non-null  float64\n",
      " 63  rougher.state.floatbank10_f_air                     19439 non-null  float64\n",
      " 64  rougher.state.floatbank10_f_level                   19439 non-null  float64\n",
      " 65  secondary_cleaner.output.tail_ag                    19437 non-null  float64\n",
      " 66  secondary_cleaner.output.tail_pb                    19427 non-null  float64\n",
      " 67  secondary_cleaner.output.tail_sol                   17691 non-null  float64\n",
      " 68  secondary_cleaner.output.tail_au                    19439 non-null  float64\n",
      " 69  secondary_cleaner.state.floatbank2_a_air            19219 non-null  float64\n",
      " 70  secondary_cleaner.state.floatbank2_a_level          19438 non-null  float64\n",
      " 71  secondary_cleaner.state.floatbank2_b_air            19416 non-null  float64\n",
      " 72  secondary_cleaner.state.floatbank2_b_level          19438 non-null  float64\n",
      " 73  secondary_cleaner.state.floatbank3_a_air            19426 non-null  float64\n",
      " 74  secondary_cleaner.state.floatbank3_a_level          19438 non-null  float64\n",
      " 75  secondary_cleaner.state.floatbank3_b_air            19438 non-null  float64\n",
      " 76  secondary_cleaner.state.floatbank3_b_level          19438 non-null  float64\n",
      " 77  secondary_cleaner.state.floatbank4_a_air            19433 non-null  float64\n",
      " 78  secondary_cleaner.state.floatbank4_a_level          19438 non-null  float64\n",
      " 79  secondary_cleaner.state.floatbank4_b_air            19438 non-null  float64\n",
      " 80  secondary_cleaner.state.floatbank4_b_level          19438 non-null  float64\n",
      " 81  secondary_cleaner.state.floatbank5_a_air            19438 non-null  float64\n",
      " 82  secondary_cleaner.state.floatbank5_a_level          19438 non-null  float64\n",
      " 83  secondary_cleaner.state.floatbank5_b_air            19438 non-null  float64\n",
      " 84  secondary_cleaner.state.floatbank5_b_level          19438 non-null  float64\n",
      " 85  secondary_cleaner.state.floatbank6_a_air            19437 non-null  float64\n",
      " 86  secondary_cleaner.state.floatbank6_a_level          19438 non-null  float64\n",
      "dtypes: float64(86), object(1)\n",
      "memory usage: 12.9+ MB\n"
     ]
    }
   ],
   "source": [
    "df.info()"
   ]
  },
  {
   "cell_type": "code",
   "execution_count": 4,
   "metadata": {},
   "outputs": [
    {
     "name": "stdout",
     "output_type": "stream",
     "text": [
      "<class 'pandas.core.frame.DataFrame'>\n",
      "RangeIndex: 14149 entries, 0 to 14148\n",
      "Data columns (total 87 columns):\n",
      " #   Column                                              Non-Null Count  Dtype  \n",
      "---  ------                                              --------------  -----  \n",
      " 0   date                                                14149 non-null  object \n",
      " 1   final.output.concentrate_ag                         14148 non-null  float64\n",
      " 2   final.output.concentrate_pb                         14148 non-null  float64\n",
      " 3   final.output.concentrate_sol                        13938 non-null  float64\n",
      " 4   final.output.concentrate_au                         14149 non-null  float64\n",
      " 5   final.output.recovery                               14149 non-null  float64\n",
      " 6   final.output.tail_ag                                14149 non-null  float64\n",
      " 7   final.output.tail_pb                                14049 non-null  float64\n",
      " 8   final.output.tail_sol                               14144 non-null  float64\n",
      " 9   final.output.tail_au                                14149 non-null  float64\n",
      " 10  primary_cleaner.input.sulfate                       14129 non-null  float64\n",
      " 11  primary_cleaner.input.depressant                    14117 non-null  float64\n",
      " 12  primary_cleaner.input.feed_size                     14149 non-null  float64\n",
      " 13  primary_cleaner.input.xanthate                      14049 non-null  float64\n",
      " 14  primary_cleaner.output.concentrate_ag               14149 non-null  float64\n",
      " 15  primary_cleaner.output.concentrate_pb               14063 non-null  float64\n",
      " 16  primary_cleaner.output.concentrate_sol              13863 non-null  float64\n",
      " 17  primary_cleaner.output.concentrate_au               14149 non-null  float64\n",
      " 18  primary_cleaner.output.tail_ag                      14148 non-null  float64\n",
      " 19  primary_cleaner.output.tail_pb                      14134 non-null  float64\n",
      " 20  primary_cleaner.output.tail_sol                     14103 non-null  float64\n",
      " 21  primary_cleaner.output.tail_au                      14149 non-null  float64\n",
      " 22  primary_cleaner.state.floatbank8_a_air              14145 non-null  float64\n",
      " 23  primary_cleaner.state.floatbank8_a_level            14148 non-null  float64\n",
      " 24  primary_cleaner.state.floatbank8_b_air              14145 non-null  float64\n",
      " 25  primary_cleaner.state.floatbank8_b_level            14148 non-null  float64\n",
      " 26  primary_cleaner.state.floatbank8_c_air              14147 non-null  float64\n",
      " 27  primary_cleaner.state.floatbank8_c_level            14148 non-null  float64\n",
      " 28  primary_cleaner.state.floatbank8_d_air              14146 non-null  float64\n",
      " 29  primary_cleaner.state.floatbank8_d_level            14148 non-null  float64\n",
      " 30  rougher.calculation.sulfate_to_au_concentrate       14148 non-null  float64\n",
      " 31  rougher.calculation.floatbank10_sulfate_to_au_feed  14148 non-null  float64\n",
      " 32  rougher.calculation.floatbank11_sulfate_to_au_feed  14148 non-null  float64\n",
      " 33  rougher.calculation.au_pb_ratio                     14149 non-null  float64\n",
      " 34  rougher.input.feed_ag                               14149 non-null  float64\n",
      " 35  rougher.input.feed_pb                               14049 non-null  float64\n",
      " 36  rougher.input.feed_rate                             14141 non-null  float64\n",
      " 37  rougher.input.feed_size                             14005 non-null  float64\n",
      " 38  rougher.input.feed_sol                              14071 non-null  float64\n",
      " 39  rougher.input.feed_au                               14149 non-null  float64\n",
      " 40  rougher.input.floatbank10_sulfate                   14120 non-null  float64\n",
      " 41  rougher.input.floatbank10_xanthate                  14141 non-null  float64\n",
      " 42  rougher.input.floatbank11_sulfate                   14113 non-null  float64\n",
      " 43  rougher.input.floatbank11_xanthate                  13721 non-null  float64\n",
      " 44  rougher.output.concentrate_ag                       14149 non-null  float64\n",
      " 45  rougher.output.concentrate_pb                       14149 non-null  float64\n",
      " 46  rougher.output.concentrate_sol                      14127 non-null  float64\n",
      " 47  rougher.output.concentrate_au                       14149 non-null  float64\n",
      " 48  rougher.output.recovery                             14149 non-null  float64\n",
      " 49  rougher.output.tail_ag                              14148 non-null  float64\n",
      " 50  rougher.output.tail_pb                              14149 non-null  float64\n",
      " 51  rougher.output.tail_sol                             14149 non-null  float64\n",
      " 52  rougher.output.tail_au                              14149 non-null  float64\n",
      " 53  rougher.state.floatbank10_a_air                     14148 non-null  float64\n",
      " 54  rougher.state.floatbank10_a_level                   14148 non-null  float64\n",
      " 55  rougher.state.floatbank10_b_air                     14148 non-null  float64\n",
      " 56  rougher.state.floatbank10_b_level                   14148 non-null  float64\n",
      " 57  rougher.state.floatbank10_c_air                     14148 non-null  float64\n",
      " 58  rougher.state.floatbank10_c_level                   14148 non-null  float64\n",
      " 59  rougher.state.floatbank10_d_air                     14149 non-null  float64\n",
      " 60  rougher.state.floatbank10_d_level                   14149 non-null  float64\n",
      " 61  rougher.state.floatbank10_e_air                     13713 non-null  float64\n",
      " 62  rougher.state.floatbank10_e_level                   14149 non-null  float64\n",
      " 63  rougher.state.floatbank10_f_air                     14149 non-null  float64\n",
      " 64  rougher.state.floatbank10_f_level                   14149 non-null  float64\n",
      " 65  secondary_cleaner.output.tail_ag                    14147 non-null  float64\n",
      " 66  secondary_cleaner.output.tail_pb                    14139 non-null  float64\n",
      " 67  secondary_cleaner.output.tail_sol                   12544 non-null  float64\n",
      " 68  secondary_cleaner.output.tail_au                    14149 non-null  float64\n",
      " 69  secondary_cleaner.state.floatbank2_a_air            13932 non-null  float64\n",
      " 70  secondary_cleaner.state.floatbank2_a_level          14148 non-null  float64\n",
      " 71  secondary_cleaner.state.floatbank2_b_air            14128 non-null  float64\n",
      " 72  secondary_cleaner.state.floatbank2_b_level          14148 non-null  float64\n",
      " 73  secondary_cleaner.state.floatbank3_a_air            14145 non-null  float64\n",
      " 74  secondary_cleaner.state.floatbank3_a_level          14148 non-null  float64\n",
      " 75  secondary_cleaner.state.floatbank3_b_air            14148 non-null  float64\n",
      " 76  secondary_cleaner.state.floatbank3_b_level          14148 non-null  float64\n",
      " 77  secondary_cleaner.state.floatbank4_a_air            14143 non-null  float64\n",
      " 78  secondary_cleaner.state.floatbank4_a_level          14148 non-null  float64\n",
      " 79  secondary_cleaner.state.floatbank4_b_air            14148 non-null  float64\n",
      " 80  secondary_cleaner.state.floatbank4_b_level          14148 non-null  float64\n",
      " 81  secondary_cleaner.state.floatbank5_a_air            14148 non-null  float64\n",
      " 82  secondary_cleaner.state.floatbank5_a_level          14148 non-null  float64\n",
      " 83  secondary_cleaner.state.floatbank5_b_air            14148 non-null  float64\n",
      " 84  secondary_cleaner.state.floatbank5_b_level          14148 non-null  float64\n",
      " 85  secondary_cleaner.state.floatbank6_a_air            14147 non-null  float64\n",
      " 86  secondary_cleaner.state.floatbank6_a_level          14148 non-null  float64\n",
      "dtypes: float64(86), object(1)\n",
      "memory usage: 9.4+ MB\n"
     ]
    }
   ],
   "source": [
    "train.info()"
   ]
  },
  {
   "cell_type": "code",
   "execution_count": 5,
   "metadata": {},
   "outputs": [
    {
     "name": "stdout",
     "output_type": "stream",
     "text": [
      "<class 'pandas.core.frame.DataFrame'>\n",
      "RangeIndex: 5290 entries, 0 to 5289\n",
      "Data columns (total 53 columns):\n",
      " #   Column                                      Non-Null Count  Dtype  \n",
      "---  ------                                      --------------  -----  \n",
      " 0   date                                        5290 non-null   object \n",
      " 1   primary_cleaner.input.sulfate               5286 non-null   float64\n",
      " 2   primary_cleaner.input.depressant            5285 non-null   float64\n",
      " 3   primary_cleaner.input.feed_size             5290 non-null   float64\n",
      " 4   primary_cleaner.input.xanthate              5286 non-null   float64\n",
      " 5   primary_cleaner.state.floatbank8_a_air      5290 non-null   float64\n",
      " 6   primary_cleaner.state.floatbank8_a_level    5290 non-null   float64\n",
      " 7   primary_cleaner.state.floatbank8_b_air      5290 non-null   float64\n",
      " 8   primary_cleaner.state.floatbank8_b_level    5290 non-null   float64\n",
      " 9   primary_cleaner.state.floatbank8_c_air      5290 non-null   float64\n",
      " 10  primary_cleaner.state.floatbank8_c_level    5290 non-null   float64\n",
      " 11  primary_cleaner.state.floatbank8_d_air      5290 non-null   float64\n",
      " 12  primary_cleaner.state.floatbank8_d_level    5290 non-null   float64\n",
      " 13  rougher.input.feed_ag                       5290 non-null   float64\n",
      " 14  rougher.input.feed_pb                       5290 non-null   float64\n",
      " 15  rougher.input.feed_rate                     5287 non-null   float64\n",
      " 16  rougher.input.feed_size                     5289 non-null   float64\n",
      " 17  rougher.input.feed_sol                      5269 non-null   float64\n",
      " 18  rougher.input.feed_au                       5290 non-null   float64\n",
      " 19  rougher.input.floatbank10_sulfate           5285 non-null   float64\n",
      " 20  rougher.input.floatbank10_xanthate          5290 non-null   float64\n",
      " 21  rougher.input.floatbank11_sulfate           5282 non-null   float64\n",
      " 22  rougher.input.floatbank11_xanthate          5265 non-null   float64\n",
      " 23  rougher.state.floatbank10_a_air             5290 non-null   float64\n",
      " 24  rougher.state.floatbank10_a_level           5290 non-null   float64\n",
      " 25  rougher.state.floatbank10_b_air             5290 non-null   float64\n",
      " 26  rougher.state.floatbank10_b_level           5290 non-null   float64\n",
      " 27  rougher.state.floatbank10_c_air             5290 non-null   float64\n",
      " 28  rougher.state.floatbank10_c_level           5290 non-null   float64\n",
      " 29  rougher.state.floatbank10_d_air             5290 non-null   float64\n",
      " 30  rougher.state.floatbank10_d_level           5290 non-null   float64\n",
      " 31  rougher.state.floatbank10_e_air             5290 non-null   float64\n",
      " 32  rougher.state.floatbank10_e_level           5290 non-null   float64\n",
      " 33  rougher.state.floatbank10_f_air             5290 non-null   float64\n",
      " 34  rougher.state.floatbank10_f_level           5290 non-null   float64\n",
      " 35  secondary_cleaner.state.floatbank2_a_air    5287 non-null   float64\n",
      " 36  secondary_cleaner.state.floatbank2_a_level  5290 non-null   float64\n",
      " 37  secondary_cleaner.state.floatbank2_b_air    5288 non-null   float64\n",
      " 38  secondary_cleaner.state.floatbank2_b_level  5290 non-null   float64\n",
      " 39  secondary_cleaner.state.floatbank3_a_air    5281 non-null   float64\n",
      " 40  secondary_cleaner.state.floatbank3_a_level  5290 non-null   float64\n",
      " 41  secondary_cleaner.state.floatbank3_b_air    5290 non-null   float64\n",
      " 42  secondary_cleaner.state.floatbank3_b_level  5290 non-null   float64\n",
      " 43  secondary_cleaner.state.floatbank4_a_air    5290 non-null   float64\n",
      " 44  secondary_cleaner.state.floatbank4_a_level  5290 non-null   float64\n",
      " 45  secondary_cleaner.state.floatbank4_b_air    5290 non-null   float64\n",
      " 46  secondary_cleaner.state.floatbank4_b_level  5290 non-null   float64\n",
      " 47  secondary_cleaner.state.floatbank5_a_air    5290 non-null   float64\n",
      " 48  secondary_cleaner.state.floatbank5_a_level  5290 non-null   float64\n",
      " 49  secondary_cleaner.state.floatbank5_b_air    5290 non-null   float64\n",
      " 50  secondary_cleaner.state.floatbank5_b_level  5290 non-null   float64\n",
      " 51  secondary_cleaner.state.floatbank6_a_air    5290 non-null   float64\n",
      " 52  secondary_cleaner.state.floatbank6_a_level  5290 non-null   float64\n",
      "dtypes: float64(52), object(1)\n",
      "memory usage: 2.1+ MB\n"
     ]
    }
   ],
   "source": [
    "test.info()"
   ]
  },
  {
   "cell_type": "code",
   "execution_count": 6,
   "metadata": {},
   "outputs": [],
   "source": [
    "def get_df_name(df):\n",
    "    name =[x for x in globals() if globals()[x] is df][0]\n",
    "    return name"
   ]
  },
  {
   "cell_type": "code",
   "execution_count": 7,
   "metadata": {},
   "outputs": [
    {
     "name": "stdout",
     "output_type": "stream",
     "text": [
      "\n",
      "Количество пропусков в  датасете train -  date                                            0\n",
      "final.output.concentrate_ag                     1\n",
      "final.output.concentrate_pb                     1\n",
      "final.output.concentrate_sol                  211\n",
      "final.output.concentrate_au                     0\n",
      "                                             ... \n",
      "secondary_cleaner.state.floatbank5_a_level      1\n",
      "secondary_cleaner.state.floatbank5_b_air        1\n",
      "secondary_cleaner.state.floatbank5_b_level      1\n",
      "secondary_cleaner.state.floatbank6_a_air        2\n",
      "secondary_cleaner.state.floatbank6_a_level      1\n",
      "Length: 87, dtype: int64\n",
      "\n",
      "Количество пропусков в  датасете test -  date                                           0\n",
      "primary_cleaner.input.sulfate                  4\n",
      "primary_cleaner.input.depressant               5\n",
      "primary_cleaner.input.feed_size                0\n",
      "primary_cleaner.input.xanthate                 4\n",
      "primary_cleaner.state.floatbank8_a_air         0\n",
      "primary_cleaner.state.floatbank8_a_level       0\n",
      "primary_cleaner.state.floatbank8_b_air         0\n",
      "primary_cleaner.state.floatbank8_b_level       0\n",
      "primary_cleaner.state.floatbank8_c_air         0\n",
      "primary_cleaner.state.floatbank8_c_level       0\n",
      "primary_cleaner.state.floatbank8_d_air         0\n",
      "primary_cleaner.state.floatbank8_d_level       0\n",
      "rougher.input.feed_ag                          0\n",
      "rougher.input.feed_pb                          0\n",
      "rougher.input.feed_rate                        3\n",
      "rougher.input.feed_size                        1\n",
      "rougher.input.feed_sol                        21\n",
      "rougher.input.feed_au                          0\n",
      "rougher.input.floatbank10_sulfate              5\n",
      "rougher.input.floatbank10_xanthate             0\n",
      "rougher.input.floatbank11_sulfate              8\n",
      "rougher.input.floatbank11_xanthate            25\n",
      "rougher.state.floatbank10_a_air                0\n",
      "rougher.state.floatbank10_a_level              0\n",
      "rougher.state.floatbank10_b_air                0\n",
      "rougher.state.floatbank10_b_level              0\n",
      "rougher.state.floatbank10_c_air                0\n",
      "rougher.state.floatbank10_c_level              0\n",
      "rougher.state.floatbank10_d_air                0\n",
      "rougher.state.floatbank10_d_level              0\n",
      "rougher.state.floatbank10_e_air                0\n",
      "rougher.state.floatbank10_e_level              0\n",
      "rougher.state.floatbank10_f_air                0\n",
      "rougher.state.floatbank10_f_level              0\n",
      "secondary_cleaner.state.floatbank2_a_air       3\n",
      "secondary_cleaner.state.floatbank2_a_level     0\n",
      "secondary_cleaner.state.floatbank2_b_air       2\n",
      "secondary_cleaner.state.floatbank2_b_level     0\n",
      "secondary_cleaner.state.floatbank3_a_air       9\n",
      "secondary_cleaner.state.floatbank3_a_level     0\n",
      "secondary_cleaner.state.floatbank3_b_air       0\n",
      "secondary_cleaner.state.floatbank3_b_level     0\n",
      "secondary_cleaner.state.floatbank4_a_air       0\n",
      "secondary_cleaner.state.floatbank4_a_level     0\n",
      "secondary_cleaner.state.floatbank4_b_air       0\n",
      "secondary_cleaner.state.floatbank4_b_level     0\n",
      "secondary_cleaner.state.floatbank5_a_air       0\n",
      "secondary_cleaner.state.floatbank5_a_level     0\n",
      "secondary_cleaner.state.floatbank5_b_air       0\n",
      "secondary_cleaner.state.floatbank5_b_level     0\n",
      "secondary_cleaner.state.floatbank6_a_air       0\n",
      "secondary_cleaner.state.floatbank6_a_level     0\n",
      "dtype: int64\n",
      "\n",
      "Количество пропусков в  датасете df -  date                                            0\n",
      "final.output.concentrate_ag                     1\n",
      "final.output.concentrate_pb                     1\n",
      "final.output.concentrate_sol                  211\n",
      "final.output.concentrate_au                     0\n",
      "                                             ... \n",
      "secondary_cleaner.state.floatbank5_a_level      1\n",
      "secondary_cleaner.state.floatbank5_b_air        1\n",
      "secondary_cleaner.state.floatbank5_b_level      1\n",
      "secondary_cleaner.state.floatbank6_a_air        2\n",
      "secondary_cleaner.state.floatbank6_a_level      1\n",
      "Length: 87, dtype: int64\n"
     ]
    }
   ],
   "source": [
    "for i in [train, test, df]:\n",
    "    print(f'\\nКоличество пропусков в  датасете {get_df_name(i)} - ',i.isna().sum())"
   ]
  },
  {
   "cell_type": "code",
   "execution_count": 8,
   "metadata": {},
   "outputs": [
    {
     "name": "stdout",
     "output_type": "stream",
     "text": [
      "\n",
      "Количество явных дубликатов в  датасете train -  0\n",
      "\n",
      "Количество явных дубликатов в  датасете test -  0\n",
      "\n",
      "Количество явных дубликатов в  датасете df -  0\n"
     ]
    }
   ],
   "source": [
    "for i in [train, test, df]:\n",
    "    print(f'\\nКоличество явных дубликатов в  датасете {get_df_name(i)} - ',i.duplicated().sum())"
   ]
  },
  {
   "cell_type": "markdown",
   "metadata": {},
   "source": [
    "<b>Во всех трех датасетах признак даты имеет формат object, которотый нужно привести к формату date. Также есть небольшое количество пропусков, явных дубликатов нет.</b>"
   ]
  },
  {
   "cell_type": "code",
   "execution_count": 9,
   "metadata": {},
   "outputs": [],
   "source": [
    "for i in [train, test, df]:\n",
    "    i['date'] = pd.to_datetime(i['date'], format='%Y-%m-%d %H:%M:%S')"
   ]
  },
  {
   "cell_type": "markdown",
   "metadata": {},
   "source": [
    "<b>По условию задачи, известно, что данные индексируются датой и временем получения информации (признак date).<b/>\n",
    "\n",
    "<b>Соседние по времени параметры часто похожи. Воспользуемся этим условием.<b/>\n",
    "\n",
    "<b>С помощью функции ffill заполним отсутствующие значения в тренировочной и тестовой выборках. Функция заполняет пропуски предпоследним значением признака (значения даты расположены по возрастанию).<b/>"
   ]
  },
  {
   "cell_type": "code",
   "execution_count": 10,
   "metadata": {},
   "outputs": [
    {
     "name": "stdout",
     "output_type": "stream",
     "text": [
      "\n",
      "Размер тренировочной выборки - (14149, 87) и количество строк без пропусков - 14149\n",
      "\n",
      "Размер тестовой выборки - (5290, 53) и количество строк без пропусков - 5290\n",
      "\n",
      "Размер исходной выборки - (19439, 87) и количество строк без пропусков - 19439\n"
     ]
    }
   ],
   "source": [
    "size_of_train_df_before = train.shape\n",
    "size_of_test_df_before = test.shape\n",
    "size_of_full_df_before = df.shape\n",
    "train_df = train.ffill(axis=0)\n",
    "test_df = test.ffill(axis=0)\n",
    "full_df = df.ffill(axis=0)\n",
    "print(f'\\nРазмер тренировочной выборки - {size_of_train_df_before} и количество строк без пропусков - {len(train_df.notna())}')\n",
    "print(f'\\nРазмер тестовой выборки - {size_of_test_df_before} и количество строк без пропусков - {len(test_df.notna())}')\n",
    "print(f'\\nРазмер исходной выборки - {size_of_full_df_before} и количество строк без пропусков - {len(full_df.notna())}')"
   ]
  },
  {
   "cell_type": "markdown",
   "metadata": {},
   "source": [
    "<b>Проверю правильно ли рассчитана эффективность обогащения. Это параментр rougher.output.recovery, найду MAE между моими расчётами и значением признака.<b/>\n",
    "\n",
    "Рассчет производится по формуле (C*(F-T))/(F*(C-T))*100, где:</div>\n",
    "\n",
    "С - доля золота концентрате после фильтрации/очитски</div>\n",
    "\n",
    "F - доля золота в сырье/концентрате до флотации/очистки</div>\n",
    "\n",
    "T - доля золота в отвальных хвостах после фильтрации/очистки</div>\n",
    "\n",
    "\n",
    "Принимая во внимание условие задачи, нам нужен этап флотации, а значит:</div>\n",
    "\n",
    "C это rougher.output.concentrate_au</div>\n",
    "\n",
    "F это rougher.input.feed_au</div>\n",
    "\n",
    "T это rougher.output.tail_au</div>"
   ]
  },
  {
   "cell_type": "code",
   "execution_count": 11,
   "metadata": {},
   "outputs": [],
   "source": [
    "C = train_df['rougher.output.concentrate_au']\n",
    "F = train_df['rougher.input.feed_au']\n",
    "T = train_df['rougher.output.tail_au']\n",
    "recovery = ((C*(F-T))/(F*(C-T))) * 100"
   ]
  },
  {
   "cell_type": "code",
   "execution_count": 12,
   "metadata": {
    "scrolled": true
   },
   "outputs": [
    {
     "name": "stdout",
     "output_type": "stream",
     "text": [
      "MAE - 9.73512347450521e-15\n"
     ]
    }
   ],
   "source": [
    "print('MAE -', mean_absolute_error(train_df['rougher.output.recovery'], recovery))"
   ]
  },
  {
   "cell_type": "markdown",
   "metadata": {},
   "source": [
    "<b>MAE - средний модуль разности, и показывает как сильно предсказания в среднем отличаются от истинных значений. Полученное значение мало, а значит расчеты верны.<b/>"
   ]
  },
  {
   "cell_type": "markdown",
   "metadata": {},
   "source": [
    "<b>Проанализирую признаки, которые отсутстуют в тестовом датасете, но имеются в тренировочном.<b/>"
   ]
  },
  {
   "cell_type": "code",
   "execution_count": 13,
   "metadata": {},
   "outputs": [
    {
     "name": "stdout",
     "output_type": "stream",
     "text": [
      "{'final.output.concentrate_sol', 'primary_cleaner.output.tail_pb', 'rougher.output.concentrate_ag', 'secondary_cleaner.output.tail_sol', 'primary_cleaner.output.concentrate_pb', 'secondary_cleaner.output.tail_pb', 'primary_cleaner.output.concentrate_au', 'primary_cleaner.output.concentrate_ag', 'rougher.output.tail_au', 'rougher.output.tail_sol', 'final.output.tail_au', 'rougher.calculation.floatbank11_sulfate_to_au_feed', 'rougher.output.concentrate_pb', 'rougher.output.concentrate_sol', 'final.output.tail_ag', 'primary_cleaner.output.tail_sol', 'final.output.tail_sol', 'rougher.output.tail_pb', 'rougher.output.tail_ag', 'final.output.tail_pb', 'secondary_cleaner.output.tail_au', 'rougher.calculation.floatbank10_sulfate_to_au_feed', 'rougher.output.recovery', 'rougher.calculation.au_pb_ratio', 'rougher.calculation.sulfate_to_au_concentrate', 'primary_cleaner.output.tail_ag', 'secondary_cleaner.output.tail_ag', 'final.output.concentrate_au', 'primary_cleaner.output.concentrate_sol', 'final.output.recovery', 'final.output.concentrate_ag', 'primary_cleaner.output.tail_au', 'rougher.output.concentrate_au', 'final.output.concentrate_pb'}\n",
      "\n",
      " Тестовый и тренировочный датасет различаются на 34 признака.\n"
     ]
    }
   ],
   "source": [
    "dif_columns = set(train.columns) - set(test.columns)\n",
    "print(dif_columns)\n",
    "print(f'\\n Тестовый и тренировочный датасет различаются на {len(dif_columns)} признака.')"
   ]
  },
  {
   "cell_type": "markdown",
   "metadata": {},
   "source": [
    "<b>Разберусь детально, что это за признаки.<b/>"
   ]
  },
  {
   "cell_type": "code",
   "execution_count": 14,
   "metadata": {},
   "outputs": [],
   "source": [
    "dict_with_name_of_values = {'final': 'финальные характеристики',\n",
    "                           'primary_cleaner': 'первичная очистка',\n",
    "                           'secondary_cleaner': 'вторичная очистка',\n",
    "                           'input': 'параметры сырья',\n",
    "                           'output': 'параметры продукта',\n",
    "                           'rougher': 'флотация',\n",
    "                           'state': 'параметры, характеризующие текущее состояние этапа',\n",
    "                           'calculation': 'расчётные характеристики'}"
   ]
  },
  {
   "cell_type": "code",
   "execution_count": 15,
   "metadata": {},
   "outputs": [
    {
     "name": "stdout",
     "output_type": "stream",
     "text": [
      "ДЛЯ ЭТАПА \"ФИНАЛЬНЫЕ ХАРАКТЕРИСТИКИ\" С ОПЦИЕЙ \"ПАРАМЕТРЫ ПРОДУКТА\" ОТСУТСТВУЮТ ЗНАЧЕНИЯ:\n",
      " - concentrate_sol\n",
      " - tail_au\n",
      " - tail_ag\n",
      " - tail_sol\n",
      " - tail_pb\n",
      " - concentrate_au\n",
      " - recovery\n",
      " - concentrate_ag\n",
      " - concentrate_pb\n",
      "ДЛЯ ЭТАПА \"ПЕРВИЧНАЯ ОЧИСТКА\" С ОПЦИЕЙ \"ПАРАМЕТРЫ ПРОДУКТА\" ОТСУТСТВУЮТ ЗНАЧЕНИЯ:\n",
      " - tail_pb\n",
      " - concentrate_pb\n",
      " - concentrate_au\n",
      " - concentrate_ag\n",
      " - tail_sol\n",
      " - tail_ag\n",
      " - concentrate_sol\n",
      " - tail_au\n",
      "ДЛЯ ЭТАПА \"ФЛОТАЦИЯ\" С ОПЦИЕЙ \"ПАРАМЕТРЫ ПРОДУКТА\" ОТСУТСТВУЮТ ЗНАЧЕНИЯ:\n",
      " - concentrate_ag\n",
      " - tail_au\n",
      " - tail_sol\n",
      " - concentrate_pb\n",
      " - concentrate_sol\n",
      " - tail_pb\n",
      " - tail_ag\n",
      " - recovery\n",
      " - concentrate_au\n",
      "ДЛЯ ЭТАПА \"ВТОРИЧНАЯ ОЧИСТКА\" С ОПЦИЕЙ \"ПАРАМЕТРЫ ПРОДУКТА\" ОТСУТСТВУЮТ ЗНАЧЕНИЯ:\n",
      " - tail_sol\n",
      " - tail_pb\n",
      " - tail_au\n",
      " - tail_ag\n",
      "ДЛЯ ЭТАПА \"ФЛОТАЦИЯ\" С ОПЦИЕЙ \"РАСЧЁТНЫЕ ХАРАКТЕРИСТИКИ\" ОТСУТСТВУЮТ ЗНАЧЕНИЯ:\n",
      " - floatbank11_sulfate_to_au_feed\n",
      " - floatbank10_sulfate_to_au_feed\n",
      " - au_pb_ratio\n",
      " - sulfate_to_au_concentrate\n"
     ]
    }
   ],
   "source": [
    "dict_for_dif_columns = {}\n",
    "for col in dif_columns:\n",
    "    list_with_words = col.split('.')\n",
    "    stage = list_with_words[0]+'-'+list_with_words[1]\n",
    "    if stage in dict_for_dif_columns:\n",
    "        dict_for_dif_columns[stage].append(list_with_words[2])\n",
    "    elif stage not in dict_for_dif_columns:\n",
    "        dict_for_dif_columns[stage] = [list_with_words[2]]\n",
    "for key in dict_for_dif_columns.keys():\n",
    "    split_key = key.split('-')\n",
    "    print(f'ДЛЯ ЭТАПА \"{(dict_with_name_of_values[split_key[0]]).upper()}\" С ОПЦИЕЙ \"{(dict_with_name_of_values[split_key[1]]).upper()}\" ОТСУТСТВУЮТ ЗНАЧЕНИЯ:')\n",
    "    for elem in dict_for_dif_columns[key]:\n",
    "        print(f' - {elem}')"
   ]
  },
  {
   "cell_type": "markdown",
   "metadata": {},
   "source": [
    "<b>В тесте у нас нет признаков output, так как это целевые признаки.<b/>\n",
    "\n",
    "<b>Так же в тесте нет признаков calculation для этапа rougher, видимо эти данные рассчитываются позднее (по условию задачи) и не доступны во время процесса.<b/>"
   ]
  },
  {
   "cell_type": "code",
   "execution_count": 16,
   "metadata": {},
   "outputs": [],
   "source": [
    "test_df = test_df.merge(full_df.loc[:, ['date','rougher.output.recovery','final.output.recovery']], on='date')"
   ]
  },
  {
   "cell_type": "markdown",
   "metadata": {},
   "source": [
    "<b>В завершающем шаге предобработки данных считаю нужным удалить колонку date, как не информативную для дальнейшего обучения модели.<b/>"
   ]
  },
  {
   "cell_type": "code",
   "execution_count": 17,
   "metadata": {},
   "outputs": [
    {
     "name": "stdout",
     "output_type": "stream",
     "text": [
      "\n",
      "Размер тренировочной выборки - (14149, 86)\n",
      "\n",
      "Размер тестовой выборки - (5290, 54)\n"
     ]
    }
   ],
   "source": [
    "train_df = train_df.drop('date', axis=1)\n",
    "test_df = test_df.drop('date', axis=1)\n",
    "print(f'\\nРазмер тренировочной выборки - {train_df.shape}')\n",
    "print(f'\\nРазмер тестовой выборки - {test_df.shape}')"
   ]
  },
  {
   "cell_type": "markdown",
   "metadata": {},
   "source": [
    "Вывод\n",
    "\n",
    "\n",
    "<b>В данных:\n",
    "\n",
    "Был изменен тип данных для колонки date с object на datetime. В остальных признаках типы данных соответствуют содержимому.\n",
    "Регистр соответствует стандарту snake_case.\n",
    "\n",
    "\n",
    "Пропуски в датасетах (тренировочная выборки и тестовая) были заполнены значениями предшествующими по времени (Так как в условии задачи сказано, что : \"Соседние по времени параметры часто похожи\").\n",
    "\n",
    "\n",
    "Проверена правильность расчета эффективности обогащения. МАЕ равно предельно малому значению (отличие предсказаний от истинных значений).\n",
    "\n",
    "\n",
    "В сравнение с тренировчной выборкой в тестовой отсутствуют 34 значения, это может быть связано с тем, что они замеряются и/или рассчитываются значительно позже.\n",
    "\n",
    "\n",
    "В тестовую выборку были добавлены целевые признаки (rougher.output.recovery, final.output.recovery), которые будут необходимы в дальнейшем для рассчета итоговой метрики качества.\n",
    "\n",
    "\n",
    "Колонка date была удалена как не информативна для дальнейшего обучения модели.</b>"
   ]
  },
  {
   "cell_type": "markdown",
   "metadata": {},
   "source": [
    "## Анализ данных"
   ]
  },
  {
   "cell_type": "code",
   "execution_count": 18,
   "metadata": {},
   "outputs": [
    {
     "data": {
      "image/png": "[encoded data removed]",
      "text/plain": [
       "<Figure size 1080x1224 with 3 Axes>"
      ]
     },
     "metadata": {
      "needs_background": "light"
     },
     "output_type": "display_data"
    }
   ],
   "source": [
    "position = 0\n",
    "plt.figure(figsize=[15, 17])\n",
    "plt.subplots_adjust(top=0.94, wspace=0.2, hspace=0.3)\n",
    "plt.suptitle('ГРАФИК КОНЦЕНТРАЦИИ МЕТАЛЛОВ НА РАЗЛИЧНЫХ ЭТАПАХ ОЧИТСКИ.', fontsize=15)\n",
    "for metal in ['au', 'ag', 'pb']:\n",
    "    position += 1\n",
    "    plt.subplot(3, 1, position)\n",
    "    plt.title(f'ГРАФИК РАСПРЕДЕЛЕНИЯ МЕТАЛЛА {str(metal).upper()} НА РАЗЛИЧНЫХ ЭТАПАХ ОЧИТСКИ', fontsize=13)\n",
    "    sns.set_style('darkgrid')\n",
    "    sns.histplot(train_df[f'rougher.input.feed_{metal}'], color='y', label='Сырье', kde=False)\n",
    "    sns.histplot(train_df[f'rougher.output.concentrate_{metal}'], color='b', label='Концентрация после флотации', kde=False)\n",
    "    sns.histplot(train_df[f'primary_cleaner.output.concentrate_{metal}'], color='g', label='Концентрация после первичной очистки', kde=False)\n",
    "    sns.histplot(train_df[f'final.output.concentrate_{metal}'], color='r', label='Финальная концетрация металла',kde=False)\n",
    "    plt.xlabel('Концентрация металла')\n",
    "    plt.ylabel('Количество наблюдений')\n",
    "    plt.legend()\n",
    "plt.show();"
   ]
  },
  {
   "cell_type": "code",
   "execution_count": 19,
   "metadata": {
    "scrolled": true
   },
   "outputs": [
    {
     "data": {
      "image/png": "[encoded data removed]",
      "text/plain": [
       "<Figure size 1080x1224 with 4 Axes>"
      ]
     },
     "metadata": {},
     "output_type": "display_data"
    }
   ],
   "source": [
    "position = 0\n",
    "plt.figure(figsize=[15, 17])\n",
    "plt.subplots_adjust(top=0.94, wspace=0.2, hspace=0.3)\n",
    "plt.suptitle('СОДЕРЖАНИЕ МЕТАЛЛОВ В ПРОДУКЦИИ НА РАЗНЫХ СТАДИЯХ.', fontsize=15)\n",
    "for stage in ['rougher.input.feed', 'rougher.output.concentrate', 'primary_cleaner.output.concentrate', 'final.output.concentrate']:\n",
    "    position += 1\n",
    "    plt.subplot(4, 1, position)\n",
    "    plt.title(f'ГРАФИК РАСПРЕДЕЛЕНИЯ МЕТАЛЛОВ  НА СТАДИИ {str(stage).upper()}', fontsize=13)\n",
    "    sns.set_style('darkgrid')\n",
    "    sns.histplot(train_df[f'{stage}_au'], color='y', label='Золото', kde=False)\n",
    "    sns.histplot(train_df[f'{stage}_ag'], color='b', label='Серебро', kde=False)\n",
    "    sns.histplot(train_df[f'{stage}_pb'], color='g', label='Свинец', kde=False)\n",
    "   \n",
    "    plt.xlabel('Концентрация металла')\n",
    "    plt.ylabel('Количество наблюдений')\n",
    "    plt.legend()\n",
    "plt.show();"
   ]
  },
  {
   "cell_type": "markdown",
   "metadata": {},
   "source": [
    "<b>Концентрация металлов меняется неравномерно от стадии к стадии:\n",
    "    \n",
    "    В первноначальной руде концентрация серебра самая высокая, золота тоже высокая, но ниже, чем у серебра, а свинец имеет очень низкую концентрацию, в среднем около 4.\n",
    "    \n",
    "    Серебро после флотации снижается, Свинец незначительно растёт в течении всего процесса, Золото Растёт с каждым этапом.\n",
    "    \n",
    "    На каждой стадии очистки концентрация металлов возрастает, но концентрация золота растет быстрее серебра и свинца, и в конечном продукте эта разница уже максимальная, золото около 45,свинец в районе 10, а концентрация серебра даже уменьшается."
   ]
  },
  {
   "cell_type": "markdown",
   "metadata": {},
   "source": [
    "<b>Проверю различаются ли показатели по сырью в тренировочном и тестовом датасетах. <b/>"
   ]
  },
  {
   "cell_type": "code",
   "execution_count": 20,
   "metadata": {},
   "outputs": [
    {
     "data": {
      "image/png": "[encoded data removed]",
      "text/plain": [
       "<Figure size 1080x1224 with 2 Axes>"
      ]
     },
     "metadata": {},
     "output_type": "display_data"
    }
   ],
   "source": [
    "position = 0\n",
    "plt.figure(figsize=[15, 17])\n",
    "plt.subplots_adjust(top=0.90, wspace=0.2, hspace=0.2)\n",
    "plt.suptitle('ГРАФИК РАСПРЕДЕЛЕНИЯ ГРАНУЛ СЫРЬЯ В ОБУЧАЮЩЕЙ И ТЕСТОВОЙ БАЗЕ.', fontsize=15)\n",
    "for stage in ['rougher', 'primary_cleaner']:\n",
    "    position += 1\n",
    "    plt.subplot(2, 1, position)\n",
    "    plt.title(f'ГРАФИК РАСПРЕДЕЛЕНИЯ ГРАНУЛ ДЛЯ ЭТАПА {str(stage).upper()} В ОБУЧАЮЩЕЙ И ТЕСТОВОЙ БАЗЕ', fontsize=13)\n",
    "    sns.set_style('darkgrid')\n",
    "    plt.hist(train_df[f'{stage}.input.feed_size'], bins=100, color='r', label='Обучающая база', density=True)\n",
    "    plt.hist(test_df[f'{stage}.input.feed_size'], bins=100, color='b', label='Тестовая база', density=True)\n",
    "    plt.xlabel('Размер гранул')\n",
    "    plt.ylabel('Количество наблюдений')\n",
    "    plt.legend()\n",
    "plt.show();"
   ]
  },
  {
   "cell_type": "markdown",
   "metadata": {},
   "source": [
    "<b>Для этапа флотации распределение гранул находится примерно в одинаковом диапазоне, но для тренировочной выборки преобладают гранулы с размером ~ 50 , а для тестовой наоборот, ниже порога 50.<b/>\n",
    "\n",
    "<b>Для этапа первичной очитски разспределение гранул для выборок находится в одном диапазоне, однако есть различия в количестве наблюдений. Так для тренировочной выборки количество наблюдений размера гранул больше, чем для тестовой.<b/>\n",
    "\n",
    "<b>Таким образом, значимых различий между распределениями для выборок не наблюдается.<b/>"
   ]
  },
  {
   "cell_type": "markdown",
   "metadata": {},
   "source": [
    "<b>Исследую суммарную концентрацию всех веществ на разных стадиях: в сырье, в черновом и финальном концентратах.<b/>"
   ]
  },
  {
   "cell_type": "code",
   "execution_count": 21,
   "metadata": {},
   "outputs": [],
   "source": [
    "sum_concentrate_of_rougher_input = 0\n",
    "sum_concentrate_of_rougher_output = 0\n",
    "sum_concentrate_of_primary_cleaner_output = 0\n",
    "sum_concentrate_of_final_output = 0\n",
    "for metal in ['au', 'ag', 'pb', 'sol']:\n",
    "    sum_concentrate_of_rougher_input += train_df[f'rougher.input.feed_{metal}']\n",
    "    sum_concentrate_of_rougher_output += train_df[f'rougher.output.concentrate_{metal}']\n",
    "    sum_concentrate_of_primary_cleaner_output += full_df[f'primary_cleaner.output.concentrate_{metal}']\n",
    "    sum_concentrate_of_final_output += train_df[f'final.output.concentrate_{metal}']"
   ]
  },
  {
   "cell_type": "code",
   "execution_count": 22,
   "metadata": {},
   "outputs": [
    {
     "data": {
      "image/png": "[encoded data removed]",
      "text/plain": [
       "<Figure size 1080x648 with 1 Axes>"
      ]
     },
     "metadata": {},
     "output_type": "display_data"
    }
   ],
   "source": [
    "plt.figure(figsize=[15, 9])\n",
    "plt.suptitle('ГРАФИК СУММАРНОЙ КОНЦЕНТРАЦИИ ВЕЩЕСТВ НА РАЗНЫХ СТАДИЯХ.', fontsize=15)\n",
    "sns.set_style('darkgrid')\n",
    "sns.histplot(sum_concentrate_of_rougher_input, color='y', label='Сырье', kde=False)\n",
    "sns.histplot(sum_concentrate_of_rougher_output, color='b', label='Концентрация после флотации', kde=False)\n",
    "sns.histplot(sum_concentrate_of_primary_cleaner_output, color='g', label='Концентрация после первичной очистки', kde=False)\n",
    "sns.histplot(sum_concentrate_of_final_output, color='r', label='Финальная концетрация',kde=False)\n",
    "plt.xlabel('Концентрация веществ')\n",
    "plt.ylabel('Количество наблюдений')\n",
    "plt.legend()\n",
    "plt.show();"
   ]
  },
  {
   "cell_type": "markdown",
   "metadata": {},
   "source": [
    "<b>Вывод:\n",
    "    \n",
    "    Суммарная концентрация веществ увеличивается к финальному этапу, а диапазон распределения суммарной концентрации веществ уменьшается. Есть выбросы на нуле."
   ]
  },
  {
   "cell_type": "markdown",
   "metadata": {},
   "source": [
    "<b>Для финального и этапа флотации для суммарной концентрации веществ присутствуют аномалии ( значения в районе 0). Считаю необходимым удалить аномалии из данных. Аномалии могут негативно повлиять на качество обучения модели.<b/>"
   ]
  },
  {
   "cell_type": "code",
   "execution_count": 23,
   "metadata": {},
   "outputs": [],
   "source": [
    "train_df = train_df[(train_df['rougher.output.concentrate_au'] != 0) & (train_df['rougher.output.concentrate_ag'] != 0) & (train_df['rougher.output.concentrate_pb'] != 0) & (train_df['rougher.output.concentrate_sol'] != 0)]\n",
    "train_df = train_df[(train_df['final.output.concentrate_au'] != 0) & (train_df['final.output.concentrate_ag'] != 0) & (train_df['final.output.concentrate_pb'] != 0) & (train_df['final.output.concentrate_sol'] != 0)]\n",
    "\n",
    "full_df = full_df[(full_df['rougher.output.concentrate_au'] != 0) & (full_df['rougher.output.concentrate_ag'] != 0) & (full_df['rougher.output.concentrate_pb'] != 0) & (full_df['rougher.output.concentrate_sol'] != 0)]\n",
    "full_df = full_df[(full_df['final.output.concentrate_au'] != 0) & (full_df['final.output.concentrate_ag'] != 0) & (full_df['final.output.concentrate_pb'] != 0) & (full_df['final.output.concentrate_sol'] != 0)]"
   ]
  },
  {
   "cell_type": "markdown",
   "metadata": {},
   "source": [
    "<b>Вывод:\n",
    "\n",
    "    Распределения гранул сырья на обучающей и тестовой выборках значительных различий не имеют\n",
    "\n",
    "    Доля золота увеличивается по мере прохождения этапов очистки\n",
    "\n",
    "    В анализа суммарной концентрации веществ на разных стадиях были выявлены аномалии, которые были удалены для улучшения качества будущих моделей прогнозирования."
   ]
  },
  {
   "cell_type": "markdown",
   "metadata": {},
   "source": [
    "## Модель"
   ]
  },
  {
   "cell_type": "markdown",
   "metadata": {},
   "source": [
    "<b>Создаю функцию для вычисления итоговой sMAPE.<b/>"
   ]
  },
  {
   "cell_type": "code",
   "execution_count": 24,
   "metadata": {},
   "outputs": [],
   "source": [
    "def get_smape(target, predict):\n",
    "    smape = (1/len(target))*np.sum((np.abs(target - predict))/( (np.abs(target)+np.abs(predict))/2))*100\n",
    "    return smape"
   ]
  },
  {
   "cell_type": "code",
   "execution_count": 25,
   "metadata": {},
   "outputs": [],
   "source": [
    "smape_scorer = make_scorer(get_smape, greater_is_better = False)"
   ]
  },
  {
   "cell_type": "code",
   "execution_count": 26,
   "metadata": {},
   "outputs": [],
   "source": [
    "def get_final_smape(rougher, final):\n",
    "    final = 0.25*rougher+0.75*final\n",
    "    return final"
   ]
  },
  {
   "cell_type": "markdown",
   "metadata": {},
   "source": [
    "<b>Для качественного обучения модели нужно удалить из тренировочной базы лишние признаки и перемешать данные, для этого я оставлю в качестве признаков только те колонки, которые есть в тестовой базе. Но для начала сохраним целевые признаки.<b/>"
   ]
  },
  {
   "cell_type": "code",
   "execution_count": 27,
   "metadata": {},
   "outputs": [],
   "source": [
    "train_df = shuffle(train_df)\n",
    "test_df = shuffle(test_df)"
   ]
  },
  {
   "cell_type": "code",
   "execution_count": 28,
   "metadata": {},
   "outputs": [],
   "source": [
    "target_rougher=train_df['rougher.output.recovery']\n",
    "target_final=train_df['final.output.recovery']"
   ]
  },
  {
   "cell_type": "code",
   "execution_count": 29,
   "metadata": {},
   "outputs": [],
   "source": [
    "columns_test=test_df.columns\n",
    "features = train_df[columns_test]\n",
    "features = features.drop(['rougher.output.recovery', 'final.output.recovery'], axis=1)"
   ]
  },
  {
   "cell_type": "code",
   "execution_count": 30,
   "metadata": {},
   "outputs": [],
   "source": [
    "features_test = test_df.drop(['rougher.output.recovery','final.output.recovery'], axis=1)\n",
    "target_rougher_test = test_df['rougher.output.recovery']\n",
    "target_final_test = test_df['final.output.recovery']"
   ]
  },
  {
   "cell_type": "markdown",
   "metadata": {},
   "source": [
    "<b>Обучу разные модели и оценю их качество, используя кросс-валидацию.<b/>"
   ]
  },
  {
   "cell_type": "code",
   "execution_count": 31,
   "metadata": {},
   "outputs": [],
   "source": [
    "dct_with_scores = {}"
   ]
  },
  {
   "cell_type": "markdown",
   "metadata": {},
   "source": [
    "### Модель Линейная регрессия."
   ]
  },
  {
   "cell_type": "code",
   "execution_count": 32,
   "metadata": {},
   "outputs": [],
   "source": [
    "numeric = features.columns\n",
    "\n",
    "scaler = StandardScaler()\n",
    "scaler.fit(features[numeric])\n",
    "features[numeric] = scaler.transform(features[numeric])\n",
    "features_test[numeric] = scaler.transform(features_test[numeric])"
   ]
  },
  {
   "cell_type": "code",
   "execution_count": 33,
   "metadata": {},
   "outputs": [],
   "source": [
    "model_lr_rougher = LinearRegression()\n",
    "model_lr_rougher.fit(features, target_rougher)\n",
    "smape_rougher = cross_val_score(model_lr_rougher,\n",
    "                          features,\n",
    "                          target_rougher,\n",
    "                          scoring=smape_scorer,\n",
    "                          cv=5)\n",
    "final_smape_rougher = smape_rougher.mean()"
   ]
  },
  {
   "cell_type": "code",
   "execution_count": 34,
   "metadata": {},
   "outputs": [],
   "source": [
    "model_lr_final = LinearRegression()\n",
    "smape_final = cross_val_score(model_lr_final,\n",
    "                        features,\n",
    "                        target_final,\n",
    "                        scoring=smape_scorer,\n",
    "                        cv=5)\n",
    "final_smape_final = smape_final.mean()\n",
    "result_smape = get_final_smape(final_smape_rougher, final_smape_final)*(-1)\n",
    "dct_with_scores['LR'] = [result_smape]"
   ]
  },
  {
   "cell_type": "markdown",
   "metadata": {},
   "source": [
    "### Модель Решающее дерево"
   ]
  },
  {
   "cell_type": "code",
   "execution_count": 35,
   "metadata": {},
   "outputs": [
    {
     "name": "stdout",
     "output_type": "stream",
     "text": [
      "Лучший параметр глубины: 11\n",
      "CPU times: user 1min 45s, sys: 177 ms, total: 1min 45s\n",
      "Wall time: 1min 45s\n"
     ]
    }
   ],
   "source": [
    "%%time\n",
    "best_result_for_dt = 100\n",
    "best_param_for_dt = 0\n",
    "for n in range(1, 20, 1):\n",
    "    model_dt_rougher = DecisionTreeRegressor(max_depth=n, random_state=12345)\n",
    "    model_dt_rougher.fit(features, target_rougher)\n",
    "    smape_rougher = cross_val_score(model_dt_rougher,\n",
    "                              features,\n",
    "                              target_rougher,\n",
    "                              scoring=smape_scorer,\n",
    "                              cv=5)\n",
    "    final_smape_rougher = smape_rougher.mean()\n",
    "\n",
    "    model_dt_final = DecisionTreeRegressor(max_depth=n, random_state=12345)\n",
    "    smape_final = cross_val_score(model_dt_final, \n",
    "                                  features,\n",
    "                                  target_final,\n",
    "                                  scoring=smape_scorer,\n",
    "                                  cv=5)\n",
    "    final_smape_final = smape_final.mean()\n",
    "    result_smape = get_final_smape(final_smape_rougher, final_smape_final)*(-1)\n",
    "    if result_smape < best_result_for_dt:\n",
    "        best_result_for_dt = result_smape\n",
    "        best_param_for_dt = n\n",
    "dct_with_scores['DT'] = [best_result_for_dt, best_param_for_dt]\n",
    "print('Лучший параметр глубины:', best_param_for_dt)"
   ]
  },
  {
   "cell_type": "markdown",
   "metadata": {},
   "source": [
    "### Модель Случайный лес"
   ]
  },
  {
   "cell_type": "code",
   "execution_count": 36,
   "metadata": {},
   "outputs": [
    {
     "name": "stdout",
     "output_type": "stream",
     "text": [
      "\n",
      "Лучший парметр количества деревьев 80 и глубины 8.\n",
      "CPU times: user 26min 25s, sys: 2.29 s, total: 26min 27s\n",
      "Wall time: 26min 28s\n"
     ]
    }
   ],
   "source": [
    "%%time\n",
    "best_model_for_rf = 100\n",
    "best_param_for_rf = 0\n",
    "for n in range(20, 100, 20):\n",
    "    for d in range(2,10,2):\n",
    "        model_rf_rougher = RandomForestRegressor(n_estimators=n, max_depth=d, random_state=12345)\n",
    "        model_rf_rougher.fit(features, target_rougher)\n",
    "        smape_rougher = cross_val_score(model_rf_rougher,\n",
    "                                  features,\n",
    "                                  target_rougher,\n",
    "                                  scoring=smape_scorer,\n",
    "                                  cv=5)\n",
    "        final_smape_rougher = smape_rougher.mean()\n",
    "\n",
    "        model_rf_final = RandomForestRegressor(n_estimators=n, max_depth=d, random_state=12345)\n",
    "        smape_final = cross_val_score(model_rf_final,\n",
    "                                features,\n",
    "                                target_final,\n",
    "                                scoring=smape_scorer,\n",
    "                                cv=5)\n",
    "        final_smape_final = smape_final.mean()\n",
    "        result_smape = get_final_smape(final_smape_rougher, final_smape_final)*(-1)\n",
    "        if result_smape < best_model_for_rf:\n",
    "            best_model_for_rf = result_smape\n",
    "            best_param_for_rf = [n,d]\n",
    "dct_with_scores['RF'] = [best_model_for_rf, best_param_for_rf]\n",
    "print(f'\\nЛучший парметр количества деревьев {best_param_for_rf[0]} и глубины {best_param_for_rf[1]}.')"
   ]
  },
  {
   "cell_type": "code",
   "execution_count": 37,
   "metadata": {},
   "outputs": [
    {
     "name": "stdout",
     "output_type": "stream",
     "text": [
      "\n",
      "МОДЕЛЬ LR С РЕЗУЛЬТАТОМ - 7.281077242719288\n",
      "\n",
      "МОДЕЛЬ DT С РЕЗУЛЬТАТОМ - 6.45181163785028\n",
      "\n",
      "МОДЕЛЬ RF С РЕЗУЛЬТАТОМ - 5.99557246652055\n"
     ]
    }
   ],
   "source": [
    "for key in dct_with_scores.keys():\n",
    "    print(f'\\nМОДЕЛЬ {str(key).upper()} С РЕЗУЛЬТАТОМ - {dct_with_scores[key][0]}')"
   ]
  },
  {
   "cell_type": "markdown",
   "metadata": {},
   "source": [
    "<b>Лучшие результаты показала модель Случайный лес с гиперпараментрами глубиной = 8 и количеством деревьев = 80.<b/>"
   ]
  },
  {
   "cell_type": "markdown",
   "metadata": {},
   "source": [
    "# Тестирование и анализ лучшей модели."
   ]
  },
  {
   "cell_type": "markdown",
   "metadata": {},
   "source": [
    "<b>Проверю качество модели на тестовой выборке.<b/>"
   ]
  },
  {
   "cell_type": "code",
   "execution_count": 38,
   "metadata": {},
   "outputs": [],
   "source": [
    "model_test_rougher = RandomForestRegressor(n_estimators=80, max_depth=8, random_state=12345)\n",
    "model_test_rougher.fit(features, target_rougher)\n",
    "predicted_rougher = model_test_rougher.predict(features_test)\n",
    "\n",
    "model_test_final = RandomForestRegressor(n_estimators=80, max_depth=8, random_state=12345)\n",
    "model_test_final.fit(features, target_final)\n",
    "predicted_final = model_test_final.predict(features_test)\n",
    "\n",
    "smape_for_test_rougher = get_smape(target_rougher_test, predicted_rougher)\n",
    "smape_for_test_final = get_smape(target_final_test, predicted_final)\n",
    "final_smape_for_test = get_final_smape(smape_for_test_rougher, smape_for_test_final)"
   ]
  },
  {
   "cell_type": "code",
   "execution_count": 39,
   "metadata": {},
   "outputs": [
    {
     "name": "stdout",
     "output_type": "stream",
     "text": [
      "\n",
      "SMAPE ДЛЯ ТЕСТОВОЙ ВЫБОРКИ СОСТАВЛЯЕТ - 9.181252729144637\n"
     ]
    }
   ],
   "source": [
    "print(f'\\nSMAPE ДЛЯ ТЕСТОВОЙ ВЫБОРКИ СОСТАВЛЯЕТ - {final_smape_for_test}')"
   ]
  },
  {
   "cell_type": "markdown",
   "metadata": {},
   "source": [
    "<b>Проверим полученную модель на адекватность. Вычислим показатель sMape для константной модели и сравним с результатами лучшей модели.<b>"
   ]
  },
  {
   "cell_type": "code",
   "execution_count": 40,
   "metadata": {},
   "outputs": [],
   "source": [
    "dummy_regr_rougher = DummyRegressor(strategy=\"mean\")\n",
    "dummy_regr_final = DummyRegressor(strategy=\"mean\")\n",
    "\n",
    "dummy_regr_rougher.fit(features, target_rougher)\n",
    "dummy_regr_final.fit(features, target_final)\n",
    "\n",
    "dummy_predicted_rougher = dummy_regr_rougher.predict(features_test)\n",
    "dummy_predicted_final = dummy_regr_final.predict(features_test)\n",
    "\n",
    "smape_for_const_rougher = get_smape(target_rougher_test, dummy_predicted_rougher)\n",
    "smape_for_const_final = get_smape(target_final_test, dummy_predicted_final)\n",
    "\n",
    "final_smape_for_const = get_final_smape(smape_for_const_rougher, smape_for_const_final)"
   ]
  },
  {
   "cell_type": "code",
   "execution_count": 41,
   "metadata": {},
   "outputs": [
    {
     "name": "stdout",
     "output_type": "stream",
     "text": [
      "\n",
      "ПОКАЗАТЕЛЬ SMAPE ДЛЯ КОНСТАНТНОЙ МОДЕЛИ - 9.821468391820268\n"
     ]
    }
   ],
   "source": [
    "print(f'\\nПОКАЗАТЕЛЬ SMAPE ДЛЯ КОНСТАНТНОЙ МОДЕЛИ - {final_smape_for_const}')"
   ]
  },
  {
   "cell_type": "markdown",
   "metadata": {},
   "source": [
    "<b>Показатель модели RandomForestRegressor меньше показателя константной, что означает хорошее качество полученной модели.<b/>"
   ]
  },
  {
   "cell_type": "markdown",
   "metadata": {},
   "source": [
    "# Итоговый вывод."
   ]
  },
  {
   "cell_type": "markdown",
   "metadata": {},
   "source": [
    "<b>Задачей проекта было подготовить прототип модели машинного обучения для «Цифры» в целях предсказания коэффициента восстановления золота из золотосодержащей руды, чтобы оптимизировать производство и не запускать предприятие с убыточными характеристиками.<b/>\n",
    "\n",
    "<b>Я загрузила и изучила данные, заполнила небольшое количество пропусков значениями по ближайшим временным значениям, изучила различия в датасетах.<b/>\n",
    "    \n",
    "<b>Провела анализ данных по концентрации всех видов руды на разных стадиях очистки и обогащения.<b/>\n",
    "    \n",
    "<b>Я обучила три модели машинного обучения Линейнуй регрессию, Решающее дерево и Случайный лес, из которых наилучший результат показала последняя.<b/>\n",
    "\n",
    "<b>Я протестировала модель Случайный лес на тестовой выборке и проверила на адекватность с помощью DummyRegressor, и модель оказалась хорошего качества, так что ее можно рекомендовать, как инструмент для предсказания коэффициента восстановления золота из золотосодержащей руды.<b/>\n"
   ]
  }
 ],
 "metadata": {
  "ExecuteTimeLog": [
   {
    "duration": 392,
    "start_time": "2022-09-07T10:42:07.184Z"
   },
   {
    "duration": 115,
    "start_time": "2022-09-07T10:42:07.613Z"
   },
   {
    "duration": 1856,
    "start_time": "2022-09-07T10:43:13.679Z"
   },
   {
    "duration": 688,
    "start_time": "2022-09-07T10:48:29.390Z"
   },
   {
    "duration": 653,
    "start_time": "2022-09-07T10:48:30.080Z"
   },
   {
    "duration": 48,
    "start_time": "2022-09-07T10:49:06.289Z"
   },
   {
    "duration": 8,
    "start_time": "2022-09-07T10:49:18.830Z"
   },
   {
    "duration": 10,
    "start_time": "2022-09-07T10:49:32.702Z"
   },
   {
    "duration": 8,
    "start_time": "2022-09-07T10:49:38.094Z"
   },
   {
    "duration": 30,
    "start_time": "2022-09-07T10:49:55.297Z"
   },
   {
    "duration": 17,
    "start_time": "2022-09-07T10:50:09.615Z"
   },
   {
    "duration": 12,
    "start_time": "2022-09-07T10:50:18.207Z"
   },
   {
    "duration": 4,
    "start_time": "2022-09-07T10:51:13.506Z"
   },
   {
    "duration": 20,
    "start_time": "2022-09-07T10:52:30.183Z"
   },
   {
    "duration": 119,
    "start_time": "2022-09-07T10:54:51.248Z"
   },
   {
    "duration": 119,
    "start_time": "2022-09-07T10:55:00.993Z"
   },
   {
    "duration": 22,
    "start_time": "2022-09-07T10:55:24.910Z"
   },
   {
    "duration": 541,
    "start_time": "2022-09-07T10:58:45.811Z"
   },
   {
    "duration": 4,
    "start_time": "2022-09-07T11:14:34.586Z"
   },
   {
    "duration": 13,
    "start_time": "2022-09-07T12:54:36.472Z"
   },
   {
    "duration": 10,
    "start_time": "2022-09-07T12:55:08.616Z"
   },
   {
    "duration": 26,
    "start_time": "2022-09-07T12:56:18.056Z"
   },
   {
    "duration": 20,
    "start_time": "2022-09-07T12:56:28.022Z"
   },
   {
    "duration": 4,
    "start_time": "2022-09-07T12:59:27.977Z"
   },
   {
    "duration": 3,
    "start_time": "2022-09-07T13:03:37.961Z"
   },
   {
    "duration": 9,
    "start_time": "2022-09-07T13:04:49.913Z"
   },
   {
    "duration": 4,
    "start_time": "2022-09-07T13:05:03.817Z"
   },
   {
    "duration": 8,
    "start_time": "2022-09-07T13:05:10.281Z"
   },
   {
    "duration": 3,
    "start_time": "2022-09-07T13:09:59.959Z"
   },
   {
    "duration": 711,
    "start_time": "2022-09-07T13:10:00.533Z"
   },
   {
    "duration": 22,
    "start_time": "2022-09-07T13:10:01.253Z"
   },
   {
    "duration": 20,
    "start_time": "2022-09-07T13:10:02.021Z"
   },
   {
    "duration": 17,
    "start_time": "2022-09-07T13:10:02.822Z"
   },
   {
    "duration": 10,
    "start_time": "2022-09-07T13:10:03.574Z"
   },
   {
    "duration": 19,
    "start_time": "2022-09-07T13:10:04.470Z"
   },
   {
    "duration": 13,
    "start_time": "2022-09-07T13:10:05.255Z"
   },
   {
    "duration": 80,
    "start_time": "2022-09-07T13:10:07.558Z"
   },
   {
    "duration": 21,
    "start_time": "2022-09-07T13:10:08.278Z"
   },
   {
    "duration": 5,
    "start_time": "2022-09-07T13:10:08.869Z"
   },
   {
    "duration": 4,
    "start_time": "2022-09-07T13:10:11.173Z"
   },
   {
    "duration": 4,
    "start_time": "2022-09-07T13:11:32.598Z"
   },
   {
    "duration": 4,
    "start_time": "2022-09-07T13:11:34.607Z"
   },
   {
    "duration": 3,
    "start_time": "2022-09-07T13:12:16.247Z"
   },
   {
    "duration": 710,
    "start_time": "2022-09-07T13:12:16.854Z"
   },
   {
    "duration": 21,
    "start_time": "2022-09-07T13:12:17.574Z"
   },
   {
    "duration": 18,
    "start_time": "2022-09-07T13:12:18.343Z"
   },
   {
    "duration": 18,
    "start_time": "2022-09-07T13:12:19.111Z"
   },
   {
    "duration": 9,
    "start_time": "2022-09-07T13:12:19.766Z"
   },
   {
    "duration": 19,
    "start_time": "2022-09-07T13:12:20.486Z"
   },
   {
    "duration": 13,
    "start_time": "2022-09-07T13:12:21.286Z"
   },
   {
    "duration": 66,
    "start_time": "2022-09-07T13:12:23.367Z"
   },
   {
    "duration": 23,
    "start_time": "2022-09-07T13:12:23.894Z"
   },
   {
    "duration": 5,
    "start_time": "2022-09-07T13:12:24.406Z"
   },
   {
    "duration": 3,
    "start_time": "2022-09-07T13:12:36.934Z"
   },
   {
    "duration": 3,
    "start_time": "2022-09-07T13:12:37.879Z"
   },
   {
    "duration": 9,
    "start_time": "2022-09-07T13:12:39.078Z"
   },
   {
    "duration": 33,
    "start_time": "2022-09-07T13:13:55.782Z"
   },
   {
    "duration": 26,
    "start_time": "2022-09-07T13:16:01.886Z"
   },
   {
    "duration": 8,
    "start_time": "2022-09-07T13:16:14.432Z"
   },
   {
    "duration": 7,
    "start_time": "2022-09-07T13:19:52.951Z"
   },
   {
    "duration": 6,
    "start_time": "2022-09-07T13:20:52.550Z"
   },
   {
    "duration": 163,
    "start_time": "2022-09-07T13:23:32.007Z"
   },
   {
    "duration": 8,
    "start_time": "2022-09-07T13:24:30.519Z"
   },
   {
    "duration": 11,
    "start_time": "2022-09-07T13:25:24.536Z"
   },
   {
    "duration": 8,
    "start_time": "2022-09-07T13:25:29.011Z"
   },
   {
    "duration": 155,
    "start_time": "2022-09-07T13:25:29.708Z"
   },
   {
    "duration": 7,
    "start_time": "2022-09-07T14:14:06.763Z"
   },
   {
    "duration": 4,
    "start_time": "2022-09-07T14:15:52.353Z"
   },
   {
    "duration": 678,
    "start_time": "2022-09-07T14:15:53.120Z"
   },
   {
    "duration": 17,
    "start_time": "2022-09-07T14:15:57.888Z"
   },
   {
    "duration": 8,
    "start_time": "2022-09-07T14:16:05.761Z"
   },
   {
    "duration": 17,
    "start_time": "2022-09-07T14:16:08.336Z"
   },
   {
    "duration": 8,
    "start_time": "2022-09-07T14:16:11.511Z"
   },
   {
    "duration": 13,
    "start_time": "2022-09-07T14:16:19.985Z"
   },
   {
    "duration": 5,
    "start_time": "2022-09-07T14:16:28.048Z"
   },
   {
    "duration": 266,
    "start_time": "2022-09-07T14:16:46.432Z"
   },
   {
    "duration": 15,
    "start_time": "2022-09-07T14:17:21.514Z"
   },
   {
    "duration": 28,
    "start_time": "2022-09-07T14:17:35.592Z"
   },
   {
    "duration": 24,
    "start_time": "2022-09-07T14:21:05.716Z"
   },
   {
    "duration": 5,
    "start_time": "2022-09-07T14:22:15.633Z"
   },
   {
    "duration": 5,
    "start_time": "2022-09-07T14:26:57.667Z"
   },
   {
    "duration": 5,
    "start_time": "2022-09-07T14:27:26.186Z"
   },
   {
    "duration": 9,
    "start_time": "2022-09-07T14:28:41.778Z"
   },
   {
    "duration": 4,
    "start_time": "2022-09-07T14:30:03.971Z"
   },
   {
    "duration": 5,
    "start_time": "2022-09-07T14:30:23.650Z"
   },
   {
    "duration": 4,
    "start_time": "2022-09-07T14:32:33.674Z"
   },
   {
    "duration": 12,
    "start_time": "2022-09-07T14:42:42.347Z"
   },
   {
    "duration": 3,
    "start_time": "2022-09-07T14:43:10.692Z"
   },
   {
    "duration": 9,
    "start_time": "2022-09-07T14:43:11.637Z"
   },
   {
    "duration": 1575,
    "start_time": "2022-09-08T06:07:05.468Z"
   },
   {
    "duration": 3147,
    "start_time": "2022-09-08T06:07:07.047Z"
   },
   {
    "duration": 23,
    "start_time": "2022-09-08T06:07:10.196Z"
   },
   {
    "duration": 8,
    "start_time": "2022-09-08T06:07:10.220Z"
   },
   {
    "duration": 23,
    "start_time": "2022-09-08T06:07:10.633Z"
   },
   {
    "duration": 7,
    "start_time": "2022-09-08T06:07:11.673Z"
   },
   {
    "duration": 12,
    "start_time": "2022-09-08T06:07:12.570Z"
   },
   {
    "duration": 8,
    "start_time": "2022-09-08T06:07:16.938Z"
   },
   {
    "duration": 241,
    "start_time": "2022-09-08T06:07:18.170Z"
   },
   {
    "duration": 33,
    "start_time": "2022-09-08T06:07:20.655Z"
   },
   {
    "duration": 113,
    "start_time": "2022-09-08T06:07:25.650Z"
   },
   {
    "duration": 6,
    "start_time": "2022-09-08T06:08:03.010Z"
   },
   {
    "duration": 5,
    "start_time": "2022-09-08T06:08:05.805Z"
   },
   {
    "duration": 3,
    "start_time": "2022-09-08T06:08:11.951Z"
   },
   {
    "duration": 3,
    "start_time": "2022-09-08T06:08:16.154Z"
   },
   {
    "duration": 7,
    "start_time": "2022-09-08T06:08:20.266Z"
   },
   {
    "duration": 9,
    "start_time": "2022-09-08T06:55:54.036Z"
   },
   {
    "duration": 22,
    "start_time": "2022-09-08T07:52:39.993Z"
   },
   {
    "duration": 11,
    "start_time": "2022-09-08T07:56:55.877Z"
   },
   {
    "duration": 15,
    "start_time": "2022-09-08T07:58:03.075Z"
   },
   {
    "duration": 3577,
    "start_time": "2022-09-08T08:04:47.603Z"
   },
   {
    "duration": 1550,
    "start_time": "2022-09-08T08:24:48.315Z"
   },
   {
    "duration": 3297,
    "start_time": "2022-09-08T08:25:37.803Z"
   },
   {
    "duration": 3427,
    "start_time": "2022-09-08T08:25:58.692Z"
   },
   {
    "duration": 548,
    "start_time": "2022-09-08T08:33:26.027Z"
   },
   {
    "duration": 538,
    "start_time": "2022-09-08T08:34:28.284Z"
   },
   {
    "duration": 631,
    "start_time": "2022-09-08T08:36:10.132Z"
   },
   {
    "duration": 14,
    "start_time": "2022-09-08T08:40:29.429Z"
   },
   {
    "duration": 1446,
    "start_time": "2022-09-08T08:40:29.925Z"
   },
   {
    "duration": 139,
    "start_time": "2022-09-08T08:43:34.657Z"
   },
   {
    "duration": 126,
    "start_time": "2022-09-08T08:43:52.972Z"
   },
   {
    "duration": 60,
    "start_time": "2022-09-08T08:48:56.972Z"
   },
   {
    "duration": 730,
    "start_time": "2022-09-08T08:49:38.482Z"
   },
   {
    "duration": 75,
    "start_time": "2022-09-08T08:51:28.539Z"
   },
   {
    "duration": 16,
    "start_time": "2022-09-08T08:57:20.970Z"
   },
   {
    "duration": 30,
    "start_time": "2022-09-08T08:57:42.063Z"
   },
   {
    "duration": 17,
    "start_time": "2022-09-08T08:58:05.368Z"
   },
   {
    "duration": 11,
    "start_time": "2022-09-08T08:59:09.662Z"
   },
   {
    "duration": 28,
    "start_time": "2022-09-08T09:00:21.403Z"
   },
   {
    "duration": 22,
    "start_time": "2022-09-08T09:00:28.166Z"
   },
   {
    "duration": 11,
    "start_time": "2022-09-08T09:00:29.835Z"
   },
   {
    "duration": 3,
    "start_time": "2022-09-08T09:06:47.396Z"
   },
   {
    "duration": 4,
    "start_time": "2022-09-08T09:06:47.900Z"
   },
   {
    "duration": 1126,
    "start_time": "2022-09-08T09:10:50.677Z"
   },
   {
    "duration": 13,
    "start_time": "2022-09-08T09:16:03.349Z"
   },
   {
    "duration": 988,
    "start_time": "2022-09-08T09:16:47.150Z"
   },
   {
    "duration": 13,
    "start_time": "2022-09-08T09:29:03.641Z"
   },
   {
    "duration": 861,
    "start_time": "2022-09-08T09:29:04.161Z"
   },
   {
    "duration": 29,
    "start_time": "2022-09-08T09:29:05.024Z"
   },
   {
    "duration": 9,
    "start_time": "2022-09-08T09:29:05.250Z"
   },
   {
    "duration": 16,
    "start_time": "2022-09-08T09:29:05.812Z"
   },
   {
    "duration": 15,
    "start_time": "2022-09-08T09:29:06.337Z"
   },
   {
    "duration": 17,
    "start_time": "2022-09-08T09:29:07.026Z"
   },
   {
    "duration": 7,
    "start_time": "2022-09-08T09:29:07.652Z"
   },
   {
    "duration": 234,
    "start_time": "2022-09-08T09:29:08.321Z"
   },
   {
    "duration": 36,
    "start_time": "2022-09-08T09:29:09.874Z"
   },
   {
    "duration": 7,
    "start_time": "2022-09-08T09:29:12.107Z"
   },
   {
    "duration": 5,
    "start_time": "2022-09-08T09:29:14.602Z"
   },
   {
    "duration": 3,
    "start_time": "2022-09-08T09:29:17.714Z"
   },
   {
    "duration": 3,
    "start_time": "2022-09-08T09:29:21.778Z"
   },
   {
    "duration": 10,
    "start_time": "2022-09-08T09:29:29.798Z"
   },
   {
    "duration": 36,
    "start_time": "2022-09-08T09:29:32.017Z"
   },
   {
    "duration": 12,
    "start_time": "2022-09-08T09:29:36.451Z"
   },
   {
    "duration": 12,
    "start_time": "2022-09-08T09:29:38.052Z"
   },
   {
    "duration": 3147,
    "start_time": "2022-09-08T09:29:44.353Z"
   },
   {
    "duration": 3070,
    "start_time": "2022-09-08T09:29:47.502Z"
   },
   {
    "duration": 492,
    "start_time": "2022-09-08T09:29:50.574Z"
   },
   {
    "duration": 7,
    "start_time": "2022-09-08T09:29:51.068Z"
   },
   {
    "duration": 1257,
    "start_time": "2022-09-08T09:29:51.077Z"
   },
   {
    "duration": 26,
    "start_time": "2022-09-08T09:29:54.481Z"
   },
   {
    "duration": 4,
    "start_time": "2022-09-08T09:30:00.680Z"
   },
   {
    "duration": 3,
    "start_time": "2022-09-08T09:30:01.329Z"
   },
   {
    "duration": 1813,
    "start_time": "2022-09-08T09:30:02.954Z"
   },
   {
    "duration": 0,
    "start_time": "2022-09-08T09:30:04.768Z"
   },
   {
    "duration": 15,
    "start_time": "2022-09-08T10:24:35.024Z"
   },
   {
    "duration": 2,
    "start_time": "2022-09-08T10:25:53.392Z"
   },
   {
    "duration": 5,
    "start_time": "2022-09-08T10:25:58.015Z"
   },
   {
    "duration": 3,
    "start_time": "2022-09-08T10:53:40.759Z"
   },
   {
    "duration": 87,
    "start_time": "2022-09-08T10:53:43.264Z"
   },
   {
    "duration": 5,
    "start_time": "2022-09-08T10:55:28.087Z"
   },
   {
    "duration": 4,
    "start_time": "2022-09-08T10:56:01.201Z"
   },
   {
    "duration": 4,
    "start_time": "2022-09-08T10:56:15.393Z"
   },
   {
    "duration": 11,
    "start_time": "2022-09-08T10:56:29.696Z"
   },
   {
    "duration": 10,
    "start_time": "2022-09-08T10:56:42.643Z"
   },
   {
    "duration": 4,
    "start_time": "2022-09-08T10:56:47.281Z"
   },
   {
    "duration": 5,
    "start_time": "2022-09-08T10:56:48.464Z"
   },
   {
    "duration": 4,
    "start_time": "2022-09-08T10:56:50.817Z"
   },
   {
    "duration": 3,
    "start_time": "2022-09-08T10:56:56.641Z"
   },
   {
    "duration": 125,
    "start_time": "2022-09-08T10:56:58.240Z"
   },
   {
    "duration": 3,
    "start_time": "2022-09-08T10:57:40.160Z"
   },
   {
    "duration": 67,
    "start_time": "2022-09-08T10:57:42.017Z"
   },
   {
    "duration": 126,
    "start_time": "2022-09-08T11:04:49.129Z"
   },
   {
    "duration": 84,
    "start_time": "2022-09-08T11:04:58.385Z"
   },
   {
    "duration": 154,
    "start_time": "2022-09-08T11:06:13.240Z"
   },
   {
    "duration": 4,
    "start_time": "2022-09-08T11:15:39.493Z"
   },
   {
    "duration": 666,
    "start_time": "2022-09-08T11:15:39.927Z"
   },
   {
    "duration": 16,
    "start_time": "2022-09-08T11:15:40.594Z"
   },
   {
    "duration": 7,
    "start_time": "2022-09-08T11:15:40.964Z"
   },
   {
    "duration": 16,
    "start_time": "2022-09-08T11:15:41.493Z"
   },
   {
    "duration": 6,
    "start_time": "2022-09-08T11:15:42.005Z"
   },
   {
    "duration": 12,
    "start_time": "2022-09-08T11:15:42.501Z"
   },
   {
    "duration": 6,
    "start_time": "2022-09-08T11:15:43.076Z"
   },
   {
    "duration": 212,
    "start_time": "2022-09-08T11:15:43.701Z"
   },
   {
    "duration": 24,
    "start_time": "2022-09-08T11:15:46.148Z"
   },
   {
    "duration": 5,
    "start_time": "2022-09-08T11:15:52.149Z"
   },
   {
    "duration": 5,
    "start_time": "2022-09-08T11:15:52.773Z"
   },
   {
    "duration": 4,
    "start_time": "2022-09-08T11:15:54.613Z"
   },
   {
    "duration": 2,
    "start_time": "2022-09-08T11:15:55.893Z"
   },
   {
    "duration": 8,
    "start_time": "2022-09-08T11:15:56.628Z"
   },
   {
    "duration": 15,
    "start_time": "2022-09-08T11:15:59.381Z"
   },
   {
    "duration": 10,
    "start_time": "2022-09-08T11:16:01.172Z"
   },
   {
    "duration": 9,
    "start_time": "2022-09-08T11:16:02.836Z"
   },
   {
    "duration": 3028,
    "start_time": "2022-09-08T11:16:06.693Z"
   },
   {
    "duration": 2758,
    "start_time": "2022-09-08T11:16:09.723Z"
   },
   {
    "duration": 455,
    "start_time": "2022-09-08T11:16:12.483Z"
   },
   {
    "duration": 6,
    "start_time": "2022-09-08T11:16:14.837Z"
   },
   {
    "duration": 1209,
    "start_time": "2022-09-08T11:16:15.780Z"
   },
   {
    "duration": 20,
    "start_time": "2022-09-08T11:16:23.332Z"
   },
   {
    "duration": 46,
    "start_time": "2022-09-08T11:16:25.285Z"
   },
   {
    "duration": 3,
    "start_time": "2022-09-08T11:16:49.557Z"
   },
   {
    "duration": 3,
    "start_time": "2022-09-08T11:16:50.148Z"
   },
   {
    "duration": 3,
    "start_time": "2022-09-08T11:17:37.196Z"
   },
   {
    "duration": 5,
    "start_time": "2022-09-08T11:17:39.958Z"
   },
   {
    "duration": 3,
    "start_time": "2022-09-08T11:21:54.181Z"
   },
   {
    "duration": 51,
    "start_time": "2022-09-08T11:22:04.645Z"
   },
   {
    "duration": 87,
    "start_time": "2022-09-08T11:22:40.173Z"
   },
   {
    "duration": 3,
    "start_time": "2022-09-08T11:23:30.406Z"
   },
   {
    "duration": 2,
    "start_time": "2022-09-08T11:24:00.838Z"
   },
   {
    "duration": 117,
    "start_time": "2022-09-08T11:24:46.602Z"
   },
   {
    "duration": 4,
    "start_time": "2022-09-08T11:27:47.941Z"
   },
   {
    "duration": 3,
    "start_time": "2022-09-08T11:27:59.686Z"
   },
   {
    "duration": 4,
    "start_time": "2022-09-08T11:28:09.669Z"
   },
   {
    "duration": 4,
    "start_time": "2022-09-08T11:29:11.842Z"
   },
   {
    "duration": 606,
    "start_time": "2022-09-08T11:29:12.559Z"
   },
   {
    "duration": 16,
    "start_time": "2022-09-08T11:29:13.295Z"
   },
   {
    "duration": 8,
    "start_time": "2022-09-08T11:29:14.112Z"
   },
   {
    "duration": 15,
    "start_time": "2022-09-08T11:29:14.880Z"
   },
   {
    "duration": 8,
    "start_time": "2022-09-08T11:29:15.711Z"
   },
   {
    "duration": 13,
    "start_time": "2022-09-08T11:29:16.512Z"
   },
   {
    "duration": 4,
    "start_time": "2022-09-08T11:29:17.680Z"
   },
   {
    "duration": 233,
    "start_time": "2022-09-08T11:29:18.897Z"
   },
   {
    "duration": 20,
    "start_time": "2022-09-08T11:29:20.719Z"
   },
   {
    "duration": 6,
    "start_time": "2022-09-08T11:29:25.135Z"
   },
   {
    "duration": 5,
    "start_time": "2022-09-08T11:29:25.967Z"
   },
   {
    "duration": 5,
    "start_time": "2022-09-08T11:29:28.896Z"
   },
   {
    "duration": 3,
    "start_time": "2022-09-08T11:29:33.744Z"
   },
   {
    "duration": 8,
    "start_time": "2022-09-08T11:29:34.528Z"
   },
   {
    "duration": 16,
    "start_time": "2022-09-08T11:29:38.735Z"
   },
   {
    "duration": 10,
    "start_time": "2022-09-08T11:29:40.432Z"
   },
   {
    "duration": 8,
    "start_time": "2022-09-08T11:29:41.775Z"
   },
   {
    "duration": 2887,
    "start_time": "2022-09-08T11:29:44.320Z"
   },
   {
    "duration": 2917,
    "start_time": "2022-09-08T11:29:47.210Z"
   },
   {
    "duration": 471,
    "start_time": "2022-09-08T11:29:50.129Z"
   },
   {
    "duration": 19,
    "start_time": "2022-09-08T11:29:50.603Z"
   },
   {
    "duration": 1189,
    "start_time": "2022-09-08T11:29:50.624Z"
   },
   {
    "duration": 23,
    "start_time": "2022-09-08T11:29:51.815Z"
   },
   {
    "duration": 44,
    "start_time": "2022-09-08T11:29:52.527Z"
   },
   {
    "duration": 3,
    "start_time": "2022-09-08T11:29:57.456Z"
   },
   {
    "duration": 3,
    "start_time": "2022-09-08T11:30:14.703Z"
   },
   {
    "duration": 2,
    "start_time": "2022-09-08T11:30:15.375Z"
   },
   {
    "duration": 3,
    "start_time": "2022-09-08T11:30:19.648Z"
   },
   {
    "duration": 5,
    "start_time": "2022-09-08T11:30:21.567Z"
   },
   {
    "duration": 2,
    "start_time": "2022-09-08T11:30:23.648Z"
   },
   {
    "duration": 5,
    "start_time": "2022-09-08T11:30:29.008Z"
   },
   {
    "duration": 4,
    "start_time": "2022-09-08T11:30:29.791Z"
   },
   {
    "duration": 4,
    "start_time": "2022-09-08T11:30:30.480Z"
   },
   {
    "duration": 2715,
    "start_time": "2022-09-08T11:30:32.608Z"
   },
   {
    "duration": 3,
    "start_time": "2022-09-08T11:45:20.000Z"
   },
   {
    "duration": 166,
    "start_time": "2022-09-08T11:45:29.457Z"
   },
   {
    "duration": 22749,
    "start_time": "2022-09-08T11:45:52.327Z"
   },
   {
    "duration": 732159,
    "start_time": "2022-09-08T11:52:15.537Z"
   },
   {
    "duration": 4,
    "start_time": "2022-09-08T12:04:27.698Z"
   },
   {
    "duration": 22798,
    "start_time": "2022-09-08T12:07:47.283Z"
   },
   {
    "duration": 1566,
    "start_time": "2022-09-09T06:22:45.865Z"
   },
   {
    "duration": 3208,
    "start_time": "2022-09-09T06:22:47.433Z"
   },
   {
    "duration": 23,
    "start_time": "2022-09-09T06:22:50.643Z"
   },
   {
    "duration": 13,
    "start_time": "2022-09-09T06:23:04.042Z"
   },
   {
    "duration": 22,
    "start_time": "2022-09-09T06:23:04.679Z"
   },
   {
    "duration": 8,
    "start_time": "2022-09-09T06:23:05.508Z"
   },
   {
    "duration": 13,
    "start_time": "2022-09-09T06:23:06.118Z"
   },
   {
    "duration": 5,
    "start_time": "2022-09-09T06:23:07.190Z"
   },
   {
    "duration": 258,
    "start_time": "2022-09-09T06:23:07.797Z"
   },
   {
    "duration": 33,
    "start_time": "2022-09-09T06:23:09.189Z"
   },
   {
    "duration": 8,
    "start_time": "2022-09-09T06:23:10.693Z"
   },
   {
    "duration": 5,
    "start_time": "2022-09-09T06:23:11.301Z"
   },
   {
    "duration": 4,
    "start_time": "2022-09-09T06:23:13.239Z"
   },
   {
    "duration": 3,
    "start_time": "2022-09-09T06:23:14.841Z"
   },
   {
    "duration": 9,
    "start_time": "2022-09-09T06:23:15.950Z"
   },
   {
    "duration": 25,
    "start_time": "2022-09-09T06:23:18.152Z"
   },
   {
    "duration": 11,
    "start_time": "2022-09-09T06:23:19.477Z"
   },
   {
    "duration": 15,
    "start_time": "2022-09-09T06:23:20.746Z"
   },
   {
    "duration": 3625,
    "start_time": "2022-09-09T06:23:22.758Z"
   },
   {
    "duration": 3361,
    "start_time": "2022-09-09T06:23:26.385Z"
   },
   {
    "duration": 544,
    "start_time": "2022-09-09T06:23:42.565Z"
   },
   {
    "duration": 7,
    "start_time": "2022-09-09T06:23:44.805Z"
   },
   {
    "duration": 1334,
    "start_time": "2022-09-09T06:23:45.781Z"
   },
   {
    "duration": 34,
    "start_time": "2022-09-09T06:23:49.112Z"
   },
   {
    "duration": 65,
    "start_time": "2022-09-09T06:23:52.854Z"
   },
   {
    "duration": 3,
    "start_time": "2022-09-09T06:23:57.974Z"
   },
   {
    "duration": 4,
    "start_time": "2022-09-09T06:23:58.918Z"
   },
   {
    "duration": 3,
    "start_time": "2022-09-09T06:23:59.622Z"
   },
   {
    "duration": 4,
    "start_time": "2022-09-09T06:24:01.221Z"
   },
   {
    "duration": 5,
    "start_time": "2022-09-09T06:24:02.045Z"
   },
   {
    "duration": 2,
    "start_time": "2022-09-09T06:24:03.447Z"
   },
   {
    "duration": 3004,
    "start_time": "2022-09-09T06:24:04.821Z"
   },
   {
    "duration": 3,
    "start_time": "2022-09-09T06:24:40.885Z"
   },
   {
    "duration": 80217,
    "start_time": "2022-09-09T06:24:42.551Z"
   },
   {
    "duration": 1484,
    "start_time": "2022-09-09T09:28:47.651Z"
   },
   {
    "duration": 2968,
    "start_time": "2022-09-09T09:28:49.137Z"
   },
   {
    "duration": 19,
    "start_time": "2022-09-09T09:28:53.764Z"
   },
   {
    "duration": 7,
    "start_time": "2022-09-09T09:28:56.835Z"
   },
   {
    "duration": 16,
    "start_time": "2022-09-09T09:28:57.444Z"
   },
   {
    "duration": 6,
    "start_time": "2022-09-09T09:29:00.793Z"
   },
   {
    "duration": 11,
    "start_time": "2022-09-09T09:29:00.932Z"
   },
   {
    "duration": 5,
    "start_time": "2022-09-09T09:29:03.524Z"
   },
   {
    "duration": 240,
    "start_time": "2022-09-09T09:29:04.035Z"
   },
   {
    "duration": 24,
    "start_time": "2022-09-09T09:29:05.683Z"
   },
   {
    "duration": 5,
    "start_time": "2022-09-09T09:29:07.795Z"
   },
   {
    "duration": 4,
    "start_time": "2022-09-09T09:29:08.227Z"
   },
   {
    "duration": 4,
    "start_time": "2022-09-09T09:29:09.666Z"
   },
   {
    "duration": 3,
    "start_time": "2022-09-09T09:29:11.171Z"
   },
   {
    "duration": 7,
    "start_time": "2022-09-09T09:29:12.243Z"
   },
   {
    "duration": 20,
    "start_time": "2022-09-09T09:29:15.043Z"
   },
   {
    "duration": 9,
    "start_time": "2022-09-09T09:29:16.340Z"
   },
   {
    "duration": 11,
    "start_time": "2022-09-09T09:29:18.163Z"
   },
   {
    "duration": 2757,
    "start_time": "2022-09-09T09:29:20.387Z"
   },
   {
    "duration": 2658,
    "start_time": "2022-09-09T09:29:23.146Z"
   },
   {
    "duration": 480,
    "start_time": "2022-09-09T09:29:25.806Z"
   },
   {
    "duration": 6,
    "start_time": "2022-09-09T09:29:26.287Z"
   },
   {
    "duration": 1068,
    "start_time": "2022-09-09T09:29:26.295Z"
   },
   {
    "duration": 22,
    "start_time": "2022-09-09T09:29:27.699Z"
   },
   {
    "duration": 60,
    "start_time": "2022-09-09T09:29:32.691Z"
   },
   {
    "duration": 3,
    "start_time": "2022-09-09T09:29:34.963Z"
   },
   {
    "duration": 3,
    "start_time": "2022-09-09T09:29:35.491Z"
   },
   {
    "duration": 3,
    "start_time": "2022-09-09T09:29:36.036Z"
   },
   {
    "duration": 3,
    "start_time": "2022-09-09T09:29:40.947Z"
   },
   {
    "duration": 4,
    "start_time": "2022-09-09T09:29:42.371Z"
   },
   {
    "duration": 3,
    "start_time": "2022-09-09T09:29:49.571Z"
   },
   {
    "duration": 2403,
    "start_time": "2022-09-09T09:29:50.707Z"
   },
   {
    "duration": 3,
    "start_time": "2022-09-09T09:29:55.971Z"
   },
   {
    "duration": 84314,
    "start_time": "2022-09-09T09:29:57.891Z"
   },
   {
    "duration": 1550,
    "start_time": "2022-09-12T06:07:01.865Z"
   },
   {
    "duration": 3043,
    "start_time": "2022-09-12T06:07:04.222Z"
   },
   {
    "duration": 20,
    "start_time": "2022-09-12T06:07:07.838Z"
   },
   {
    "duration": 7,
    "start_time": "2022-09-12T06:07:12.926Z"
   },
   {
    "duration": 22,
    "start_time": "2022-09-12T06:07:14.286Z"
   },
   {
    "duration": 9,
    "start_time": "2022-09-12T06:07:18.990Z"
   },
   {
    "duration": 12,
    "start_time": "2022-09-12T06:07:19.711Z"
   },
   {
    "duration": 5,
    "start_time": "2022-09-12T06:07:28.656Z"
   },
   {
    "duration": 234,
    "start_time": "2022-09-12T06:07:29.326Z"
   },
   {
    "duration": 29,
    "start_time": "2022-09-12T06:07:31.120Z"
   },
   {
    "duration": 7,
    "start_time": "2022-09-12T06:07:40.911Z"
   },
   {
    "duration": 5,
    "start_time": "2022-09-12T06:07:41.630Z"
   },
   {
    "duration": 3,
    "start_time": "2022-09-12T06:07:43.646Z"
   },
   {
    "duration": 3,
    "start_time": "2022-09-12T06:07:48.014Z"
   },
   {
    "duration": 9,
    "start_time": "2022-09-12T06:07:48.878Z"
   },
   {
    "duration": 23,
    "start_time": "2022-09-12T06:07:52.590Z"
   },
   {
    "duration": 10,
    "start_time": "2022-09-12T06:07:56.302Z"
   },
   {
    "duration": 14,
    "start_time": "2022-09-12T06:07:57.310Z"
   },
   {
    "duration": 3370,
    "start_time": "2022-09-12T06:07:59.406Z"
   },
   {
    "duration": 3075,
    "start_time": "2022-09-12T06:08:10.399Z"
   },
   {
    "duration": 528,
    "start_time": "2022-09-12T06:08:14.222Z"
   },
   {
    "duration": 8,
    "start_time": "2022-09-12T06:08:21.214Z"
   },
   {
    "duration": 1271,
    "start_time": "2022-09-12T06:08:22.462Z"
   },
   {
    "duration": 106,
    "start_time": "2022-09-12T06:08:23.735Z"
   },
   {
    "duration": 1190,
    "start_time": "2022-09-12T06:08:23.933Z"
   },
   {
    "duration": 31,
    "start_time": "2022-09-12T06:08:44.735Z"
   },
   {
    "duration": 3,
    "start_time": "2022-09-12T06:08:54.735Z"
   },
   {
    "duration": 3,
    "start_time": "2022-09-12T06:08:56.125Z"
   },
   {
    "duration": 3,
    "start_time": "2022-09-12T06:08:56.653Z"
   },
   {
    "duration": 3,
    "start_time": "2022-09-12T06:08:57.998Z"
   },
   {
    "duration": 4,
    "start_time": "2022-09-12T06:08:58.429Z"
   },
   {
    "duration": 3,
    "start_time": "2022-09-12T06:08:59.245Z"
   },
   {
    "duration": 4451,
    "start_time": "2022-09-12T06:09:03.630Z"
   },
   {
    "duration": 4,
    "start_time": "2022-09-12T06:09:08.088Z"
   },
   {
    "duration": 77296,
    "start_time": "2022-09-12T06:09:14.926Z"
   },
   {
    "duration": 15736977,
    "start_time": "2022-09-12T06:10:37.518Z"
   },
   {
    "duration": 9,
    "start_time": "2022-09-12T10:42:53.037Z"
   },
   {
    "duration": 4,
    "start_time": "2022-09-12T10:44:25.441Z"
   },
   {
    "duration": 8,
    "start_time": "2022-09-12T10:44:29.453Z"
   },
   {
    "duration": 2,
    "start_time": "2022-09-12T10:44:31.884Z"
   },
   {
    "duration": 2297,
    "start_time": "2022-09-12T10:44:35.979Z"
   },
   {
    "duration": 3,
    "start_time": "2022-09-12T10:44:40.267Z"
   },
   {
    "duration": 101535,
    "start_time": "2022-09-12T10:44:46.476Z"
   },
   {
    "duration": 1697484,
    "start_time": "2022-09-12T10:46:39.085Z"
   },
   {
    "duration": 3,
    "start_time": "2022-09-12T11:16:04.975Z"
   },
   {
    "duration": 5,
    "start_time": "2022-09-12T11:18:52.159Z"
   },
   {
    "duration": 7982,
    "start_time": "2022-09-12T11:21:08.096Z"
   },
   {
    "duration": 8094,
    "start_time": "2022-09-12T11:21:42.374Z"
   },
   {
    "duration": 25,
    "start_time": "2022-09-12T11:24:58.656Z"
   },
   {
    "duration": 21,
    "start_time": "2022-09-12T11:25:02.751Z"
   },
   {
    "duration": 6,
    "start_time": "2022-09-12T11:28:33.848Z"
   },
   {
    "duration": 7,
    "start_time": "2022-09-12T11:28:34.991Z"
   },
   {
    "duration": 2455,
    "start_time": "2022-09-12T11:28:40.224Z"
   },
   {
    "duration": 3,
    "start_time": "2022-09-12T11:28:47.759Z"
   },
   {
    "duration": 97103,
    "start_time": "2022-09-12T11:28:50.241Z"
   },
   {
    "duration": 1612773,
    "start_time": "2022-09-12T11:30:48.928Z"
   },
   {
    "duration": 4,
    "start_time": "2022-09-12T11:59:30.404Z"
   },
   {
    "duration": 4,
    "start_time": "2022-09-12T12:00:30.101Z"
   },
   {
    "duration": 1680,
    "start_time": "2022-09-12T12:00:41.269Z"
   },
   {
    "duration": 470719,
    "start_time": "2022-09-12T12:01:05.636Z"
   },
   {
    "duration": 97226,
    "start_time": "2022-09-12T12:09:03.574Z"
   },
   {
    "duration": 3,
    "start_time": "2022-09-12T12:10:49.590Z"
   },
   {
    "duration": 3,
    "start_time": "2022-09-12T12:11:20.711Z"
   },
   {
    "duration": 10,
    "start_time": "2022-09-12T12:11:31.143Z"
   },
   {
    "duration": 11,
    "start_time": "2022-09-12T12:13:16.247Z"
   },
   {
    "duration": 8,
    "start_time": "2022-09-12T12:13:27.319Z"
   },
   {
    "duration": 4,
    "start_time": "2022-09-12T12:13:31.062Z"
   },
   {
    "duration": 67,
    "start_time": "2022-09-12T12:15:40.775Z"
   },
   {
    "duration": 4,
    "start_time": "2022-09-12T12:16:41.207Z"
   },
   {
    "duration": 1563,
    "start_time": "2022-09-12T12:17:05.815Z"
   },
   {
    "duration": 2052,
    "start_time": "2022-09-12T12:17:41.128Z"
   },
   {
    "duration": 94724,
    "start_time": "2022-09-12T12:17:49.656Z"
   },
   {
    "duration": 4019542,
    "start_time": "2022-09-12T12:22:56.942Z"
   },
   {
    "duration": 4,
    "start_time": "2022-09-12T13:29:56.486Z"
   },
   {
    "duration": 1299997,
    "start_time": "2022-09-12T13:30:07.057Z"
   },
   {
    "duration": 4,
    "start_time": "2022-09-12T13:52:56.931Z"
   },
   {
    "duration": 27,
    "start_time": "2022-09-12T13:53:01.348Z"
   },
   {
    "duration": 4,
    "start_time": "2022-09-12T13:53:10.995Z"
   },
   {
    "duration": 206370,
    "start_time": "2022-09-12T13:53:58.068Z"
   },
   {
    "duration": 24,
    "start_time": "2022-09-12T13:57:24.439Z"
   },
   {
    "duration": 24108,
    "start_time": "2022-09-12T13:57:33.268Z"
   },
   {
    "duration": 3,
    "start_time": "2022-09-12T13:58:03.109Z"
   },
   {
    "duration": 4,
    "start_time": "2022-09-12T13:58:19.767Z"
   },
   {
    "duration": 27,
    "start_time": "2022-09-12T13:58:20.452Z"
   },
   {
    "duration": 1440,
    "start_time": "2022-09-12T13:58:21.747Z"
   },
   {
    "duration": 3,
    "start_time": "2022-09-12T13:58:23.189Z"
   },
   {
    "duration": 152,
    "start_time": "2022-09-12T13:58:40.932Z"
   },
   {
    "duration": 4,
    "start_time": "2022-09-12T13:58:41.716Z"
   },
   {
    "duration": 9,
    "start_time": "2022-09-12T13:58:58.083Z"
   },
   {
    "duration": 3,
    "start_time": "2022-09-12T13:58:59.236Z"
   },
   {
    "duration": 1732,
    "start_time": "2022-09-12T13:59:23.716Z"
   },
   {
    "duration": 3,
    "start_time": "2022-09-12T13:59:26.516Z"
   },
   {
    "duration": 10177,
    "start_time": "2022-09-12T13:59:41.108Z"
   },
   {
    "duration": 3,
    "start_time": "2022-09-12T13:59:51.287Z"
   },
   {
    "duration": 1353,
    "start_time": "2022-09-12T14:00:51.063Z"
   },
   {
    "duration": 641,
    "start_time": "2022-09-12T14:00:52.418Z"
   },
   {
    "duration": 19,
    "start_time": "2022-09-12T14:00:53.061Z"
   },
   {
    "duration": 6,
    "start_time": "2022-09-12T14:00:53.082Z"
   },
   {
    "duration": 18,
    "start_time": "2022-09-12T14:00:53.090Z"
   },
   {
    "duration": 6,
    "start_time": "2022-09-12T14:00:53.109Z"
   },
   {
    "duration": 18,
    "start_time": "2022-09-12T14:00:53.116Z"
   },
   {
    "duration": 5,
    "start_time": "2022-09-12T14:00:53.135Z"
   },
   {
    "duration": 268,
    "start_time": "2022-09-12T14:00:53.141Z"
   },
   {
    "duration": 30,
    "start_time": "2022-09-12T14:00:53.412Z"
   },
   {
    "duration": 6,
    "start_time": "2022-09-12T14:00:53.443Z"
   },
   {
    "duration": 124,
    "start_time": "2022-09-12T14:00:53.451Z"
   },
   {
    "duration": 0,
    "start_time": "2022-09-12T14:00:53.577Z"
   },
   {
    "duration": 0,
    "start_time": "2022-09-12T14:00:53.578Z"
   },
   {
    "duration": 0,
    "start_time": "2022-09-12T14:00:53.579Z"
   },
   {
    "duration": 0,
    "start_time": "2022-09-12T14:00:53.580Z"
   },
   {
    "duration": 0,
    "start_time": "2022-09-12T14:00:53.581Z"
   },
   {
    "duration": 0,
    "start_time": "2022-09-12T14:00:53.582Z"
   },
   {
    "duration": 0,
    "start_time": "2022-09-12T14:00:53.583Z"
   },
   {
    "duration": 0,
    "start_time": "2022-09-12T14:00:53.584Z"
   },
   {
    "duration": 0,
    "start_time": "2022-09-12T14:00:53.585Z"
   },
   {
    "duration": 0,
    "start_time": "2022-09-12T14:00:53.586Z"
   },
   {
    "duration": 0,
    "start_time": "2022-09-12T14:00:53.587Z"
   },
   {
    "duration": 0,
    "start_time": "2022-09-12T14:00:53.588Z"
   },
   {
    "duration": 0,
    "start_time": "2022-09-12T14:00:53.589Z"
   },
   {
    "duration": 0,
    "start_time": "2022-09-12T14:00:53.590Z"
   },
   {
    "duration": 0,
    "start_time": "2022-09-12T14:00:53.592Z"
   },
   {
    "duration": 0,
    "start_time": "2022-09-12T14:00:53.593Z"
   },
   {
    "duration": 0,
    "start_time": "2022-09-12T14:00:53.594Z"
   },
   {
    "duration": 0,
    "start_time": "2022-09-12T14:00:53.595Z"
   },
   {
    "duration": 0,
    "start_time": "2022-09-12T14:00:53.596Z"
   },
   {
    "duration": 0,
    "start_time": "2022-09-12T14:00:53.597Z"
   },
   {
    "duration": 0,
    "start_time": "2022-09-12T14:00:53.598Z"
   },
   {
    "duration": 0,
    "start_time": "2022-09-12T14:00:53.600Z"
   },
   {
    "duration": 0,
    "start_time": "2022-09-12T14:00:53.601Z"
   },
   {
    "duration": 0,
    "start_time": "2022-09-12T14:00:53.602Z"
   },
   {
    "duration": 0,
    "start_time": "2022-09-12T14:00:53.603Z"
   },
   {
    "duration": 0,
    "start_time": "2022-09-12T14:00:53.605Z"
   },
   {
    "duration": 0,
    "start_time": "2022-09-12T14:00:53.606Z"
   },
   {
    "duration": 0,
    "start_time": "2022-09-12T14:00:53.607Z"
   },
   {
    "duration": 0,
    "start_time": "2022-09-12T14:00:53.608Z"
   },
   {
    "duration": 0,
    "start_time": "2022-09-12T14:00:53.609Z"
   },
   {
    "duration": 4,
    "start_time": "2022-09-12T14:04:06.150Z"
   },
   {
    "duration": 1358,
    "start_time": "2022-09-12T14:04:20.336Z"
   },
   {
    "duration": 667,
    "start_time": "2022-09-12T14:04:21.696Z"
   },
   {
    "duration": 21,
    "start_time": "2022-09-12T14:04:22.364Z"
   },
   {
    "duration": 7,
    "start_time": "2022-09-12T14:04:22.387Z"
   },
   {
    "duration": 20,
    "start_time": "2022-09-12T14:04:22.395Z"
   },
   {
    "duration": 6,
    "start_time": "2022-09-12T14:04:22.416Z"
   },
   {
    "duration": 16,
    "start_time": "2022-09-12T14:04:22.424Z"
   },
   {
    "duration": 4,
    "start_time": "2022-09-12T14:04:22.441Z"
   },
   {
    "duration": 270,
    "start_time": "2022-09-12T14:04:22.447Z"
   },
   {
    "duration": 27,
    "start_time": "2022-09-12T14:04:22.719Z"
   },
   {
    "duration": 6,
    "start_time": "2022-09-12T14:04:22.747Z"
   },
   {
    "duration": 23,
    "start_time": "2022-09-12T14:04:22.754Z"
   },
   {
    "duration": 4,
    "start_time": "2022-09-12T14:04:22.778Z"
   },
   {
    "duration": 4,
    "start_time": "2022-09-12T14:04:22.784Z"
   },
   {
    "duration": 10,
    "start_time": "2022-09-12T14:04:22.789Z"
   },
   {
    "duration": 25,
    "start_time": "2022-09-12T14:04:22.800Z"
   },
   {
    "duration": 10,
    "start_time": "2022-09-12T14:04:22.826Z"
   },
   {
    "duration": 45,
    "start_time": "2022-09-12T14:04:22.837Z"
   },
   {
    "duration": 3340,
    "start_time": "2022-09-12T14:04:22.884Z"
   },
   {
    "duration": 3063,
    "start_time": "2022-09-12T14:04:26.226Z"
   },
   {
    "duration": 492,
    "start_time": "2022-09-12T14:04:29.290Z"
   },
   {
    "duration": 8,
    "start_time": "2022-09-12T14:04:29.783Z"
   },
   {
    "duration": 1282,
    "start_time": "2022-09-12T14:04:29.793Z"
   },
   {
    "duration": 26,
    "start_time": "2022-09-12T14:04:31.077Z"
   },
   {
    "duration": 2,
    "start_time": "2022-09-12T14:04:31.105Z"
   },
   {
    "duration": 12,
    "start_time": "2022-09-12T14:04:31.109Z"
   },
   {
    "duration": 19,
    "start_time": "2022-09-12T14:04:31.123Z"
   },
   {
    "duration": 16,
    "start_time": "2022-09-12T14:04:31.146Z"
   },
   {
    "duration": 26,
    "start_time": "2022-09-12T14:04:31.163Z"
   },
   {
    "duration": 16,
    "start_time": "2022-09-12T14:04:31.191Z"
   },
   {
    "duration": 14,
    "start_time": "2022-09-12T14:04:31.208Z"
   },
   {
    "duration": 2860,
    "start_time": "2022-09-12T14:04:31.224Z"
   },
   {
    "duration": 92,
    "start_time": "2022-09-12T14:04:34.086Z"
   },
   {
    "duration": 24525,
    "start_time": "2022-09-12T14:04:34.180Z"
   },
   {
    "duration": 1286312,
    "start_time": "2022-09-12T14:04:58.707Z"
   },
   {
    "duration": 4,
    "start_time": "2022-09-12T14:26:25.020Z"
   },
   {
    "duration": 9,
    "start_time": "2022-09-12T14:26:25.026Z"
   },
   {
    "duration": 5,
    "start_time": "2022-09-12T14:26:25.036Z"
   },
   {
    "duration": 10186,
    "start_time": "2022-09-12T14:26:25.042Z"
   },
   {
    "duration": 4,
    "start_time": "2022-09-12T14:26:35.231Z"
   },
   {
    "duration": 20,
    "start_time": "2022-09-12T14:26:35.237Z"
   },
   {
    "duration": 3,
    "start_time": "2022-09-12T14:26:35.260Z"
   },
   {
    "duration": 153,
    "start_time": "2022-09-12T14:32:34.774Z"
   },
   {
    "duration": 3,
    "start_time": "2022-09-12T14:32:35.942Z"
   },
   {
    "duration": 8,
    "start_time": "2022-09-12T14:32:38.230Z"
   },
   {
    "duration": 4,
    "start_time": "2022-09-12T14:32:38.917Z"
   },
   {
    "duration": 1525,
    "start_time": "2022-09-13T08:51:20.850Z"
   },
   {
    "duration": 1724,
    "start_time": "2022-09-13T08:51:22.376Z"
   },
   {
    "duration": 19,
    "start_time": "2022-09-13T08:51:24.102Z"
   },
   {
    "duration": 7,
    "start_time": "2022-09-13T08:51:24.123Z"
   },
   {
    "duration": 30,
    "start_time": "2022-09-13T08:51:24.132Z"
   },
   {
    "duration": 6,
    "start_time": "2022-09-13T08:51:24.164Z"
   },
   {
    "duration": 17,
    "start_time": "2022-09-13T08:51:24.171Z"
   },
   {
    "duration": 5,
    "start_time": "2022-09-13T08:51:24.189Z"
   },
   {
    "duration": 227,
    "start_time": "2022-09-13T08:51:24.195Z"
   },
   {
    "duration": 27,
    "start_time": "2022-09-13T08:51:24.425Z"
   },
   {
    "duration": 23,
    "start_time": "2022-09-13T08:51:24.454Z"
   },
   {
    "duration": 5,
    "start_time": "2022-09-13T08:51:24.479Z"
   },
   {
    "duration": 5,
    "start_time": "2022-09-13T08:51:24.486Z"
   },
   {
    "duration": 5,
    "start_time": "2022-09-13T08:51:24.492Z"
   },
   {
    "duration": 13,
    "start_time": "2022-09-13T08:51:24.498Z"
   },
   {
    "duration": 22,
    "start_time": "2022-09-13T08:51:24.512Z"
   },
   {
    "duration": 9,
    "start_time": "2022-09-13T08:51:24.536Z"
   },
   {
    "duration": 43,
    "start_time": "2022-09-13T08:51:24.546Z"
   },
   {
    "duration": 3002,
    "start_time": "2022-09-13T08:51:24.590Z"
   },
   {
    "duration": 2997,
    "start_time": "2022-09-13T08:51:27.595Z"
   },
   {
    "duration": 499,
    "start_time": "2022-09-13T08:51:30.595Z"
   },
   {
    "duration": 8,
    "start_time": "2022-09-13T08:51:31.095Z"
   },
   {
    "duration": 1193,
    "start_time": "2022-09-13T08:51:31.104Z"
   },
   {
    "duration": 24,
    "start_time": "2022-09-13T08:51:32.299Z"
   },
   {
    "duration": 2,
    "start_time": "2022-09-13T08:51:32.325Z"
   },
   {
    "duration": 13,
    "start_time": "2022-09-13T08:51:32.329Z"
   },
   {
    "duration": 6,
    "start_time": "2022-09-13T08:51:32.343Z"
   },
   {
    "duration": 7,
    "start_time": "2022-09-13T08:51:32.352Z"
   },
   {
    "duration": 24,
    "start_time": "2022-09-13T08:51:32.360Z"
   },
   {
    "duration": 10,
    "start_time": "2022-09-13T08:51:32.386Z"
   },
   {
    "duration": 13,
    "start_time": "2022-09-13T08:51:32.397Z"
   },
   {
    "duration": 2570,
    "start_time": "2022-09-13T08:51:32.411Z"
   },
   {
    "duration": 4,
    "start_time": "2022-09-13T08:51:34.983Z"
   },
   {
    "duration": 22708,
    "start_time": "2022-09-13T08:51:35.079Z"
   },
   {
    "duration": 1231809,
    "start_time": "2022-09-13T08:51:57.788Z"
   },
   {
    "duration": 3,
    "start_time": "2022-09-13T09:12:29.598Z"
   },
   {
    "duration": 9,
    "start_time": "2022-09-13T09:12:29.603Z"
   },
   {
    "duration": 5,
    "start_time": "2022-09-13T09:12:29.613Z"
   },
   {
    "duration": 156,
    "start_time": "2022-09-13T09:12:29.619Z"
   },
   {
    "duration": 16,
    "start_time": "2022-09-13T09:12:29.777Z"
   },
   {
    "duration": 10,
    "start_time": "2022-09-13T09:12:29.795Z"
   },
   {
    "duration": 3,
    "start_time": "2022-09-13T09:12:29.806Z"
   },
   {
    "duration": 756,
    "start_time": "2022-09-13T09:12:29.812Z"
   },
   {
    "duration": 938,
    "start_time": "2022-09-13T09:12:58.388Z"
   },
   {
    "duration": 102,
    "start_time": "2022-09-13T09:13:42.355Z"
   },
   {
    "duration": 3,
    "start_time": "2022-09-13T09:15:23.541Z"
   },
   {
    "duration": 3,
    "start_time": "2022-09-13T09:15:25.044Z"
   },
   {
    "duration": 10,
    "start_time": "2022-09-13T09:17:00.117Z"
   },
   {
    "duration": 97,
    "start_time": "2022-09-13T09:17:27.142Z"
   },
   {
    "duration": 1333,
    "start_time": "2022-09-13T09:18:55.291Z"
   },
   {
    "duration": 642,
    "start_time": "2022-09-13T09:18:56.626Z"
   },
   {
    "duration": 22,
    "start_time": "2022-09-13T09:18:57.270Z"
   },
   {
    "duration": 10,
    "start_time": "2022-09-13T09:18:57.293Z"
   },
   {
    "duration": 17,
    "start_time": "2022-09-13T09:18:57.305Z"
   },
   {
    "duration": 6,
    "start_time": "2022-09-13T09:18:57.323Z"
   },
   {
    "duration": 17,
    "start_time": "2022-09-13T09:18:57.330Z"
   },
   {
    "duration": 4,
    "start_time": "2022-09-13T09:18:57.348Z"
   },
   {
    "duration": 278,
    "start_time": "2022-09-13T09:18:57.354Z"
   },
   {
    "duration": 45,
    "start_time": "2022-09-13T09:18:57.634Z"
   },
   {
    "duration": 14,
    "start_time": "2022-09-13T09:18:57.688Z"
   },
   {
    "duration": 10,
    "start_time": "2022-09-13T09:18:57.704Z"
   },
   {
    "duration": 13,
    "start_time": "2022-09-13T09:18:57.716Z"
   },
   {
    "duration": 10,
    "start_time": "2022-09-13T09:18:57.732Z"
   },
   {
    "duration": 14,
    "start_time": "2022-09-13T09:18:57.744Z"
   },
   {
    "duration": 38,
    "start_time": "2022-09-13T09:18:57.760Z"
   },
   {
    "duration": 14,
    "start_time": "2022-09-13T09:18:57.800Z"
   },
   {
    "duration": 15,
    "start_time": "2022-09-13T09:18:57.816Z"
   },
   {
    "duration": 3362,
    "start_time": "2022-09-13T09:18:57.833Z"
   },
   {
    "duration": 2881,
    "start_time": "2022-09-13T09:19:01.196Z"
   },
   {
    "duration": 1093,
    "start_time": "2022-09-13T09:19:04.082Z"
   },
   {
    "duration": 12,
    "start_time": "2022-09-13T09:19:05.181Z"
   },
   {
    "duration": 1110,
    "start_time": "2022-09-13T09:19:05.194Z"
   },
   {
    "duration": 25,
    "start_time": "2022-09-13T09:19:06.306Z"
   },
   {
    "duration": 3,
    "start_time": "2022-09-13T09:19:06.332Z"
   },
   {
    "duration": 6,
    "start_time": "2022-09-13T09:19:06.337Z"
   },
   {
    "duration": 4,
    "start_time": "2022-09-13T09:19:06.345Z"
   },
   {
    "duration": 10,
    "start_time": "2022-09-13T09:19:06.350Z"
   },
   {
    "duration": 4,
    "start_time": "2022-09-13T09:19:06.386Z"
   },
   {
    "duration": 13,
    "start_time": "2022-09-13T09:19:06.392Z"
   },
   {
    "duration": 5,
    "start_time": "2022-09-13T09:19:06.406Z"
   },
   {
    "duration": 5,
    "start_time": "2022-09-13T09:19:06.412Z"
   },
   {
    "duration": 3571,
    "start_time": "2022-09-13T09:19:06.418Z"
   },
   {
    "duration": 83,
    "start_time": "2022-09-13T09:19:09.995Z"
   },
   {
    "duration": 21747,
    "start_time": "2022-09-13T09:19:10.087Z"
   },
   {
    "duration": 1146757,
    "start_time": "2022-09-13T09:19:31.835Z"
   },
   {
    "duration": 3,
    "start_time": "2022-09-13T09:38:38.594Z"
   },
   {
    "duration": 8,
    "start_time": "2022-09-13T09:38:38.598Z"
   },
   {
    "duration": 5,
    "start_time": "2022-09-13T09:38:38.607Z"
   },
   {
    "duration": 159,
    "start_time": "2022-09-13T09:38:38.614Z"
   },
   {
    "duration": 4,
    "start_time": "2022-09-13T09:38:38.778Z"
   },
   {
    "duration": 13,
    "start_time": "2022-09-13T09:38:38.791Z"
   },
   {
    "duration": 4,
    "start_time": "2022-09-13T09:38:38.805Z"
   },
   {
    "duration": 44843,
    "start_time": "2022-09-13T10:24:55.047Z"
   },
   {
    "duration": 3,
    "start_time": "2022-09-13T10:25:39.893Z"
   },
   {
    "duration": 7,
    "start_time": "2022-09-13T10:25:48.145Z"
   },
   {
    "duration": 3,
    "start_time": "2022-09-13T10:25:49.062Z"
   },
   {
    "duration": 82,
    "start_time": "2022-09-13T10:28:25.743Z"
   },
   {
    "duration": 35,
    "start_time": "2022-09-13T10:28:34.452Z"
   },
   {
    "duration": 45114,
    "start_time": "2022-09-13T10:28:35.354Z"
   },
   {
    "duration": 3,
    "start_time": "2022-09-13T10:29:45.626Z"
   },
   {
    "duration": 8,
    "start_time": "2022-09-13T10:29:54.393Z"
   },
   {
    "duration": 3,
    "start_time": "2022-09-13T10:29:55.594Z"
   },
   {
    "duration": 1834,
    "start_time": "2023-03-20T06:04:09.369Z"
   },
   {
    "duration": 3109,
    "start_time": "2023-03-20T06:04:23.617Z"
   },
   {
    "duration": 26,
    "start_time": "2023-03-20T06:04:37.291Z"
   },
   {
    "duration": 9,
    "start_time": "2023-03-20T06:04:57.275Z"
   },
   {
    "duration": 20,
    "start_time": "2023-03-20T06:05:00.105Z"
   },
   {
    "duration": 7,
    "start_time": "2023-03-20T06:06:15.050Z"
   },
   {
    "duration": 17,
    "start_time": "2023-03-20T06:07:18.746Z"
   },
   {
    "duration": 16,
    "start_time": "2023-03-20T06:07:28.058Z"
   },
   {
    "duration": 122,
    "start_time": "2023-03-20T06:27:27.825Z"
   },
   {
    "duration": 4,
    "start_time": "2023-03-20T07:24:20.868Z"
   },
   {
    "duration": 21,
    "start_time": "2023-03-20T07:24:35.996Z"
   },
   {
    "duration": 252,
    "start_time": "2023-03-20T07:25:14.908Z"
   },
   {
    "duration": 21,
    "start_time": "2023-03-20T07:25:40.526Z"
   },
   {
    "duration": 16,
    "start_time": "2023-03-20T07:30:29.037Z"
   },
   {
    "duration": 12,
    "start_time": "2023-03-20T07:30:39.568Z"
   },
   {
    "duration": 17,
    "start_time": "2023-03-20T07:30:43.293Z"
   },
   {
    "duration": 6,
    "start_time": "2023-03-20T07:30:48.750Z"
   },
   {
    "duration": 4,
    "start_time": "2023-03-20T07:31:11.596Z"
   },
   {
    "duration": 12,
    "start_time": "2023-03-20T07:33:09.741Z"
   },
   {
    "duration": 15,
    "start_time": "2023-03-20T07:33:15.310Z"
   },
   {
    "duration": 16,
    "start_time": "2023-03-20T07:33:19.278Z"
   },
   {
    "duration": 4,
    "start_time": "2023-03-20T07:38:56.255Z"
   },
   {
    "duration": 18,
    "start_time": "2023-03-20T07:42:27.838Z"
   },
   {
    "duration": 3,
    "start_time": "2023-03-20T07:42:33.374Z"
   },
   {
    "duration": 11,
    "start_time": "2023-03-20T07:42:34.574Z"
   },
   {
    "duration": 36,
    "start_time": "2023-03-20T07:42:58.847Z"
   },
   {
    "duration": 7,
    "start_time": "2023-03-20T07:44:57.167Z"
   },
   {
    "duration": 5,
    "start_time": "2023-03-20T07:44:57.758Z"
   },
   {
    "duration": 5,
    "start_time": "2023-03-20T07:44:59.422Z"
   },
   {
    "duration": 5,
    "start_time": "2023-03-20T07:45:00.559Z"
   },
   {
    "duration": 10,
    "start_time": "2023-03-20T07:45:01.152Z"
   },
   {
    "duration": 27,
    "start_time": "2023-03-20T07:45:07.998Z"
   },
   {
    "duration": 4,
    "start_time": "2023-03-20T08:01:03.918Z"
   },
   {
    "duration": 42,
    "start_time": "2023-03-20T08:01:13.631Z"
   },
   {
    "duration": 4,
    "start_time": "2023-03-20T08:01:16.655Z"
   },
   {
    "duration": 4,
    "start_time": "2023-03-20T08:01:17.227Z"
   },
   {
    "duration": 4,
    "start_time": "2023-03-20T08:01:18.097Z"
   },
   {
    "duration": 11,
    "start_time": "2023-03-20T08:01:19.133Z"
   },
   {
    "duration": 3,
    "start_time": "2023-03-20T08:01:19.662Z"
   },
   {
    "duration": 28,
    "start_time": "2023-03-20T08:01:20.143Z"
   },
   {
    "duration": 6,
    "start_time": "2023-03-20T08:02:09.055Z"
   },
   {
    "duration": 4,
    "start_time": "2023-03-20T08:02:10.813Z"
   },
   {
    "duration": 68,
    "start_time": "2023-03-20T08:02:33.327Z"
   },
   {
    "duration": 3,
    "start_time": "2023-03-20T08:03:07.854Z"
   },
   {
    "duration": 594,
    "start_time": "2023-03-20T08:03:15.055Z"
   },
   {
    "duration": 1100,
    "start_time": "2023-03-20T08:03:31.759Z"
   },
   {
    "duration": 5,
    "start_time": "2023-03-20T08:03:40.447Z"
   },
   {
    "duration": 5,
    "start_time": "2023-03-20T08:11:17.103Z"
   },
   {
    "duration": 56,
    "start_time": "2023-03-20T08:11:27.103Z"
   },
   {
    "duration": 522,
    "start_time": "2023-03-20T08:11:31.728Z"
   },
   {
    "duration": 995,
    "start_time": "2023-03-20T08:11:47.906Z"
   },
   {
    "duration": 4,
    "start_time": "2023-03-20T08:12:16.816Z"
   },
   {
    "duration": 45,
    "start_time": "2023-03-20T08:14:14.959Z"
   },
   {
    "duration": 5,
    "start_time": "2023-03-20T08:14:43.522Z"
   },
   {
    "duration": 470,
    "start_time": "2023-03-20T08:14:45.193Z"
   },
   {
    "duration": 60,
    "start_time": "2023-03-20T08:15:58.886Z"
   },
   {
    "duration": 3,
    "start_time": "2023-03-20T08:16:22.224Z"
   },
   {
    "duration": 473,
    "start_time": "2023-03-20T08:16:23.503Z"
   },
   {
    "duration": 1194,
    "start_time": "2023-03-20T08:16:44.145Z"
   },
   {
    "duration": 4,
    "start_time": "2023-03-20T08:17:31.136Z"
   },
   {
    "duration": 53,
    "start_time": "2023-03-20T08:18:07.187Z"
   },
   {
    "duration": 157,
    "start_time": "2023-03-20T08:18:24.319Z"
   },
   {
    "duration": 3,
    "start_time": "2023-03-20T08:18:51.044Z"
   },
   {
    "duration": 3,
    "start_time": "2023-03-20T08:18:58.497Z"
   },
   {
    "duration": 4,
    "start_time": "2023-03-20T08:18:59.743Z"
   },
   {
    "duration": 3,
    "start_time": "2023-03-20T08:19:01.553Z"
   },
   {
    "duration": 13,
    "start_time": "2023-03-20T08:19:09.283Z"
   },
   {
    "duration": 4,
    "start_time": "2023-03-20T08:19:09.967Z"
   },
   {
    "duration": 6,
    "start_time": "2023-03-20T08:19:11.342Z"
   },
   {
    "duration": 3,
    "start_time": "2023-03-20T08:19:13.200Z"
   },
   {
    "duration": 46,
    "start_time": "2023-03-20T08:19:14.927Z"
   },
   {
    "duration": 3,
    "start_time": "2023-03-20T08:19:17.360Z"
   },
   {
    "duration": 491,
    "start_time": "2023-03-20T08:19:18.607Z"
   },
   {
    "duration": 493,
    "start_time": "2023-03-20T08:19:36.912Z"
   },
   {
    "duration": 1055,
    "start_time": "2023-03-20T08:20:12.100Z"
   },
   {
    "duration": 56,
    "start_time": "2023-03-20T08:20:30.897Z"
   },
   {
    "duration": 6,
    "start_time": "2023-03-20T08:21:49.824Z"
   },
   {
    "duration": 19,
    "start_time": "2023-03-20T08:26:44.434Z"
   },
   {
    "duration": 5,
    "start_time": "2023-03-20T08:26:51.570Z"
   },
   {
    "duration": 12,
    "start_time": "2023-03-20T08:28:49.361Z"
   },
   {
    "duration": 3,
    "start_time": "2023-03-20T08:29:25.595Z"
   },
   {
    "duration": 135,
    "start_time": "2023-03-20T08:29:27.345Z"
   },
   {
    "duration": 52,
    "start_time": "2023-03-20T08:30:33.424Z"
   },
   {
    "duration": 51,
    "start_time": "2023-03-20T08:30:51.057Z"
   },
   {
    "duration": 31,
    "start_time": "2023-03-20T08:31:14.304Z"
   },
   {
    "duration": 29,
    "start_time": "2023-03-20T08:31:14.833Z"
   },
   {
    "duration": 29,
    "start_time": "2023-03-20T08:33:09.473Z"
   },
   {
    "duration": 16,
    "start_time": "2023-03-20T08:33:54.562Z"
   },
   {
    "duration": 28,
    "start_time": "2023-03-20T08:35:29.232Z"
   },
   {
    "duration": 38,
    "start_time": "2023-03-20T08:35:49.313Z"
   },
   {
    "duration": 12,
    "start_time": "2023-03-20T08:36:30.674Z"
   },
   {
    "duration": 34,
    "start_time": "2023-03-20T08:36:52.098Z"
   },
   {
    "duration": 13,
    "start_time": "2023-03-20T08:36:55.920Z"
   },
   {
    "duration": 4,
    "start_time": "2023-03-20T08:36:56.595Z"
   },
   {
    "duration": 5,
    "start_time": "2023-03-20T08:36:57.287Z"
   },
   {
    "duration": 31,
    "start_time": "2023-03-20T08:37:01.788Z"
   },
   {
    "duration": 1276,
    "start_time": "2023-03-20T08:37:11.713Z"
   },
   {
    "duration": 6,
    "start_time": "2023-03-20T08:37:34.481Z"
   },
   {
    "duration": 1489,
    "start_time": "2023-03-20T08:38:16.595Z"
   },
   {
    "duration": 27738,
    "start_time": "2023-03-20T08:39:50.493Z"
   },
   {
    "duration": 1655,
    "start_time": "2023-03-20T08:40:46.226Z"
   },
   {
    "duration": 1188,
    "start_time": "2023-03-20T08:41:03.795Z"
   },
   {
    "duration": 1050,
    "start_time": "2023-03-20T08:41:12.034Z"
   },
   {
    "duration": 4,
    "start_time": "2023-03-20T08:41:13.921Z"
   },
   {
    "duration": 27870,
    "start_time": "2023-03-20T08:41:15.153Z"
   },
   {
    "duration": 1447893,
    "start_time": "2023-03-20T08:41:43.025Z"
   },
   {
    "duration": 4,
    "start_time": "2023-03-20T09:07:48.835Z"
   },
   {
    "duration": 19,
    "start_time": "2023-03-20T09:08:11.571Z"
   },
   {
    "duration": 34,
    "start_time": "2023-03-20T09:09:56.755Z"
   },
   {
    "duration": 16,
    "start_time": "2023-03-20T09:12:03.827Z"
   },
   {
    "duration": 1851,
    "start_time": "2023-03-20T09:14:54.723Z"
   },
   {
    "duration": 803,
    "start_time": "2023-03-20T09:14:56.576Z"
   },
   {
    "duration": 24,
    "start_time": "2023-03-20T09:14:58.199Z"
   },
   {
    "duration": 14,
    "start_time": "2023-03-20T09:15:03.778Z"
   },
   {
    "duration": 4,
    "start_time": "2023-03-20T09:15:04.738Z"
   },
   {
    "duration": 22,
    "start_time": "2023-03-20T09:15:06.546Z"
   },
   {
    "duration": 3,
    "start_time": "2023-03-20T09:15:11.715Z"
   },
   {
    "duration": 19,
    "start_time": "2023-03-20T09:15:12.932Z"
   },
   {
    "duration": 294,
    "start_time": "2023-03-20T09:15:27.476Z"
   },
   {
    "duration": 15,
    "start_time": "2023-03-20T09:15:32.947Z"
   },
   {
    "duration": 33,
    "start_time": "2023-03-20T09:15:47.704Z"
   },
   {
    "duration": 7,
    "start_time": "2023-03-20T09:16:19.331Z"
   },
   {
    "duration": 5,
    "start_time": "2023-03-20T09:16:35.362Z"
   },
   {
    "duration": 6,
    "start_time": "2023-03-20T09:17:00.705Z"
   },
   {
    "duration": 4,
    "start_time": "2023-03-20T09:17:12.612Z"
   },
   {
    "duration": 4,
    "start_time": "2023-03-20T09:18:39.939Z"
   },
   {
    "duration": 4,
    "start_time": "2023-03-20T09:18:46.204Z"
   },
   {
    "duration": 4,
    "start_time": "2023-03-20T09:18:54.834Z"
   },
   {
    "duration": 4,
    "start_time": "2023-03-20T09:19:09.814Z"
   },
   {
    "duration": 10,
    "start_time": "2023-03-20T09:19:10.606Z"
   },
   {
    "duration": 14,
    "start_time": "2023-03-20T09:20:08.519Z"
   },
   {
    "duration": 16,
    "start_time": "2023-03-20T09:20:16.674Z"
   },
   {
    "duration": 39,
    "start_time": "2023-03-20T09:21:14.903Z"
   },
   {
    "duration": 3,
    "start_time": "2023-03-20T09:21:22.323Z"
   },
   {
    "duration": 2,
    "start_time": "2023-03-20T09:21:23.075Z"
   },
   {
    "duration": 3,
    "start_time": "2023-03-20T09:21:24.203Z"
   },
   {
    "duration": 14,
    "start_time": "2023-03-20T09:21:26.203Z"
   },
   {
    "duration": 3,
    "start_time": "2023-03-20T09:21:27.304Z"
   },
   {
    "duration": 9,
    "start_time": "2023-03-20T09:21:40.372Z"
   },
   {
    "duration": 6,
    "start_time": "2023-03-20T09:21:42.531Z"
   },
   {
    "duration": 3,
    "start_time": "2023-03-20T09:21:46.835Z"
   },
   {
    "duration": 3,
    "start_time": "2023-03-20T09:21:53.299Z"
   },
   {
    "duration": 34,
    "start_time": "2023-03-20T09:21:54.810Z"
   },
   {
    "duration": 1226,
    "start_time": "2023-03-20T09:21:59.155Z"
   },
   {
    "duration": 1149,
    "start_time": "2023-03-20T09:22:01.635Z"
   },
   {
    "duration": 3,
    "start_time": "2023-03-20T09:22:04.907Z"
   },
   {
    "duration": 97429,
    "start_time": "2023-03-20T09:22:07.314Z"
   },
   {
    "duration": 1441094,
    "start_time": "2023-03-20T09:24:09.265Z"
   },
   {
    "duration": 4,
    "start_time": "2023-03-20T09:48:10.361Z"
   },
   {
    "duration": 50917,
    "start_time": "2023-03-20T10:27:05.655Z"
   },
   {
    "duration": 4,
    "start_time": "2023-03-20T10:28:14.759Z"
   },
   {
    "duration": 10,
    "start_time": "2023-03-20T10:28:22.406Z"
   },
   {
    "duration": 3,
    "start_time": "2023-03-20T10:28:25.174Z"
   },
   {
    "duration": 3616,
    "start_time": "2023-03-20T10:47:51.447Z"
   },
   {
    "duration": 3422,
    "start_time": "2023-03-20T10:48:01.208Z"
   },
   {
    "duration": 8,
    "start_time": "2023-03-20T10:56:08.296Z"
   },
   {
    "duration": 1441,
    "start_time": "2023-03-20T10:56:08.903Z"
   },
   {
    "duration": 10,
    "start_time": "2023-03-20T11:20:32.747Z"
   },
   {
    "duration": 1709,
    "start_time": "2023-03-20T11:20:33.452Z"
   },
   {
    "duration": 217,
    "start_time": "2023-03-20T11:34:46.380Z"
   },
   {
    "duration": 1637,
    "start_time": "2023-03-29T11:55:38.794Z"
   },
   {
    "duration": 1838,
    "start_time": "2023-03-29T11:55:40.433Z"
   },
   {
    "duration": 16,
    "start_time": "2023-03-29T11:55:42.273Z"
   },
   {
    "duration": 1646,
    "start_time": "2023-03-30T08:06:14.307Z"
   },
   {
    "duration": 2953,
    "start_time": "2023-03-30T08:06:15.955Z"
   },
   {
    "duration": 19,
    "start_time": "2023-03-30T08:06:18.910Z"
   },
   {
    "duration": 12,
    "start_time": "2023-03-30T08:06:22.258Z"
   },
   {
    "duration": 3,
    "start_time": "2023-03-30T08:06:23.010Z"
   },
   {
    "duration": 16,
    "start_time": "2023-03-30T08:06:23.762Z"
   },
   {
    "duration": 3,
    "start_time": "2023-03-30T08:06:34.457Z"
   },
   {
    "duration": 16,
    "start_time": "2023-03-30T08:06:34.882Z"
   },
   {
    "duration": 228,
    "start_time": "2023-03-30T08:06:35.398Z"
   },
   {
    "duration": 12,
    "start_time": "2023-03-30T08:06:37.099Z"
   },
   {
    "duration": 24,
    "start_time": "2023-03-30T08:07:36.019Z"
   },
   {
    "duration": 35,
    "start_time": "2023-03-30T08:08:09.042Z"
   },
   {
    "duration": 5,
    "start_time": "2023-03-30T08:08:49.378Z"
   },
   {
    "duration": 4,
    "start_time": "2023-03-30T08:08:50.498Z"
   },
   {
    "duration": 3,
    "start_time": "2023-03-30T08:09:24.131Z"
   },
   {
    "duration": 111,
    "start_time": "2023-03-30T08:09:31.601Z"
   },
   {
    "duration": 3,
    "start_time": "2023-03-30T08:09:48.034Z"
   },
   {
    "duration": 9,
    "start_time": "2023-03-30T08:10:03.634Z"
   },
   {
    "duration": 3,
    "start_time": "2023-03-30T08:10:17.299Z"
   },
   {
    "duration": 3,
    "start_time": "2023-03-30T08:10:37.715Z"
   },
   {
    "duration": 8,
    "start_time": "2023-03-30T08:10:38.627Z"
   },
   {
    "duration": 11,
    "start_time": "2023-03-30T08:11:20.531Z"
   },
   {
    "duration": 14,
    "start_time": "2023-03-30T08:11:30.402Z"
   },
   {
    "duration": 2839,
    "start_time": "2023-03-30T08:12:23.304Z"
   },
   {
    "duration": 2608,
    "start_time": "2023-03-30T08:12:32.978Z"
   },
   {
    "duration": 1117,
    "start_time": "2023-03-30T08:15:34.323Z"
   },
   {
    "duration": 7,
    "start_time": "2023-03-30T08:16:53.410Z"
   },
   {
    "duration": 1287,
    "start_time": "2023-03-30T08:17:04.241Z"
   },
   {
    "duration": 26,
    "start_time": "2023-03-30T08:18:36.865Z"
   },
   {
    "duration": 3,
    "start_time": "2023-03-30T08:19:23.190Z"
   },
   {
    "duration": 3,
    "start_time": "2023-03-30T08:19:23.761Z"
   },
   {
    "duration": 3,
    "start_time": "2023-03-30T08:19:24.721Z"
   },
   {
    "duration": 10,
    "start_time": "2023-03-30T08:19:44.560Z"
   },
   {
    "duration": 3,
    "start_time": "2023-03-30T08:19:45.106Z"
   },
   {
    "duration": 8,
    "start_time": "2023-03-30T08:19:45.713Z"
   },
   {
    "duration": 3,
    "start_time": "2023-03-30T08:19:46.657Z"
   },
   {
    "duration": 2,
    "start_time": "2023-03-30T08:20:21.620Z"
   },
   {
    "duration": 26,
    "start_time": "2023-03-30T08:21:34.033Z"
   },
   {
    "duration": 1311,
    "start_time": "2023-03-30T08:21:34.770Z"
   },
   {
    "duration": 1403,
    "start_time": "2023-03-30T08:21:36.172Z"
   },
   {
    "duration": 141,
    "start_time": "2023-03-30T08:21:46.502Z"
   },
   {
    "duration": 710,
    "start_time": "2023-03-30T08:22:07.752Z"
   },
   {
    "duration": 105064,
    "start_time": "2023-03-30T08:22:20.529Z"
   },
   {
    "duration": 93,
    "start_time": "2023-03-30T08:27:23.297Z"
   },
   {
    "duration": 1608957,
    "start_time": "2023-03-30T08:28:06.274Z"
   },
   {
    "duration": 4,
    "start_time": "2023-03-30T08:54:55.233Z"
   },
   {
    "duration": 18,
    "start_time": "2023-03-30T08:54:55.239Z"
   },
   {
    "duration": 9,
    "start_time": "2023-03-30T08:59:29.871Z"
   },
   {
    "duration": 55164,
    "start_time": "2023-03-30T08:59:39.030Z"
   },
   {
    "duration": 3,
    "start_time": "2023-03-30T09:00:34.196Z"
   },
   {
    "duration": 8,
    "start_time": "2023-03-30T09:01:07.247Z"
   },
   {
    "duration": 4,
    "start_time": "2023-03-30T09:01:11.022Z"
   },
   {
    "duration": 4,
    "start_time": "2023-03-30T09:21:26.799Z"
   },
   {
    "duration": 604,
    "start_time": "2023-03-30T09:21:28.301Z"
   },
   {
    "duration": 16,
    "start_time": "2023-03-30T09:21:28.907Z"
   },
   {
    "duration": 15,
    "start_time": "2023-03-30T09:21:30.045Z"
   },
   {
    "duration": 12,
    "start_time": "2023-03-30T09:21:30.894Z"
   },
   {
    "duration": 2,
    "start_time": "2023-03-30T09:21:31.806Z"
   },
   {
    "duration": 1468,
    "start_time": "2023-03-30T09:21:43.231Z"
   },
   {
    "duration": 656,
    "start_time": "2023-03-30T09:21:44.701Z"
   },
   {
    "duration": 24,
    "start_time": "2023-03-30T09:21:45.359Z"
   },
   {
    "duration": 15,
    "start_time": "2023-03-30T09:21:45.384Z"
   },
   {
    "duration": 13,
    "start_time": "2023-03-30T09:21:45.400Z"
   },
   {
    "duration": 3,
    "start_time": "2023-03-30T09:21:45.647Z"
   },
   {
    "duration": 16,
    "start_time": "2023-03-30T09:21:46.174Z"
   },
   {
    "duration": 250,
    "start_time": "2023-03-30T09:21:46.720Z"
   },
   {
    "duration": 13,
    "start_time": "2023-03-30T09:21:47.743Z"
   },
   {
    "duration": 25,
    "start_time": "2023-03-30T09:21:48.799Z"
   },
   {
    "duration": 6,
    "start_time": "2023-03-30T09:21:49.887Z"
   },
   {
    "duration": 4,
    "start_time": "2023-03-30T09:21:50.382Z"
   },
   {
    "duration": 4,
    "start_time": "2023-03-30T09:21:51.918Z"
   },
   {
    "duration": 3,
    "start_time": "2023-03-30T09:21:52.912Z"
   },
   {
    "duration": 7,
    "start_time": "2023-03-30T09:21:53.407Z"
   },
   {
    "duration": 11,
    "start_time": "2023-03-30T09:21:54.399Z"
   },
   {
    "duration": 10,
    "start_time": "2023-03-30T09:21:55.295Z"
   },
   {
    "duration": 2968,
    "start_time": "2023-03-30T09:21:57.151Z"
   },
   {
    "duration": 2664,
    "start_time": "2023-03-30T09:22:00.121Z"
   },
   {
    "duration": 1153,
    "start_time": "2023-03-30T09:22:02.787Z"
   },
   {
    "duration": 6,
    "start_time": "2023-03-30T09:22:03.942Z"
   },
   {
    "duration": 1352,
    "start_time": "2023-03-30T09:22:03.950Z"
   },
   {
    "duration": 28,
    "start_time": "2023-03-30T09:22:05.304Z"
   },
   {
    "duration": 3,
    "start_time": "2023-03-30T09:22:05.342Z"
   },
   {
    "duration": 2,
    "start_time": "2023-03-30T09:22:05.903Z"
   },
   {
    "duration": 2,
    "start_time": "2023-03-30T09:22:06.510Z"
   },
   {
    "duration": 10,
    "start_time": "2023-03-30T09:22:07.599Z"
   },
   {
    "duration": 3,
    "start_time": "2023-03-30T09:22:08.127Z"
   },
   {
    "duration": 8,
    "start_time": "2023-03-30T09:22:08.671Z"
   },
   {
    "duration": 5,
    "start_time": "2023-03-30T09:22:09.184Z"
   },
   {
    "duration": 3,
    "start_time": "2023-03-30T09:22:26.710Z"
   },
   {
    "duration": 23,
    "start_time": "2023-03-30T09:22:26.974Z"
   },
   {
    "duration": 1588,
    "start_time": "2023-03-30T09:22:27.487Z"
   },
   {
    "duration": 1495,
    "start_time": "2023-03-30T09:22:29.077Z"
   },
   {
    "duration": 105890,
    "start_time": "2023-03-30T09:22:30.574Z"
   },
   {
    "duration": 1588388,
    "start_time": "2023-03-30T09:24:16.465Z"
   },
   {
    "duration": 4,
    "start_time": "2023-03-30T09:50:44.855Z"
   },
   {
    "duration": 54612,
    "start_time": "2023-03-30T09:50:44.860Z"
   },
   {
    "duration": 3,
    "start_time": "2023-03-30T09:51:39.473Z"
   },
   {
    "duration": 25,
    "start_time": "2023-03-30T09:51:39.478Z"
   },
   {
    "duration": 17,
    "start_time": "2023-03-30T09:51:39.504Z"
   }
  ],
  "kernelspec": {
   "display_name": "Python 3 (ipykernel)",
   "language": "python",
   "name": "python3"
  },
  "language_info": {
   "codemirror_mode": {
    "name": "ipython",
    "version": 3
   },
   "file_extension": ".py",
   "mimetype": "text/x-python",
   "name": "python",
   "nbconvert_exporter": "python",
   "pygments_lexer": "ipython3",
   "version": "3.9.5"
  },
  "toc": {
   "base_numbering": 1,
   "nav_menu": {},
   "number_sections": true,
   "sideBar": true,
   "skip_h1_title": true,
   "title_cell": "Содержание",
   "title_sidebar": "Contents",
   "toc_cell": true,
   "toc_position": {},
   "toc_section_display": true,
   "toc_window_display": true
  }
 },
 "nbformat": 4,
 "nbformat_minor": 2
}
