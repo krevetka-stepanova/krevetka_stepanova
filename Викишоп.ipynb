{
 "cells": [
  {
   "cell_type": "markdown",
   "id": "b6a0812d",
   "metadata": {},
   "source": [
    "<b>Проект для «Викишоп» на BERT</b>"
   ]
  },
  {
   "cell_type": "markdown",
   "id": "2bae2b17",
   "metadata": {},
   "source": [
    "<b>Интернет-магазин «Викишоп» запускает новый сервис. Теперь пользователи могут редактировать и дополнять описания товаров, как в вики-сообществах. То есть клиенты предлагают свои правки и комментируют изменения других. Магазину нужен инструмент, который будет искать токсичные комментарии и отправлять их на модерацию.</b>"
   ]
  },
  {
   "cell_type": "markdown",
   "id": "4d744f45",
   "metadata": {},
   "source": [
    "В этом проекте я планирую загрузить и изучить данные, содержащие комментарии, которые уже имеют разметку о токсичности, и на их основе обучить несколько моделей для поиска в будущем токсичных комментариев. Наилучшую модель я проверю на тестовой выборке. Целью проекта является подбор такой модели и таких параметров, чтобы метрика F1 обученной модели была не менее 0,75."
   ]
  },
  {
   "cell_type": "markdown",
   "id": "540fcf40",
   "metadata": {},
   "source": [
    "### 1. Изучение и подготовка данных"
   ]
  },
  {
   "cell_type": "code",
   "execution_count": 1,
   "id": "7a01e71d",
   "metadata": {},
   "outputs": [
    {
     "name": "stderr",
     "output_type": "stream",
     "text": [
      "[nltk_data] Downloading package stopwords to\n",
      "[nltk_data]     C:\\Users\\User\\AppData\\Roaming\\nltk_data...\n",
      "[nltk_data]   Package stopwords is already up-to-date!\n",
      "[nltk_data] Downloading package wordnet to\n",
      "[nltk_data]     C:\\Users\\User\\AppData\\Roaming\\nltk_data...\n",
      "[nltk_data]   Package wordnet is already up-to-date!\n",
      "[nltk_data] Downloading package punkt to\n",
      "[nltk_data]     C:\\Users\\User\\AppData\\Roaming\\nltk_data...\n",
      "[nltk_data]   Package punkt is already up-to-date!\n",
      "[nltk_data] Downloading package averaged_perceptron_tagger to\n",
      "[nltk_data]     C:\\Users\\User\\AppData\\Roaming\\nltk_data...\n",
      "[nltk_data]   Package averaged_perceptron_tagger is already up-to-\n",
      "[nltk_data]       date!\n",
      "[nltk_data] Downloading package omw-1.4 to\n",
      "[nltk_data]     C:\\Users\\User\\AppData\\Roaming\\nltk_data...\n",
      "[nltk_data]   Package omw-1.4 is already up-to-date!\n"
     ]
    }
   ],
   "source": [
    "import os\n",
    "import numpy as np\n",
    "import pandas as pd\n",
    "import sys\n",
    "import codecs\n",
    "from numba import cuda\n",
    "import numpy as np \n",
    "import math\n",
    "from random import shuffle\n",
    "from keras_bert import load_trained_model_from_checkpoint\n",
    "import tensorflow as tf\n",
    "#import tokenization\n",
    "import torch\n",
    "import transformers\n",
    "from pymystem3 import Mystem\n",
    "from tqdm import tqdm\n",
    "from tqdm import notebook\n",
    "import re\n",
    "import seaborn as sns\n",
    "import matplotlib.pyplot as plt\n",
    "from sklearn.feature_extraction.text import CountVectorizer\n",
    "import nltk\n",
    "from nltk.corpus import stopwords\n",
    "from nltk.corpus import wordnet\n",
    "nltk.download('stopwords')\n",
    "nltk.download('wordnet')\n",
    "nltk.download('punkt')\n",
    "nltk.download('averaged_perceptron_tagger')\n",
    "nltk.download('omw-1.4')\n",
    "from nltk.stem import WordNetLemmatizer \n",
    "from sklearn.model_selection import GridSearchCV\n",
    "from sklearn.linear_model import LogisticRegression\n",
    "from sklearn.ensemble import RandomForestClassifier\n",
    "from sklearn.tree import DecisionTreeClassifier\n",
    "from sklearn.model_selection import cross_val_score\n",
    "from sklearn.model_selection import train_test_split\n",
    "from sklearn.metrics import accuracy_score\n",
    "from sklearn.metrics import f1_score\n",
    "import random\n",
    "import warnings\n",
    "warnings.filterwarnings('ignore')"
   ]
  },
  {
   "cell_type": "code",
   "execution_count": 3,
   "id": "f4075a82",
   "metadata": {},
   "outputs": [],
   "source": [
    "pth1 = 'D:\\\\Documents\\\\Downloads\\\\toxic_comments.csv'\n",
    "pth2 = '/datasets/toxic_comments.csv'\n",
    "\n",
    "if os.path.exists(pth1):\n",
    "    df = pd.read_csv(pth1)\n",
    "elif os.path.exists(pth2):\n",
    "    df = pd.read_csv(pth2)\n",
    "else:\n",
    "    print('Something is wrong')"
   ]
  },
  {
   "cell_type": "code",
   "execution_count": 4,
   "id": "b9cdb33b",
   "metadata": {},
   "outputs": [
    {
     "name": "stdout",
     "output_type": "stream",
     "text": [
      "<class 'pandas.core.frame.DataFrame'>\n",
      "RangeIndex: 159292 entries, 0 to 159291\n",
      "Data columns (total 3 columns):\n",
      " #   Column      Non-Null Count   Dtype \n",
      "---  ------      --------------   ----- \n",
      " 0   Unnamed: 0  159292 non-null  int64 \n",
      " 1   text        159292 non-null  object\n",
      " 2   toxic       159292 non-null  int64 \n",
      "dtypes: int64(2), object(1)\n",
      "memory usage: 3.6+ MB\n"
     ]
    }
   ],
   "source": [
    "df.info()"
   ]
  },
  {
   "cell_type": "code",
   "execution_count": 5,
   "id": "d698d32e",
   "metadata": {},
   "outputs": [
    {
     "data": {
      "text/plain": [
       "Unnamed: 0    0\n",
       "text          0\n",
       "toxic         0\n",
       "dtype: int64"
      ]
     },
     "execution_count": 5,
     "metadata": {},
     "output_type": "execute_result"
    }
   ],
   "source": [
    "df.isna().sum()"
   ]
  },
  {
   "cell_type": "code",
   "execution_count": 6,
   "id": "f3ebcf44",
   "metadata": {},
   "outputs": [
    {
     "data": {
      "text/plain": [
       "0"
      ]
     },
     "execution_count": 6,
     "metadata": {},
     "output_type": "execute_result"
    }
   ],
   "source": [
    "df.duplicated().sum()"
   ]
  },
  {
   "cell_type": "code",
   "execution_count": 7,
   "id": "ac3d5c02",
   "metadata": {},
   "outputs": [
    {
     "data": {
      "text/plain": [
       "0    143106\n",
       "1     16186\n",
       "Name: toxic, dtype: int64"
      ]
     },
     "execution_count": 7,
     "metadata": {},
     "output_type": "execute_result"
    }
   ],
   "source": [
    "df['toxic'].value_counts()"
   ]
  },
  {
   "cell_type": "code",
   "execution_count": 8,
   "id": "cf4d2f97",
   "metadata": {},
   "outputs": [
    {
     "data": {
      "image/png": "[encoded data removed]",
      "text/plain": [
       "<Figure size 1000x500 with 1 Axes>"
      ]
     },
     "metadata": {},
     "output_type": "display_data"
    }
   ],
   "source": [
    "sns.set_style('darkgrid')\n",
    "df['toxic'].hist(bins=5,figsize=(10,5))\n",
    "plt.xlabel('Негативные и позитивные комментарии')\n",
    "plt.ylabel('Количество комментариев');"
   ]
  },
  {
   "cell_type": "markdown",
   "id": "e3d00721",
   "metadata": {},
   "source": [
    "Позитивных комментариев почти в 9 раз меньше, чем негативных."
   ]
  },
  {
   "cell_type": "code",
   "execution_count": 9,
   "id": "251e80d2",
   "metadata": {},
   "outputs": [],
   "source": [
    "corpus = list(df['text'])"
   ]
  },
  {
   "cell_type": "code",
   "execution_count": 10,
   "id": "90efe21d",
   "metadata": {},
   "outputs": [],
   "source": [
    "def clear_text(text):\n",
    "    y=re.sub(r\"[^'a-zA-Z ]\", ' ', text) \n",
    "    k=\" \".join(y.split())\n",
    "    return k"
   ]
  },
  {
   "cell_type": "code",
   "execution_count": 11,
   "id": "5f2da391",
   "metadata": {},
   "outputs": [],
   "source": [
    "def get_wordnet_pos(word):\n",
    "    tag = nltk.pos_tag([word])[0][1][0].upper()\n",
    "    tag_dict = {\"J\": wordnet.ADJ,\n",
    "                \"N\": wordnet.NOUN,\n",
    "                \"V\": wordnet.VERB,\n",
    "                \"R\": wordnet.ADV}\n",
    "    return tag_dict.get(tag, wordnet.NOUN)"
   ]
  },
  {
   "cell_type": "code",
   "execution_count": 12,
   "id": "b038eb3c",
   "metadata": {},
   "outputs": [],
   "source": [
    "def lemmafunction(text):\n",
    "    lemmatizer = WordNetLemmatizer()\n",
    "    x=[]\n",
    "    for i in nltk.word_tokenize(text):\n",
    "        y=lemmatizer.lemmatize(i, get_wordnet_pos(i))\n",
    "        x.append(y)\n",
    "    return \" \".join(x)"
   ]
  },
  {
   "cell_type": "code",
   "execution_count": 13,
   "id": "ca37f36b",
   "metadata": {
    "scrolled": true
   },
   "outputs": [
    {
     "name": "stderr",
     "output_type": "stream",
     "text": [
      "100%|████████████████████████████████████████████████████████████████████████| 159292/159292 [1:09:53<00:00, 37.99it/s]\n"
     ]
    }
   ],
   "source": [
    "lemy=[]\n",
    "for i in tqdm(range(len(corpus))):\n",
    "    lemy.append(lemmafunction(clear_text(corpus[i])))\n",
    "df['lemm_text']=pd.Series(lemy, index=df.index)"
   ]
  },
  {
   "cell_type": "code",
   "execution_count": 14,
   "id": "d0fbb228",
   "metadata": {},
   "outputs": [
    {
     "data": {
      "text/html": [
       "<div>\n",
       "<style scoped>\n",
       "    .dataframe tbody tr th:only-of-type {\n",
       "        vertical-align: middle;\n",
       "    }\n",
       "\n",
       "    .dataframe tbody tr th {\n",
       "        vertical-align: top;\n",
       "    }\n",
       "\n",
       "    .dataframe thead th {\n",
       "        text-align: right;\n",
       "    }\n",
       "</style>\n",
       "<table border=\"1\" class=\"dataframe\">\n",
       "  <thead>\n",
       "    <tr style=\"text-align: right;\">\n",
       "      <th></th>\n",
       "      <th>Unnamed: 0</th>\n",
       "      <th>text</th>\n",
       "      <th>toxic</th>\n",
       "      <th>lemm_text</th>\n",
       "    </tr>\n",
       "  </thead>\n",
       "  <tbody>\n",
       "    <tr>\n",
       "      <th>0</th>\n",
       "      <td>0</td>\n",
       "      <td>Explanation\\nWhy the edits made under my usern...</td>\n",
       "      <td>0</td>\n",
       "      <td>Explanation Why the edits make under my userna...</td>\n",
       "    </tr>\n",
       "    <tr>\n",
       "      <th>1</th>\n",
       "      <td>1</td>\n",
       "      <td>D'aww! He matches this background colour I'm s...</td>\n",
       "      <td>0</td>\n",
       "      <td>D'aww He match this background colour I 'm see...</td>\n",
       "    </tr>\n",
       "    <tr>\n",
       "      <th>2</th>\n",
       "      <td>2</td>\n",
       "      <td>Hey man, I'm really not trying to edit war. It...</td>\n",
       "      <td>0</td>\n",
       "      <td>Hey man I 'm really not try to edit war It 's ...</td>\n",
       "    </tr>\n",
       "    <tr>\n",
       "      <th>3</th>\n",
       "      <td>3</td>\n",
       "      <td>\"\\nMore\\nI can't make any real suggestions on ...</td>\n",
       "      <td>0</td>\n",
       "      <td>More I ca n't make any real suggestion on impr...</td>\n",
       "    </tr>\n",
       "    <tr>\n",
       "      <th>4</th>\n",
       "      <td>4</td>\n",
       "      <td>You, sir, are my hero. Any chance you remember...</td>\n",
       "      <td>0</td>\n",
       "      <td>You sir be my hero Any chance you remember wha...</td>\n",
       "    </tr>\n",
       "  </tbody>\n",
       "</table>\n",
       "</div>"
      ],
      "text/plain": [
       "   Unnamed: 0                                               text  toxic  \\\n",
       "0           0  Explanation\\nWhy the edits made under my usern...      0   \n",
       "1           1  D'aww! He matches this background colour I'm s...      0   \n",
       "2           2  Hey man, I'm really not trying to edit war. It...      0   \n",
       "3           3  \"\\nMore\\nI can't make any real suggestions on ...      0   \n",
       "4           4  You, sir, are my hero. Any chance you remember...      0   \n",
       "\n",
       "                                           lemm_text  \n",
       "0  Explanation Why the edits make under my userna...  \n",
       "1  D'aww He match this background colour I 'm see...  \n",
       "2  Hey man I 'm really not try to edit war It 's ...  \n",
       "3  More I ca n't make any real suggestion on impr...  \n",
       "4  You sir be my hero Any chance you remember wha...  "
      ]
     },
     "execution_count": 14,
     "metadata": {},
     "output_type": "execute_result"
    }
   ],
   "source": [
    "df.head()"
   ]
  },
  {
   "cell_type": "code",
   "execution_count": 16,
   "id": "c6979f07",
   "metadata": {},
   "outputs": [
    {
     "data": {
      "text/plain": [
       "(159292,)"
      ]
     },
     "execution_count": 16,
     "metadata": {},
     "output_type": "execute_result"
    }
   ],
   "source": [
    "df['lemm_text'].shape"
   ]
  },
  {
   "cell_type": "code",
   "execution_count": 18,
   "id": "4bf3df0d",
   "metadata": {},
   "outputs": [
    {
     "data": {
      "text/plain": [
       "(20000, 4)"
      ]
     },
     "execution_count": 18,
     "metadata": {},
     "output_type": "execute_result"
    }
   ],
   "source": [
    "ind_20 = random.sample(list(df.index), 20000)\n",
    "df_lemm = df[df.index.isin(ind_20)].reset_index(drop=True)\n",
    "df_lemm.shape"
   ]
  },
  {
   "cell_type": "code",
   "execution_count": 19,
   "id": "1a2c7abb",
   "metadata": {},
   "outputs": [],
   "source": [
    "voc1 = 'D:\\\\Степанова\\\\bert-base-uncased-vocab.txt'\n",
    "voc2 = '/datasets/bert-base-uncased-vocab.txt'\n",
    "\n",
    "if os.path.exists(voc1):\n",
    "    tokenizer = transformers.BertTokenizer(vocab_file=(voc1))\n",
    "elif os.path.exists(voc2):\n",
    "    tokenizer = transformers.BertTokenizer(vocab_file=(voc2))\n",
    "else:\n",
    "    print('Something is wrong')"
   ]
  },
  {
   "cell_type": "code",
   "execution_count": 20,
   "id": "cbc0f92f",
   "metadata": {},
   "outputs": [
    {
     "name": "stdout",
     "output_type": "stream",
     "text": [
      "CPU times: total: 34.2 s\n",
      "Wall time: 34.3 s\n"
     ]
    }
   ],
   "source": [
    "%%time\n",
    "tokenized = df_lemm['lemm_text'].apply(\n",
    "    lambda x: tokenizer.encode(x, add_special_tokens=True, padding=True, truncation=True, max_length=100))"
   ]
  },
  {
   "cell_type": "code",
   "execution_count": 21,
   "id": "7c278370",
   "metadata": {},
   "outputs": [],
   "source": [
    "max_len = 0\n",
    "for i in tokenized.values:\n",
    "    if len(i) > max_len:\n",
    "        max_len = len(i)"
   ]
  },
  {
   "cell_type": "code",
   "execution_count": 22,
   "id": "7969c126",
   "metadata": {},
   "outputs": [
    {
     "name": "stdout",
     "output_type": "stream",
     "text": [
      "CPU times: total: 188 ms\n",
      "Wall time: 200 ms\n"
     ]
    }
   ],
   "source": [
    "%%time\n",
    "padded = np.array([i + [0]*(max_len - len(i)) for i in tokenized.values])"
   ]
  },
  {
   "cell_type": "code",
   "execution_count": 23,
   "id": "dea48cbc",
   "metadata": {},
   "outputs": [],
   "source": [
    "attention_mask = np.where(padded != 0, 1, 0)"
   ]
  },
  {
   "cell_type": "code",
   "execution_count": 24,
   "id": "7da9fc8e",
   "metadata": {},
   "outputs": [
    {
     "name": "stderr",
     "output_type": "stream",
     "text": [
      "Some weights of the model checkpoint at D:\\Степанова\\bert-base-uncased-pytorch_model.bin were not used when initializing BertModel: ['cls.predictions.transform.LayerNorm.bias', 'cls.predictions.transform.dense.weight', 'cls.predictions.transform.dense.bias', 'cls.seq_relationship.bias', 'cls.predictions.decoder.weight', 'cls.predictions.transform.LayerNorm.weight', 'cls.predictions.bias', 'cls.seq_relationship.weight']\n",
      "- This IS expected if you are initializing BertModel from the checkpoint of a model trained on another task or with another architecture (e.g. initializing a BertForSequenceClassification model from a BertForPreTraining model).\n",
      "- This IS NOT expected if you are initializing BertModel from the checkpoint of a model that you expect to be exactly identical (initializing a BertForSequenceClassification model from a BertForSequenceClassification model).\n"
     ]
    },
    {
     "data": {
      "application/vnd.jupyter.widget-view+json": {
       "model_id": "dcfdc476d4264f44a27bbfe2ae9cab27",
       "version_major": 2,
       "version_minor": 0
      },
      "text/plain": [
       "  0%|          | 0/200 [00:00<?, ?it/s]"
      ]
     },
     "metadata": {},
     "output_type": "display_data"
    }
   ],
   "source": [
    "con1 = 'D:\\\\Степанова\\\\bert-base-uncased-config.json'\n",
    "con2 = '/datasets/bert-base-uncased-config.json'\n",
    "\n",
    "if os.path.exists(con1):\n",
    "    config = transformers.BertConfig.from_json_file(con1)\n",
    "elif os.path.exists(con2):\n",
    "    config = transformers.BertConfig.from_json_file(con2)\n",
    "else:\n",
    "    print('Something is wrong')\n",
    "\n",
    "mod1 = 'D:\\\\Степанова\\\\bert-base-uncased-pytorch_model.bin'\n",
    "mod2 = '/datasets/bert-base-uncased-pytorch_model.bin'\n",
    "\n",
    "if os.path.exists(mod1):\n",
    "    model = transformers.BertModel.from_pretrained(mod1, config=config)\n",
    "elif os.path.exists(mod2):\n",
    "    model = transformers.BertModel.from_pretrained(mod2, config=config)\n",
    "else:\n",
    "    print('Something is wrong')\n",
    "\n",
    "    \n",
    "batch_size = 100\n",
    "embeddings = []\n",
    "for i in notebook.tqdm(range(padded.shape[0] // batch_size)):\n",
    "    batch = torch.LongTensor(padded[batch_size*i:batch_size*(i+1)]) \n",
    "    attention_mask_batch = torch.LongTensor(attention_mask[batch_size*i:batch_size*(i+1)])\n",
    "        \n",
    "    with torch.no_grad():\n",
    "        batch_embeddings = model(batch, attention_mask=attention_mask_batch)\n",
    "        \n",
    "        embeddings.append(batch_embeddings[0][:,0,:].numpy())"
   ]
  },
  {
   "cell_type": "code",
   "execution_count": 25,
   "id": "f40c868a",
   "metadata": {},
   "outputs": [
    {
     "data": {
      "image/png": "[encoded data removed]",
      "text/plain": [
       "<Figure size 1000x500 with 1 Axes>"
      ]
     },
     "metadata": {},
     "output_type": "display_data"
    }
   ],
   "source": [
    "sns.set_style('darkgrid')\n",
    "df_lemm['toxic'].hist(bins=5,figsize=(10,5))\n",
    "plt.xlabel('Негативные и позитивные комментарии')\n",
    "plt.ylabel('Количество комментариев');"
   ]
  },
  {
   "cell_type": "code",
   "execution_count": 26,
   "id": "b81d7c13",
   "metadata": {},
   "outputs": [
    {
     "data": {
      "text/plain": [
       "0    17943\n",
       "1     2057\n",
       "Name: toxic, dtype: int64"
      ]
     },
     "execution_count": 26,
     "metadata": {},
     "output_type": "execute_result"
    }
   ],
   "source": [
    "df_lemm['toxic'].value_counts()"
   ]
  },
  {
   "cell_type": "markdown",
   "id": "92aab763",
   "metadata": {},
   "source": [
    "После уменьшения данных соотношение между позитивными и токсичными комментариями сохранилось. Это значит, что нужно сбалансировать классы для лучшего обучения моделей."
   ]
  },
  {
   "cell_type": "code",
   "execution_count": 27,
   "id": "80a389e8",
   "metadata": {},
   "outputs": [],
   "source": [
    "x = np.concatenate(embeddings)\n",
    "y = df_lemm['toxic']"
   ]
  },
  {
   "cell_type": "code",
   "execution_count": 28,
   "id": "ab1c7ed3",
   "metadata": {},
   "outputs": [],
   "source": [
    "x_study, x_test, y_study, y_test = train_test_split(x, y, test_size=0.2, random_state=12345)\n",
    "\n",
    "x_train, x_valid, y_train, y_valid = train_test_split(x_study, y_study, test_size=0.25, random_state=12345)"
   ]
  },
  {
   "cell_type": "markdown",
   "id": "00c489db",
   "metadata": {},
   "source": [
    "### 2. Обучение моделей"
   ]
  },
  {
   "cell_type": "markdown",
   "id": "64c9d1c3",
   "metadata": {},
   "source": [
    "<b>Обучение модели Логистическая регрессия</b>"
   ]
  },
  {
   "cell_type": "code",
   "execution_count": 33,
   "id": "f6f02df2",
   "metadata": {},
   "outputs": [
    {
     "name": "stdout",
     "output_type": "stream",
     "text": [
      "Метрика F1 качества предсказания модели \"LogisticRegression\" равна : 0.7818744243907401\n"
     ]
    }
   ],
   "source": [
    "model_lr = LogisticRegression()\n",
    "model_lr.fit(x_train, y_train)\n",
    "#predict_lr=model_lr.predict(x_valid) \n",
    "#f1_lr = f1_score(y_valid, predict_lr)\n",
    "scores = cross_val_score(model_lr, x_valid, y_valid, cv=5, scoring='f1_macro')\n",
    "f1_lr = scores.mean()\n",
    "print('Метрика F1 качества предсказания модели \"LogisticRegression\" равна :',f1_lr.round(2))"
   ]
  },
  {
   "cell_type": "markdown",
   "id": "eac78b5f",
   "metadata": {},
   "source": [
    "<b>Обучение модели Решающее дерево</b>"
   ]
  },
  {
   "cell_type": "code",
   "execution_count": 34,
   "id": "809c6aa2",
   "metadata": {},
   "outputs": [
    {
     "name": "stderr",
     "output_type": "stream",
     "text": [
      "100%|██████████████████████████████████████████████████████████████████████████████████| 24/24 [07:33<00:00, 18.91s/it]"
     ]
    },
    {
     "name": "stdout",
     "output_type": "stream",
     "text": [
      "F1 наилучшей модели равно: 0.66 C глубиной: 14\n",
      "CPU times: total: 7min 30s\n",
      "Wall time: 7min 33s\n"
     ]
    },
    {
     "name": "stderr",
     "output_type": "stream",
     "text": [
      "\n"
     ]
    }
   ],
   "source": [
    "%%time\n",
    "best_model_tree = None\n",
    "best_result_tree = 0\n",
    "best_depth_tree=0\n",
    "for depth in tqdm(range(2, 50, 2)):\n",
    "    model_tree = DecisionTreeClassifier(random_state=12345, max_depth=depth, class_weight='balanced') \n",
    "    model_tree.fit(x_train, y_train) \n",
    "    scores = cross_val_score(model_tree, x_valid, y_valid, cv=5, scoring='f1_macro')\n",
    "    result_tree = scores.mean()\n",
    "    if result_tree > best_result_tree:\n",
    "        best_model_tree = model_tree\n",
    "        best_result_tree = result_tree\n",
    "          \n",
    "        best_depth_tree = depth\n",
    "print('F1 наилучшей модели равно:', best_result_tree.round(2))\n",
    "print('C глубиной:',best_depth_tree)"
   ]
  },
  {
   "cell_type": "markdown",
   "id": "3d47206c",
   "metadata": {},
   "source": [
    "<b>Обучение модели Случайный лес</b>"
   ]
  },
  {
   "cell_type": "code",
   "execution_count": 35,
   "id": "f287eeab",
   "metadata": {},
   "outputs": [
    {
     "name": "stderr",
     "output_type": "stream",
     "text": [
      "100%|███████████████████████████████████████████████████████████████████████████████| 19/19 [1:34:43<00:00, 299.14s/it]"
     ]
    },
    {
     "name": "stdout",
     "output_type": "stream",
     "text": [
      "F1 наилучшей модели равно: 0.76\n",
      "C количеством деревьев: 140\n",
      "C глубиной: 4\n",
      "CPU times: total: 1h 34min 33s\n",
      "Wall time: 1h 34min 43s\n"
     ]
    },
    {
     "name": "stderr",
     "output_type": "stream",
     "text": [
      "\n"
     ]
    }
   ],
   "source": [
    "%%time\n",
    "best_model_rf = None\n",
    "best_result_rf = 0\n",
    "best_est_rf=0\n",
    "best_depth_rf = 0\n",
    "for est in tqdm(range(20, 200, 20)):\n",
    "    for depth in range (2, 20, 2): \n",
    "        model_rf = RandomForestClassifier(random_state=12345, n_estimators=est, max_depth=depth, class_weight='balanced_subsample') \n",
    "        model_rf.fit(x_train, y_train) \n",
    "        scores = cross_val_score(model_rf, x_valid, y_valid, cv=5, scoring='f1_macro')\n",
    "        result_rf = scores.mean()\n",
    "        if result_rf > best_result_rf:\n",
    "            best_model_rf = model_rf\n",
    "            best_result_rf = result_rf\n",
    "            best_depth_rf = depth\n",
    "            best_est_rf = est\n",
    "print('F1 наилучшей модели равно:', best_result_rf.round(2))\n",
    "print('C количеством деревьев:',best_est_rf)\n",
    "print('C глубиной:',best_depth_rf)"
   ]
  },
  {
   "cell_type": "markdown",
   "id": "0ba9a084",
   "metadata": {},
   "source": [
    "### 3. Выводы"
   ]
  },
  {
   "cell_type": "code",
   "execution_count": 37,
   "id": "3eedddeb",
   "metadata": {},
   "outputs": [
    {
     "data": {
      "text/html": [
       "<div>\n",
       "<style scoped>\n",
       "    .dataframe tbody tr th:only-of-type {\n",
       "        vertical-align: middle;\n",
       "    }\n",
       "\n",
       "    .dataframe tbody tr th {\n",
       "        vertical-align: top;\n",
       "    }\n",
       "\n",
       "    .dataframe thead th {\n",
       "        text-align: right;\n",
       "    }\n",
       "</style>\n",
       "<table border=\"1\" class=\"dataframe\">\n",
       "  <thead>\n",
       "    <tr style=\"text-align: right;\">\n",
       "      <th></th>\n",
       "      <th>Модели</th>\n",
       "      <th>Метрика F1</th>\n",
       "    </tr>\n",
       "  </thead>\n",
       "  <tbody>\n",
       "    <tr>\n",
       "      <th>0</th>\n",
       "      <td>Логистическая регрессия</td>\n",
       "      <td>0.78</td>\n",
       "    </tr>\n",
       "    <tr>\n",
       "      <th>1</th>\n",
       "      <td>Решающее дерево</td>\n",
       "      <td>0.66</td>\n",
       "    </tr>\n",
       "    <tr>\n",
       "      <th>2</th>\n",
       "      <td>Случайный лес</td>\n",
       "      <td>0.76</td>\n",
       "    </tr>\n",
       "  </tbody>\n",
       "</table>\n",
       "</div>"
      ],
      "text/plain": [
       "                    Модели  Метрика F1\n",
       "0  Логистическая регрессия        0.78\n",
       "1          Решающее дерево        0.66\n",
       "2            Случайный лес        0.76"
      ]
     },
     "execution_count": 37,
     "metadata": {},
     "output_type": "execute_result"
    }
   ],
   "source": [
    "comparison = pd.DataFrame({\n",
    "    'Модели': ['Логистическая регрессия', 'Решающее дерево', 'Случайный лес'],\n",
    "    'Метрика F1': [f1_lr.round(2), best_result_tree.round(2), best_result_rf.round(2)]}\n",
    ")\n",
    "comparison    "
   ]
  },
  {
   "cell_type": "markdown",
   "id": "e8c7ba8d",
   "metadata": {},
   "source": [
    "Логистическая регрессия и модель Слйчайный лес показали результаты метрики F1 более 0,75, что требовалось по заданию проекта. Но наилучший результат показала модель Логистическая Регрессия - 0,78, теперь нужно протестировать ее на тестовой выборке."
   ]
  },
  {
   "cell_type": "code",
   "execution_count": 38,
   "id": "a60e19d0",
   "metadata": {},
   "outputs": [
    {
     "data": {
      "text/plain": [
       "0.82"
      ]
     },
     "execution_count": 38,
     "metadata": {},
     "output_type": "execute_result"
    }
   ],
   "source": [
    "f1_lr_test = cross_val_score(model_lr, x_test, y_test, cv=5, scoring='f1_macro').mean()\n",
    "f1_lr_test.round(2)"
   ]
  },
  {
   "cell_type": "markdown",
   "id": "d6376035",
   "metadata": {},
   "source": [
    "<b>ВЫВОД:\n",
    "    \n",
    "<b>Модель Логистической регрессии на тестовой выборке тоже показала результат высше 0,82, поэтому могу ее рекомендовать Интернет-магазину «Викишоп» для поиска токсичных комментариев для дальнейшего отправления их на модерацию."
   ]
  }
 ],
 "metadata": {
  "kernelspec": {
   "display_name": "Python 3 (ipykernel)",
   "language": "python",
   "name": "python3"
  },
  "language_info": {
   "codemirror_mode": {
    "name": "ipython",
    "version": 3
   },
   "file_extension": ".py",
   "mimetype": "text/x-python",
   "name": "python",
   "nbconvert_exporter": "python",
   "pygments_lexer": "ipython3",
   "version": "3.10.6"
  },
  "toc": {
   "base_numbering": 1,
   "nav_menu": {},
   "number_sections": true,
   "sideBar": true,
   "skip_h1_title": true,
   "title_cell": "Table of Contents",
   "title_sidebar": "Contents",
   "toc_cell": false,
   "toc_position": {},
   "toc_section_display": true,
   "toc_window_display": false
  }
 },
 "nbformat": 4,
 "nbformat_minor": 5
}
