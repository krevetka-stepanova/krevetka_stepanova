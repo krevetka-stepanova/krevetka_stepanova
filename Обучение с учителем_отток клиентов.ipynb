{
 "cells": [
  {
   "cell_type": "markdown",
   "metadata": {
    "toc": true
   },
   "source": [
    "<h1>Содержание<span class=\"tocSkip\"></span></h1>\n",
    "<div class=\"toc\"><ul class=\"toc-item\"><li><span><a href=\"#Подготовка-данных\" data-toc-modified-id=\"Подготовка-данных-1\"><span class=\"toc-item-num\">1&nbsp;&nbsp;</span>Подготовка данных</a></span></li><li><span><a href=\"#Исследование-задачи\" data-toc-modified-id=\"Исследование-задачи-2\"><span class=\"toc-item-num\">2&nbsp;&nbsp;</span>Исследование задачи</a></span></li><li><span><a href=\"#Борьба-с-дисбалансом\" data-toc-modified-id=\"Борьба-с-дисбалансом-3\"><span class=\"toc-item-num\">3&nbsp;&nbsp;</span>Борьба с дисбалансом</a></span></li><li><span><a href=\"#Тестирование-модели\" data-toc-modified-id=\"Тестирование-модели-4\"><span class=\"toc-item-num\">4&nbsp;&nbsp;</span>Тестирование модели</a></span></li><li><span><a href=\"#ВЫВОД.\" data-toc-modified-id=\"ВЫВОД.-5\"><span class=\"toc-item-num\">5&nbsp;&nbsp;</span>ВЫВОД.</a></span></li></ul></div>"
   ]
  },
  {
   "cell_type": "markdown",
   "metadata": {},
   "source": [
    "# Отток клиентов"
   ]
  },
  {
   "cell_type": "markdown",
   "metadata": {},
   "source": [
    "Из «Бета-Банка» стали уходить клиенты. Каждый месяц. Немного, но заметно. Банковские маркетологи посчитали: сохранять текущих клиентов дешевле, чем привлекать новых.\n",
    "\n",
    "Нужно спрогнозировать, уйдёт клиент из банка в ближайшее время или нет. Вам предоставлены исторические данные о поведении клиентов и расторжении договоров с банком. \n",
    "\n",
    "Постройте модель с предельно большим значением *F1*-меры. Чтобы сдать проект успешно, нужно довести метрику до 0.59. Проверьте *F1*-меру на тестовой выборке самостоятельно.\n",
    "\n",
    "Дополнительно измеряйте *AUC-ROC*, сравнивайте её значение с *F1*-мерой.\n",
    "\n",
    "Источник данных: [https://www.kaggle.com/barelydedicated/bank-customer-churn-modeling](https://www.kaggle.com/barelydedicated/bank-customer-churn-modeling)"
   ]
  },
  {
   "cell_type": "markdown",
   "metadata": {},
   "source": [
    "Целью моего проекта является нахождение наиболее точной модели для предсказания оттока клиентов из банка.\n",
    "\n",
    "Для реализации целей проекта я изучу данные на предмет дисбаланса, разобью данные на три выборки: обучающую, валидационную и тестовую, и затем обучу по трем модели по трем видам: Решающее дерево, Случайный лес и Логистическая регрессия.\n",
    "\n",
    "Затем я буду тестировать данные модели, и выяснять какая из них имеет наилучшее значение местрик F1 и AUC-ROC."
   ]
  },
  {
   "cell_type": "markdown",
   "metadata": {},
   "source": [
    "## Подготовка данных"
   ]
  },
  {
   "cell_type": "code",
   "execution_count": 1,
   "metadata": {},
   "outputs": [],
   "source": [
    "import pandas as pd\n",
    "import matplotlib.pyplot as plt\n",
    "import numpy as np\n",
    "\n",
    "from sklearn.tree import DecisionTreeClassifier\n",
    "from sklearn.ensemble import RandomForestClassifier\n",
    "from sklearn.linear_model import LinearRegression\n",
    "from sklearn.linear_model import LogisticRegression\n",
    "from sklearn.model_selection import train_test_split\n",
    "from sklearn.preprocessing import OrdinalEncoder\n",
    "from sklearn.preprocessing import StandardScaler\n",
    "from sklearn.metrics import f1_score\n",
    "from sklearn.utils import shuffle\n",
    "from sklearn.metrics import roc_curve\n",
    "from sklearn.metrics import roc_auc_score\n",
    "from sklearn.metrics import accuracy_score"
   ]
  },
  {
   "cell_type": "code",
   "execution_count": 2,
   "metadata": {},
   "outputs": [
    {
     "name": "stdout",
     "output_type": "stream",
     "text": [
      "<class 'pandas.core.frame.DataFrame'>\n",
      "RangeIndex: 10000 entries, 0 to 9999\n",
      "Data columns (total 14 columns):\n",
      " #   Column           Non-Null Count  Dtype  \n",
      "---  ------           --------------  -----  \n",
      " 0   RowNumber        10000 non-null  int64  \n",
      " 1   CustomerId       10000 non-null  int64  \n",
      " 2   Surname          10000 non-null  object \n",
      " 3   CreditScore      10000 non-null  int64  \n",
      " 4   Geography        10000 non-null  object \n",
      " 5   Gender           10000 non-null  object \n",
      " 6   Age              10000 non-null  int64  \n",
      " 7   Tenure           9091 non-null   float64\n",
      " 8   Balance          10000 non-null  float64\n",
      " 9   NumOfProducts    10000 non-null  int64  \n",
      " 10  HasCrCard        10000 non-null  int64  \n",
      " 11  IsActiveMember   10000 non-null  int64  \n",
      " 12  EstimatedSalary  10000 non-null  float64\n",
      " 13  Exited           10000 non-null  int64  \n",
      "dtypes: float64(3), int64(8), object(3)\n",
      "memory usage: 1.1+ MB\n"
     ]
    }
   ],
   "source": [
    "df = pd.read_csv('/datasets/Churn.csv')\n",
    "df.info()"
   ]
  },
  {
   "cell_type": "code",
   "execution_count": 3,
   "metadata": {},
   "outputs": [
    {
     "data": {
      "text/plain": [
       "909"
      ]
     },
     "execution_count": 3,
     "metadata": {},
     "output_type": "execute_result"
    }
   ],
   "source": [
    "df['Tenure'].isna().sum()"
   ]
  },
  {
   "cell_type": "code",
   "execution_count": 4,
   "metadata": {},
   "outputs": [
    {
     "data": {
      "text/html": [
       "<div>\n",
       "<style scoped>\n",
       "    .dataframe tbody tr th:only-of-type {\n",
       "        vertical-align: middle;\n",
       "    }\n",
       "\n",
       "    .dataframe tbody tr th {\n",
       "        vertical-align: top;\n",
       "    }\n",
       "\n",
       "    .dataframe thead th {\n",
       "        text-align: right;\n",
       "    }\n",
       "</style>\n",
       "<table border=\"1\" class=\"dataframe\">\n",
       "  <thead>\n",
       "    <tr style=\"text-align: right;\">\n",
       "      <th></th>\n",
       "      <th>RowNumber</th>\n",
       "      <th>CustomerId</th>\n",
       "      <th>Surname</th>\n",
       "      <th>CreditScore</th>\n",
       "      <th>Geography</th>\n",
       "      <th>Gender</th>\n",
       "      <th>Age</th>\n",
       "      <th>Tenure</th>\n",
       "      <th>Balance</th>\n",
       "      <th>NumOfProducts</th>\n",
       "      <th>HasCrCard</th>\n",
       "      <th>IsActiveMember</th>\n",
       "      <th>EstimatedSalary</th>\n",
       "      <th>Exited</th>\n",
       "    </tr>\n",
       "  </thead>\n",
       "  <tbody>\n",
       "    <tr>\n",
       "      <th>30</th>\n",
       "      <td>31</td>\n",
       "      <td>15589475</td>\n",
       "      <td>Azikiwe</td>\n",
       "      <td>591</td>\n",
       "      <td>Spain</td>\n",
       "      <td>Female</td>\n",
       "      <td>39</td>\n",
       "      <td>NaN</td>\n",
       "      <td>0.00</td>\n",
       "      <td>3</td>\n",
       "      <td>1</td>\n",
       "      <td>0</td>\n",
       "      <td>140469.38</td>\n",
       "      <td>1</td>\n",
       "    </tr>\n",
       "    <tr>\n",
       "      <th>48</th>\n",
       "      <td>49</td>\n",
       "      <td>15766205</td>\n",
       "      <td>Yin</td>\n",
       "      <td>550</td>\n",
       "      <td>Germany</td>\n",
       "      <td>Male</td>\n",
       "      <td>38</td>\n",
       "      <td>NaN</td>\n",
       "      <td>103391.38</td>\n",
       "      <td>1</td>\n",
       "      <td>0</td>\n",
       "      <td>1</td>\n",
       "      <td>90878.13</td>\n",
       "      <td>0</td>\n",
       "    </tr>\n",
       "    <tr>\n",
       "      <th>51</th>\n",
       "      <td>52</td>\n",
       "      <td>15768193</td>\n",
       "      <td>Trevisani</td>\n",
       "      <td>585</td>\n",
       "      <td>Germany</td>\n",
       "      <td>Male</td>\n",
       "      <td>36</td>\n",
       "      <td>NaN</td>\n",
       "      <td>146050.97</td>\n",
       "      <td>2</td>\n",
       "      <td>0</td>\n",
       "      <td>0</td>\n",
       "      <td>86424.57</td>\n",
       "      <td>0</td>\n",
       "    </tr>\n",
       "    <tr>\n",
       "      <th>53</th>\n",
       "      <td>54</td>\n",
       "      <td>15702298</td>\n",
       "      <td>Parkhill</td>\n",
       "      <td>655</td>\n",
       "      <td>Germany</td>\n",
       "      <td>Male</td>\n",
       "      <td>41</td>\n",
       "      <td>NaN</td>\n",
       "      <td>125561.97</td>\n",
       "      <td>1</td>\n",
       "      <td>0</td>\n",
       "      <td>0</td>\n",
       "      <td>164040.94</td>\n",
       "      <td>1</td>\n",
       "    </tr>\n",
       "    <tr>\n",
       "      <th>60</th>\n",
       "      <td>61</td>\n",
       "      <td>15651280</td>\n",
       "      <td>Hunter</td>\n",
       "      <td>742</td>\n",
       "      <td>Germany</td>\n",
       "      <td>Male</td>\n",
       "      <td>35</td>\n",
       "      <td>NaN</td>\n",
       "      <td>136857.00</td>\n",
       "      <td>1</td>\n",
       "      <td>0</td>\n",
       "      <td>0</td>\n",
       "      <td>84509.57</td>\n",
       "      <td>0</td>\n",
       "    </tr>\n",
       "    <tr>\n",
       "      <th>...</th>\n",
       "      <td>...</td>\n",
       "      <td>...</td>\n",
       "      <td>...</td>\n",
       "      <td>...</td>\n",
       "      <td>...</td>\n",
       "      <td>...</td>\n",
       "      <td>...</td>\n",
       "      <td>...</td>\n",
       "      <td>...</td>\n",
       "      <td>...</td>\n",
       "      <td>...</td>\n",
       "      <td>...</td>\n",
       "      <td>...</td>\n",
       "      <td>...</td>\n",
       "    </tr>\n",
       "    <tr>\n",
       "      <th>9944</th>\n",
       "      <td>9945</td>\n",
       "      <td>15703923</td>\n",
       "      <td>Cameron</td>\n",
       "      <td>744</td>\n",
       "      <td>Germany</td>\n",
       "      <td>Male</td>\n",
       "      <td>41</td>\n",
       "      <td>NaN</td>\n",
       "      <td>190409.34</td>\n",
       "      <td>2</td>\n",
       "      <td>1</td>\n",
       "      <td>1</td>\n",
       "      <td>138361.48</td>\n",
       "      <td>0</td>\n",
       "    </tr>\n",
       "    <tr>\n",
       "      <th>9956</th>\n",
       "      <td>9957</td>\n",
       "      <td>15707861</td>\n",
       "      <td>Nucci</td>\n",
       "      <td>520</td>\n",
       "      <td>France</td>\n",
       "      <td>Female</td>\n",
       "      <td>46</td>\n",
       "      <td>NaN</td>\n",
       "      <td>85216.61</td>\n",
       "      <td>1</td>\n",
       "      <td>1</td>\n",
       "      <td>0</td>\n",
       "      <td>117369.52</td>\n",
       "      <td>1</td>\n",
       "    </tr>\n",
       "    <tr>\n",
       "      <th>9964</th>\n",
       "      <td>9965</td>\n",
       "      <td>15642785</td>\n",
       "      <td>Douglas</td>\n",
       "      <td>479</td>\n",
       "      <td>France</td>\n",
       "      <td>Male</td>\n",
       "      <td>34</td>\n",
       "      <td>NaN</td>\n",
       "      <td>117593.48</td>\n",
       "      <td>2</td>\n",
       "      <td>0</td>\n",
       "      <td>0</td>\n",
       "      <td>113308.29</td>\n",
       "      <td>0</td>\n",
       "    </tr>\n",
       "    <tr>\n",
       "      <th>9985</th>\n",
       "      <td>9986</td>\n",
       "      <td>15586914</td>\n",
       "      <td>Nepean</td>\n",
       "      <td>659</td>\n",
       "      <td>France</td>\n",
       "      <td>Male</td>\n",
       "      <td>36</td>\n",
       "      <td>NaN</td>\n",
       "      <td>123841.49</td>\n",
       "      <td>2</td>\n",
       "      <td>1</td>\n",
       "      <td>0</td>\n",
       "      <td>96833.00</td>\n",
       "      <td>0</td>\n",
       "    </tr>\n",
       "    <tr>\n",
       "      <th>9999</th>\n",
       "      <td>10000</td>\n",
       "      <td>15628319</td>\n",
       "      <td>Walker</td>\n",
       "      <td>792</td>\n",
       "      <td>France</td>\n",
       "      <td>Female</td>\n",
       "      <td>28</td>\n",
       "      <td>NaN</td>\n",
       "      <td>130142.79</td>\n",
       "      <td>1</td>\n",
       "      <td>1</td>\n",
       "      <td>0</td>\n",
       "      <td>38190.78</td>\n",
       "      <td>0</td>\n",
       "    </tr>\n",
       "  </tbody>\n",
       "</table>\n",
       "<p>909 rows × 14 columns</p>\n",
       "</div>"
      ],
      "text/plain": [
       "      RowNumber  CustomerId    Surname  CreditScore Geography  Gender  Age  \\\n",
       "30           31    15589475    Azikiwe          591     Spain  Female   39   \n",
       "48           49    15766205        Yin          550   Germany    Male   38   \n",
       "51           52    15768193  Trevisani          585   Germany    Male   36   \n",
       "53           54    15702298   Parkhill          655   Germany    Male   41   \n",
       "60           61    15651280     Hunter          742   Germany    Male   35   \n",
       "...         ...         ...        ...          ...       ...     ...  ...   \n",
       "9944       9945    15703923    Cameron          744   Germany    Male   41   \n",
       "9956       9957    15707861      Nucci          520    France  Female   46   \n",
       "9964       9965    15642785    Douglas          479    France    Male   34   \n",
       "9985       9986    15586914     Nepean          659    France    Male   36   \n",
       "9999      10000    15628319     Walker          792    France  Female   28   \n",
       "\n",
       "      Tenure    Balance  NumOfProducts  HasCrCard  IsActiveMember  \\\n",
       "30       NaN       0.00              3          1               0   \n",
       "48       NaN  103391.38              1          0               1   \n",
       "51       NaN  146050.97              2          0               0   \n",
       "53       NaN  125561.97              1          0               0   \n",
       "60       NaN  136857.00              1          0               0   \n",
       "...      ...        ...            ...        ...             ...   \n",
       "9944     NaN  190409.34              2          1               1   \n",
       "9956     NaN   85216.61              1          1               0   \n",
       "9964     NaN  117593.48              2          0               0   \n",
       "9985     NaN  123841.49              2          1               0   \n",
       "9999     NaN  130142.79              1          1               0   \n",
       "\n",
       "      EstimatedSalary  Exited  \n",
       "30          140469.38       1  \n",
       "48           90878.13       0  \n",
       "51           86424.57       0  \n",
       "53          164040.94       1  \n",
       "60           84509.57       0  \n",
       "...               ...     ...  \n",
       "9944        138361.48       0  \n",
       "9956        117369.52       1  \n",
       "9964        113308.29       0  \n",
       "9985         96833.00       0  \n",
       "9999         38190.78       0  \n",
       "\n",
       "[909 rows x 14 columns]"
      ]
     },
     "execution_count": 4,
     "metadata": {},
     "output_type": "execute_result"
    }
   ],
   "source": [
    "df.loc[df['Tenure'].isna()]"
   ]
  },
  {
   "cell_type": "markdown",
   "metadata": {},
   "source": [
    "Я загрузила данные и пролучила по ним первичную информацию. В колонке количества лет, в течение которых человек является клиентом банка есть 909 пропусков. Три колонки имеют формат object. Графа фамилия не имеет значения для предсказания поведения клиентов, а пол можно заменить на целочислительные показатели (0 и 1)."
   ]
  },
  {
   "cell_type": "code",
   "execution_count": 5,
   "metadata": {},
   "outputs": [
    {
     "name": "stdout",
     "output_type": "stream",
     "text": [
      "<class 'pandas.core.frame.DataFrame'>\n",
      "RangeIndex: 10000 entries, 0 to 9999\n",
      "Data columns (total 14 columns):\n",
      " #   Column           Non-Null Count  Dtype  \n",
      "---  ------           --------------  -----  \n",
      " 0   RowNumber        10000 non-null  int64  \n",
      " 1   CustomerId       10000 non-null  int64  \n",
      " 2   Surname          10000 non-null  object \n",
      " 3   CreditScore      10000 non-null  int64  \n",
      " 4   Geography        10000 non-null  object \n",
      " 5   Gender           10000 non-null  int64  \n",
      " 6   Age              10000 non-null  int64  \n",
      " 7   Tenure           9091 non-null   float64\n",
      " 8   Balance          10000 non-null  float64\n",
      " 9   NumOfProducts    10000 non-null  int64  \n",
      " 10  HasCrCard        10000 non-null  int64  \n",
      " 11  IsActiveMember   10000 non-null  int64  \n",
      " 12  EstimatedSalary  10000 non-null  float64\n",
      " 13  Exited           10000 non-null  int64  \n",
      "dtypes: float64(3), int64(9), object(2)\n",
      "memory usage: 1.1+ MB\n"
     ]
    }
   ],
   "source": [
    "df['Gender'] = df['Gender'].replace('Female', 0).replace('Male', 1).astype(int)\n",
    "df.info()"
   ]
  },
  {
   "cell_type": "code",
   "execution_count": 6,
   "metadata": {},
   "outputs": [],
   "source": [
    "del_col=['RowNumber', 'CustomerId', 'Surname']\n",
    "df=df.drop(del_col,axis=1)"
   ]
  },
  {
   "cell_type": "code",
   "execution_count": 7,
   "metadata": {},
   "outputs": [
    {
     "name": "stdout",
     "output_type": "stream",
     "text": [
      "<class 'pandas.core.frame.DataFrame'>\n",
      "RangeIndex: 10000 entries, 0 to 9999\n",
      "Data columns (total 11 columns):\n",
      " #   Column           Non-Null Count  Dtype  \n",
      "---  ------           --------------  -----  \n",
      " 0   CreditScore      10000 non-null  int64  \n",
      " 1   Geography        10000 non-null  object \n",
      " 2   Gender           10000 non-null  int64  \n",
      " 3   Age              10000 non-null  int64  \n",
      " 4   Tenure           10000 non-null  int64  \n",
      " 5   Balance          10000 non-null  float64\n",
      " 6   NumOfProducts    10000 non-null  int64  \n",
      " 7   HasCrCard        10000 non-null  int64  \n",
      " 8   IsActiveMember   10000 non-null  int64  \n",
      " 9   EstimatedSalary  10000 non-null  float64\n",
      " 10  Exited           10000 non-null  int64  \n",
      "dtypes: float64(2), int64(8), object(1)\n",
      "memory usage: 859.5+ KB\n"
     ]
    }
   ],
   "source": [
    "# Заполняю пропуски 0\n",
    "df['Tenure']=df['Tenure'].fillna(0).astype('int64')\n",
    "df.info()"
   ]
  },
  {
   "cell_type": "markdown",
   "metadata": {},
   "source": [
    "## Исследование задачи"
   ]
  },
  {
   "cell_type": "markdown",
   "metadata": {},
   "source": [
    "Проверяю есть ли в данных дисбаланс."
   ]
  },
  {
   "cell_type": "code",
   "execution_count": 8,
   "metadata": {},
   "outputs": [
    {
     "name": "stdout",
     "output_type": "stream",
     "text": [
      "0    0.7963\n",
      "1    0.2037\n",
      "Name: Exited, dtype: float64\n"
     ]
    },
    {
     "data": {
      "text/plain": [
       "<AxesSubplot:>"
      ]
     },
     "execution_count": 8,
     "metadata": {},
     "output_type": "execute_result"
    },
    {
     "data": {
      "image/png": "[encoded data removed]",
      "text/plain": [
       "<Figure size 432x288 with 1 Axes>"
      ]
     },
     "metadata": {
      "needs_background": "light"
     },
     "output_type": "display_data"
    }
   ],
   "source": [
    "#ОТНОСИТЕЛЬНЫЕ ЧАСТОТЫ С ДИАГРАММОЙ\n",
    "class_frequency = df['Exited'].value_counts(normalize=True) \n",
    "print(class_frequency)\n",
    "class_frequency.plot(kind='bar')\n"
   ]
  },
  {
   "cell_type": "markdown",
   "metadata": {},
   "source": [
    "В данных есть сильный дисбаланс, единичек в четыре раза меньше, чем нулей."
   ]
  },
  {
   "cell_type": "markdown",
   "metadata": {},
   "source": [
    "Сначала я обучу три модели на несбалансированных данных, а потом на сбалансированных, чтобы проанализировать разницу результатов."
   ]
  },
  {
   "cell_type": "markdown",
   "metadata": {},
   "source": [
    "Применю обработку категориальных данных методом One hot encoder и масштабирование методом StandardScaler."
   ]
  },
  {
   "cell_type": "code",
   "execution_count": 9,
   "metadata": {},
   "outputs": [
    {
     "name": "stdout",
     "output_type": "stream",
     "text": [
      "(6000, 11)\n",
      "(2000, 11)\n",
      "(2000, 11)\n"
     ]
    },
    {
     "name": "stderr",
     "output_type": "stream",
     "text": [
      "/tmp/ipykernel_191/1088131950.py:15: SettingWithCopyWarning: \n",
      "A value is trying to be set on a copy of a slice from a DataFrame.\n",
      "Try using .loc[row_indexer,col_indexer] = value instead\n",
      "\n",
      "See the caveats in the documentation: https://pandas.pydata.org/pandas-docs/stable/user_guide/indexing.html#returning-a-view-versus-a-copy\n",
      "  features_train[numeric] = scaler.transform(features_train[numeric])\n",
      "/opt/conda/lib/python3.9/site-packages/pandas/core/indexing.py:1738: SettingWithCopyWarning: \n",
      "A value is trying to be set on a copy of a slice from a DataFrame.\n",
      "Try using .loc[row_indexer,col_indexer] = value instead\n",
      "\n",
      "See the caveats in the documentation: https://pandas.pydata.org/pandas-docs/stable/user_guide/indexing.html#returning-a-view-versus-a-copy\n",
      "  self._setitem_single_column(loc, value[:, i].tolist(), pi)\n",
      "/tmp/ipykernel_191/1088131950.py:16: SettingWithCopyWarning: \n",
      "A value is trying to be set on a copy of a slice from a DataFrame.\n",
      "Try using .loc[row_indexer,col_indexer] = value instead\n",
      "\n",
      "See the caveats in the documentation: https://pandas.pydata.org/pandas-docs/stable/user_guide/indexing.html#returning-a-view-versus-a-copy\n",
      "  features_valid[numeric] = scaler.transform(features_valid[numeric])\n",
      "/opt/conda/lib/python3.9/site-packages/pandas/core/indexing.py:1738: SettingWithCopyWarning: \n",
      "A value is trying to be set on a copy of a slice from a DataFrame.\n",
      "Try using .loc[row_indexer,col_indexer] = value instead\n",
      "\n",
      "See the caveats in the documentation: https://pandas.pydata.org/pandas-docs/stable/user_guide/indexing.html#returning-a-view-versus-a-copy\n",
      "  self._setitem_single_column(loc, value[:, i].tolist(), pi)\n",
      "/tmp/ipykernel_191/1088131950.py:17: SettingWithCopyWarning: \n",
      "A value is trying to be set on a copy of a slice from a DataFrame.\n",
      "Try using .loc[row_indexer,col_indexer] = value instead\n",
      "\n",
      "See the caveats in the documentation: https://pandas.pydata.org/pandas-docs/stable/user_guide/indexing.html#returning-a-view-versus-a-copy\n",
      "  features_test[numeric] = scaler.transform(features_test[numeric])\n",
      "/opt/conda/lib/python3.9/site-packages/pandas/core/indexing.py:1738: SettingWithCopyWarning: \n",
      "A value is trying to be set on a copy of a slice from a DataFrame.\n",
      "Try using .loc[row_indexer,col_indexer] = value instead\n",
      "\n",
      "See the caveats in the documentation: https://pandas.pydata.org/pandas-docs/stable/user_guide/indexing.html#returning-a-view-versus-a-copy\n",
      "  self._setitem_single_column(loc, value[:, i].tolist(), pi)\n"
     ]
    }
   ],
   "source": [
    "df_ohe = pd.get_dummies(df, drop_first=True)\n",
    "target = df_ohe['Exited']\n",
    "features = df_ohe.drop('Exited', axis=1)\n",
    "\n",
    "features_study, features_test, target_study, target_test = train_test_split(\n",
    "    features, target, test_size=0.2, random_state=12345)\n",
    "\n",
    "features_train, features_valid, target_train, target_valid = train_test_split(\n",
    "    features_study, target_study, test_size=0.25, random_state=12345)\n",
    "\n",
    "numeric = ['CreditScore','Age','Tenure','Balance','NumOfProducts','HasCrCard','IsActiveMember']\n",
    "\n",
    "scaler = StandardScaler()\n",
    "scaler.fit(features_train[numeric])\n",
    "features_train[numeric] = scaler.transform(features_train[numeric])\n",
    "features_valid[numeric] = scaler.transform(features_valid[numeric])\n",
    "features_test[numeric] = scaler.transform(features_test[numeric])\n",
    "\n",
    "print(features_train.shape)\n",
    "print(features_valid.shape)\n",
    "print(features_test.shape)"
   ]
  },
  {
   "cell_type": "markdown",
   "metadata": {},
   "source": [
    "Я создам функции по обучению разных моделей для тогдо чтобы не повторять код при использовании сбанасированных и несбалансированных данных."
   ]
  },
  {
   "cell_type": "markdown",
   "metadata": {},
   "source": [
    "Решающее дерево."
   ]
  },
  {
   "cell_type": "code",
   "execution_count": 10,
   "metadata": {},
   "outputs": [],
   "source": [
    "def decision_tree (feat, targ, balans):\n",
    "    best_depth = 0\n",
    "    best_f1 = 0\n",
    "    f1_trees = []\n",
    "    depths = []\n",
    "    for depth in np.arange(1,21,1):\n",
    "        model_tree = DecisionTreeClassifier(class_weight=balans, max_depth= depth, random_state=12345) \n",
    "        model_tree.fit(feat, targ)\n",
    "        predicted_valid_t = model_tree.predict(features_valid)\n",
    "        f1_tree = f1_score(target_valid, predicted_valid_t)\n",
    "        f1_trees.append(f1_tree)\n",
    "        depths.append(depth)\n",
    "        if f1_tree > best_f1:\n",
    "            best_depth = depth\n",
    "            best_f1 = f1_tree\n",
    "            best_model_tree = model_tree\n",
    "    print('Лучшая глубина', best_depth)\n",
    "    print('Лучшая метрика F1', best_f1)\n",
    "    return best_model_tree"
   ]
  },
  {
   "cell_type": "code",
   "execution_count": 11,
   "metadata": {},
   "outputs": [
    {
     "name": "stdout",
     "output_type": "stream",
     "text": [
      "Лучшая глубина 7\n",
      "Лучшая метрика F1 0.5488958990536277\n"
     ]
    },
    {
     "data": {
      "text/plain": [
       "DecisionTreeClassifier(max_depth=7, random_state=12345)"
      ]
     },
     "execution_count": 11,
     "metadata": {},
     "output_type": "execute_result"
    }
   ],
   "source": [
    "decision_tree (features_train, target_train, None)"
   ]
  },
  {
   "cell_type": "markdown",
   "metadata": {},
   "source": [
    "Случайный лес. "
   ]
  },
  {
   "cell_type": "code",
   "execution_count": 12,
   "metadata": {},
   "outputs": [],
   "source": [
    "def random_forest (feat, targ, balans):\n",
    "    best_depth = 0\n",
    "    best_f1 = 0\n",
    "\n",
    "    for depth in range(2, 22, 2):\n",
    "        for est in range(50, 351, 50):\n",
    "            model_rf = RandomForestClassifier(class_weight=balans, max_depth=depth, n_estimators=est, random_state=12345) \n",
    "            model_rf.fit(feat, targ)\n",
    "            predicted = model_rf.predict(features_valid)\n",
    "            f1_tree = f1_score(target_valid, predicted)\n",
    "\n",
    "            if f1_tree > best_f1:\n",
    "                best_depth = depth\n",
    "                best_est = est\n",
    "                best_f1 = f1_tree\n",
    "                best_model_rf = model_rf\n",
    "\n",
    "    print('Лучшая глубина', best_depth)\n",
    "    print('Лучшее количество деревьев', best_est)\n",
    "    print('Лучшая метрика F1', best_f1)\n",
    "    return best_model_rf"
   ]
  },
  {
   "cell_type": "code",
   "execution_count": 13,
   "metadata": {},
   "outputs": [
    {
     "name": "stdout",
     "output_type": "stream",
     "text": [
      "Лучшая глубина 20\n",
      "Лучшее количество деревьев 50\n",
      "Лучшая метрика F1 0.5791139240506329\n"
     ]
    },
    {
     "data": {
      "text/plain": [
       "RandomForestClassifier(max_depth=20, n_estimators=50, random_state=12345)"
      ]
     },
     "execution_count": 13,
     "metadata": {},
     "output_type": "execute_result"
    }
   ],
   "source": [
    "random_forest (features_train, target_train, None)"
   ]
  },
  {
   "cell_type": "markdown",
   "metadata": {},
   "source": [
    "Логистическая регрессия."
   ]
  },
  {
   "cell_type": "code",
   "execution_count": 14,
   "metadata": {},
   "outputs": [],
   "source": [
    "def logistic_regression (feat, targ, balans):\n",
    "    model_log = LogisticRegression(class_weight=balans, multi_class='ovr', random_state=12345, solver='liblinear')\n",
    "    model_log.fit(feat, targ)\n",
    "    predicted_valid = model_log.predict(features_valid)\n",
    "    f1_log = f1_score(target_valid, predicted_valid)\n",
    "    print(f1_log)\n",
    "    return model_log"
   ]
  },
  {
   "cell_type": "code",
   "execution_count": 15,
   "metadata": {},
   "outputs": [
    {
     "name": "stdout",
     "output_type": "stream",
     "text": [
      "0.0\n"
     ]
    },
    {
     "data": {
      "text/plain": [
       "LogisticRegression(multi_class='ovr', random_state=12345, solver='liblinear')"
      ]
     },
     "execution_count": 15,
     "metadata": {},
     "output_type": "execute_result"
    }
   ],
   "source": [
    "logistic_regression(features_train, target_train, None)"
   ]
  },
  {
   "cell_type": "markdown",
   "metadata": {},
   "source": [
    "Без балансировки данных не удалось достичь показателя метрики F1 больше, чем 0.59."
   ]
  },
  {
   "cell_type": "markdown",
   "metadata": {},
   "source": [
    "## Борьба с дисбалансом"
   ]
  },
  {
   "cell_type": "markdown",
   "metadata": {},
   "source": [
    "Воспользуемся функцией Upsampling и увеличим количество клиентов оттока(target==1)."
   ]
  },
  {
   "cell_type": "code",
   "execution_count": 16,
   "metadata": {},
   "outputs": [],
   "source": [
    "def upsample(features, target, repeat):\n",
    "    #Разделяем выборку по значениям целевой функции\n",
    "    features_zeros = features[target == 0]\n",
    "    features_ones = features[target == 1]\n",
    "    target_zeros = target[target == 0]\n",
    "    target_ones = target[target == 1]\n",
    "    #Увеличиваем, соединяем обратно и перемешиваем\n",
    "    features_up = shuffle(pd.concat([features_zeros] + [features_ones] * repeat), random_state=12345)\n",
    "    target_up = shuffle(pd.concat([target_zeros] + [target_ones] * repeat), random_state=12345)\n",
    "    \n",
    "    return features_up, target_up"
   ]
  },
  {
   "cell_type": "code",
   "execution_count": 17,
   "metadata": {},
   "outputs": [],
   "source": [
    "features_up, target_up = upsample(features_train, target_train, 4)"
   ]
  },
  {
   "cell_type": "markdown",
   "metadata": {},
   "source": [
    "Обучение моделей на сбалансированных данных с использованием метода Upsampling.\n",
    "\n",
    "Решающее дерево плюс Upsampling."
   ]
  },
  {
   "cell_type": "code",
   "execution_count": 18,
   "metadata": {},
   "outputs": [
    {
     "name": "stdout",
     "output_type": "stream",
     "text": [
      "Лучшая глубина 6\n",
      "Лучшая метрика F1 0.5572441742654509\n"
     ]
    },
    {
     "data": {
      "text/plain": [
       "DecisionTreeClassifier(max_depth=6, random_state=12345)"
      ]
     },
     "execution_count": 18,
     "metadata": {},
     "output_type": "execute_result"
    }
   ],
   "source": [
    "decision_tree (features_up, target_up, None)"
   ]
  },
  {
   "cell_type": "markdown",
   "metadata": {},
   "source": [
    "Слуйчайный лес плюс Upsampling."
   ]
  },
  {
   "cell_type": "code",
   "execution_count": 19,
   "metadata": {},
   "outputs": [
    {
     "name": "stdout",
     "output_type": "stream",
     "text": [
      "Лучшая глубина 10\n",
      "Лучшее количество деревьев 150\n",
      "Лучшая метрика F1 0.6018306636155607\n"
     ]
    },
    {
     "data": {
      "text/plain": [
       "RandomForestClassifier(max_depth=10, n_estimators=150, random_state=12345)"
      ]
     },
     "execution_count": 19,
     "metadata": {},
     "output_type": "execute_result"
    }
   ],
   "source": [
    "random_forest (features_up, target_up, None)"
   ]
  },
  {
   "cell_type": "markdown",
   "metadata": {},
   "source": [
    "Логистическая регрессия плюс Upsampling."
   ]
  },
  {
   "cell_type": "code",
   "execution_count": 20,
   "metadata": {},
   "outputs": [
    {
     "name": "stdout",
     "output_type": "stream",
     "text": [
      "0.4860627177700349\n"
     ]
    },
    {
     "data": {
      "text/plain": [
       "LogisticRegression(multi_class='ovr', random_state=12345, solver='liblinear')"
      ]
     },
     "execution_count": 20,
     "metadata": {},
     "output_type": "execute_result"
    }
   ],
   "source": [
    "logistic_regression(features_up, target_up, None)"
   ]
  },
  {
   "cell_type": "markdown",
   "metadata": {},
   "source": [
    "<b>Воспользуемся функцией Downsampling и увеличим количество клиентов оттока(target==1).<b/>"
   ]
  },
  {
   "cell_type": "code",
   "execution_count": 21,
   "metadata": {},
   "outputs": [],
   "source": [
    "def downsample(features, target, fraction):\n",
    "   \n",
    "    features_zeros = features[target == 0]\n",
    "    features_ones = features[target == 1]\n",
    "    target_zeros = target[target == 0]\n",
    "    target_ones = target[target == 1]\n",
    "   \n",
    "    features_dn = shuffle(pd.concat(\n",
    "        [features_zeros.sample(frac=fraction, random_state=12345)] + [features_ones]), random_state=12345)\n",
    "\n",
    "    target_dn = shuffle(pd.concat(\n",
    "        [target_zeros.sample(frac=fraction, random_state=12345)] + [target_ones]), random_state=12345)\n",
    "\n",
    "    \n",
    "    return features_dn, target_dn"
   ]
  },
  {
   "cell_type": "code",
   "execution_count": 22,
   "metadata": {},
   "outputs": [],
   "source": [
    "features_dn, target_dn = downsample(features_train, target_train, 0.4)"
   ]
  },
  {
   "cell_type": "markdown",
   "metadata": {},
   "source": [
    "<b>Обучение моделей на сбалансированных данных с использованием метода Downsampling.<b/>"
   ]
  },
  {
   "cell_type": "markdown",
   "metadata": {},
   "source": [
    "Решающее дерево плюс Downsampling."
   ]
  },
  {
   "cell_type": "code",
   "execution_count": 23,
   "metadata": {},
   "outputs": [
    {
     "name": "stdout",
     "output_type": "stream",
     "text": [
      "Лучшая глубина 5\n",
      "Лучшая метрика F1 0.5693069306930693\n"
     ]
    },
    {
     "data": {
      "text/plain": [
       "DecisionTreeClassifier(max_depth=5, random_state=12345)"
      ]
     },
     "execution_count": 23,
     "metadata": {},
     "output_type": "execute_result"
    }
   ],
   "source": [
    "decision_tree (features_dn, target_dn, None)"
   ]
  },
  {
   "cell_type": "markdown",
   "metadata": {},
   "source": [
    "Случайный лес плюс Downsampling."
   ]
  },
  {
   "cell_type": "code",
   "execution_count": 24,
   "metadata": {},
   "outputs": [
    {
     "name": "stdout",
     "output_type": "stream",
     "text": [
      "Лучшая глубина 10\n",
      "Лучшее количество деревьев 150\n",
      "Лучшая метрика F1 0.5944645006016848\n"
     ]
    },
    {
     "data": {
      "text/plain": [
       "RandomForestClassifier(max_depth=10, n_estimators=150, random_state=12345)"
      ]
     },
     "execution_count": 24,
     "metadata": {},
     "output_type": "execute_result"
    }
   ],
   "source": [
    "random_forest (features_dn,target_dn, None)"
   ]
  },
  {
   "cell_type": "markdown",
   "metadata": {},
   "source": [
    "Логистическая регрессия плюс Downsampling."
   ]
  },
  {
   "cell_type": "code",
   "execution_count": 25,
   "metadata": {},
   "outputs": [
    {
     "name": "stdout",
     "output_type": "stream",
     "text": [
      "0.0\n"
     ]
    },
    {
     "data": {
      "text/plain": [
       "LogisticRegression(multi_class='ovr', random_state=12345, solver='liblinear')"
      ]
     },
     "execution_count": 25,
     "metadata": {},
     "output_type": "execute_result"
    }
   ],
   "source": [
    "logistic_regression(features_dn, target_dn, None)"
   ]
  },
  {
   "cell_type": "markdown",
   "metadata": {},
   "source": [
    "<b>Применю еще один способ балансировки данных class_weight='balanced' и посмотрю, как меняется целевая метрика.<b/>"
   ]
  },
  {
   "cell_type": "code",
   "execution_count": 26,
   "metadata": {},
   "outputs": [
    {
     "name": "stdout",
     "output_type": "stream",
     "text": [
      "Лучшая глубина 6\n",
      "Лучшая метрика F1 0.5572441742654509\n"
     ]
    },
    {
     "data": {
      "text/plain": [
       "DecisionTreeClassifier(class_weight='balanced', max_depth=6, random_state=12345)"
      ]
     },
     "execution_count": 26,
     "metadata": {},
     "output_type": "execute_result"
    }
   ],
   "source": [
    "decision_tree (features_up, target_up, 'balanced')"
   ]
  },
  {
   "cell_type": "code",
   "execution_count": 27,
   "metadata": {},
   "outputs": [
    {
     "name": "stdout",
     "output_type": "stream",
     "text": [
      "Лучшая глубина 6\n",
      "Лучшая метрика F1 0.5540796963946869\n"
     ]
    },
    {
     "data": {
      "text/plain": [
       "DecisionTreeClassifier(class_weight='balanced', max_depth=6, random_state=12345)"
      ]
     },
     "execution_count": 27,
     "metadata": {},
     "output_type": "execute_result"
    }
   ],
   "source": [
    "decision_tree (features_dn, target_dn, 'balanced')"
   ]
  },
  {
   "cell_type": "code",
   "execution_count": 28,
   "metadata": {},
   "outputs": [
    {
     "name": "stdout",
     "output_type": "stream",
     "text": [
      "Лучшая глубина 16\n",
      "Лучшее количество деревьев 150\n",
      "Лучшая метрика F1 0.6034712950600801\n"
     ]
    },
    {
     "data": {
      "text/plain": [
       "RandomForestClassifier(class_weight='balanced', max_depth=16, n_estimators=150,\n",
       "                       random_state=12345)"
      ]
     },
     "execution_count": 28,
     "metadata": {},
     "output_type": "execute_result"
    }
   ],
   "source": [
    "random_forest (features_up, target_up, 'balanced')"
   ]
  },
  {
   "cell_type": "code",
   "execution_count": 29,
   "metadata": {},
   "outputs": [
    {
     "name": "stdout",
     "output_type": "stream",
     "text": [
      "Лучшая глубина 20\n",
      "Лучшее количество деревьев 300\n",
      "Лучшая метрика F1 0.5886524822695036\n"
     ]
    },
    {
     "data": {
      "text/plain": [
       "RandomForestClassifier(class_weight='balanced', max_depth=20, n_estimators=300,\n",
       "                       random_state=12345)"
      ]
     },
     "execution_count": 29,
     "metadata": {},
     "output_type": "execute_result"
    }
   ],
   "source": [
    "random_forest (features_dn,target_dn, 'balanced')"
   ]
  },
  {
   "cell_type": "code",
   "execution_count": 30,
   "metadata": {},
   "outputs": [
    {
     "name": "stdout",
     "output_type": "stream",
     "text": [
      "0.4761904761904761\n"
     ]
    },
    {
     "data": {
      "text/plain": [
       "LogisticRegression(class_weight='balanced', multi_class='ovr',\n",
       "                   random_state=12345, solver='liblinear')"
      ]
     },
     "execution_count": 30,
     "metadata": {},
     "output_type": "execute_result"
    }
   ],
   "source": [
    "logistic_regression(features_up, target_up, 'balanced')"
   ]
  },
  {
   "cell_type": "code",
   "execution_count": 31,
   "metadata": {},
   "outputs": [
    {
     "name": "stdout",
     "output_type": "stream",
     "text": [
      "0.48452696728558803\n"
     ]
    },
    {
     "data": {
      "text/plain": [
       "LogisticRegression(class_weight='balanced', multi_class='ovr',\n",
       "                   random_state=12345, solver='liblinear')"
      ]
     },
     "execution_count": 31,
     "metadata": {},
     "output_type": "execute_result"
    }
   ],
   "source": [
    "logistic_regression(features_dn, target_dn, 'balanced')"
   ]
  },
  {
   "cell_type": "markdown",
   "metadata": {},
   "source": [
    "<b>На сбалансированных данных я нашла наилучшую по метрике F1 = 0.6, которую удалось достичь с импользованием данных обработанных методом Upsampling модели Случайный лес с параметрами количества деревьев 150 и глубиной 16.</b>"
   ]
  },
  {
   "cell_type": "markdown",
   "metadata": {},
   "source": [
    "## Тестирование модели"
   ]
  },
  {
   "cell_type": "markdown",
   "metadata": {},
   "source": [
    "<b>По условиям задачи мне необходимо исследовать не только метрику F1, но метрики ROC-кривая и AUC-ROC. <b/>\n",
    "\n",
    "<b>Изучу метрики ROC-кривая и AUC-ROC для всех моделей с их лучшими параметрами. <b/>"
   ]
  },
  {
   "cell_type": "code",
   "execution_count": 32,
   "metadata": {},
   "outputs": [],
   "source": [
    "def proba (model, feat_test, tar_test):\n",
    "    probabilities_test = model.predict_proba(feat_test)\n",
    "    probabilities_one_test = probabilities_test[:, 1]\n",
    "\n",
    "    fpr, tpr, thresholds = roc_curve(tar_test, probabilities_one_test) \n",
    "\n",
    "    plt.figure()\n",
    "    plt.plot(fpr, tpr)\n",
    "    plt.plot([0, 1], [0, 1], linestyle='--')\n",
    "    plt.xlim([0.0, 1.0])\n",
    "    plt.ylim([0.0, 1.0])\n",
    "    plt.xlabel('False Positive Rate')\n",
    "    plt.ylabel('True Positive Rate')\n",
    "    plt.title('ROC-кривая')\n",
    "    plt.show()\n",
    "    \n",
    "    auc_roc = roc_auc_score(tar_test, probabilities_one_test)\n",
    "    print(f'Метрика AUC-ROC модели {model} на сбалансированных данных', auc_roc)"
   ]
  },
  {
   "cell_type": "code",
   "execution_count": 33,
   "metadata": {},
   "outputs": [
    {
     "data": {
      "text/plain": [
       "DecisionTreeClassifier(class_weight='balanced', max_depth=6, random_state=12345)"
      ]
     },
     "execution_count": 33,
     "metadata": {},
     "output_type": "execute_result"
    }
   ],
   "source": [
    "model_tree = DecisionTreeClassifier(class_weight='balanced', max_depth= 6, random_state=12345) \n",
    "model_tree.fit(features_up, target_up)"
   ]
  },
  {
   "cell_type": "code",
   "execution_count": 34,
   "metadata": {},
   "outputs": [
    {
     "data": {
      "image/png": "[encoded data removed]",
      "text/plain": [
       "<Figure size 432x288 with 1 Axes>"
      ]
     },
     "metadata": {
      "needs_background": "light"
     },
     "output_type": "display_data"
    },
    {
     "name": "stdout",
     "output_type": "stream",
     "text": [
      "Метрика AUC-ROC модели DecisionTreeClassifier(class_weight='balanced', max_depth=6, random_state=12345) на сбалансированных данных 0.8063649325485321\n"
     ]
    }
   ],
   "source": [
    "proba (model_tree, features_valid, target_valid)"
   ]
  },
  {
   "cell_type": "code",
   "execution_count": 35,
   "metadata": {},
   "outputs": [
    {
     "data": {
      "text/plain": [
       "RandomForestClassifier(class_weight='balanced', max_depth=10, n_estimators=150,\n",
       "                       random_state=12345)"
      ]
     },
     "execution_count": 35,
     "metadata": {},
     "output_type": "execute_result"
    }
   ],
   "source": [
    "model_rf = RandomForestClassifier(class_weight='balanced', max_depth=10, n_estimators=150, random_state=12345) \n",
    "model_rf.fit(features_up, target_up)"
   ]
  },
  {
   "cell_type": "code",
   "execution_count": 36,
   "metadata": {},
   "outputs": [
    {
     "data": {
      "image/png": "[encoded data removed]",
      "text/plain": [
       "<Figure size 432x288 with 1 Axes>"
      ]
     },
     "metadata": {
      "needs_background": "light"
     },
     "output_type": "display_data"
    },
    {
     "name": "stdout",
     "output_type": "stream",
     "text": [
      "Метрика AUC-ROC модели RandomForestClassifier(class_weight='balanced', max_depth=10, n_estimators=150,\n",
      "                       random_state=12345) на сбалансированных данных 0.8536954057976313\n"
     ]
    }
   ],
   "source": [
    "proba (model_rf, features_valid, target_valid)"
   ]
  },
  {
   "cell_type": "code",
   "execution_count": 37,
   "metadata": {},
   "outputs": [
    {
     "data": {
      "text/plain": [
       "LogisticRegression(class_weight='balanced', multi_class='ovr',\n",
       "                   random_state=12345, solver='liblinear')"
      ]
     },
     "execution_count": 37,
     "metadata": {},
     "output_type": "execute_result"
    }
   ],
   "source": [
    "model_log = LogisticRegression(class_weight='balanced', multi_class='ovr', random_state=12345, solver='liblinear')\n",
    "model_log.fit(features_dn, target_dn)"
   ]
  },
  {
   "cell_type": "code",
   "execution_count": 38,
   "metadata": {},
   "outputs": [
    {
     "data": {
      "image/png": "[encoded data removed]",
      "text/plain": [
       "<Figure size 432x288 with 1 Axes>"
      ]
     },
     "metadata": {
      "needs_background": "light"
     },
     "output_type": "display_data"
    },
    {
     "name": "stdout",
     "output_type": "stream",
     "text": [
      "Метрика AUC-ROC модели LogisticRegression(class_weight='balanced', multi_class='ovr',\n",
      "                   random_state=12345, solver='liblinear') на сбалансированных данных 0.7718078773650137\n"
     ]
    }
   ],
   "source": [
    "proba (model_log, features_valid, target_valid)"
   ]
  },
  {
   "cell_type": "markdown",
   "metadata": {},
   "source": [
    "<b>Самой высокой метрика AUC-ROC оказалась у той же модели, что и метрика F1/</b>\n",
    "\n",
    "<b>На сбалансированных данных я нашла наилучшую по метрике F1 = 0.6, которую удалось достичь с импользованием данных обработанных методом Upsampling модели Случайный лес с параметрами количества деревьев 150 и глубиной 10.<b/>\n",
    "\n",
    "<b>Лучшую модель я протестирую на тестовой выборке. <b/>"
   ]
  },
  {
   "cell_type": "code",
   "execution_count": 39,
   "metadata": {},
   "outputs": [
    {
     "data": {
      "text/plain": [
       "0.6052963430012609"
      ]
     },
     "execution_count": 39,
     "metadata": {},
     "output_type": "execute_result"
    }
   ],
   "source": [
    "best_model_b = RandomForestClassifier(class_weight='balanced', n_estimators=150, max_depth=16, random_state=1234)\n",
    "best_model_b.fit(features_up, target_up)\n",
    "pred = best_model_b.predict(features_test)\n",
    "f1_score(target_test, pred)"
   ]
  },
  {
   "cell_type": "code",
   "execution_count": 40,
   "metadata": {},
   "outputs": [
    {
     "data": {
      "image/png": "[encoded data removed]",
      "text/plain": [
       "<Figure size 432x288 with 1 Axes>"
      ]
     },
     "metadata": {
      "needs_background": "light"
     },
     "output_type": "display_data"
    },
    {
     "name": "stdout",
     "output_type": "stream",
     "text": [
      "Метрика AUC-ROC модели RandomForestClassifier(class_weight='balanced', max_depth=16, n_estimators=150,\n",
      "                       random_state=1234) на сбалансированных данных 0.8568346705455498\n"
     ]
    }
   ],
   "source": [
    "proba (best_model_b, features_test, target_test)"
   ]
  },
  {
   "cell_type": "markdown",
   "metadata": {},
   "source": [
    "## ВЫВОД."
   ]
  },
  {
   "cell_type": "markdown",
   "metadata": {},
   "source": [
    "<b>Я загрузила и изучила данные, закодировала признак пол для целей обучения.\n",
    "\n",
    "При изучении данных я обнаружила значительный дисбаланс классов в целевом признаке.\n",
    "    \n",
    "Для проведения исследования качества обучаения моделей я разбила базу данных на три выборки: обучающую, валидационную и тестовую.\n",
    "\n",
    "Для начала обучила три модели на несбалансированных данных, и результат оказался неудовлетворительным.\n",
    "\n",
    "После балансировки данных методами upsampled и downsampling я снова обучила модели уже на сбаласированных данных.\n",
    "    \n",
    "Я применила еще один метод борьбы с дисбалансом class_weight, с применением которго модели Случайный лес с параметрами глубины 10 и количеством деревьев 150 удалось достичь метрику f1=0,6, что выше чем необходимое по условию задачи значение 0,59.\n",
    "    \n",
    "Такой же высокий показатель метрики получилось достичь и на тестовой выборке.\n",
    "\n",
    "Также я исследовала метрику AUC-ROC с построение ROC-кривой, из результатов было видно, что, чем выше одна метрика, тем выше и другая и выше способность модели к точности прогнозирования.\n",
    "    \n",
    "Следовательно в данной ситуации модель Случайный лес с гиперпараметрами количества деревьев 150 и глубиной 10 является наиболее эффективной для предсказания поведения клиентов, и именно ее можно использовать банку для прогнозирования оттока."
   ]
  },
  {
   "cell_type": "code",
   "execution_count": null,
   "metadata": {},
   "outputs": [],
   "source": []
  }
 ],
 "metadata": {
  "ExecuteTimeLog": [
   {
    "duration": 46,
    "start_time": "2022-08-15T07:20:53.291Z"
   },
   {
    "duration": 1079,
    "start_time": "2022-08-15T07:20:56.744Z"
   },
   {
    "duration": 162,
    "start_time": "2022-08-15T07:20:57.824Z"
   },
   {
    "duration": 50,
    "start_time": "2022-08-15T07:21:06.666Z"
   },
   {
    "duration": 8,
    "start_time": "2022-08-15T07:23:43.507Z"
   },
   {
    "duration": 73,
    "start_time": "2022-08-15T07:24:42.072Z"
   },
   {
    "duration": 21,
    "start_time": "2022-08-15T07:25:04.459Z"
   },
   {
    "duration": 6,
    "start_time": "2022-08-15T07:43:38.257Z"
   },
   {
    "duration": 19,
    "start_time": "2022-08-15T07:44:05.351Z"
   },
   {
    "duration": 1295,
    "start_time": "2022-08-15T07:48:48.279Z"
   },
   {
    "duration": 430,
    "start_time": "2022-08-15T07:51:01.011Z"
   },
   {
    "duration": 51,
    "start_time": "2022-08-15T07:51:01.711Z"
   },
   {
    "duration": 4,
    "start_time": "2022-08-15T07:51:03.361Z"
   },
   {
    "duration": 18,
    "start_time": "2022-08-15T07:51:04.348Z"
   },
   {
    "duration": 1567,
    "start_time": "2022-08-15T07:51:07.492Z"
   },
   {
    "duration": 5,
    "start_time": "2022-08-15T14:20:07.661Z"
   },
   {
    "duration": 57,
    "start_time": "2022-08-15T14:20:08.245Z"
   },
   {
    "duration": 6,
    "start_time": "2022-08-15T14:20:09.513Z"
   },
   {
    "duration": 21,
    "start_time": "2022-08-15T14:20:10.117Z"
   },
   {
    "duration": 13,
    "start_time": "2022-08-15T14:20:12.424Z"
   },
   {
    "duration": 33,
    "start_time": "2022-08-15T14:20:28.514Z"
   },
   {
    "duration": 10,
    "start_time": "2022-08-15T14:23:09.235Z"
   },
   {
    "duration": 8,
    "start_time": "2022-08-15T14:23:55.371Z"
   },
   {
    "duration": 18,
    "start_time": "2022-08-15T14:24:16.001Z"
   },
   {
    "duration": 492,
    "start_time": "2022-08-15T14:26:16.400Z"
   },
   {
    "duration": 22,
    "start_time": "2022-08-15T14:26:46.208Z"
   },
   {
    "duration": 478,
    "start_time": "2022-08-15T14:28:02.787Z"
   },
   {
    "duration": 488,
    "start_time": "2022-08-15T14:28:23.252Z"
   },
   {
    "duration": 5,
    "start_time": "2022-08-15T14:29:11.157Z"
   },
   {
    "duration": 12,
    "start_time": "2022-08-15T14:32:47.265Z"
   },
   {
    "duration": 147,
    "start_time": "2022-08-15T14:33:09.925Z"
   },
   {
    "duration": 6,
    "start_time": "2022-08-15T14:38:16.103Z"
   },
   {
    "duration": 47,
    "start_time": "2022-08-15T14:38:16.848Z"
   },
   {
    "duration": 5,
    "start_time": "2022-08-15T14:38:18.300Z"
   },
   {
    "duration": 20,
    "start_time": "2022-08-15T14:38:18.970Z"
   },
   {
    "duration": 476,
    "start_time": "2022-08-15T14:38:20.810Z"
   },
   {
    "duration": 5,
    "start_time": "2022-08-15T14:38:22.756Z"
   },
   {
    "duration": 12,
    "start_time": "2022-08-15T14:38:23.446Z"
   },
   {
    "duration": 136,
    "start_time": "2022-08-15T14:38:26.696Z"
   },
   {
    "duration": 71,
    "start_time": "2022-08-15T14:38:34.119Z"
   },
   {
    "duration": 100,
    "start_time": "2022-08-15T14:39:15.777Z"
   },
   {
    "duration": 18,
    "start_time": "2022-08-15T14:41:40.860Z"
   },
   {
    "duration": 30,
    "start_time": "2022-08-15T14:43:56.929Z"
   },
   {
    "duration": 35,
    "start_time": "2022-08-15T14:45:12.161Z"
   },
   {
    "duration": 295,
    "start_time": "2022-08-15T17:43:41.034Z"
   },
   {
    "duration": 10,
    "start_time": "2022-08-15T17:44:40.891Z"
   },
   {
    "duration": 340,
    "start_time": "2022-08-15T17:45:37.545Z"
   },
   {
    "duration": 40,
    "start_time": "2022-08-16T12:31:50.499Z"
   },
   {
    "duration": 4,
    "start_time": "2022-08-16T12:32:16.532Z"
   },
   {
    "duration": 47,
    "start_time": "2022-08-16T12:32:17.611Z"
   },
   {
    "duration": 5,
    "start_time": "2022-08-16T12:32:18.769Z"
   },
   {
    "duration": 20,
    "start_time": "2022-08-16T12:32:19.236Z"
   },
   {
    "duration": 36,
    "start_time": "2022-08-16T12:32:26.908Z"
   },
   {
    "duration": 38,
    "start_time": "2022-08-16T12:32:46.547Z"
   },
   {
    "duration": 82,
    "start_time": "2022-08-16T12:48:06.775Z"
   },
   {
    "duration": 132,
    "start_time": "2022-08-16T12:48:16.489Z"
   },
   {
    "duration": 77,
    "start_time": "2022-08-16T12:49:51.395Z"
   },
   {
    "duration": 92,
    "start_time": "2022-08-16T12:50:10.372Z"
   },
   {
    "duration": 93,
    "start_time": "2022-08-16T12:50:28.189Z"
   },
   {
    "duration": 455,
    "start_time": "2022-08-16T12:51:33.248Z"
   },
   {
    "duration": 351,
    "start_time": "2022-08-16T12:52:18.650Z"
   },
   {
    "duration": 391,
    "start_time": "2022-08-16T12:53:47.863Z"
   },
   {
    "duration": 113,
    "start_time": "2022-08-16T12:57:01.711Z"
   },
   {
    "duration": 672,
    "start_time": "2022-08-16T13:00:26.025Z"
   },
   {
    "duration": 365,
    "start_time": "2022-08-16T13:00:49.987Z"
   },
   {
    "duration": 106,
    "start_time": "2022-08-16T13:01:35.237Z"
   },
   {
    "duration": 373,
    "start_time": "2022-08-16T13:01:53.847Z"
   },
   {
    "duration": 667,
    "start_time": "2022-08-16T13:02:04.200Z"
   },
   {
    "duration": 553,
    "start_time": "2022-08-16T13:03:37.084Z"
   },
   {
    "duration": 348,
    "start_time": "2022-08-16T13:04:02.003Z"
   },
   {
    "duration": 128,
    "start_time": "2022-08-16T13:04:08.665Z"
   },
   {
    "duration": 105,
    "start_time": "2022-08-16T13:04:18.259Z"
   },
   {
    "duration": 122,
    "start_time": "2022-08-16T13:04:29.044Z"
   },
   {
    "duration": 94,
    "start_time": "2022-08-16T13:06:16.071Z"
   },
   {
    "duration": 95,
    "start_time": "2022-08-16T13:08:20.234Z"
   },
   {
    "duration": 360,
    "start_time": "2022-08-16T13:08:30.605Z"
   },
   {
    "duration": 91,
    "start_time": "2022-08-16T13:08:38.938Z"
   },
   {
    "duration": 111,
    "start_time": "2022-08-16T13:08:56.061Z"
   },
   {
    "duration": 64,
    "start_time": "2022-08-16T13:09:07.697Z"
   },
   {
    "duration": 324,
    "start_time": "2022-08-16T13:09:22.626Z"
   },
   {
    "duration": 104,
    "start_time": "2022-08-16T13:09:24.140Z"
   },
   {
    "duration": 9,
    "start_time": "2022-08-16T13:10:02.080Z"
   },
   {
    "duration": 9,
    "start_time": "2022-08-16T13:10:49.320Z"
   },
   {
    "duration": 96,
    "start_time": "2022-08-16T13:11:07.168Z"
   },
   {
    "duration": 106,
    "start_time": "2022-08-16T13:11:25.446Z"
   },
   {
    "duration": 114,
    "start_time": "2022-08-16T13:12:59.713Z"
   },
   {
    "duration": 107,
    "start_time": "2022-08-16T13:13:22.666Z"
   },
   {
    "duration": 104,
    "start_time": "2022-08-16T13:14:44.277Z"
   },
   {
    "duration": 103,
    "start_time": "2022-08-16T13:15:03.595Z"
   },
   {
    "duration": 110,
    "start_time": "2022-08-16T13:15:42.893Z"
   },
   {
    "duration": 105,
    "start_time": "2022-08-16T13:17:55.168Z"
   },
   {
    "duration": 127,
    "start_time": "2022-08-16T13:18:26.969Z"
   },
   {
    "duration": 125,
    "start_time": "2022-08-16T13:20:41.736Z"
   },
   {
    "duration": 113,
    "start_time": "2022-08-16T13:21:13.931Z"
   },
   {
    "duration": 8,
    "start_time": "2022-08-16T13:23:24.738Z"
   },
   {
    "duration": 8,
    "start_time": "2022-08-16T13:25:49.675Z"
   },
   {
    "duration": 8,
    "start_time": "2022-08-16T13:29:48.329Z"
   },
   {
    "duration": 4,
    "start_time": "2022-08-16T13:30:46.048Z"
   },
   {
    "duration": 5,
    "start_time": "2022-08-16T13:31:23.848Z"
   },
   {
    "duration": 5,
    "start_time": "2022-08-16T13:31:37.471Z"
   },
   {
    "duration": 4,
    "start_time": "2022-08-16T13:32:01.185Z"
   },
   {
    "duration": 343,
    "start_time": "2022-08-16T13:32:41.231Z"
   },
   {
    "duration": 120,
    "start_time": "2022-08-16T13:32:50.558Z"
   },
   {
    "duration": 118,
    "start_time": "2022-08-16T13:33:00.132Z"
   },
   {
    "duration": 2,
    "start_time": "2022-08-16T13:33:30.341Z"
   },
   {
    "duration": 153,
    "start_time": "2022-08-16T13:34:28.360Z"
   },
   {
    "duration": 20,
    "start_time": "2022-08-16T13:34:44.000Z"
   },
   {
    "duration": 22,
    "start_time": "2022-08-16T13:35:22.317Z"
   },
   {
    "duration": 341,
    "start_time": "2022-08-16T13:35:24.248Z"
   },
   {
    "duration": 6,
    "start_time": "2022-08-16T13:35:26.550Z"
   },
   {
    "duration": 16,
    "start_time": "2022-08-16T13:36:07.468Z"
   },
   {
    "duration": 4,
    "start_time": "2022-08-16T13:36:17.172Z"
   },
   {
    "duration": 7,
    "start_time": "2022-08-16T13:37:02.204Z"
   },
   {
    "duration": 8,
    "start_time": "2022-08-16T13:38:40.942Z"
   },
   {
    "duration": 16,
    "start_time": "2022-08-16T13:39:49.662Z"
   },
   {
    "duration": 2432,
    "start_time": "2022-08-16T13:45:52.863Z"
   },
   {
    "duration": 1709,
    "start_time": "2022-08-16T13:46:16.733Z"
   },
   {
    "duration": 1752,
    "start_time": "2022-08-16T13:46:46.738Z"
   },
   {
    "duration": 1739,
    "start_time": "2022-08-16T13:46:59.752Z"
   },
   {
    "duration": 1734,
    "start_time": "2022-08-16T13:47:32.902Z"
   },
   {
    "duration": 1702,
    "start_time": "2022-08-16T13:47:56.836Z"
   },
   {
    "duration": 1723,
    "start_time": "2022-08-16T13:48:06.547Z"
   },
   {
    "duration": 2298,
    "start_time": "2022-08-16T13:48:19.072Z"
   },
   {
    "duration": 3515,
    "start_time": "2022-08-16T13:49:24.473Z"
   },
   {
    "duration": 69,
    "start_time": "2022-08-16T13:54:42.032Z"
   },
   {
    "duration": 61,
    "start_time": "2022-08-16T13:54:49.863Z"
   },
   {
    "duration": 12,
    "start_time": "2022-08-16T14:06:31.012Z"
   },
   {
    "duration": 3,
    "start_time": "2022-08-16T14:08:36.795Z"
   },
   {
    "duration": 21,
    "start_time": "2022-08-16T14:08:38.229Z"
   },
   {
    "duration": 4,
    "start_time": "2022-08-16T14:09:03.021Z"
   },
   {
    "duration": 20,
    "start_time": "2022-08-16T14:09:03.902Z"
   },
   {
    "duration": 4,
    "start_time": "2022-08-16T14:09:34.200Z"
   },
   {
    "duration": 13,
    "start_time": "2022-08-16T14:09:34.738Z"
   },
   {
    "duration": 4,
    "start_time": "2022-08-16T14:18:30.402Z"
   },
   {
    "duration": 16,
    "start_time": "2022-08-16T14:18:31.457Z"
   },
   {
    "duration": 4,
    "start_time": "2022-08-16T14:19:33.743Z"
   },
   {
    "duration": 9,
    "start_time": "2022-08-16T14:19:34.758Z"
   },
   {
    "duration": 3,
    "start_time": "2022-08-16T14:32:34.118Z"
   },
   {
    "duration": 112,
    "start_time": "2022-08-16T14:32:40.782Z"
   },
   {
    "duration": 247,
    "start_time": "2022-08-16T14:33:08.635Z"
   },
   {
    "duration": 10,
    "start_time": "2022-08-16T14:38:12.110Z"
   },
   {
    "duration": 5,
    "start_time": "2022-08-16T14:38:29.984Z"
   },
   {
    "duration": 22,
    "start_time": "2022-08-16T14:38:33.034Z"
   },
   {
    "duration": 4864,
    "start_time": "2022-08-16T14:38:37.596Z"
   },
   {
    "duration": 734,
    "start_time": "2022-08-16T14:41:31.868Z"
   },
   {
    "duration": 3707,
    "start_time": "2022-08-16T14:43:15.228Z"
   },
   {
    "duration": 6195,
    "start_time": "2022-08-16T14:44:11.187Z"
   },
   {
    "duration": 135,
    "start_time": "2022-08-16T14:46:12.182Z"
   },
   {
    "duration": 1616,
    "start_time": "2022-08-17T07:13:05.799Z"
   },
   {
    "duration": 88,
    "start_time": "2022-08-17T07:13:07.417Z"
   },
   {
    "duration": 8,
    "start_time": "2022-08-17T07:13:07.511Z"
   },
   {
    "duration": 21,
    "start_time": "2022-08-17T07:13:08.793Z"
   },
   {
    "duration": 471,
    "start_time": "2022-08-17T07:13:10.578Z"
   },
   {
    "duration": 102,
    "start_time": "2022-08-17T07:14:02.726Z"
   },
   {
    "duration": 14,
    "start_time": "2022-08-17T07:14:14.151Z"
   },
   {
    "duration": 11,
    "start_time": "2022-08-17T07:14:30.833Z"
   },
   {
    "duration": 1333,
    "start_time": "2022-08-17T07:19:54.307Z"
   },
   {
    "duration": 48,
    "start_time": "2022-08-17T07:20:10.812Z"
   },
   {
    "duration": 47,
    "start_time": "2022-08-17T07:20:36.806Z"
   },
   {
    "duration": 286,
    "start_time": "2022-08-17T07:21:07.040Z"
   },
   {
    "duration": 23,
    "start_time": "2022-08-17T07:22:19.184Z"
   },
   {
    "duration": 4,
    "start_time": "2022-08-17T07:24:26.365Z"
   },
   {
    "duration": 47,
    "start_time": "2022-08-17T07:24:27.022Z"
   },
   {
    "duration": 5,
    "start_time": "2022-08-17T07:24:28.923Z"
   },
   {
    "duration": 20,
    "start_time": "2022-08-17T07:24:31.095Z"
   },
   {
    "duration": 1087,
    "start_time": "2022-08-17T07:25:27.069Z"
   },
   {
    "duration": 19,
    "start_time": "2022-08-17T07:25:44.597Z"
   },
   {
    "duration": 5,
    "start_time": "2022-08-17T07:26:43.018Z"
   },
   {
    "duration": 135,
    "start_time": "2022-08-17T07:30:37.637Z"
   },
   {
    "duration": 11,
    "start_time": "2022-08-17T07:30:44.630Z"
   },
   {
    "duration": 11,
    "start_time": "2022-08-17T07:31:08.160Z"
   },
   {
    "duration": 11,
    "start_time": "2022-08-17T07:31:10.536Z"
   },
   {
    "duration": 12,
    "start_time": "2022-08-17T07:31:12.682Z"
   },
   {
    "duration": 15,
    "start_time": "2022-08-17T07:31:18.865Z"
   },
   {
    "duration": 107,
    "start_time": "2022-08-17T07:31:21.829Z"
   },
   {
    "duration": 97,
    "start_time": "2022-08-17T07:33:20.305Z"
   },
   {
    "duration": 33,
    "start_time": "2022-08-17T07:33:22.355Z"
   },
   {
    "duration": 342,
    "start_time": "2022-08-17T07:33:38.104Z"
   },
   {
    "duration": 2,
    "start_time": "2022-08-17T07:33:45.372Z"
   },
   {
    "duration": 2361,
    "start_time": "2022-08-17T07:33:49.390Z"
   },
   {
    "duration": 3832,
    "start_time": "2022-08-17T07:33:53.237Z"
   },
   {
    "duration": 3675,
    "start_time": "2022-08-17T07:34:09.248Z"
   },
   {
    "duration": 3716,
    "start_time": "2022-08-17T07:34:24.805Z"
   },
   {
    "duration": 62,
    "start_time": "2022-08-17T07:34:35.309Z"
   },
   {
    "duration": 4,
    "start_time": "2022-08-17T07:34:52.815Z"
   },
   {
    "duration": 13,
    "start_time": "2022-08-17T07:34:56.445Z"
   },
   {
    "duration": 3,
    "start_time": "2022-08-17T07:34:58.668Z"
   },
   {
    "duration": 9,
    "start_time": "2022-08-17T07:34:59.899Z"
   },
   {
    "duration": 585,
    "start_time": "2022-08-17T07:35:14.838Z"
   },
   {
    "duration": 606,
    "start_time": "2022-08-17T07:38:48.918Z"
   },
   {
    "duration": 3,
    "start_time": "2022-08-17T07:38:56.181Z"
   },
   {
    "duration": 2,
    "start_time": "2022-08-17T07:40:46.028Z"
   },
   {
    "duration": 13,
    "start_time": "2022-08-17T07:41:36.990Z"
   },
   {
    "duration": 35,
    "start_time": "2022-08-17T07:42:48.373Z"
   },
   {
    "duration": 120,
    "start_time": "2022-08-17T07:42:49.288Z"
   },
   {
    "duration": 6,
    "start_time": "2022-08-17T07:44:05.560Z"
   },
   {
    "duration": 4769,
    "start_time": "2022-08-17T07:44:47.419Z"
   },
   {
    "duration": 3438,
    "start_time": "2022-08-17T07:45:01.503Z"
   },
   {
    "duration": 151,
    "start_time": "2022-08-17T07:46:11.703Z"
   },
   {
    "duration": 111,
    "start_time": "2022-08-17T07:47:04.658Z"
   },
   {
    "duration": 6,
    "start_time": "2022-08-17T07:47:06.758Z"
   },
   {
    "duration": 111,
    "start_time": "2022-08-17T07:47:24.823Z"
   },
   {
    "duration": 6,
    "start_time": "2022-08-17T07:47:26.610Z"
   },
   {
    "duration": 69,
    "start_time": "2022-08-17T07:48:46.190Z"
   },
   {
    "duration": 317,
    "start_time": "2022-08-17T07:48:47.708Z"
   },
   {
    "duration": 6,
    "start_time": "2022-08-17T07:48:50.634Z"
   },
   {
    "duration": 75,
    "start_time": "2022-08-17T07:59:43.889Z"
   },
   {
    "duration": 6,
    "start_time": "2022-08-17T08:00:10.329Z"
   },
   {
    "duration": 75,
    "start_time": "2022-08-17T08:00:11.141Z"
   },
   {
    "duration": 31,
    "start_time": "2022-08-17T08:03:35.497Z"
   },
   {
    "duration": 294,
    "start_time": "2022-08-17T08:03:40.130Z"
   },
   {
    "duration": 2,
    "start_time": "2022-08-17T08:03:45.525Z"
   },
   {
    "duration": 2132,
    "start_time": "2022-08-17T08:03:47.886Z"
   },
   {
    "duration": 2501,
    "start_time": "2022-08-17T08:04:00.320Z"
   },
   {
    "duration": 38,
    "start_time": "2022-08-17T08:04:05.199Z"
   },
   {
    "duration": 3,
    "start_time": "2022-08-17T08:04:55.581Z"
   },
   {
    "duration": 14,
    "start_time": "2022-08-17T08:09:44.998Z"
   },
   {
    "duration": 4,
    "start_time": "2022-08-17T08:10:53.349Z"
   },
   {
    "duration": 44,
    "start_time": "2022-08-17T08:10:54.200Z"
   },
   {
    "duration": 5,
    "start_time": "2022-08-17T08:10:55.483Z"
   },
   {
    "duration": 20,
    "start_time": "2022-08-17T08:10:56.382Z"
   },
   {
    "duration": 17,
    "start_time": "2022-08-17T08:10:58.181Z"
   },
   {
    "duration": 5,
    "start_time": "2022-08-17T08:11:00.404Z"
   },
   {
    "duration": 11,
    "start_time": "2022-08-17T08:11:02.435Z"
   },
   {
    "duration": 95,
    "start_time": "2022-08-17T08:11:05.491Z"
   },
   {
    "duration": 30,
    "start_time": "2022-08-17T08:11:13.598Z"
   },
   {
    "duration": 278,
    "start_time": "2022-08-17T08:11:16.198Z"
   },
   {
    "duration": 2085,
    "start_time": "2022-08-17T08:11:20.372Z"
   },
   {
    "duration": 2488,
    "start_time": "2022-08-17T08:11:24.494Z"
   },
   {
    "duration": 55,
    "start_time": "2022-08-17T08:11:28.981Z"
   },
   {
    "duration": 4,
    "start_time": "2022-08-17T08:11:35.966Z"
   },
   {
    "duration": 10,
    "start_time": "2022-08-17T08:11:36.921Z"
   },
   {
    "duration": 4,
    "start_time": "2022-08-17T08:11:38.176Z"
   },
   {
    "duration": 10,
    "start_time": "2022-08-17T08:11:39.539Z"
   },
   {
    "duration": 504,
    "start_time": "2022-08-17T08:11:42.137Z"
   },
   {
    "duration": 30,
    "start_time": "2022-08-17T08:11:46.545Z"
   },
   {
    "duration": 107,
    "start_time": "2022-08-17T08:11:50.006Z"
   },
   {
    "duration": 7,
    "start_time": "2022-08-17T08:11:54.275Z"
   },
   {
    "duration": 13,
    "start_time": "2022-08-17T08:12:00.589Z"
   },
   {
    "duration": 4035,
    "start_time": "2022-08-17T08:26:57.772Z"
   },
   {
    "duration": 3009,
    "start_time": "2022-08-17T08:27:01.809Z"
   },
   {
    "duration": 4428,
    "start_time": "2022-08-17T08:27:13.196Z"
   },
   {
    "duration": 142,
    "start_time": "2022-08-17T08:27:17.626Z"
   },
   {
    "duration": 104,
    "start_time": "2022-08-17T08:27:40.528Z"
   },
   {
    "duration": 105,
    "start_time": "2022-08-17T08:27:46.914Z"
   },
   {
    "duration": 7,
    "start_time": "2022-08-17T08:27:49.862Z"
   },
   {
    "duration": 67,
    "start_time": "2022-08-17T08:27:52.669Z"
   },
   {
    "duration": 29,
    "start_time": "2022-08-17T08:29:22.285Z"
   },
   {
    "duration": 296,
    "start_time": "2022-08-17T08:29:24.158Z"
   },
   {
    "duration": 2057,
    "start_time": "2022-08-17T08:29:30.150Z"
   },
   {
    "duration": 2626,
    "start_time": "2022-08-17T08:29:35.822Z"
   },
   {
    "duration": 39,
    "start_time": "2022-08-17T08:29:40.982Z"
   },
   {
    "duration": 4,
    "start_time": "2022-08-17T08:29:43.418Z"
   },
   {
    "duration": 11,
    "start_time": "2022-08-17T08:29:44.980Z"
   },
   {
    "duration": 4,
    "start_time": "2022-08-17T08:29:46.188Z"
   },
   {
    "duration": 9,
    "start_time": "2022-08-17T08:29:47.280Z"
   },
   {
    "duration": 498,
    "start_time": "2022-08-17T08:29:50.291Z"
   },
   {
    "duration": 29,
    "start_time": "2022-08-17T08:29:53.270Z"
   },
   {
    "duration": 105,
    "start_time": "2022-08-17T08:30:09.738Z"
   },
   {
    "duration": 6,
    "start_time": "2022-08-17T08:30:13.138Z"
   },
   {
    "duration": 3925,
    "start_time": "2022-08-17T08:30:20.544Z"
   },
   {
    "duration": 4484,
    "start_time": "2022-08-17T08:30:28.624Z"
   },
   {
    "duration": 104,
    "start_time": "2022-08-17T08:30:36.445Z"
   },
   {
    "duration": 107,
    "start_time": "2022-08-17T08:30:37.755Z"
   },
   {
    "duration": 6,
    "start_time": "2022-08-17T08:30:40.876Z"
   },
   {
    "duration": 57,
    "start_time": "2022-08-17T08:30:42.750Z"
   },
   {
    "duration": 201,
    "start_time": "2022-08-17T08:30:53.606Z"
   },
   {
    "duration": 7,
    "start_time": "2022-08-17T08:30:55.557Z"
   },
   {
    "duration": 84,
    "start_time": "2022-08-17T08:30:59.705Z"
   },
   {
    "duration": 202,
    "start_time": "2022-08-17T08:31:30.632Z"
   },
   {
    "duration": 111,
    "start_time": "2022-08-17T08:32:00.013Z"
   },
   {
    "duration": 57,
    "start_time": "2022-08-17T08:32:22.801Z"
   },
   {
    "duration": 9,
    "start_time": "2022-08-17T08:33:11.220Z"
   },
   {
    "duration": 4,
    "start_time": "2022-08-17T08:40:20.819Z"
   },
   {
    "duration": 45,
    "start_time": "2022-08-17T08:40:21.581Z"
   },
   {
    "duration": 4,
    "start_time": "2022-08-17T08:40:22.842Z"
   },
   {
    "duration": 24,
    "start_time": "2022-08-17T08:40:23.624Z"
   },
   {
    "duration": 15,
    "start_time": "2022-08-17T08:40:26.757Z"
   },
   {
    "duration": 5,
    "start_time": "2022-08-17T08:40:28.126Z"
   },
   {
    "duration": 10,
    "start_time": "2022-08-17T08:40:29.388Z"
   },
   {
    "duration": 95,
    "start_time": "2022-08-17T08:40:32.154Z"
   },
   {
    "duration": 29,
    "start_time": "2022-08-17T08:40:37.353Z"
   },
   {
    "duration": 30,
    "start_time": "2022-08-17T08:41:05.267Z"
   },
   {
    "duration": 30,
    "start_time": "2022-08-17T08:41:17.445Z"
   },
   {
    "duration": 260,
    "start_time": "2022-08-17T08:41:20.141Z"
   },
   {
    "duration": 1987,
    "start_time": "2022-08-17T08:41:22.969Z"
   },
   {
    "duration": 2451,
    "start_time": "2022-08-17T08:41:28.916Z"
   },
   {
    "duration": 3105,
    "start_time": "2022-08-17T08:41:37.492Z"
   },
   {
    "duration": 52,
    "start_time": "2022-08-17T08:41:43.855Z"
   },
   {
    "duration": 4,
    "start_time": "2022-08-17T08:41:49.196Z"
   },
   {
    "duration": 10,
    "start_time": "2022-08-17T08:41:50.569Z"
   },
   {
    "duration": 4,
    "start_time": "2022-08-17T08:41:52.367Z"
   },
   {
    "duration": 9,
    "start_time": "2022-08-17T08:41:53.733Z"
   },
   {
    "duration": 476,
    "start_time": "2022-08-17T08:42:02.353Z"
   },
   {
    "duration": 29,
    "start_time": "2022-08-17T08:42:05.381Z"
   },
   {
    "duration": 31,
    "start_time": "2022-08-17T08:42:14.563Z"
   },
   {
    "duration": 107,
    "start_time": "2022-08-17T08:42:15.316Z"
   },
   {
    "duration": 6,
    "start_time": "2022-08-17T08:42:16.694Z"
   },
   {
    "duration": 3768,
    "start_time": "2022-08-17T08:42:18.536Z"
   },
   {
    "duration": 4267,
    "start_time": "2022-08-17T08:42:23.828Z"
   },
   {
    "duration": 183,
    "start_time": "2022-08-17T08:42:32.990Z"
   },
   {
    "duration": 121,
    "start_time": "2022-08-17T08:42:33.611Z"
   },
   {
    "duration": 7,
    "start_time": "2022-08-17T08:42:35.607Z"
   },
   {
    "duration": 56,
    "start_time": "2022-08-17T08:42:37.215Z"
   },
   {
    "duration": 265,
    "start_time": "2022-08-17T08:42:41.957Z"
   },
   {
    "duration": 6,
    "start_time": "2022-08-17T08:42:42.991Z"
   },
   {
    "duration": 9,
    "start_time": "2022-08-17T08:42:44.181Z"
   },
   {
    "duration": 34,
    "start_time": "2022-08-17T08:43:47.293Z"
   },
   {
    "duration": 39,
    "start_time": "2022-08-17T08:44:37.021Z"
   },
   {
    "duration": 289,
    "start_time": "2022-08-17T08:44:41.517Z"
   },
   {
    "duration": 28,
    "start_time": "2022-08-17T08:46:22.709Z"
   },
   {
    "duration": 31,
    "start_time": "2022-08-17T08:47:10.392Z"
   },
   {
    "duration": 320,
    "start_time": "2022-08-17T08:47:13.179Z"
   },
   {
    "duration": 2373,
    "start_time": "2022-08-17T08:47:15.913Z"
   },
   {
    "duration": 3712,
    "start_time": "2022-08-17T08:47:19.166Z"
   },
   {
    "duration": 3722,
    "start_time": "2022-08-17T08:47:31.563Z"
   },
   {
    "duration": 69,
    "start_time": "2022-08-17T08:47:37.633Z"
   },
   {
    "duration": 3,
    "start_time": "2022-08-17T08:47:43.834Z"
   },
   {
    "duration": 13,
    "start_time": "2022-08-17T08:47:45.937Z"
   },
   {
    "duration": 4,
    "start_time": "2022-08-17T08:47:47.133Z"
   },
   {
    "duration": 9,
    "start_time": "2022-08-17T08:47:47.848Z"
   },
   {
    "duration": 654,
    "start_time": "2022-08-17T08:47:49.561Z"
   },
   {
    "duration": 39,
    "start_time": "2022-08-17T08:47:53.992Z"
   },
   {
    "duration": 36,
    "start_time": "2022-08-17T08:48:05.643Z"
   },
   {
    "duration": 108,
    "start_time": "2022-08-17T08:48:08.191Z"
   },
   {
    "duration": 6,
    "start_time": "2022-08-17T08:48:10.060Z"
   },
   {
    "duration": 4550,
    "start_time": "2022-08-17T08:48:12.106Z"
   },
   {
    "duration": 3456,
    "start_time": "2022-08-17T08:48:21.993Z"
   },
   {
    "duration": 151,
    "start_time": "2022-08-17T08:48:31.198Z"
   },
   {
    "duration": 109,
    "start_time": "2022-08-17T08:48:31.847Z"
   },
   {
    "duration": 6,
    "start_time": "2022-08-17T08:48:34.056Z"
   },
   {
    "duration": 70,
    "start_time": "2022-08-17T08:48:35.745Z"
   },
   {
    "duration": 355,
    "start_time": "2022-08-17T08:48:37.042Z"
   },
   {
    "duration": 6,
    "start_time": "2022-08-17T08:48:41.874Z"
   },
   {
    "duration": 9,
    "start_time": "2022-08-17T08:48:42.933Z"
   },
   {
    "duration": 3679,
    "start_time": "2022-08-17T08:52:25.964Z"
   },
   {
    "duration": 148,
    "start_time": "2022-08-17T08:52:33.359Z"
   },
   {
    "duration": 10,
    "start_time": "2022-08-17T08:52:50.297Z"
   },
   {
    "duration": 606,
    "start_time": "2022-08-17T08:53:46.115Z"
   },
   {
    "duration": 33,
    "start_time": "2022-08-17T08:53:46.970Z"
   },
   {
    "duration": 109,
    "start_time": "2022-08-17T08:53:47.509Z"
   },
   {
    "duration": 5,
    "start_time": "2022-08-17T08:53:48.053Z"
   },
   {
    "duration": 5038,
    "start_time": "2022-08-17T08:53:49.208Z"
   },
   {
    "duration": 3420,
    "start_time": "2022-08-17T08:53:54.248Z"
   },
   {
    "duration": 155,
    "start_time": "2022-08-17T08:53:57.670Z"
   },
   {
    "duration": 128,
    "start_time": "2022-08-17T08:53:57.827Z"
   },
   {
    "duration": 8,
    "start_time": "2022-08-17T08:53:57.957Z"
   },
   {
    "duration": 88,
    "start_time": "2022-08-17T08:53:57.966Z"
   },
   {
    "duration": 265,
    "start_time": "2022-08-17T08:53:58.056Z"
   },
   {
    "duration": 18,
    "start_time": "2022-08-17T08:53:58.323Z"
   },
   {
    "duration": 24,
    "start_time": "2022-08-17T08:53:58.343Z"
   },
   {
    "duration": 1607,
    "start_time": "2022-08-18T06:16:21.853Z"
   },
   {
    "duration": 180,
    "start_time": "2022-08-18T06:17:05.895Z"
   },
   {
    "duration": 6,
    "start_time": "2022-08-18T06:17:20.698Z"
   },
   {
    "duration": 23,
    "start_time": "2022-08-18T06:17:21.717Z"
   },
   {
    "duration": 17,
    "start_time": "2022-08-18T06:17:34.281Z"
   },
   {
    "duration": 6,
    "start_time": "2022-08-18T06:17:39.787Z"
   },
   {
    "duration": 12,
    "start_time": "2022-08-18T06:17:43.600Z"
   },
   {
    "duration": 136,
    "start_time": "2022-08-18T06:17:48.350Z"
   },
   {
    "duration": 45,
    "start_time": "2022-08-18T06:18:02.068Z"
   },
   {
    "duration": 411,
    "start_time": "2022-08-18T06:19:30.097Z"
   },
   {
    "duration": 2768,
    "start_time": "2022-08-18T06:19:32.224Z"
   },
   {
    "duration": 4602,
    "start_time": "2022-08-18T06:19:37.027Z"
   },
   {
    "duration": 83,
    "start_time": "2022-08-18T06:19:41.631Z"
   },
   {
    "duration": 5,
    "start_time": "2022-08-18T06:19:44.549Z"
   },
   {
    "duration": 5,
    "start_time": "2022-08-18T06:20:06.740Z"
   },
   {
    "duration": 14,
    "start_time": "2022-08-18T06:20:07.430Z"
   },
   {
    "duration": 4,
    "start_time": "2022-08-18T06:38:27.647Z"
   },
   {
    "duration": 11,
    "start_time": "2022-08-18T06:38:28.180Z"
   },
   {
    "duration": 4,
    "start_time": "2022-08-18T06:38:32.821Z"
   },
   {
    "duration": 10,
    "start_time": "2022-08-18T06:38:35.827Z"
   },
   {
    "duration": 468,
    "start_time": "2022-08-18T06:38:53.279Z"
   },
   {
    "duration": 27,
    "start_time": "2022-08-18T06:38:59.418Z"
   },
   {
    "duration": 125,
    "start_time": "2022-08-18T06:39:00.027Z"
   },
   {
    "duration": 6,
    "start_time": "2022-08-18T06:39:09.349Z"
   },
   {
    "duration": 3840,
    "start_time": "2022-08-18T06:39:12.684Z"
   },
   {
    "duration": 3856,
    "start_time": "2022-08-18T06:39:23.630Z"
   },
   {
    "duration": 410,
    "start_time": "2022-08-18T06:39:33.217Z"
   },
   {
    "duration": 162,
    "start_time": "2022-08-18T06:39:36.131Z"
   },
   {
    "duration": 595,
    "start_time": "2022-08-18T06:39:48.282Z"
   },
   {
    "duration": 152,
    "start_time": "2022-08-18T06:39:48.950Z"
   },
   {
    "duration": 6,
    "start_time": "2022-08-18T06:39:52.201Z"
   },
   {
    "duration": 68,
    "start_time": "2022-08-18T06:39:55.040Z"
   },
   {
    "duration": 241,
    "start_time": "2022-08-18T06:40:08.114Z"
   },
   {
    "duration": 8,
    "start_time": "2022-08-18T06:40:09.142Z"
   },
   {
    "duration": 10,
    "start_time": "2022-08-18T06:40:09.919Z"
   },
   {
    "duration": 118,
    "start_time": "2022-08-18T06:44:22.184Z"
   },
   {
    "duration": 107,
    "start_time": "2022-08-18T06:44:35.818Z"
   },
   {
    "duration": 322,
    "start_time": "2022-08-18T06:46:28.194Z"
   },
   {
    "duration": 2487,
    "start_time": "2022-08-18T06:46:30.926Z"
   },
   {
    "duration": 3765,
    "start_time": "2022-08-18T06:46:33.415Z"
   },
   {
    "duration": 57,
    "start_time": "2022-08-18T06:46:37.262Z"
   },
   {
    "duration": 4,
    "start_time": "2022-08-18T06:46:41.789Z"
   },
   {
    "duration": 11,
    "start_time": "2022-08-18T06:46:43.344Z"
   },
   {
    "duration": 5,
    "start_time": "2022-08-18T06:46:46.263Z"
   },
   {
    "duration": 11,
    "start_time": "2022-08-18T06:46:47.759Z"
   },
   {
    "duration": 431,
    "start_time": "2022-08-18T06:46:55.963Z"
   },
   {
    "duration": 31,
    "start_time": "2022-08-18T06:47:23.552Z"
   },
   {
    "duration": 124,
    "start_time": "2022-08-18T06:47:25.558Z"
   },
   {
    "duration": 422,
    "start_time": "2022-08-18T06:47:42.565Z"
   },
   {
    "duration": 29,
    "start_time": "2022-08-18T06:47:59.565Z"
   },
   {
    "duration": 115,
    "start_time": "2022-08-18T06:48:06.032Z"
   },
   {
    "duration": 8,
    "start_time": "2022-08-18T06:48:08.964Z"
   },
   {
    "duration": 3256,
    "start_time": "2022-08-18T06:48:15.084Z"
   },
   {
    "duration": 2730,
    "start_time": "2022-08-18T06:48:23.520Z"
   },
   {
    "duration": 64,
    "start_time": "2022-08-18T06:48:36.356Z"
   },
   {
    "duration": 129,
    "start_time": "2022-08-18T06:48:37.156Z"
   },
   {
    "duration": 6,
    "start_time": "2022-08-18T06:48:44.314Z"
   },
   {
    "duration": 41,
    "start_time": "2022-08-18T06:48:45.849Z"
   },
   {
    "duration": 271,
    "start_time": "2022-08-18T06:48:53.986Z"
   },
   {
    "duration": 6,
    "start_time": "2022-08-18T06:48:55.203Z"
   },
   {
    "duration": 11,
    "start_time": "2022-08-18T06:48:56.515Z"
   },
   {
    "duration": 19,
    "start_time": "2022-08-18T06:56:27.987Z"
   },
   {
    "duration": 137,
    "start_time": "2022-08-18T06:57:16.692Z"
   },
   {
    "duration": 6,
    "start_time": "2022-08-18T06:57:20.716Z"
   },
   {
    "duration": 1707,
    "start_time": "2022-08-18T07:31:03.150Z"
   },
   {
    "duration": 171,
    "start_time": "2022-08-18T07:31:04.859Z"
   },
   {
    "duration": 6,
    "start_time": "2022-08-18T07:31:05.031Z"
   },
   {
    "duration": 23,
    "start_time": "2022-08-18T07:31:05.038Z"
   },
   {
    "duration": 13,
    "start_time": "2022-08-18T07:31:05.063Z"
   },
   {
    "duration": 5,
    "start_time": "2022-08-18T07:31:05.078Z"
   },
   {
    "duration": 10,
    "start_time": "2022-08-18T07:31:05.085Z"
   },
   {
    "duration": 120,
    "start_time": "2022-08-18T07:31:05.097Z"
   },
   {
    "duration": 45,
    "start_time": "2022-08-18T07:31:05.218Z"
   },
   {
    "duration": 214,
    "start_time": "2022-08-18T07:32:32.919Z"
   },
   {
    "duration": 270,
    "start_time": "2022-08-18T07:33:23.159Z"
   },
   {
    "duration": 6851,
    "start_time": "2022-08-18T07:33:53.308Z"
   },
   {
    "duration": 73036,
    "start_time": "2022-08-18T07:35:53.281Z"
   },
   {
    "duration": 75125,
    "start_time": "2022-08-18T07:38:06.162Z"
   },
   {
    "duration": 5,
    "start_time": "2022-08-18T07:42:30.653Z"
   },
   {
    "duration": 5,
    "start_time": "2022-08-18T07:42:46.943Z"
   },
   {
    "duration": 73838,
    "start_time": "2022-08-18T07:42:56.603Z"
   },
   {
    "duration": 1432,
    "start_time": "2022-08-18T07:45:21.132Z"
   },
   {
    "duration": 20,
    "start_time": "2022-08-18T07:45:40.194Z"
   },
   {
    "duration": 13,
    "start_time": "2022-08-18T07:45:50.314Z"
   },
   {
    "duration": 1724,
    "start_time": "2022-08-18T07:46:38.471Z"
   },
   {
    "duration": 48,
    "start_time": "2022-08-18T07:46:40.197Z"
   },
   {
    "duration": 6,
    "start_time": "2022-08-18T07:46:40.247Z"
   },
   {
    "duration": 23,
    "start_time": "2022-08-18T07:46:40.254Z"
   },
   {
    "duration": 15,
    "start_time": "2022-08-18T07:46:40.279Z"
   },
   {
    "duration": 5,
    "start_time": "2022-08-18T07:46:40.296Z"
   },
   {
    "duration": 18,
    "start_time": "2022-08-18T07:46:40.303Z"
   },
   {
    "duration": 116,
    "start_time": "2022-08-18T07:46:40.322Z"
   },
   {
    "duration": 34,
    "start_time": "2022-08-18T07:46:40.439Z"
   },
   {
    "duration": 267,
    "start_time": "2022-08-18T07:46:40.474Z"
   },
   {
    "duration": 2073,
    "start_time": "2022-08-18T07:46:40.743Z"
   },
   {
    "duration": 3133,
    "start_time": "2022-08-18T07:46:42.818Z"
   },
   {
    "duration": 44,
    "start_time": "2022-08-18T07:46:45.953Z"
   },
   {
    "duration": 4,
    "start_time": "2022-08-18T07:46:45.999Z"
   },
   {
    "duration": 27,
    "start_time": "2022-08-18T07:46:46.004Z"
   },
   {
    "duration": 8,
    "start_time": "2022-08-18T07:46:46.032Z"
   },
   {
    "duration": 30,
    "start_time": "2022-08-18T07:46:46.042Z"
   },
   {
    "duration": 73644,
    "start_time": "2022-08-18T07:46:46.073Z"
   },
   {
    "duration": 1447,
    "start_time": "2022-08-18T07:47:59.719Z"
   },
   {
    "duration": 15,
    "start_time": "2022-08-18T07:48:01.168Z"
   },
   {
    "duration": 18,
    "start_time": "2022-08-18T07:48:01.185Z"
   },
   {
    "duration": 1560,
    "start_time": "2022-08-18T14:45:24.936Z"
   },
   {
    "duration": 93,
    "start_time": "2022-08-18T14:45:26.498Z"
   },
   {
    "duration": 7,
    "start_time": "2022-08-18T14:45:27.715Z"
   },
   {
    "duration": 24,
    "start_time": "2022-08-18T14:45:28.204Z"
   },
   {
    "duration": 19,
    "start_time": "2022-08-18T14:45:30.201Z"
   },
   {
    "duration": 4,
    "start_time": "2022-08-18T14:45:31.120Z"
   },
   {
    "duration": 12,
    "start_time": "2022-08-18T14:45:32.135Z"
   },
   {
    "duration": 154,
    "start_time": "2022-08-18T14:45:34.801Z"
   },
   {
    "duration": 4,
    "start_time": "2022-08-18T14:47:33.511Z"
   },
   {
    "duration": 48,
    "start_time": "2022-08-18T14:47:35.611Z"
   },
   {
    "duration": 4,
    "start_time": "2022-08-18T14:47:37.865Z"
   },
   {
    "duration": 25,
    "start_time": "2022-08-18T14:47:38.428Z"
   },
   {
    "duration": 16,
    "start_time": "2022-08-18T14:48:02.471Z"
   },
   {
    "duration": 5,
    "start_time": "2022-08-18T14:48:25.452Z"
   },
   {
    "duration": 15,
    "start_time": "2022-08-18T14:48:28.314Z"
   },
   {
    "duration": 121,
    "start_time": "2022-08-18T14:48:32.054Z"
   },
   {
    "duration": 49,
    "start_time": "2022-08-18T14:49:59.537Z"
   },
   {
    "duration": 335,
    "start_time": "2022-08-18T14:51:07.545Z"
   },
   {
    "duration": 2284,
    "start_time": "2022-08-18T14:51:17.117Z"
   },
   {
    "duration": 3493,
    "start_time": "2022-08-18T14:51:24.697Z"
   },
   {
    "duration": 58,
    "start_time": "2022-08-18T14:51:32.823Z"
   },
   {
    "duration": 6,
    "start_time": "2022-08-18T14:51:45.407Z"
   },
   {
    "duration": 10,
    "start_time": "2022-08-18T14:51:48.167Z"
   },
   {
    "duration": 4,
    "start_time": "2022-08-18T14:51:54.940Z"
   },
   {
    "duration": 11,
    "start_time": "2022-08-18T14:51:55.529Z"
   },
   {
    "duration": 5,
    "start_time": "2022-08-18T14:52:12.748Z"
   },
   {
    "duration": 11,
    "start_time": "2022-08-18T14:52:13.229Z"
   },
   {
    "duration": 83787,
    "start_time": "2022-08-18T14:52:25.802Z"
   },
   {
    "duration": 1502,
    "start_time": "2022-08-18T14:57:30.243Z"
   },
   {
    "duration": 25,
    "start_time": "2022-08-18T14:58:17.669Z"
   },
   {
    "duration": 19,
    "start_time": "2022-08-18T14:58:32.269Z"
   },
   {
    "duration": 433,
    "start_time": "2022-08-18T14:59:18.449Z"
   },
   {
    "duration": 468,
    "start_time": "2022-08-18T14:59:37.241Z"
   },
   {
    "duration": 28,
    "start_time": "2022-08-18T14:59:45.882Z"
   },
   {
    "duration": 131,
    "start_time": "2022-08-18T14:59:51.339Z"
   },
   {
    "duration": 6,
    "start_time": "2022-08-18T14:59:53.171Z"
   },
   {
    "duration": 3128,
    "start_time": "2022-08-18T14:59:55.651Z"
   },
   {
    "duration": 4650,
    "start_time": "2022-08-18T15:00:07.615Z"
   },
   {
    "duration": 10074,
    "start_time": "2022-08-18T15:00:26.184Z"
   },
   {
    "duration": 123167,
    "start_time": "2022-08-18T15:00:40.990Z"
   },
   {
    "duration": 1620,
    "start_time": "2022-08-18T15:03:06.302Z"
   },
   {
    "duration": 203,
    "start_time": "2022-08-18T15:03:07.924Z"
   },
   {
    "duration": 7,
    "start_time": "2022-08-18T15:03:13.488Z"
   },
   {
    "duration": 113,
    "start_time": "2022-08-18T15:03:15.872Z"
   },
   {
    "duration": 245,
    "start_time": "2022-08-18T15:03:18.571Z"
   },
   {
    "duration": 6,
    "start_time": "2022-08-18T15:03:19.908Z"
   },
   {
    "duration": 9,
    "start_time": "2022-08-18T15:03:21.689Z"
   },
   {
    "duration": 17,
    "start_time": "2022-08-18T15:03:28.622Z"
   },
   {
    "duration": 1631,
    "start_time": "2022-08-19T05:41:35.815Z"
   },
   {
    "duration": 116,
    "start_time": "2022-08-19T05:41:37.448Z"
   },
   {
    "duration": 7,
    "start_time": "2022-08-19T05:41:38.419Z"
   },
   {
    "duration": 23,
    "start_time": "2022-08-19T05:41:39.111Z"
   },
   {
    "duration": 21,
    "start_time": "2022-08-19T05:41:43.679Z"
   },
   {
    "duration": 6,
    "start_time": "2022-08-19T05:41:46.111Z"
   },
   {
    "duration": 13,
    "start_time": "2022-08-19T05:41:56.645Z"
   },
   {
    "duration": 129,
    "start_time": "2022-08-19T05:42:04.945Z"
   },
   {
    "duration": 46,
    "start_time": "2022-08-19T05:43:05.965Z"
   },
   {
    "duration": 43,
    "start_time": "2022-08-19T05:48:21.975Z"
   },
   {
    "duration": 304,
    "start_time": "2022-08-19T05:48:40.762Z"
   },
   {
    "duration": 2032,
    "start_time": "2022-08-19T05:48:42.164Z"
   },
   {
    "duration": 53,
    "start_time": "2022-08-19T05:49:34.716Z"
   },
   {
    "duration": 353,
    "start_time": "2022-08-19T05:49:37.878Z"
   },
   {
    "duration": 1969,
    "start_time": "2022-08-19T05:49:40.700Z"
   },
   {
    "duration": 3125,
    "start_time": "2022-08-19T05:49:42.671Z"
   },
   {
    "duration": 75,
    "start_time": "2022-08-19T05:49:45.799Z"
   },
   {
    "duration": 4,
    "start_time": "2022-08-19T05:49:50.501Z"
   },
   {
    "duration": 10,
    "start_time": "2022-08-19T05:49:52.268Z"
   },
   {
    "duration": 4,
    "start_time": "2022-08-19T05:50:11.830Z"
   },
   {
    "duration": 10,
    "start_time": "2022-08-19T05:50:16.201Z"
   },
   {
    "duration": 74335,
    "start_time": "2022-08-19T05:50:42.499Z"
   },
   {
    "duration": 1400,
    "start_time": "2022-08-19T05:52:05.826Z"
   },
   {
    "duration": 20,
    "start_time": "2022-08-19T05:52:07.875Z"
   },
   {
    "duration": 16,
    "start_time": "2022-08-19T05:52:08.841Z"
   },
   {
    "duration": 393,
    "start_time": "2022-08-19T05:52:14.252Z"
   },
   {
    "duration": 410,
    "start_time": "2022-08-19T05:52:30.484Z"
   },
   {
    "duration": 29,
    "start_time": "2022-08-19T05:52:38.776Z"
   },
   {
    "duration": 126,
    "start_time": "2022-08-19T05:52:43.056Z"
   },
   {
    "duration": 16,
    "start_time": "2022-08-19T05:52:44.883Z"
   },
   {
    "duration": 9234,
    "start_time": "2022-08-19T05:52:47.743Z"
   },
   {
    "duration": 8751,
    "start_time": "2022-08-19T05:54:07.023Z"
   },
   {
    "duration": 118090,
    "start_time": "2022-08-19T05:54:15.776Z"
   },
   {
    "duration": 1399,
    "start_time": "2022-08-19T05:56:51.252Z"
   },
   {
    "duration": 204,
    "start_time": "2022-08-19T05:56:52.653Z"
   },
   {
    "duration": 6,
    "start_time": "2022-08-19T05:56:58.201Z"
   },
   {
    "duration": 120,
    "start_time": "2022-08-19T05:56:59.958Z"
   },
   {
    "duration": 279,
    "start_time": "2022-08-19T05:57:20.373Z"
   },
   {
    "duration": 7,
    "start_time": "2022-08-19T05:57:25.114Z"
   },
   {
    "duration": 9,
    "start_time": "2022-08-19T05:57:26.561Z"
   },
   {
    "duration": 5,
    "start_time": "2022-08-19T05:57:36.014Z"
   },
   {
    "duration": 196,
    "start_time": "2022-08-19T05:57:48.812Z"
   },
   {
    "duration": 7,
    "start_time": "2022-08-19T05:57:50.508Z"
   },
   {
    "duration": 1560,
    "start_time": "2022-08-19T06:00:01.676Z"
   },
   {
    "duration": 7,
    "start_time": "2022-08-19T06:00:13.714Z"
   },
   {
    "duration": 189,
    "start_time": "2022-08-19T06:00:20.677Z"
   },
   {
    "duration": 7,
    "start_time": "2022-08-19T06:00:22.835Z"
   },
   {
    "duration": 39,
    "start_time": "2022-08-19T06:01:37.864Z"
   },
   {
    "duration": 114,
    "start_time": "2022-08-19T06:01:39.624Z"
   },
   {
    "duration": 6,
    "start_time": "2022-08-19T06:01:41.651Z"
   },
   {
    "duration": 374,
    "start_time": "2022-08-19T06:19:44.651Z"
   },
   {
    "duration": 328,
    "start_time": "2022-08-19T06:20:33.949Z"
   },
   {
    "duration": 311,
    "start_time": "2022-08-19T06:20:50.356Z"
   },
   {
    "duration": 365,
    "start_time": "2022-08-19T06:22:03.730Z"
   },
   {
    "duration": 381,
    "start_time": "2022-08-19T06:22:13.992Z"
   },
   {
    "duration": 394,
    "start_time": "2022-08-19T06:22:38.326Z"
   },
   {
    "duration": 387,
    "start_time": "2022-08-19T06:23:41.234Z"
   },
   {
    "duration": 26,
    "start_time": "2022-08-19T06:24:39.896Z"
   },
   {
    "duration": 124,
    "start_time": "2022-08-19T06:24:42.684Z"
   },
   {
    "duration": 6,
    "start_time": "2022-08-19T06:24:44.190Z"
   },
   {
    "duration": 8484,
    "start_time": "2022-08-19T06:24:45.796Z"
   },
   {
    "duration": 114318,
    "start_time": "2022-08-19T06:24:59.502Z"
   },
   {
    "duration": 1577,
    "start_time": "2022-08-19T06:27:01.641Z"
   },
   {
    "duration": 1740,
    "start_time": "2022-08-19T06:28:26.605Z"
   },
   {
    "duration": 231,
    "start_time": "2022-08-19T06:28:28.347Z"
   },
   {
    "duration": 7,
    "start_time": "2022-08-19T06:28:28.805Z"
   },
   {
    "duration": 120,
    "start_time": "2022-08-19T06:28:33.300Z"
   },
   {
    "duration": 262,
    "start_time": "2022-08-19T06:28:38.026Z"
   },
   {
    "duration": 6,
    "start_time": "2022-08-19T06:28:40.609Z"
   },
   {
    "duration": 10,
    "start_time": "2022-08-19T06:28:41.517Z"
   },
   {
    "duration": 10,
    "start_time": "2022-08-19T06:28:58.786Z"
   },
   {
    "duration": 6,
    "start_time": "2022-08-19T06:29:07.312Z"
   },
   {
    "duration": 198,
    "start_time": "2022-08-19T06:29:10.399Z"
   },
   {
    "duration": 7,
    "start_time": "2022-08-19T06:29:12.451Z"
   },
   {
    "duration": 4,
    "start_time": "2022-08-19T06:30:37.163Z"
   },
   {
    "duration": 103,
    "start_time": "2022-08-19T06:31:01.256Z"
   },
   {
    "duration": 7,
    "start_time": "2022-08-19T06:31:03.763Z"
   },
   {
    "duration": 206,
    "start_time": "2022-08-19T06:31:04.900Z"
   },
   {
    "duration": 7,
    "start_time": "2022-08-19T06:31:07.067Z"
   },
   {
    "duration": 10,
    "start_time": "2022-08-19T06:32:28.328Z"
   },
   {
    "duration": 4,
    "start_time": "2022-08-19T06:43:05.448Z"
   },
   {
    "duration": 62,
    "start_time": "2022-08-19T06:43:06.849Z"
   },
   {
    "duration": 8,
    "start_time": "2022-08-19T06:43:08.149Z"
   },
   {
    "duration": 21,
    "start_time": "2022-08-19T06:43:08.918Z"
   },
   {
    "duration": 15,
    "start_time": "2022-08-19T06:43:10.752Z"
   },
   {
    "duration": 1850,
    "start_time": "2022-08-19T07:33:10.357Z"
   },
   {
    "duration": 90,
    "start_time": "2022-08-19T07:33:12.209Z"
   },
   {
    "duration": 7,
    "start_time": "2022-08-19T07:33:12.301Z"
   },
   {
    "duration": 26,
    "start_time": "2022-08-19T07:33:12.310Z"
   },
   {
    "duration": 16,
    "start_time": "2022-08-19T07:33:12.339Z"
   },
   {
    "duration": 8,
    "start_time": "2022-08-19T07:33:12.357Z"
   },
   {
    "duration": 14,
    "start_time": "2022-08-19T07:33:12.367Z"
   },
   {
    "duration": 128,
    "start_time": "2022-08-19T07:33:12.383Z"
   },
   {
    "duration": 55,
    "start_time": "2022-08-19T07:33:12.513Z"
   },
   {
    "duration": 1151,
    "start_time": "2022-08-19T07:35:20.667Z"
   },
   {
    "duration": 993,
    "start_time": "2022-08-19T07:35:32.840Z"
   },
   {
    "duration": 1265,
    "start_time": "2023-04-04T12:27:28.808Z"
   },
   {
    "duration": 169,
    "start_time": "2023-04-04T12:27:30.074Z"
   },
   {
    "duration": 6,
    "start_time": "2023-04-04T12:27:32.128Z"
   },
   {
    "duration": 20,
    "start_time": "2023-04-04T12:27:33.402Z"
   },
   {
    "duration": 14,
    "start_time": "2023-04-04T12:27:35.345Z"
   },
   {
    "duration": 5,
    "start_time": "2023-04-04T12:27:36.354Z"
   },
   {
    "duration": 10,
    "start_time": "2023-04-04T12:27:37.042Z"
   },
   {
    "duration": 104,
    "start_time": "2023-04-04T12:27:39.729Z"
   },
   {
    "duration": 38,
    "start_time": "2023-04-04T12:27:42.004Z"
   },
   {
    "duration": 308,
    "start_time": "2023-04-04T12:27:58.214Z"
   },
   {
    "duration": 2026,
    "start_time": "2023-04-04T12:28:03.149Z"
   },
   {
    "duration": 3121,
    "start_time": "2023-04-04T12:28:05.178Z"
   },
   {
    "duration": 334,
    "start_time": "2023-04-04T12:29:01.299Z"
   },
   {
    "duration": 2023,
    "start_time": "2023-04-04T12:29:12.465Z"
   },
   {
    "duration": 3427,
    "start_time": "2023-04-04T12:29:50.450Z"
   },
   {
    "duration": 49,
    "start_time": "2023-04-04T12:29:59.826Z"
   },
   {
    "duration": 4,
    "start_time": "2023-04-04T12:30:04.963Z"
   },
   {
    "duration": 12,
    "start_time": "2023-04-04T12:30:05.970Z"
   },
   {
    "duration": 3,
    "start_time": "2023-04-04T12:30:07.615Z"
   },
   {
    "duration": 8,
    "start_time": "2023-04-04T12:30:08.465Z"
   },
   {
    "duration": 75713,
    "start_time": "2023-04-04T12:30:11.503Z"
   },
   {
    "duration": 1327,
    "start_time": "2023-04-04T12:31:27.218Z"
   },
   {
    "duration": 14,
    "start_time": "2023-04-04T12:31:28.546Z"
   },
   {
    "duration": 29,
    "start_time": "2023-04-04T12:31:28.561Z"
   },
   {
    "duration": 434,
    "start_time": "2023-04-04T12:32:06.016Z"
   },
   {
    "duration": 374,
    "start_time": "2023-04-04T12:32:07.603Z"
   },
   {
    "duration": 470,
    "start_time": "2023-04-04T12:32:09.712Z"
   },
   {
    "duration": 27,
    "start_time": "2023-04-04T12:32:11.970Z"
   },
   {
    "duration": 107,
    "start_time": "2023-04-04T12:32:12.640Z"
   },
   {
    "duration": 5,
    "start_time": "2023-04-04T12:32:14.603Z"
   },
   {
    "duration": 9007,
    "start_time": "2023-04-04T12:32:16.277Z"
   },
   {
    "duration": 125892,
    "start_time": "2023-04-04T12:32:25.286Z"
   },
   {
    "duration": 1810,
    "start_time": "2023-04-04T12:34:31.179Z"
   },
   {
    "duration": 189,
    "start_time": "2023-04-04T12:34:32.991Z"
   },
   {
    "duration": 6,
    "start_time": "2023-04-04T12:34:33.181Z"
   },
   {
    "duration": 109,
    "start_time": "2023-04-04T12:35:00.529Z"
   },
   {
    "duration": 223,
    "start_time": "2023-04-04T12:35:01.217Z"
   },
   {
    "duration": 6,
    "start_time": "2023-04-04T12:35:02.354Z"
   },
   {
    "duration": 1085,
    "start_time": "2023-04-04T12:35:03.538Z"
   },
   {
    "duration": 83,
    "start_time": "2023-04-04T12:35:05.826Z"
   },
   {
    "duration": 5,
    "start_time": "2023-04-04T12:35:06.803Z"
   },
   {
    "duration": 192,
    "start_time": "2023-04-04T12:35:07.666Z"
   },
   {
    "duration": 6,
    "start_time": "2023-04-04T12:35:08.257Z"
   },
   {
    "duration": 9,
    "start_time": "2023-04-04T12:35:09.169Z"
   },
   {
    "duration": 77633,
    "start_time": "2023-04-04T12:38:34.218Z"
   },
   {
    "duration": 2051,
    "start_time": "2023-04-04T12:41:01.858Z"
   },
   {
    "duration": 410,
    "start_time": "2023-04-04T12:41:05.242Z"
   },
   {
    "duration": 349,
    "start_time": "2023-04-04T12:42:14.451Z"
   },
   {
    "duration": 452,
    "start_time": "2023-04-04T12:42:16.299Z"
   },
   {
    "duration": 71,
    "start_time": "2023-04-04T13:25:46.304Z"
   },
   {
    "duration": 75,
    "start_time": "2023-04-04T13:33:21.976Z"
   },
   {
    "duration": 122,
    "start_time": "2023-04-04T13:33:30.543Z"
   },
   {
    "duration": 5,
    "start_time": "2023-04-04T13:33:50.913Z"
   },
   {
    "duration": 5,
    "start_time": "2023-04-04T13:34:01.185Z"
   },
   {
    "duration": 164,
    "start_time": "2023-04-04T13:34:47.808Z"
   },
   {
    "duration": 4,
    "start_time": "2023-04-04T13:37:22.266Z"
   },
   {
    "duration": 4,
    "start_time": "2023-04-04T13:38:02.081Z"
   },
   {
    "duration": 4,
    "start_time": "2023-04-04T13:40:45.648Z"
   },
   {
    "duration": 425,
    "start_time": "2023-04-04T13:41:12.563Z"
   },
   {
    "duration": 112,
    "start_time": "2023-04-04T13:41:49.522Z"
   },
   {
    "duration": 4,
    "start_time": "2023-04-04T13:41:56.482Z"
   },
   {
    "duration": 78303,
    "start_time": "2023-04-04T13:41:57.217Z"
   },
   {
    "duration": 3,
    "start_time": "2023-04-04T13:43:15.522Z"
   },
   {
    "duration": 20,
    "start_time": "2023-04-04T13:43:15.527Z"
   },
   {
    "duration": 4,
    "start_time": "2023-04-04T13:43:41.857Z"
   },
   {
    "duration": 14,
    "start_time": "2023-04-04T13:43:45.291Z"
   },
   {
    "duration": 9,
    "start_time": "2023-04-04T13:43:50.420Z"
   },
   {
    "duration": 14,
    "start_time": "2023-04-04T13:43:51.090Z"
   },
   {
    "duration": 3,
    "start_time": "2023-04-04T13:44:04.786Z"
   },
   {
    "duration": 5,
    "start_time": "2023-04-04T13:44:16.586Z"
   },
   {
    "duration": 77840,
    "start_time": "2023-04-04T13:44:19.010Z"
   },
   {
    "duration": 3,
    "start_time": "2023-04-04T13:45:36.852Z"
   },
   {
    "duration": 25,
    "start_time": "2023-04-04T13:45:36.856Z"
   },
   {
    "duration": 4,
    "start_time": "2023-04-04T13:46:27.986Z"
   },
   {
    "duration": 78246,
    "start_time": "2023-04-04T13:46:28.979Z"
   },
   {
    "duration": 5,
    "start_time": "2023-04-04T13:48:11.221Z"
   },
   {
    "duration": 11,
    "start_time": "2023-04-04T13:48:11.668Z"
   },
   {
    "duration": 11,
    "start_time": "2023-04-04T13:50:24.514Z"
   },
   {
    "duration": 3,
    "start_time": "2023-04-04T13:51:43.010Z"
   },
   {
    "duration": 11,
    "start_time": "2023-04-04T13:51:43.874Z"
   },
   {
    "duration": 4,
    "start_time": "2023-04-04T13:51:49.522Z"
   },
   {
    "duration": 9,
    "start_time": "2023-04-04T13:51:50.003Z"
   },
   {
    "duration": 4,
    "start_time": "2023-04-04T13:51:51.827Z"
   },
   {
    "duration": 10,
    "start_time": "2023-04-04T13:51:52.530Z"
   },
   {
    "duration": 407,
    "start_time": "2023-04-04T13:52:31.730Z"
   },
   {
    "duration": 37,
    "start_time": "2023-04-04T13:53:10.627Z"
   },
   {
    "duration": 172,
    "start_time": "2023-04-04T13:53:12.737Z"
   },
   {
    "duration": 7,
    "start_time": "2023-04-04T13:53:17.490Z"
   },
   {
    "duration": 106738,
    "start_time": "2023-04-04T13:53:42.130Z"
   },
   {
    "duration": 3363,
    "start_time": "2023-04-04T13:56:01.650Z"
   },
   {
    "duration": 267,
    "start_time": "2023-04-04T13:56:05.015Z"
   },
   {
    "duration": 5,
    "start_time": "2023-04-04T13:56:05.286Z"
   },
   {
    "duration": 222,
    "start_time": "2023-04-04T13:56:26.259Z"
   },
   {
    "duration": 106,
    "start_time": "2023-04-04T13:56:36.358Z"
   },
   {
    "duration": 150,
    "start_time": "2023-04-04T13:56:44.849Z"
   },
   {
    "duration": 321,
    "start_time": "2023-04-04T13:57:19.635Z"
   },
   {
    "duration": 7,
    "start_time": "2023-04-04T13:57:20.723Z"
   },
   {
    "duration": 1118,
    "start_time": "2023-04-04T13:58:09.538Z"
   },
   {
    "duration": 164,
    "start_time": "2023-04-04T13:58:10.659Z"
   },
   {
    "duration": 5,
    "start_time": "2023-04-04T13:58:18.531Z"
   },
   {
    "duration": 296,
    "start_time": "2023-04-04T13:58:19.443Z"
   },
   {
    "duration": 7,
    "start_time": "2023-04-04T13:58:21.105Z"
   },
   {
    "duration": 9,
    "start_time": "2023-04-04T13:58:21.866Z"
   },
   {
    "duration": 1782,
    "start_time": "2023-04-04T13:59:08.771Z"
   },
   {
    "duration": 59,
    "start_time": "2023-04-04T13:59:10.555Z"
   },
   {
    "duration": 6,
    "start_time": "2023-04-04T13:59:10.615Z"
   },
   {
    "duration": 21,
    "start_time": "2023-04-04T13:59:11.410Z"
   },
   {
    "duration": 16,
    "start_time": "2023-04-04T13:59:13.746Z"
   },
   {
    "duration": 7,
    "start_time": "2023-04-04T13:59:19.860Z"
   },
   {
    "duration": 12,
    "start_time": "2023-04-04T14:00:10.243Z"
   },
   {
    "duration": 111,
    "start_time": "2023-04-04T14:00:17.553Z"
   },
   {
    "duration": 1419,
    "start_time": "2023-04-04T14:00:26.922Z"
   },
   {
    "duration": 48,
    "start_time": "2023-04-04T14:00:28.343Z"
   },
   {
    "duration": 6,
    "start_time": "2023-04-04T14:00:28.392Z"
   },
   {
    "duration": 46,
    "start_time": "2023-04-04T14:00:28.400Z"
   },
   {
    "duration": 16,
    "start_time": "2023-04-04T14:00:29.259Z"
   },
   {
    "duration": 6,
    "start_time": "2023-04-04T14:00:29.818Z"
   },
   {
    "duration": 13,
    "start_time": "2023-04-04T14:00:30.600Z"
   },
   {
    "duration": 136,
    "start_time": "2023-04-04T14:00:36.124Z"
   },
   {
    "duration": 41,
    "start_time": "2023-04-04T14:00:47.674Z"
   },
   {
    "duration": 4,
    "start_time": "2023-04-04T14:00:54.602Z"
   },
   {
    "duration": 391,
    "start_time": "2023-04-04T14:00:56.200Z"
   },
   {
    "duration": 4,
    "start_time": "2023-04-04T14:01:01.674Z"
   },
   {
    "duration": 77781,
    "start_time": "2023-04-04T14:01:06.793Z"
   },
   {
    "duration": 0,
    "start_time": "2023-04-04T14:02:24.578Z"
   },
   {
    "duration": 4,
    "start_time": "2023-04-04T14:04:12.503Z"
   },
   {
    "duration": 134,
    "start_time": "2023-04-04T14:04:13.111Z"
   },
   {
    "duration": 4,
    "start_time": "2023-04-04T14:04:34.024Z"
   },
   {
    "duration": 76189,
    "start_time": "2023-04-04T14:04:34.535Z"
   },
   {
    "duration": 4,
    "start_time": "2023-04-04T14:06:37.576Z"
   },
   {
    "duration": 318,
    "start_time": "2023-04-04T14:06:38.295Z"
   },
   {
    "duration": 4,
    "start_time": "2023-04-04T14:06:48.199Z"
   },
   {
    "duration": 78260,
    "start_time": "2023-04-04T14:06:50.952Z"
   },
   {
    "duration": 3,
    "start_time": "2023-04-04T14:08:09.214Z"
   },
   {
    "duration": 762,
    "start_time": "2023-04-04T14:08:09.219Z"
   },
   {
    "duration": 3,
    "start_time": "2023-04-04T14:08:35.399Z"
   },
   {
    "duration": 51,
    "start_time": "2023-04-04T14:08:35.927Z"
   },
   {
    "duration": 3,
    "start_time": "2023-04-04T14:10:44.214Z"
   },
   {
    "duration": 8,
    "start_time": "2023-04-04T14:11:38.725Z"
   },
   {
    "duration": 5,
    "start_time": "2023-04-04T14:12:23.286Z"
   },
   {
    "duration": 4,
    "start_time": "2023-04-04T14:12:26.726Z"
   },
   {
    "duration": 19,
    "start_time": "2023-04-04T14:12:46.167Z"
   },
   {
    "duration": 328,
    "start_time": "2023-04-04T14:13:01.141Z"
   },
   {
    "duration": 16,
    "start_time": "2023-04-04T14:13:43.270Z"
   },
   {
    "duration": 3,
    "start_time": "2023-04-04T14:13:52.438Z"
   },
   {
    "duration": 10,
    "start_time": "2023-04-04T14:13:53.192Z"
   },
   {
    "duration": 4,
    "start_time": "2023-04-04T14:13:54.422Z"
   },
   {
    "duration": 9,
    "start_time": "2023-04-04T14:13:55.116Z"
   },
   {
    "duration": 430,
    "start_time": "2023-04-04T14:13:58.501Z"
   },
   {
    "duration": 4,
    "start_time": "2023-04-04T14:14:06.021Z"
   },
   {
    "duration": 26,
    "start_time": "2023-04-04T14:14:08.090Z"
   },
   {
    "duration": 9,
    "start_time": "2023-04-04T14:14:09.750Z"
   },
   {
    "duration": 11,
    "start_time": "2023-04-04T14:14:38.550Z"
   },
   {
    "duration": 5,
    "start_time": "2023-04-04T14:15:24.137Z"
   },
   {
    "duration": 27,
    "start_time": "2023-04-04T14:15:24.725Z"
   },
   {
    "duration": 102,
    "start_time": "2023-04-04T14:15:25.397Z"
   },
   {
    "duration": 9,
    "start_time": "2023-04-04T14:15:33.157Z"
   },
   {
    "duration": 5,
    "start_time": "2023-04-04T14:16:06.373Z"
   },
   {
    "duration": 28,
    "start_time": "2023-04-04T14:16:08.356Z"
   },
   {
    "duration": 119,
    "start_time": "2023-04-04T14:16:10.053Z"
   },
   {
    "duration": 5,
    "start_time": "2023-04-04T14:16:41.087Z"
   },
   {
    "duration": 29,
    "start_time": "2023-04-04T14:16:41.958Z"
   },
   {
    "duration": 118,
    "start_time": "2023-04-04T14:16:42.469Z"
   },
   {
    "duration": 5,
    "start_time": "2023-04-04T14:17:19.388Z"
   },
   {
    "duration": 29,
    "start_time": "2023-04-04T14:17:19.797Z"
   },
   {
    "duration": 5,
    "start_time": "2023-04-04T14:17:49.140Z"
   },
   {
    "duration": 32,
    "start_time": "2023-04-04T14:17:49.764Z"
   },
   {
    "duration": 127,
    "start_time": "2023-04-04T14:17:50.436Z"
   },
   {
    "duration": 107155,
    "start_time": "2023-04-04T14:18:07.300Z"
   },
   {
    "duration": 1293,
    "start_time": "2023-04-04T14:20:09.749Z"
   },
   {
    "duration": 160,
    "start_time": "2023-04-04T14:20:39.727Z"
   },
   {
    "duration": 88,
    "start_time": "2023-04-04T14:21:49.493Z"
   },
   {
    "duration": 17,
    "start_time": "2023-04-04T14:22:28.469Z"
   },
   {
    "duration": 13,
    "start_time": "2023-04-04T14:24:06.516Z"
   },
   {
    "duration": 290,
    "start_time": "2023-04-04T14:24:11.786Z"
   },
   {
    "duration": 5,
    "start_time": "2023-04-04T14:28:01.973Z"
   },
   {
    "duration": 29,
    "start_time": "2023-04-04T14:28:02.963Z"
   },
   {
    "duration": 120,
    "start_time": "2023-04-04T14:28:22.853Z"
   },
   {
    "duration": 4,
    "start_time": "2023-04-04T14:29:34.869Z"
   },
   {
    "duration": 27,
    "start_time": "2023-04-04T14:29:35.859Z"
   },
   {
    "duration": 8,
    "start_time": "2023-04-04T14:29:36.743Z"
   },
   {
    "duration": 4,
    "start_time": "2023-04-04T14:30:12.676Z"
   },
   {
    "duration": 29,
    "start_time": "2023-04-04T14:30:13.731Z"
   },
   {
    "duration": 101,
    "start_time": "2023-04-04T14:30:14.899Z"
   },
   {
    "duration": 148,
    "start_time": "2023-04-04T14:30:47.157Z"
   },
   {
    "duration": 17,
    "start_time": "2023-04-04T14:30:54.997Z"
   },
   {
    "duration": 13,
    "start_time": "2023-04-04T14:30:56.453Z"
   },
   {
    "duration": 7,
    "start_time": "2023-04-04T14:30:58.003Z"
   },
   {
    "duration": 284,
    "start_time": "2023-04-04T14:31:13.155Z"
   },
   {
    "duration": 921,
    "start_time": "2023-04-04T14:31:46.407Z"
   },
   {
    "duration": 50,
    "start_time": "2023-04-04T14:31:49.812Z"
   },
   {
    "duration": 5,
    "start_time": "2023-04-04T14:31:56.324Z"
   },
   {
    "duration": 164,
    "start_time": "2023-04-04T14:33:15.461Z"
   },
   {
    "duration": 12,
    "start_time": "2023-04-04T14:33:28.316Z"
   },
   {
    "duration": 19,
    "start_time": "2023-04-04T14:36:52.052Z"
   },
   {
    "duration": 3,
    "start_time": "2023-04-04T14:37:11.814Z"
   },
   {
    "duration": 18,
    "start_time": "2023-04-04T14:37:12.294Z"
   },
   {
    "duration": 15,
    "start_time": "2023-04-04T14:37:12.806Z"
   },
   {
    "duration": 3,
    "start_time": "2023-04-04T14:37:27.788Z"
   },
   {
    "duration": 60,
    "start_time": "2023-04-04T14:37:28.116Z"
   },
   {
    "duration": 9,
    "start_time": "2023-04-04T14:38:00.661Z"
   },
   {
    "duration": 18,
    "start_time": "2023-04-04T14:38:15.956Z"
   },
   {
    "duration": 19,
    "start_time": "2023-04-04T14:38:38.080Z"
   },
   {
    "duration": 5,
    "start_time": "2023-04-04T14:38:42.052Z"
   },
   {
    "duration": 177,
    "start_time": "2023-04-04T14:46:25.799Z"
   },
   {
    "duration": 3,
    "start_time": "2023-04-04T14:46:29.063Z"
   },
   {
    "duration": 98,
    "start_time": "2023-04-04T14:46:30.984Z"
   },
   {
    "duration": 86,
    "start_time": "2023-04-04T14:47:25.687Z"
   },
   {
    "duration": 3,
    "start_time": "2023-04-04T14:48:00.711Z"
   },
   {
    "duration": 184,
    "start_time": "2023-04-04T14:48:01.190Z"
   },
   {
    "duration": 4,
    "start_time": "2023-04-04T14:48:12.055Z"
   },
   {
    "duration": 100,
    "start_time": "2023-04-04T14:48:12.575Z"
   },
   {
    "duration": 16,
    "start_time": "2023-04-04T14:48:13.164Z"
   },
   {
    "duration": 67,
    "start_time": "2023-04-04T14:49:16.504Z"
   },
   {
    "duration": 3,
    "start_time": "2023-04-04T14:49:20.087Z"
   },
   {
    "duration": 25,
    "start_time": "2023-04-04T14:49:21.351Z"
   },
   {
    "duration": 3,
    "start_time": "2023-04-04T14:49:32.376Z"
   },
   {
    "duration": 87,
    "start_time": "2023-04-04T14:49:32.986Z"
   },
   {
    "duration": 48,
    "start_time": "2023-04-04T14:49:34.326Z"
   },
   {
    "duration": 3,
    "start_time": "2023-04-04T14:49:48.536Z"
   },
   {
    "duration": 89,
    "start_time": "2023-04-04T14:49:48.985Z"
   },
   {
    "duration": 6,
    "start_time": "2023-04-04T14:49:53.958Z"
   },
   {
    "duration": 11,
    "start_time": "2023-04-04T14:49:54.503Z"
   },
   {
    "duration": 4,
    "start_time": "2023-04-04T14:49:55.542Z"
   },
   {
    "duration": 14,
    "start_time": "2023-04-04T14:49:56.135Z"
   },
   {
    "duration": 430,
    "start_time": "2023-04-04T14:49:57.846Z"
   },
   {
    "duration": 5,
    "start_time": "2023-04-04T14:49:59.319Z"
   },
   {
    "duration": 27,
    "start_time": "2023-04-04T14:50:00.519Z"
   },
   {
    "duration": 102,
    "start_time": "2023-04-04T14:50:01.415Z"
   },
   {
    "duration": 103992,
    "start_time": "2023-04-04T14:50:02.887Z"
   },
   {
    "duration": 1278,
    "start_time": "2023-04-04T14:52:22.423Z"
   },
   {
    "duration": 152,
    "start_time": "2023-04-04T14:52:23.703Z"
   },
   {
    "duration": 120,
    "start_time": "2023-04-04T14:52:23.857Z"
   },
   {
    "duration": 24,
    "start_time": "2023-04-04T14:52:24.060Z"
   },
   {
    "duration": 253,
    "start_time": "2023-04-04T14:52:24.795Z"
   },
   {
    "duration": 904,
    "start_time": "2023-04-04T14:52:26.599Z"
   },
   {
    "duration": 49,
    "start_time": "2023-04-04T14:52:27.504Z"
   },
   {
    "duration": 142,
    "start_time": "2023-04-04T14:52:27.751Z"
   },
   {
    "duration": 2459,
    "start_time": "2023-04-05T06:40:23.874Z"
   },
   {
    "duration": 201,
    "start_time": "2023-04-05T06:40:26.335Z"
   },
   {
    "duration": 10,
    "start_time": "2023-04-05T06:40:26.538Z"
   },
   {
    "duration": 30,
    "start_time": "2023-04-05T06:40:26.550Z"
   },
   {
    "duration": 18,
    "start_time": "2023-04-05T06:40:26.582Z"
   },
   {
    "duration": 7,
    "start_time": "2023-04-05T06:40:26.672Z"
   },
   {
    "duration": 14,
    "start_time": "2023-04-05T06:40:27.208Z"
   },
   {
    "duration": 162,
    "start_time": "2023-04-05T06:40:29.217Z"
   },
   {
    "duration": 51,
    "start_time": "2023-04-05T06:40:31.233Z"
   },
   {
    "duration": 4,
    "start_time": "2023-04-05T06:40:39.153Z"
   },
   {
    "duration": 375,
    "start_time": "2023-04-05T06:40:39.841Z"
   },
   {
    "duration": 5,
    "start_time": "2023-04-05T06:40:41.665Z"
   },
   {
    "duration": 84120,
    "start_time": "2023-04-05T06:40:42.834Z"
   },
   {
    "duration": 635,
    "start_time": "2023-04-05T06:42:06.956Z"
   },
   {
    "duration": 6,
    "start_time": "2023-04-05T06:42:07.593Z"
   },
   {
    "duration": 63,
    "start_time": "2023-04-05T06:50:32.931Z"
   },
   {
    "duration": 5,
    "start_time": "2023-04-05T06:50:33.666Z"
   },
   {
    "duration": 4,
    "start_time": "2023-04-05T06:50:45.730Z"
   },
   {
    "duration": 136,
    "start_time": "2023-04-05T06:50:46.353Z"
   },
   {
    "duration": 5,
    "start_time": "2023-04-05T06:50:56.178Z"
   },
   {
    "duration": 11,
    "start_time": "2023-04-05T06:50:56.706Z"
   },
   {
    "duration": 4,
    "start_time": "2023-04-05T06:50:57.762Z"
   },
   {
    "duration": 11,
    "start_time": "2023-04-05T06:50:58.434Z"
   },
   {
    "duration": 473,
    "start_time": "2023-04-05T06:51:02.163Z"
   },
   {
    "duration": 5,
    "start_time": "2023-04-05T06:51:04.306Z"
   },
   {
    "duration": 32,
    "start_time": "2023-04-05T06:51:05.426Z"
   },
   {
    "duration": 129,
    "start_time": "2023-04-05T06:51:06.850Z"
   },
   {
    "duration": 121755,
    "start_time": "2023-04-05T06:52:08.467Z"
   },
   {
    "duration": 78,
    "start_time": "2023-04-05T06:54:10.224Z"
   },
   {
    "duration": 276,
    "start_time": "2023-04-05T06:56:21.862Z"
   },
   {
    "duration": 55577,
    "start_time": "2023-04-05T06:56:23.122Z"
   },
   {
    "duration": 102,
    "start_time": "2023-04-05T06:57:18.702Z"
   },
   {
    "duration": 4,
    "start_time": "2023-04-05T07:00:39.067Z"
   },
   {
    "duration": 1000,
    "start_time": "2023-04-05T07:01:39.007Z"
   },
   {
    "duration": 131,
    "start_time": "2023-04-05T07:01:47.266Z"
   },
   {
    "duration": 72,
    "start_time": "2023-04-05T07:02:02.308Z"
   },
   {
    "duration": 217,
    "start_time": "2023-04-05T07:02:31.315Z"
   },
   {
    "duration": 72,
    "start_time": "2023-04-05T07:02:33.808Z"
   },
   {
    "duration": 944,
    "start_time": "2023-04-05T07:04:05.117Z"
   },
   {
    "duration": 997,
    "start_time": "2023-04-05T07:04:06.063Z"
   },
   {
    "duration": 1281,
    "start_time": "2023-04-05T07:04:39.988Z"
   },
   {
    "duration": 1189,
    "start_time": "2023-04-05T07:04:48.581Z"
   },
   {
    "duration": 329,
    "start_time": "2023-04-05T07:05:42.452Z"
   },
   {
    "duration": 130,
    "start_time": "2023-04-05T07:07:13.245Z"
   },
   {
    "duration": 15,
    "start_time": "2023-04-05T07:07:19.642Z"
   },
   {
    "duration": 105,
    "start_time": "2023-04-05T07:07:25.365Z"
   },
   {
    "duration": 118,
    "start_time": "2023-04-05T07:09:43.502Z"
   },
   {
    "duration": 166,
    "start_time": "2023-04-05T07:09:44.732Z"
   },
   {
    "duration": 2367,
    "start_time": "2023-04-05T07:21:19.632Z"
   },
   {
    "duration": 97,
    "start_time": "2023-04-05T07:21:22.008Z"
   },
   {
    "duration": 13,
    "start_time": "2023-04-05T07:21:22.112Z"
   },
   {
    "duration": 146,
    "start_time": "2023-04-05T07:21:22.132Z"
   },
   {
    "duration": 89,
    "start_time": "2023-04-05T07:21:22.280Z"
   },
   {
    "duration": 6,
    "start_time": "2023-04-05T07:21:22.371Z"
   },
   {
    "duration": 33,
    "start_time": "2023-04-05T07:21:22.820Z"
   },
   {
    "duration": 281,
    "start_time": "2023-04-05T07:21:24.543Z"
   },
   {
    "duration": 76,
    "start_time": "2023-04-05T07:21:26.931Z"
   },
   {
    "duration": 5,
    "start_time": "2023-04-05T07:21:28.476Z"
   },
   {
    "duration": 508,
    "start_time": "2023-04-05T07:21:28.970Z"
   },
   {
    "duration": 10,
    "start_time": "2023-04-05T07:21:30.475Z"
   },
   {
    "duration": 117427,
    "start_time": "2023-04-05T07:21:31.065Z"
   },
   {
    "duration": 7,
    "start_time": "2023-04-05T07:23:28.494Z"
   },
   {
    "duration": 142,
    "start_time": "2023-04-05T07:23:28.505Z"
   },
   {
    "duration": 29,
    "start_time": "2023-04-05T07:23:28.687Z"
   },
   {
    "duration": 38,
    "start_time": "2023-04-05T07:23:28.738Z"
   },
   {
    "duration": 695,
    "start_time": "2023-04-05T07:23:28.778Z"
   },
   {
    "duration": 178332,
    "start_time": "2023-04-05T07:23:29.475Z"
   },
   {
    "duration": 107,
    "start_time": "2023-04-05T07:26:27.811Z"
   },
   {
    "duration": 220,
    "start_time": "2023-04-05T07:26:27.930Z"
   },
   {
    "duration": 0,
    "start_time": "2023-04-05T07:26:28.152Z"
   },
   {
    "duration": 1,
    "start_time": "2023-04-05T07:26:28.153Z"
   },
   {
    "duration": 0,
    "start_time": "2023-04-05T07:26:28.155Z"
   },
   {
    "duration": 0,
    "start_time": "2023-04-05T07:26:28.157Z"
   },
   {
    "duration": 0,
    "start_time": "2023-04-05T07:26:28.159Z"
   },
   {
    "duration": 0,
    "start_time": "2023-04-05T07:26:28.160Z"
   },
   {
    "duration": 2772,
    "start_time": "2023-04-05T07:27:39.722Z"
   },
   {
    "duration": 111,
    "start_time": "2023-04-05T07:27:42.497Z"
   },
   {
    "duration": 44,
    "start_time": "2023-04-05T07:27:42.616Z"
   },
   {
    "duration": 122,
    "start_time": "2023-04-05T07:27:42.665Z"
   },
   {
    "duration": 95,
    "start_time": "2023-04-05T07:27:42.790Z"
   },
   {
    "duration": 85,
    "start_time": "2023-04-05T07:27:42.895Z"
   },
   {
    "duration": 187,
    "start_time": "2023-04-05T07:27:42.987Z"
   },
   {
    "duration": 240,
    "start_time": "2023-04-05T07:27:44.044Z"
   },
   {
    "duration": 110,
    "start_time": "2023-04-05T07:27:45.810Z"
   },
   {
    "duration": 5,
    "start_time": "2023-04-05T07:27:47.076Z"
   },
   {
    "duration": 746,
    "start_time": "2023-04-05T07:27:47.589Z"
   },
   {
    "duration": 10,
    "start_time": "2023-04-05T07:27:49.222Z"
   },
   {
    "duration": 120293,
    "start_time": "2023-04-05T07:27:49.751Z"
   },
   {
    "duration": 4,
    "start_time": "2023-04-05T07:29:50.046Z"
   },
   {
    "duration": 163,
    "start_time": "2023-04-05T07:29:50.052Z"
   },
   {
    "duration": 9,
    "start_time": "2023-04-05T07:29:50.223Z"
   },
   {
    "duration": 25,
    "start_time": "2023-04-05T07:29:50.237Z"
   },
   {
    "duration": 841,
    "start_time": "2023-04-05T07:29:50.265Z"
   },
   {
    "duration": 161595,
    "start_time": "2023-04-05T07:29:51.108Z"
   },
   {
    "duration": 187,
    "start_time": "2023-04-05T07:32:32.706Z"
   },
   {
    "duration": 11,
    "start_time": "2023-04-05T07:32:32.901Z"
   },
   {
    "duration": 60,
    "start_time": "2023-04-05T07:32:32.915Z"
   },
   {
    "duration": 119,
    "start_time": "2023-04-05T07:32:32.977Z"
   },
   {
    "duration": 0,
    "start_time": "2023-04-05T07:32:33.098Z"
   },
   {
    "duration": 0,
    "start_time": "2023-04-05T07:32:33.100Z"
   },
   {
    "duration": 0,
    "start_time": "2023-04-05T07:32:33.101Z"
   },
   {
    "duration": 0,
    "start_time": "2023-04-05T07:32:33.104Z"
   },
   {
    "duration": 0,
    "start_time": "2023-04-05T07:32:33.106Z"
   },
   {
    "duration": 0,
    "start_time": "2023-04-05T07:32:33.107Z"
   },
   {
    "duration": 0,
    "start_time": "2023-04-05T07:32:33.109Z"
   },
   {
    "duration": 0,
    "start_time": "2023-04-05T07:32:33.110Z"
   },
   {
    "duration": 0,
    "start_time": "2023-04-05T07:32:33.112Z"
   },
   {
    "duration": 505,
    "start_time": "2023-04-05T07:32:58.708Z"
   },
   {
    "duration": 90445,
    "start_time": "2023-04-05T07:33:05.224Z"
   },
   {
    "duration": 106,
    "start_time": "2023-04-05T07:34:35.683Z"
   },
   {
    "duration": 8,
    "start_time": "2023-04-05T07:46:11.905Z"
   },
   {
    "duration": 884,
    "start_time": "2023-04-05T07:46:41.326Z"
   },
   {
    "duration": 452,
    "start_time": "2023-04-05T07:46:42.218Z"
   },
   {
    "duration": 167765,
    "start_time": "2023-04-05T07:46:42.672Z"
   },
   {
    "duration": 87525,
    "start_time": "2023-04-05T07:49:30.439Z"
   },
   {
    "duration": 129,
    "start_time": "2023-04-05T07:50:57.967Z"
   },
   {
    "duration": 133,
    "start_time": "2023-04-05T07:50:58.114Z"
   },
   {
    "duration": 7,
    "start_time": "2023-04-05T11:45:37.538Z"
   },
   {
    "duration": 31,
    "start_time": "2023-04-05T11:46:58.741Z"
   },
   {
    "duration": 165,
    "start_time": "2023-04-05T11:47:00.276Z"
   },
   {
    "duration": 1764,
    "start_time": "2023-04-05T11:47:02.230Z"
   },
   {
    "duration": 259,
    "start_time": "2023-04-05T11:47:04.260Z"
   },
   {
    "duration": 19,
    "start_time": "2023-04-05T11:47:07.836Z"
   },
   {
    "duration": 339,
    "start_time": "2023-04-05T11:47:09.255Z"
   },
   {
    "duration": 1603,
    "start_time": "2023-04-05T11:50:11.059Z"
   },
   {
    "duration": 275,
    "start_time": "2023-04-05T11:50:12.665Z"
   },
   {
    "duration": 1255,
    "start_time": "2023-04-05T11:50:41.512Z"
   },
   {
    "duration": 1778,
    "start_time": "2023-04-05T11:51:27.153Z"
   },
   {
    "duration": 2144,
    "start_time": "2023-04-05T11:51:31.862Z"
   },
   {
    "duration": 2003,
    "start_time": "2023-04-05T11:52:51.238Z"
   },
   {
    "duration": 1448,
    "start_time": "2023-04-05T11:53:11.252Z"
   },
   {
    "duration": 225,
    "start_time": "2023-04-05T11:53:12.702Z"
   },
   {
    "duration": 1811,
    "start_time": "2023-04-05T11:55:18.348Z"
   },
   {
    "duration": 79,
    "start_time": "2023-04-05T11:55:20.162Z"
   },
   {
    "duration": 13,
    "start_time": "2023-04-05T11:55:20.251Z"
   },
   {
    "duration": 78,
    "start_time": "2023-04-05T11:55:20.267Z"
   },
   {
    "duration": 43,
    "start_time": "2023-04-05T11:55:21.083Z"
   },
   {
    "duration": 7,
    "start_time": "2023-04-05T11:55:21.675Z"
   },
   {
    "duration": 32,
    "start_time": "2023-04-05T11:55:22.218Z"
   },
   {
    "duration": 214,
    "start_time": "2023-04-05T11:55:23.740Z"
   },
   {
    "duration": 74,
    "start_time": "2023-04-05T11:55:25.652Z"
   },
   {
    "duration": 12,
    "start_time": "2023-04-05T11:55:27.110Z"
   },
   {
    "duration": 647,
    "start_time": "2023-04-05T11:55:27.578Z"
   },
   {
    "duration": 5,
    "start_time": "2023-04-05T11:55:28.555Z"
   },
   {
    "duration": 1707,
    "start_time": "2023-04-05T12:55:46.470Z"
   },
   {
    "duration": 78,
    "start_time": "2023-04-05T12:55:48.179Z"
   },
   {
    "duration": 6,
    "start_time": "2023-04-05T12:55:48.534Z"
   },
   {
    "duration": 43,
    "start_time": "2023-04-05T12:55:49.478Z"
   },
   {
    "duration": 20,
    "start_time": "2023-04-05T12:55:51.144Z"
   },
   {
    "duration": 5,
    "start_time": "2023-04-05T12:55:51.957Z"
   },
   {
    "duration": 15,
    "start_time": "2023-04-05T12:55:52.716Z"
   },
   {
    "duration": 155,
    "start_time": "2023-04-05T12:55:55.113Z"
   },
   {
    "duration": 73,
    "start_time": "2023-04-05T12:55:59.191Z"
   },
   {
    "duration": 5,
    "start_time": "2023-04-05T12:56:01.626Z"
   },
   {
    "duration": 563,
    "start_time": "2023-04-05T12:56:02.610Z"
   },
   {
    "duration": 8,
    "start_time": "2023-04-05T12:56:05.018Z"
   },
   {
    "duration": 94121,
    "start_time": "2023-04-05T12:56:06.182Z"
   },
   {
    "duration": 4,
    "start_time": "2023-04-05T13:05:46.512Z"
   },
   {
    "duration": 76,
    "start_time": "2023-04-05T13:05:47.011Z"
   },
   {
    "duration": 5,
    "start_time": "2023-04-05T13:05:49.531Z"
   },
   {
    "duration": 11,
    "start_time": "2023-04-05T13:05:50.139Z"
   },
   {
    "duration": 707,
    "start_time": "2023-04-05T13:05:51.228Z"
   },
   {
    "duration": 118168,
    "start_time": "2023-04-05T13:05:52.317Z"
   },
   {
    "duration": 104,
    "start_time": "2023-04-05T13:07:50.488Z"
   },
   {
    "duration": 89,
    "start_time": "2023-04-05T13:07:50.599Z"
   },
   {
    "duration": 38,
    "start_time": "2023-04-05T13:07:50.691Z"
   },
   {
    "duration": 324,
    "start_time": "2023-04-05T13:07:50.730Z"
   },
   {
    "duration": 55861,
    "start_time": "2023-04-05T13:07:51.055Z"
   },
   {
    "duration": 70,
    "start_time": "2023-04-05T13:08:46.918Z"
   },
   {
    "duration": 796,
    "start_time": "2023-04-05T13:08:46.991Z"
   },
   {
    "duration": 352,
    "start_time": "2023-04-05T13:08:47.790Z"
   },
   {
    "duration": 120205,
    "start_time": "2023-04-05T13:08:48.144Z"
   },
   {
    "duration": 57831,
    "start_time": "2023-04-05T13:10:48.351Z"
   },
   {
    "duration": 110,
    "start_time": "2023-04-05T13:11:46.183Z"
   },
   {
    "duration": 110,
    "start_time": "2023-04-05T13:11:46.305Z"
   },
   {
    "duration": 5,
    "start_time": "2023-04-05T13:13:34.208Z"
   },
   {
    "duration": 29,
    "start_time": "2023-04-05T13:13:34.904Z"
   },
   {
    "duration": 137,
    "start_time": "2023-04-05T13:13:36.021Z"
   },
   {
    "duration": 1353,
    "start_time": "2023-04-05T13:13:36.753Z"
   },
   {
    "duration": 215,
    "start_time": "2023-04-05T13:13:38.108Z"
   },
   {
    "duration": 17,
    "start_time": "2023-04-05T13:13:40.100Z"
   },
   {
    "duration": 313,
    "start_time": "2023-04-05T13:13:40.880Z"
   },
   {
    "duration": 1711,
    "start_time": "2023-04-05T13:13:42.641Z"
   },
   {
    "duration": 265,
    "start_time": "2023-04-05T13:13:44.354Z"
   }
  ],
  "kernelspec": {
   "display_name": "Python 3 (ipykernel)",
   "language": "python",
   "name": "python3"
  },
  "language_info": {
   "codemirror_mode": {
    "name": "ipython",
    "version": 3
   },
   "file_extension": ".py",
   "mimetype": "text/x-python",
   "name": "python",
   "nbconvert_exporter": "python",
   "pygments_lexer": "ipython3",
   "version": "3.9.5"
  },
  "toc": {
   "base_numbering": 1,
   "nav_menu": {},
   "number_sections": true,
   "sideBar": true,
   "skip_h1_title": true,
   "title_cell": "Содержание",
   "title_sidebar": "Contents",
   "toc_cell": true,
   "toc_position": {
    "height": "calc(100% - 180px)",
    "left": "10px",
    "top": "150px",
    "width": "165px"
   },
   "toc_section_display": true,
   "toc_window_display": true
  }
 },
 "nbformat": 4,
 "nbformat_minor": 2
}
