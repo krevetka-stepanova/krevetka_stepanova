{
 "cells": [
  {
   "cell_type": "markdown",
   "metadata": {},
   "source": [
    "# Определение стоимости автомобилей¶"
   ]
  },
  {
   "cell_type": "markdown",
   "metadata": {},
   "source": [
    "<b>Сервис по продаже автомобилей с пробегом «Не бит, не крашен» разрабатывает приложение для привлечения новых клиентов. В нём можно быстро узнать рыночную стоимость своего автомобиля. В вашем распоряжении исторические данные: технические характеристики, комплектации и цены автомобилей. Вам нужно построить модель для определения стоимости. <b>\n",
    "\n",
    "Заказчику важны:\n",
    "\n",
    "- качество предсказания;\n",
    "    \n",
    "- скорость предсказания;\n",
    "    \n",
    "- время обучения."
   ]
  },
  {
   "cell_type": "markdown",
   "metadata": {},
   "source": [
    "<b>В моем распоряжении данные о технических характеристиках, комплектации и ценах других авто-мобилей.\n",
    "\n",
    "Задача: построить модель, которая умеет определять стоимость автомобиля.\n",
    "    \n",
    "Для целей исследования я собираюсь изучить данные, проанализировать их. подготовить к обучению и обучить пять моделей, а затем сравнить их характеристики: время обучения, время предсказания, точность результата.\n",
    "\n",
    "Точность модели я буду оценивать по метрике RMSE по условиям задачи она должа быть менее 2500.<b/>"
   ]
  },
  {
   "cell_type": "markdown",
   "metadata": {},
   "source": [
    "<b>Признаки: <b/>\n",
    "    \n",
    "    •\tDateCrawled — дата скачивания анкеты из базы\n",
    "    \n",
    "    •\tVehicleType — тип автомобильного кузова\n",
    "    \n",
    "    •\tRegistrationYear — год регистрации автомобиля\n",
    "    \n",
    "    •\tGearbox — тип коробки передач\n",
    "    \n",
    "    •\tPower — мощность (л. с.)\n",
    "    \n",
    "    •\tModel — модель автомобиля\n",
    "    \n",
    "    •\tKilometer — пробег (км)\n",
    "    \n",
    "    •\tRegistrationMonth — месяц регистрации автомобиля\n",
    "    \n",
    "    •\tFuelType — тип топлива\n",
    "    \n",
    "    •\tBrand — марка автомобиля\n",
    "    \n",
    "    •\tRepaired — была машина в ремонте или нет\n",
    "    \n",
    "    •\tDateCreated — дата создания анкеты\n",
    "    \n",
    "    •\tNumberOfPictures — количество фотографий автомобиля\n",
    "    \n",
    "    •\tPostalCode — почтовый индекс владельца анкеты (пользователя)\n",
    "    \n",
    "    •\tLastSeen — дата последней активности пользователя\n",
    "    \n",
    "\n",
    "<b>Целевой признак:<b/>\n",
    "    \n",
    "    •\tPrice — цена (евро)"
   ]
  },
  {
   "cell_type": "markdown",
   "metadata": {},
   "source": [
    "## Подготовка данных"
   ]
  },
  {
   "cell_type": "code",
   "execution_count": 1,
   "metadata": {},
   "outputs": [],
   "source": [
    "import pandas as pd\n",
    "from pandas.api.types import is_numeric_dtype\n",
    "import numpy as np\n",
    "import seaborn as sns\n",
    "import matplotlib.pyplot as plt\n",
    "import time\n",
    "\n",
    "from sklearn.preprocessing import StandardScaler\n",
    "from sklearn.metrics import mean_squared_error\n",
    "from sklearn.model_selection import train_test_split, GridSearchCV\n",
    "from sklearn.linear_model import LinearRegression\n",
    "from sklearn.ensemble import RandomForestRegressor\n",
    "from sklearn.preprocessing import OrdinalEncoder\n",
    "\n",
    "import lightgbm as lgbm\n",
    "from lightgbm import LGBMRegressor\n",
    "import catboost as cb\n",
    "from catboost import CatBoostRegressor\n",
    "\n",
    "import warnings\n",
    "warnings.filterwarnings('ignore')"
   ]
  },
  {
   "cell_type": "code",
   "execution_count": 2,
   "metadata": {},
   "outputs": [
    {
     "name": "stdout",
     "output_type": "stream",
     "text": [
      "<class 'pandas.core.frame.DataFrame'>\n",
      "RangeIndex: 354369 entries, 0 to 354368\n",
      "Data columns (total 16 columns):\n",
      " #   Column             Non-Null Count   Dtype \n",
      "---  ------             --------------   ----- \n",
      " 0   DateCrawled        354369 non-null  object\n",
      " 1   Price              354369 non-null  int64 \n",
      " 2   VehicleType        316879 non-null  object\n",
      " 3   RegistrationYear   354369 non-null  int64 \n",
      " 4   Gearbox            334536 non-null  object\n",
      " 5   Power              354369 non-null  int64 \n",
      " 6   Model              334664 non-null  object\n",
      " 7   Kilometer          354369 non-null  int64 \n",
      " 8   RegistrationMonth  354369 non-null  int64 \n",
      " 9   FuelType           321474 non-null  object\n",
      " 10  Brand              354369 non-null  object\n",
      " 11  Repaired           283215 non-null  object\n",
      " 12  DateCreated        354369 non-null  object\n",
      " 13  NumberOfPictures   354369 non-null  int64 \n",
      " 14  PostalCode         354369 non-null  int64 \n",
      " 15  LastSeen           354369 non-null  object\n",
      "dtypes: int64(7), object(9)\n",
      "memory usage: 43.3+ MB\n"
     ]
    }
   ],
   "source": [
    "df = pd.read_csv('/datasets/autos.csv')\n",
    "df.info()"
   ]
  },
  {
   "cell_type": "markdown",
   "metadata": {},
   "source": [
    "<b>Приведу названия всех столбцов к нижнему регистру и проверю на пропуски.<b/>"
   ]
  },
  {
   "cell_type": "code",
   "execution_count": 3,
   "metadata": {},
   "outputs": [
    {
     "data": {
      "text/html": [
       "<div>\n",
       "<style scoped>\n",
       "    .dataframe tbody tr th:only-of-type {\n",
       "        vertical-align: middle;\n",
       "    }\n",
       "\n",
       "    .dataframe tbody tr th {\n",
       "        vertical-align: top;\n",
       "    }\n",
       "\n",
       "    .dataframe thead th {\n",
       "        text-align: right;\n",
       "    }\n",
       "</style>\n",
       "<table border=\"1\" class=\"dataframe\">\n",
       "  <thead>\n",
       "    <tr style=\"text-align: right;\">\n",
       "      <th></th>\n",
       "      <th>datecrawled</th>\n",
       "      <th>price</th>\n",
       "      <th>vehicletype</th>\n",
       "      <th>registrationyear</th>\n",
       "      <th>gearbox</th>\n",
       "      <th>power</th>\n",
       "      <th>model</th>\n",
       "      <th>kilometer</th>\n",
       "      <th>registrationmonth</th>\n",
       "      <th>fueltype</th>\n",
       "      <th>brand</th>\n",
       "      <th>repaired</th>\n",
       "      <th>datecreated</th>\n",
       "      <th>numberofpictures</th>\n",
       "      <th>postalcode</th>\n",
       "      <th>lastseen</th>\n",
       "    </tr>\n",
       "  </thead>\n",
       "  <tbody>\n",
       "    <tr>\n",
       "      <th>0</th>\n",
       "      <td>2016-03-24 11:52:17</td>\n",
       "      <td>480</td>\n",
       "      <td>NaN</td>\n",
       "      <td>1993</td>\n",
       "      <td>manual</td>\n",
       "      <td>0</td>\n",
       "      <td>golf</td>\n",
       "      <td>150000</td>\n",
       "      <td>0</td>\n",
       "      <td>petrol</td>\n",
       "      <td>volkswagen</td>\n",
       "      <td>NaN</td>\n",
       "      <td>2016-03-24 00:00:00</td>\n",
       "      <td>0</td>\n",
       "      <td>70435</td>\n",
       "      <td>2016-04-07 03:16:57</td>\n",
       "    </tr>\n",
       "    <tr>\n",
       "      <th>1</th>\n",
       "      <td>2016-03-24 10:58:45</td>\n",
       "      <td>18300</td>\n",
       "      <td>coupe</td>\n",
       "      <td>2011</td>\n",
       "      <td>manual</td>\n",
       "      <td>190</td>\n",
       "      <td>NaN</td>\n",
       "      <td>125000</td>\n",
       "      <td>5</td>\n",
       "      <td>gasoline</td>\n",
       "      <td>audi</td>\n",
       "      <td>yes</td>\n",
       "      <td>2016-03-24 00:00:00</td>\n",
       "      <td>0</td>\n",
       "      <td>66954</td>\n",
       "      <td>2016-04-07 01:46:50</td>\n",
       "    </tr>\n",
       "    <tr>\n",
       "      <th>2</th>\n",
       "      <td>2016-03-14 12:52:21</td>\n",
       "      <td>9800</td>\n",
       "      <td>suv</td>\n",
       "      <td>2004</td>\n",
       "      <td>auto</td>\n",
       "      <td>163</td>\n",
       "      <td>grand</td>\n",
       "      <td>125000</td>\n",
       "      <td>8</td>\n",
       "      <td>gasoline</td>\n",
       "      <td>jeep</td>\n",
       "      <td>NaN</td>\n",
       "      <td>2016-03-14 00:00:00</td>\n",
       "      <td>0</td>\n",
       "      <td>90480</td>\n",
       "      <td>2016-04-05 12:47:46</td>\n",
       "    </tr>\n",
       "    <tr>\n",
       "      <th>3</th>\n",
       "      <td>2016-03-17 16:54:04</td>\n",
       "      <td>1500</td>\n",
       "      <td>small</td>\n",
       "      <td>2001</td>\n",
       "      <td>manual</td>\n",
       "      <td>75</td>\n",
       "      <td>golf</td>\n",
       "      <td>150000</td>\n",
       "      <td>6</td>\n",
       "      <td>petrol</td>\n",
       "      <td>volkswagen</td>\n",
       "      <td>no</td>\n",
       "      <td>2016-03-17 00:00:00</td>\n",
       "      <td>0</td>\n",
       "      <td>91074</td>\n",
       "      <td>2016-03-17 17:40:17</td>\n",
       "    </tr>\n",
       "    <tr>\n",
       "      <th>4</th>\n",
       "      <td>2016-03-31 17:25:20</td>\n",
       "      <td>3600</td>\n",
       "      <td>small</td>\n",
       "      <td>2008</td>\n",
       "      <td>manual</td>\n",
       "      <td>69</td>\n",
       "      <td>fabia</td>\n",
       "      <td>90000</td>\n",
       "      <td>7</td>\n",
       "      <td>gasoline</td>\n",
       "      <td>skoda</td>\n",
       "      <td>no</td>\n",
       "      <td>2016-03-31 00:00:00</td>\n",
       "      <td>0</td>\n",
       "      <td>60437</td>\n",
       "      <td>2016-04-06 10:17:21</td>\n",
       "    </tr>\n",
       "  </tbody>\n",
       "</table>\n",
       "</div>"
      ],
      "text/plain": [
       "           datecrawled  price vehicletype  registrationyear gearbox  power  \\\n",
       "0  2016-03-24 11:52:17    480         NaN              1993  manual      0   \n",
       "1  2016-03-24 10:58:45  18300       coupe              2011  manual    190   \n",
       "2  2016-03-14 12:52:21   9800         suv              2004    auto    163   \n",
       "3  2016-03-17 16:54:04   1500       small              2001  manual     75   \n",
       "4  2016-03-31 17:25:20   3600       small              2008  manual     69   \n",
       "\n",
       "   model  kilometer  registrationmonth  fueltype       brand repaired  \\\n",
       "0   golf     150000                  0    petrol  volkswagen      NaN   \n",
       "1    NaN     125000                  5  gasoline        audi      yes   \n",
       "2  grand     125000                  8  gasoline        jeep      NaN   \n",
       "3   golf     150000                  6    petrol  volkswagen       no   \n",
       "4  fabia      90000                  7  gasoline       skoda       no   \n",
       "\n",
       "           datecreated  numberofpictures  postalcode             lastseen  \n",
       "0  2016-03-24 00:00:00                 0       70435  2016-04-07 03:16:57  \n",
       "1  2016-03-24 00:00:00                 0       66954  2016-04-07 01:46:50  \n",
       "2  2016-03-14 00:00:00                 0       90480  2016-04-05 12:47:46  \n",
       "3  2016-03-17 00:00:00                 0       91074  2016-03-17 17:40:17  \n",
       "4  2016-03-31 00:00:00                 0       60437  2016-04-06 10:17:21  "
      ]
     },
     "execution_count": 3,
     "metadata": {},
     "output_type": "execute_result"
    }
   ],
   "source": [
    "df.columns = map(str.lower, df.columns)\n",
    "df.head()"
   ]
  },
  {
   "cell_type": "code",
   "execution_count": 4,
   "metadata": {},
   "outputs": [
    {
     "data": {
      "text/plain": [
       "datecrawled              0\n",
       "price                    0\n",
       "vehicletype          37490\n",
       "registrationyear         0\n",
       "gearbox              19833\n",
       "power                    0\n",
       "model                19705\n",
       "kilometer                0\n",
       "registrationmonth        0\n",
       "fueltype             32895\n",
       "brand                    0\n",
       "repaired             71154\n",
       "datecreated              0\n",
       "numberofpictures         0\n",
       "postalcode               0\n",
       "lastseen                 0\n",
       "dtype: int64"
      ]
     },
     "execution_count": 4,
     "metadata": {},
     "output_type": "execute_result"
    }
   ],
   "source": [
    "df.isna().sum()"
   ]
  },
  {
   "cell_type": "markdown",
   "metadata": {},
   "source": [
    "<b>Пропуски в столбце notrepaired (была машина в ремонте или нет) нет возможности заполнить анаолгичными значениями, поэтому предполагаю, что лучшим вариантом в данном случае будет заполнение пропусков значением \"unknown\". Модель я попробую восстановить по сочетанию парметров бренда и мощности.<b/>"
   ]
  },
  {
   "cell_type": "code",
   "execution_count": 5,
   "metadata": {},
   "outputs": [],
   "source": [
    "df['repaired'] = df['repaired'].fillna('unknown')"
   ]
  },
  {
   "cell_type": "code",
   "execution_count": 6,
   "metadata": {},
   "outputs": [],
   "source": [
    "df['model'] = df.groupby(\n",
    "    ['brand', 'power'])['model'].transform(lambda x: x.fillna((x.mode()[0] if not x.mode().empty else \"Empty\")))"
   ]
  },
  {
   "cell_type": "code",
   "execution_count": 7,
   "metadata": {},
   "outputs": [],
   "source": [
    "medians  = df.groupby('model')['power'].median().to_dict()\n",
    "def fill_with_median (row):\n",
    "    if row['power'] == 0:\n",
    "        return medians [row['model']]\n",
    "    return row ['power']\n",
    "df['power'] = df.apply(lambda row: fill_with_median(row), axis = 1)"
   ]
  },
  {
   "cell_type": "markdown",
   "metadata": {},
   "source": [
    "<b>Пропуски в столбце vehicletype, gearbox и fueltype можно заполнить по столбцу model, потому что у моделей должны быть одинаковые тип кузова, коробка передач и тип топлива.<b/>"
   ]
  },
  {
   "cell_type": "code",
   "execution_count": 8,
   "metadata": {},
   "outputs": [],
   "source": [
    "df['vehicletype'] = df.groupby(['model','brand'], sort=True)['vehicletype'].apply(lambda x: x.ffill())\n",
    "df['gearbox'] = df.groupby(['model','brand'], sort=True)['gearbox'].apply(lambda x: x.ffill())\n",
    "df['fueltype'] = df.groupby(['model','brand'], sort=True)['fueltype'].apply(lambda x: x.ffill())"
   ]
  },
  {
   "cell_type": "code",
   "execution_count": 9,
   "metadata": {},
   "outputs": [
    {
     "data": {
      "text/plain": [
       "datecrawled           0\n",
       "price                 0\n",
       "vehicletype          53\n",
       "registrationyear      0\n",
       "gearbox              29\n",
       "power                 0\n",
       "model                 0\n",
       "kilometer             0\n",
       "registrationmonth     0\n",
       "fueltype             51\n",
       "brand                 0\n",
       "repaired              0\n",
       "datecreated           0\n",
       "numberofpictures      0\n",
       "postalcode            0\n",
       "lastseen              0\n",
       "dtype: int64"
      ]
     },
     "execution_count": 9,
     "metadata": {},
     "output_type": "execute_result"
    }
   ],
   "source": [
    "df.isna().sum()"
   ]
  },
  {
   "cell_type": "markdown",
   "metadata": {},
   "source": [
    "<b>Осталось небольшое количество пропусков, которые не получилось заполнить по соответствующим моделям, я их удалю.<b/>"
   ]
  },
  {
   "cell_type": "code",
   "execution_count": 10,
   "metadata": {},
   "outputs": [],
   "source": [
    "df = df.dropna().reset_index()"
   ]
  },
  {
   "cell_type": "code",
   "execution_count": 11,
   "metadata": {},
   "outputs": [
    {
     "data": {
      "text/plain": [
       "index                0\n",
       "datecrawled          0\n",
       "price                0\n",
       "vehicletype          0\n",
       "registrationyear     0\n",
       "gearbox              0\n",
       "power                0\n",
       "model                0\n",
       "kilometer            0\n",
       "registrationmonth    0\n",
       "fueltype             0\n",
       "brand                0\n",
       "repaired             0\n",
       "datecreated          0\n",
       "numberofpictures     0\n",
       "postalcode           0\n",
       "lastseen             0\n",
       "dtype: int64"
      ]
     },
     "execution_count": 11,
     "metadata": {},
     "output_type": "execute_result"
    }
   ],
   "source": [
    "df.isna().sum()"
   ]
  },
  {
   "cell_type": "markdown",
   "metadata": {},
   "source": [
    "## Анализ данных."
   ]
  },
  {
   "cell_type": "markdown",
   "metadata": {},
   "source": [
    "<b>Исследую данные по каждому параментру отдельно.<b/>"
   ]
  },
  {
   "cell_type": "markdown",
   "metadata": {},
   "source": [
    "Такие параментры, как datecrawled, datecreated, postalcode и lastseen не являются важными для определения цены автомобиля.\n",
    "Поэтому я не буду их изучать, а просто удалю, когда буду готовить данные для обучения моделей. "
   ]
  },
  {
   "cell_type": "code",
   "execution_count": 12,
   "metadata": {},
   "outputs": [],
   "source": [
    "columns = df.columns.values.tolist()"
   ]
  },
  {
   "cell_type": "code",
   "execution_count": 13,
   "metadata": {},
   "outputs": [
    {
     "name": "stdout",
     "output_type": "stream",
     "text": [
      "index\n",
      "count    354278.000000\n",
      "mean     177225.860536\n",
      "std      102276.264431\n",
      "min           1.000000\n",
      "25%       88656.250000\n",
      "50%      177229.500000\n",
      "75%      265798.750000\n",
      "max      354368.000000\n",
      "Name: index, dtype: float64\n",
      "***\n",
      "datecrawled\n",
      "count                  354278\n",
      "unique                 271125\n",
      "top       2016-03-24 14:49:47\n",
      "freq                        7\n",
      "Name: datecrawled, dtype: object\n",
      "***\n",
      "price\n",
      "count    354278.000000\n",
      "mean       4417.178659\n",
      "std        4514.314158\n",
      "min           0.000000\n",
      "25%        1050.000000\n",
      "50%        2700.000000\n",
      "75%        6400.000000\n",
      "max       20000.000000\n",
      "Name: price, dtype: float64\n",
      "***\n",
      "vehicletype\n",
      "count     354278\n",
      "unique         8\n",
      "top        sedan\n",
      "freq      102140\n",
      "Name: vehicletype, dtype: object\n",
      "***\n",
      "registrationyear\n",
      "count    354278.000000\n",
      "mean       2004.235603\n",
      "std          90.237933\n",
      "min        1000.000000\n",
      "25%        1999.000000\n",
      "50%        2003.000000\n",
      "75%        2008.000000\n",
      "max        9999.000000\n",
      "Name: registrationyear, dtype: float64\n",
      "***\n",
      "gearbox\n",
      "count     354278\n",
      "unique         2\n",
      "top       manual\n",
      "freq      284026\n",
      "Name: gearbox, dtype: object\n",
      "***\n",
      "power\n",
      "count    354278.000000\n",
      "mean        121.512895\n",
      "std         185.702461\n",
      "min           0.000000\n",
      "25%          75.000000\n",
      "50%         109.000000\n",
      "75%         143.000000\n",
      "max       20000.000000\n",
      "Name: power, dtype: float64\n",
      "***\n",
      "model\n",
      "count     354278\n",
      "unique       251\n",
      "top         golf\n",
      "freq       31583\n",
      "Name: model, dtype: object\n",
      "***\n",
      "kilometer\n",
      "count    354278.000000\n",
      "mean     128214.862340\n",
      "std       37899.961492\n",
      "min        5000.000000\n",
      "25%      125000.000000\n",
      "50%      150000.000000\n",
      "75%      150000.000000\n",
      "max      150000.000000\n",
      "Name: kilometer, dtype: float64\n",
      "***\n",
      "registrationmonth\n",
      "count    354278.000000\n",
      "mean          5.715054\n",
      "std           3.726249\n",
      "min           0.000000\n",
      "25%           3.000000\n",
      "50%           6.000000\n",
      "75%           9.000000\n",
      "max          12.000000\n",
      "Name: registrationmonth, dtype: float64\n",
      "***\n",
      "fueltype\n",
      "count     354278\n",
      "unique         7\n",
      "top       petrol\n",
      "freq      239592\n",
      "Name: fueltype, dtype: object\n",
      "***\n",
      "brand\n",
      "count         354278\n",
      "unique            40\n",
      "top       volkswagen\n",
      "freq           77007\n",
      "Name: brand, dtype: object\n",
      "***\n",
      "repaired\n",
      "count     354278\n",
      "unique         3\n",
      "top           no\n",
      "freq      247131\n",
      "Name: repaired, dtype: object\n",
      "***\n",
      "datecreated\n",
      "count                  354278\n",
      "unique                    109\n",
      "top       2016-04-03 00:00:00\n",
      "freq                    13714\n",
      "Name: datecreated, dtype: object\n",
      "***\n",
      "numberofpictures\n",
      "count    354278.0\n",
      "mean          0.0\n",
      "std           0.0\n",
      "min           0.0\n",
      "25%           0.0\n",
      "50%           0.0\n",
      "75%           0.0\n",
      "max           0.0\n",
      "Name: numberofpictures, dtype: float64\n",
      "***\n",
      "postalcode\n",
      "count    354278.000000\n",
      "mean      50509.449085\n",
      "std       25783.606290\n",
      "min        1067.000000\n",
      "25%       30165.000000\n",
      "50%       49413.000000\n",
      "75%       71083.000000\n",
      "max       99998.000000\n",
      "Name: postalcode, dtype: float64\n",
      "***\n",
      "lastseen\n",
      "count                  354278\n",
      "unique                 179105\n",
      "top       2016-04-06 13:45:54\n",
      "freq                       17\n",
      "Name: lastseen, dtype: object\n",
      "***\n"
     ]
    }
   ],
   "source": [
    "for col in columns:\n",
    "    print(col)\n",
    "    print(df[col].describe())\n",
    "    print('***')"
   ]
  },
  {
   "cell_type": "code",
   "execution_count": 14,
   "metadata": {},
   "outputs": [
    {
     "name": "stdout",
     "output_type": "stream",
     "text": [
      "index\n",
      "2049      1\n",
      "124310    1\n",
      "107934    1\n",
      "114077    1\n",
      "112028    1\n",
      "         ..\n",
      "269014    1\n",
      "262869    1\n",
      "264916    1\n",
      "275155    1\n",
      "2047      1\n",
      "Name: index, Length: 354278, dtype: int64\n",
      "***\n",
      "datecrawled\n",
      "2016-03-24 14:49:47    7\n",
      "2016-03-19 21:49:56    6\n",
      "2016-03-26 22:57:31    6\n",
      "2016-03-23 13:50:19    5\n",
      "2016-03-22 10:42:10    5\n",
      "                      ..\n",
      "2016-04-01 13:47:18    1\n",
      "2016-03-25 18:54:55    1\n",
      "2016-04-02 13:45:02    1\n",
      "2016-03-08 17:49:34    1\n",
      "2016-04-02 21:55:34    1\n",
      "Name: datecrawled, Length: 271125, dtype: int64\n",
      "***\n",
      "price\n",
      "0        10765\n",
      "500       5668\n",
      "1500      5393\n",
      "1000      4648\n",
      "1200      4593\n",
      "         ...  \n",
      "13180        1\n",
      "10879        1\n",
      "2683         1\n",
      "634          1\n",
      "8188         1\n",
      "Name: price, Length: 3731, dtype: int64\n",
      "***\n",
      "vehicletype\n",
      "sedan          102140\n",
      "small           91198\n",
      "wagon           71474\n",
      "bus             32484\n",
      "convertible     22319\n",
      "coupe           17896\n",
      "suv             12918\n",
      "other            3849\n",
      "Name: vehicletype, dtype: int64\n",
      "***\n",
      "registrationyear\n",
      "2000    24484\n",
      "1999    22727\n",
      "2005    22106\n",
      "2001    20123\n",
      "2006    19893\n",
      "        ...  \n",
      "4100        1\n",
      "1200        1\n",
      "5300        1\n",
      "8888        1\n",
      "2290        1\n",
      "Name: registrationyear, Length: 151, dtype: int64\n",
      "***\n",
      "gearbox\n",
      "manual    284026\n",
      "auto       70252\n",
      "Name: gearbox, dtype: int64\n",
      "***\n",
      "power\n",
      "75.0       26271\n",
      "60.0       22500\n",
      "90.0       17277\n",
      "101.0      15007\n",
      "150.0      14725\n",
      "           ...  \n",
      "17011.0        1\n",
      "392.0          1\n",
      "1501.0         1\n",
      "6011.0         1\n",
      "682.0          1\n",
      "Name: power, Length: 716, dtype: int64\n",
      "***\n",
      "model\n",
      "golf                  31583\n",
      "other                 25834\n",
      "3er                   21422\n",
      "polo                  13687\n",
      "corsa                 13554\n",
      "                      ...  \n",
      "i3                        8\n",
      "serie_3                   4\n",
      "rangerover                4\n",
      "serie_1                   2\n",
      "range_rover_evoque        2\n",
      "Name: model, Length: 251, dtype: int64\n",
      "***\n",
      "kilometer\n",
      "150000    238156\n",
      "125000     36444\n",
      "100000     14877\n",
      "90000      11566\n",
      "80000      10046\n",
      "70000       8591\n",
      "60000       7442\n",
      "5000        6387\n",
      "50000       6232\n",
      "40000       4909\n",
      "30000       4435\n",
      "20000       3972\n",
      "10000       1221\n",
      "Name: kilometer, dtype: int64\n",
      "***\n",
      "registrationmonth\n",
      "0     37322\n",
      "3     34369\n",
      "6     31498\n",
      "4     29267\n",
      "5     29145\n",
      "7     27210\n",
      "10    26096\n",
      "12    24286\n",
      "11    24178\n",
      "9     23809\n",
      "1     23211\n",
      "8     22624\n",
      "2     21263\n",
      "Name: registrationmonth, dtype: int64\n",
      "***\n",
      "fueltype\n",
      "petrol      239592\n",
      "gasoline    107486\n",
      "lpg           5909\n",
      "cng            622\n",
      "other          295\n",
      "hybrid         270\n",
      "electric       104\n",
      "Name: fueltype, dtype: int64\n",
      "***\n",
      "brand\n",
      "volkswagen        77007\n",
      "opel              39921\n",
      "bmw               36912\n",
      "mercedes_benz     32046\n",
      "audi              29454\n",
      "ford              25175\n",
      "renault           17921\n",
      "peugeot           10996\n",
      "fiat               9640\n",
      "seat               6905\n",
      "mazda              5614\n",
      "skoda              5498\n",
      "smart              5245\n",
      "citroen            5144\n",
      "nissan             4938\n",
      "toyota             4603\n",
      "hyundai            3582\n",
      "sonstige_autos     3372\n",
      "volvo              3208\n",
      "mini               3201\n",
      "mitsubishi         3020\n",
      "honda              2816\n",
      "kia                2463\n",
      "suzuki             2323\n",
      "alfa_romeo         2308\n",
      "chevrolet          1752\n",
      "chrysler           1439\n",
      "dacia               900\n",
      "daihatsu            805\n",
      "subaru              761\n",
      "porsche             756\n",
      "jeep                677\n",
      "trabant             584\n",
      "land_rover          544\n",
      "daewoo              540\n",
      "saab                525\n",
      "jaguar              505\n",
      "rover               485\n",
      "lancia              470\n",
      "lada                223\n",
      "Name: brand, dtype: int64\n",
      "***\n",
      "repaired\n",
      "no         247131\n",
      "unknown     71105\n",
      "yes         36042\n",
      "Name: repaired, dtype: int64\n",
      "***\n",
      "datecreated\n",
      "2016-04-03 00:00:00    13714\n",
      "2016-04-04 00:00:00    13315\n",
      "2016-03-20 00:00:00    12915\n",
      "2016-03-12 00:00:00    12840\n",
      "2016-03-21 00:00:00    12687\n",
      "                       ...  \n",
      "2015-12-06 00:00:00        1\n",
      "2016-01-18 00:00:00        1\n",
      "2015-11-10 00:00:00        1\n",
      "2015-08-10 00:00:00        1\n",
      "2015-11-02 00:00:00        1\n",
      "Name: datecreated, Length: 109, dtype: int64\n",
      "***\n",
      "numberofpictures\n",
      "0    354278\n",
      "Name: numberofpictures, dtype: int64\n",
      "***\n",
      "postalcode\n",
      "10115    819\n",
      "65428    613\n",
      "66333    343\n",
      "32257    317\n",
      "44145    317\n",
      "        ... \n",
      "29484      1\n",
      "67587      1\n",
      "23779      1\n",
      "29487      1\n",
      "38528      1\n",
      "Name: postalcode, Length: 8143, dtype: int64\n",
      "***\n",
      "lastseen\n",
      "2016-04-06 13:45:54    17\n",
      "2016-04-06 12:15:45    16\n",
      "2016-04-07 05:44:30    16\n",
      "2016-04-07 09:44:27    16\n",
      "2016-04-06 01:15:23    16\n",
      "                       ..\n",
      "2016-03-09 18:16:58     1\n",
      "2016-03-20 11:46:25     1\n",
      "2016-04-03 15:55:08     1\n",
      "2016-04-03 14:56:07     1\n",
      "2016-04-01 14:41:40     1\n",
      "Name: lastseen, Length: 179105, dtype: int64\n",
      "***\n"
     ]
    }
   ],
   "source": [
    "for col in columns:\n",
    "    print(col)\n",
    "    print(df[col].value_counts())\n",
    "    print('***')"
   ]
  },
  {
   "cell_type": "markdown",
   "metadata": {},
   "source": [
    "<b>В колонке количество фотографий все значения равны нулю, это значит, что ее тоже можно удалять.<b/>"
   ]
  },
  {
   "cell_type": "markdown",
   "metadata": {},
   "source": [
    "<b>В колонеке год регистрации есть очень сильные выбросы и явные ошибки, так как год регистрации восстановить никак нельзя, а такие аномалии могут помешать обучению, я их удалю.<b/>"
   ]
  },
  {
   "cell_type": "code",
   "execution_count": 15,
   "metadata": {},
   "outputs": [],
   "source": [
    "df = df.query('registrationyear >= 1980 and registrationyear < 2016')"
   ]
  },
  {
   "cell_type": "code",
   "execution_count": 16,
   "metadata": {
    "scrolled": true
   },
   "outputs": [
    {
     "data": {
      "text/plain": [
       "2000    24484\n",
       "1999    22727\n",
       "2005    22106\n",
       "2001    20123\n",
       "2006    19893\n",
       "2003    19760\n",
       "2004    19607\n",
       "2002    19091\n",
       "1998    17895\n",
       "2007    17183\n",
       "2008    15390\n",
       "1997    14665\n",
       "2009    14500\n",
       "1996    10833\n",
       "2010    10764\n",
       "2011     9909\n",
       "1995     9602\n",
       "2012     7176\n",
       "1994     4840\n",
       "2013     4130\n",
       "1993     3437\n",
       "1992     3001\n",
       "1990     2804\n",
       "1991     2761\n",
       "2014     2537\n",
       "1989     1318\n",
       "2015     1301\n",
       "1988      941\n",
       "1985      754\n",
       "1987      667\n",
       "1980      588\n",
       "1986      537\n",
       "1983      430\n",
       "1984      399\n",
       "1982      316\n",
       "1981      263\n",
       "Name: registrationyear, dtype: int64"
      ]
     },
     "execution_count": 16,
     "metadata": {},
     "output_type": "execute_result"
    }
   ],
   "source": [
    "df['registrationyear'].value_counts()"
   ]
  },
  {
   "cell_type": "markdown",
   "metadata": {},
   "source": [
    "<b>Изучу подробнее целевой признак price.<b/>"
   ]
  },
  {
   "cell_type": "code",
   "execution_count": 17,
   "metadata": {},
   "outputs": [
    {
     "data": {
      "text/plain": [
       "count    326732.000000\n",
       "mean       4516.504426\n",
       "std        4545.217633\n",
       "min           0.000000\n",
       "25%        1111.000000\n",
       "50%        2800.000000\n",
       "75%        6500.000000\n",
       "max       20000.000000\n",
       "Name: price, dtype: float64"
      ]
     },
     "execution_count": 17,
     "metadata": {},
     "output_type": "execute_result"
    }
   ],
   "source": [
    "df['price'].describe()"
   ]
  },
  {
   "cell_type": "code",
   "execution_count": 18,
   "metadata": {
    "scrolled": true
   },
   "outputs": [
    {
     "data": {
      "image/png": "[encoded data removed]",
      "text/plain": [
       "<Figure size 864x360 with 1 Axes>"
      ]
     },
     "metadata": {},
     "output_type": "display_data"
    }
   ],
   "source": [
    "sns.set_style('darkgrid')\n",
    "df['price'].hist(bins=100,figsize=(12,5))\n",
    "plt.title('График распределения стоимости автомобилей', fontsize=15)\n",
    "plt.xlabel('Стоимость,Евро', fontsize=10)\n",
    "plt.ylabel('Количество', fontsize=10)\n",
    "plt.show()"
   ]
  },
  {
   "cell_type": "markdown",
   "metadata": {},
   "source": [
    "<b>Есть много значений в районе 0, возможно это ошибки, их лучше удалить, чтобы обучение было более корректным. Данное распределение данных говорит о том, что количество дорогих машин, выставленных на продажу, меньше в процентном соотношении, чем машин по средней цене.<b/>"
   ]
  },
  {
   "cell_type": "code",
   "execution_count": 19,
   "metadata": {},
   "outputs": [],
   "source": [
    "df = df.query('price > 2')\n",
    "df=df.reset_index(drop=True)"
   ]
  },
  {
   "cell_type": "code",
   "execution_count": 20,
   "metadata": {},
   "outputs": [
    {
     "data": {
      "image/png": "[encoded data removed]",
      "text/plain": [
       "<Figure size 1080x288 with 1 Axes>"
      ]
     },
     "metadata": {},
     "output_type": "display_data"
    }
   ],
   "source": [
    "plt.figure(figsize=[15, 4])\n",
    "plt.title(f'АНАЛИЗ ЦЕЛЕВОГО ПРИЗНАКА (ЦЕНА)', fontsize=15)\n",
    "sns.boxplot(data=df['price'], orient='h')\n",
    "plt.axvline(np.mean(df['price']), \n",
    "            color='r', \n",
    "            linestyle='-',\n",
    "            label='СРЕДНЕЕ')\n",
    "median = np.mean(df['price'])\n",
    "mean = np.median(df['price'])\n",
    "plt.legend(title=f'МЕДИАНА = {median:.2f}, СРЕДНЕЕ = {mean:.2f}', \n",
    "           loc='center', \n",
    "           edgecolor = 'r',          \n",
    "           bbox_to_anchor=(0.5, -0.15));"
   ]
  },
  {
   "cell_type": "markdown",
   "metadata": {},
   "source": [
    "<b>Медиана и среднее значение отличаются довольно сильно, а также имеется много выбросов.<b/>"
   ]
  },
  {
   "cell_type": "markdown",
   "metadata": {},
   "source": [
    "## Обучение моделей"
   ]
  },
  {
   "cell_type": "markdown",
   "metadata": {},
   "source": [
    "<b>Разделю данные на признаки и целевой признак, а также удалю данные, которые не нужны для предсказания цены, это datecrawled, postalcode, , numberofpictures, datecreated и lastseen.<b/>"
   ]
  },
  {
   "cell_type": "code",
   "execution_count": 21,
   "metadata": {},
   "outputs": [],
   "source": [
    "features = df.drop(['price', 'datecrawled', 'postalcode', 'lastseen', 'datecreated', 'numberofpictures'], axis=1)\n",
    "target = df['price']"
   ]
  },
  {
   "cell_type": "code",
   "execution_count": 22,
   "metadata": {},
   "outputs": [
    {
     "name": "stdout",
     "output_type": "stream",
     "text": [
      "<class 'pandas.core.frame.DataFrame'>\n",
      "RangeIndex: 316614 entries, 0 to 316613\n",
      "Data columns (total 11 columns):\n",
      " #   Column             Non-Null Count   Dtype  \n",
      "---  ------             --------------   -----  \n",
      " 0   index              316614 non-null  int64  \n",
      " 1   vehicletype        316614 non-null  object \n",
      " 2   registrationyear   316614 non-null  int64  \n",
      " 3   gearbox            316614 non-null  object \n",
      " 4   power              316614 non-null  float64\n",
      " 5   model              316614 non-null  object \n",
      " 6   kilometer          316614 non-null  int64  \n",
      " 7   registrationmonth  316614 non-null  int64  \n",
      " 8   fueltype           316614 non-null  object \n",
      " 9   brand              316614 non-null  object \n",
      " 10  repaired           316614 non-null  object \n",
      "dtypes: float64(1), int64(4), object(6)\n",
      "memory usage: 26.6+ MB\n"
     ]
    }
   ],
   "source": [
    "features.info()"
   ]
  },
  {
   "cell_type": "markdown",
   "metadata": {},
   "source": [
    "<b>6 из 10 независимых признаков имеют тип object, то есть являются категориальными. Для того чтобы использовать эти данные в обучении моделей, их нужно преобразовать. <b/>"
   ]
  },
  {
   "cell_type": "code",
   "execution_count": 23,
   "metadata": {},
   "outputs": [],
   "source": [
    "features_ohe = pd.get_dummies(features, drop_first=True)"
   ]
  },
  {
   "cell_type": "markdown",
   "metadata": {},
   "source": [
    "<b>Разделю данные на три выборки: обучающую, валидационную и тестовую.<b/>"
   ]
  },
  {
   "cell_type": "code",
   "execution_count": 24,
   "metadata": {},
   "outputs": [],
   "source": [
    "features_study, features_test, target_study, target_test = train_test_split(\n",
    "    features_ohe, target, test_size=0.2, random_state=12345)\n",
    "\n",
    "features_train, features_valid, target_train, target_valid = train_test_split(\n",
    "    features_study, target_study, test_size=0.25, random_state=12345)"
   ]
  },
  {
   "cell_type": "code",
   "execution_count": 25,
   "metadata": {},
   "outputs": [],
   "source": [
    "scaler = StandardScaler()\n",
    "quanti_columns = ['registrationyear', 'power', 'kilometer']\n",
    "scaler.fit(features_train[quanti_columns])\n",
    "features_train[quanti_columns] = scaler.transform(features_train[quanti_columns])\n",
    "features_valid[quanti_columns]=scaler.transform(features_valid[quanti_columns])\n",
    "features_test[quanti_columns] = scaler.transform(features_test[quanti_columns])"
   ]
  },
  {
   "cell_type": "markdown",
   "metadata": {},
   "source": [
    "### Линейная регрессия."
   ]
  },
  {
   "cell_type": "code",
   "execution_count": 26,
   "metadata": {},
   "outputs": [
    {
     "name": "stdout",
     "output_type": "stream",
     "text": [
      "RMSE модели Линейная регрессия: 2524.8658065352392\n",
      "Время обучения модели Линейная регрессия: 38.54\n",
      "Время предсказания модели Линейная регрессия: 0.2\n"
     ]
    }
   ],
   "source": [
    "start_lr_s = time.time()\n",
    "model = LinearRegression().fit(features_train, target_train)\n",
    "model.fit(features_train,target_train)\n",
    "end_lr_s = time.time()\n",
    "\n",
    "start_lr_p = time.time()\n",
    "pred_lr = model.predict(features_valid)\n",
    "end_lr_p = time.time()\n",
    "\n",
    "result_lr = mean_squared_error(target_valid, pred_lr)**0.5 \n",
    "\n",
    "t_lr_s = round(end_lr_s-start_lr_s,2)\n",
    "t_lr_p = round(end_lr_p-start_lr_p,2)\n",
    "print('RMSE модели Линейная регрессия:', result_lr)\n",
    "print('Время обучения модели Линейная регрессия:', t_lr_s)\n",
    "print('Время предсказания модели Линейная регрессия:', t_lr_p)"
   ]
  },
  {
   "cell_type": "markdown",
   "metadata": {},
   "source": [
    "### Создание класса линейной регрессии."
   ]
  },
  {
   "cell_type": "code",
   "execution_count": 27,
   "metadata": {},
   "outputs": [
    {
     "name": "stdout",
     "output_type": "stream",
     "text": [
      "CPU times: user 118 µs, sys: 72 µs, total: 190 µs\n",
      "Wall time: 34.8 µs\n"
     ]
    }
   ],
   "source": [
    "%%time\n",
    "class SGDLinearRegression:\n",
    "    def __init__(self, step_size, epochs, batch_size):\n",
    "        self.step_size = step_size\n",
    "        self.epochs = epochs\n",
    "        self.batch_size = batch_size\n",
    "    \n",
    "    def fit(self, train_features, train_target):\n",
    "        X = np.concatenate((np.ones((train_features.shape[0], 1)), train_features), axis=1)        \n",
    "        y = train_target\n",
    "        w = np.zeros(X.shape[1])\n",
    "        \n",
    "        for _ in range(self.epochs):\n",
    "            batches_count = len(train_features) // self.batch_size\n",
    "            for i in range(batches_count):\n",
    "                begin = i * self.batch_size\n",
    "                end = (i + 1) * self.batch_size\n",
    "                X_batch = X[begin:end, :]\n",
    "                y_batch = y[begin:end]\n",
    "                \n",
    "                gradient = 2 * X_batch.T.dot(X_batch.dot(w) - y_batch) / X_batch.shape[0] \n",
    "                \n",
    "                w -= self.step_size * gradient\n",
    "\n",
    "        self.w = w[1:]\n",
    "        self.w0 = w[0]\n",
    "        self.batches_count = batches_count\n",
    "    def predict(self, test_features):\n",
    "        return test_features.dot(self.w) + self.w0 "
   ]
  },
  {
   "cell_type": "code",
   "execution_count": 28,
   "metadata": {},
   "outputs": [
    {
     "name": "stdout",
     "output_type": "stream",
     "text": [
      "RMSE модели Линейная регрессия: 5091.131552594877\n",
      "Время обучения модели Линейная регрессия: 101.7\n",
      "Время предсказания модели Линейная регрессия: 0.21\n"
     ]
    }
   ],
   "source": [
    "start_lr_c_s = time.time()\n",
    "model_lr_c = SGDLinearRegression(10**-13, 10, 100)\n",
    "model_lr_c.fit(features_train, target_train)\n",
    "end_lr_c_s = time.time()\n",
    "\n",
    "start_lr_c_p = time.time()\n",
    "pred_lr_c = model_lr_c.predict(features_valid)\n",
    "end_lr_c_p= time.time()\n",
    "\n",
    "result_lr_c = mean_squared_error(target_valid, pred_lr_c)**0.5\n",
    "\n",
    "t_lr_c_s = round(end_lr_c_s-start_lr_c_s,2)\n",
    "t_lr_c_p = round(end_lr_c_p-start_lr_c_p,2)\n",
    "print('RMSE модели Линейная регрессия:', result_lr_c)\n",
    "print('Время обучения модели Линейная регрессия:', t_lr_c_s)\n",
    "print('Время предсказания модели Линейная регрессия:', t_lr_c_p)"
   ]
  },
  {
   "cell_type": "markdown",
   "metadata": {},
   "source": [
    "### Случайный лес."
   ]
  },
  {
   "cell_type": "code",
   "execution_count": 29,
   "metadata": {},
   "outputs": [],
   "source": [
    "col=['vehicletype', 'gearbox','model',\n",
    "       'fueltype', 'brand', 'repaired']\n",
    "\n",
    "encoder = OrdinalEncoder()\n",
    "encoder.fit(features[col])\n",
    "features_ord=features.copy()\n",
    "features_ord[col]= pd.DataFrame(encoder.transform(features[col]), columns = features[col].columns)"
   ]
  },
  {
   "cell_type": "code",
   "execution_count": 30,
   "metadata": {},
   "outputs": [],
   "source": [
    "features_study_gb, features_test_gb, target_study_gb, target_test_gb = train_test_split(\n",
    "    features_ord, target, test_size=0.2, random_state=12345)\n",
    "\n",
    "features_train_gb, features_valid_gb, target_train_gb, target_valid_gb = train_test_split(\n",
    "    features_study_gb, target_study_gb, test_size=0.25, random_state=12345)"
   ]
  },
  {
   "cell_type": "code",
   "execution_count": 31,
   "metadata": {},
   "outputs": [
    {
     "name": "stdout",
     "output_type": "stream",
     "text": [
      "лучшие параметры: {'max_depth': 15, 'n_estimators': 100, 'random_state': 12345}\n",
      "CPU times: user 28min 48s, sys: 8.32 s, total: 28min 57s\n",
      "Wall time: 28min 58s\n"
     ]
    }
   ],
   "source": [
    "%%time\n",
    "grid = { \n",
    "    'n_estimators': range(50, 150, 50),\n",
    "    'max_depth' : range (5, 20, 5),\n",
    "    'random_state' : [12345]\n",
    "}\n",
    "\n",
    "rf_cv = GridSearchCV(estimator=RandomForestRegressor(), param_grid=grid, cv=3, scoring='neg_mean_squared_error')\n",
    "rf_cv.fit(features_train, target_train)\n",
    "best_grid = rf_cv.best_params_\n",
    "print('лучшие параметры:', rf_cv.best_params_)"
   ]
  },
  {
   "cell_type": "code",
   "execution_count": 32,
   "metadata": {},
   "outputs": [
    {
     "name": "stdout",
     "output_type": "stream",
     "text": [
      "RMSE модели Случайный лес: 1608.0268600710494\n",
      "Время обучения модели Случайный лес: 60.05\n",
      "Время предсказания модели Случайный лес: 60.05\n"
     ]
    }
   ],
   "source": [
    "start_f_s = time.time()\n",
    "model_f = RandomForestRegressor(**best_grid)\n",
    "model_f.fit(features_train_gb, target_train_gb)\n",
    "end_f_s = time.time()\n",
    "start_f_p = time.time()\n",
    "pred_f = model_f.predict(features_valid_gb)\n",
    "end_f_p = time.time()\n",
    "result_f = mean_squared_error(target_valid_gb, pred_f)**0.5\n",
    "t_f_s=round(end_f_s-start_f_s,2)\n",
    "t_f_p=round(end_f_s-start_f_s,2)\n",
    "print('RMSE модели Случайный лес:', result_f)\n",
    "print('Время обучения модели Случайный лес:', t_f_s)\n",
    "print('Время предсказания модели Случайный лес:', t_f_p)"
   ]
  },
  {
   "cell_type": "markdown",
   "metadata": {},
   "source": [
    "### Градиентный бустинг LightGBM."
   ]
  },
  {
   "cell_type": "code",
   "execution_count": 33,
   "metadata": {},
   "outputs": [
    {
     "name": "stdout",
     "output_type": "stream",
     "text": [
      "лучшие параметры: {'learning_rate': 0.1, 'max_depth': 30, 'n_estimators': 600, 'random_state': 12345}\n",
      "CPU times: user 1h 16min 44s, sys: 23.1 s, total: 1h 17min 7s\n",
      "Wall time: 1h 17min 17s\n"
     ]
    }
   ],
   "source": [
    "%%time\n",
    "grid_l = { \n",
    "    'random_state' : [12345],\n",
    "    'learning_rate': [0.01, 0.1],    \n",
    "    'max_depth': range(10, 40, 10),\n",
    "    'n_estimators': range(200, 800, 200)       \n",
    "}\n",
    "estimator = lgbm.LGBMRegressor()\n",
    "lgbm_cv = GridSearchCV(estimator=estimator, param_grid=grid_l, cv=5, scoring='neg_mean_squared_error')\n",
    "lgbm_cv.fit(features_train, target_train)\n",
    "best_grid_l = lgbm_cv.best_params_\n",
    "print('лучшие параметры:', lgbm_cv.best_params_)"
   ]
  },
  {
   "cell_type": "code",
   "execution_count": 34,
   "metadata": {},
   "outputs": [
    {
     "name": "stdout",
     "output_type": "stream",
     "text": [
      "[100]\tvalid_0's l2: 2.728e+06\n",
      "[200]\tvalid_0's l2: 2.53115e+06\n",
      "[300]\tvalid_0's l2: 2.45254e+06\n",
      "[400]\tvalid_0's l2: 2.40707e+06\n",
      "[500]\tvalid_0's l2: 2.38208e+06\n",
      "[600]\tvalid_0's l2: 2.35948e+06\n",
      "RMSE модели Градиентный бустинг LightGBM: 1536.0600340133885\n",
      "Время обучения модели Градиентный бустинг LightGBM: 26.3\n",
      "Время предсказания модели Градиентный бустинг LightGBM: 2.41\n"
     ]
    }
   ],
   "source": [
    "start_lgbm_s = time.time()\n",
    "model_lgbm = lgbm.sklearn.LGBMRegressor(**best_grid_l)\n",
    "model_lgbm.fit(features_train_gb, target_train_gb, eval_set=(features_valid_gb, target_valid_gb), verbose=100)\n",
    "end_lgbm_s = time.time()\n",
    "\n",
    "start_lgbm_p = time.time()\n",
    "pred_lgbm = model_lgbm.predict(features_valid_gb)\n",
    "end_lgbm_p = time.time()\n",
    "\n",
    "t_lgbm_s=round(end_lgbm_s-start_lgbm_s,2)\n",
    "t_lgbm_p=round(end_lgbm_p-start_lgbm_p,2)\n",
    "result_lgbm = mean_squared_error(target_valid_gb, pred_lgbm)**0.5\n",
    "print('RMSE модели Градиентный бустинг LightGBM:', result_lgbm)\n",
    "print('Время обучения модели Градиентный бустинг LightGBM:', t_lgbm_s)\n",
    "print('Время предсказания модели Градиентный бустинг LightGBM:', t_lgbm_p)"
   ]
  },
  {
   "cell_type": "markdown",
   "metadata": {},
   "source": [
    "### Градиентный бустинг CatBoost"
   ]
  },
  {
   "cell_type": "code",
   "execution_count": 35,
   "metadata": {},
   "outputs": [],
   "source": [
    "features_study_c, features_test_c, target_study_c, target_test_c = train_test_split(\n",
    "    features, target, test_size=0.2, random_state=12345)\n",
    "\n",
    "features_train_c, features_valid_c, target_train_c, target_valid_c = train_test_split(\n",
    "    features_study_c, target_study_c, test_size=0.25, random_state=12345)"
   ]
  },
  {
   "cell_type": "code",
   "execution_count": 36,
   "metadata": {},
   "outputs": [
    {
     "name": "stdout",
     "output_type": "stream",
     "text": [
      "0:\tlearn: 4241.3114118\ttotal: 129ms\tremaining: 51.4s\n",
      "50:\tlearn: 1871.1018741\ttotal: 3.12s\tremaining: 21.4s\n",
      "100:\tlearn: 1761.0128474\ttotal: 6.26s\tremaining: 18.5s\n",
      "150:\tlearn: 1709.5864518\ttotal: 9.24s\tremaining: 15.2s\n",
      "200:\tlearn: 1673.8211559\ttotal: 12.2s\tremaining: 12.1s\n",
      "250:\tlearn: 1648.8825616\ttotal: 15.6s\tremaining: 9.25s\n",
      "300:\tlearn: 1631.8232557\ttotal: 18.9s\tremaining: 6.2s\n",
      "350:\tlearn: 1615.6003572\ttotal: 22.2s\tremaining: 3.1s\n",
      "399:\tlearn: 1600.5545973\ttotal: 25.4s\tremaining: 0us\n",
      "0:\tlearn: 4251.6664948\ttotal: 60.5ms\tremaining: 24.1s\n",
      "50:\tlearn: 1871.2394354\ttotal: 3.08s\tremaining: 21s\n",
      "100:\tlearn: 1759.4809704\ttotal: 6.33s\tremaining: 18.7s\n",
      "150:\tlearn: 1707.8411837\ttotal: 9.32s\tremaining: 15.4s\n",
      "200:\tlearn: 1672.4236090\ttotal: 12.4s\tremaining: 12.3s\n",
      "250:\tlearn: 1648.0007096\ttotal: 15.6s\tremaining: 9.29s\n",
      "300:\tlearn: 1627.7845612\ttotal: 18.9s\tremaining: 6.23s\n",
      "350:\tlearn: 1612.5953643\ttotal: 22.3s\tremaining: 3.11s\n",
      "399:\tlearn: 1600.2329564\ttotal: 25.3s\tremaining: 0us\n",
      "0:\tlearn: 4253.0765189\ttotal: 57.5ms\tremaining: 22.9s\n",
      "50:\tlearn: 1867.1649479\ttotal: 3.02s\tremaining: 20.7s\n",
      "100:\tlearn: 1752.8476925\ttotal: 6.03s\tremaining: 17.9s\n",
      "150:\tlearn: 1701.5848960\ttotal: 9.1s\tremaining: 15s\n",
      "200:\tlearn: 1667.1535261\ttotal: 12.1s\tremaining: 11.9s\n",
      "250:\tlearn: 1644.2338930\ttotal: 15.1s\tremaining: 8.95s\n",
      "300:\tlearn: 1626.9461494\ttotal: 18.2s\tremaining: 5.98s\n",
      "350:\tlearn: 1611.2317454\ttotal: 21.3s\tremaining: 2.97s\n",
      "399:\tlearn: 1599.3034041\ttotal: 24.5s\tremaining: 0us\n",
      "0:\tlearn: 4240.9431884\ttotal: 62.1ms\tremaining: 24.8s\n",
      "50:\tlearn: 1873.6293987\ttotal: 3.36s\tremaining: 23s\n",
      "100:\tlearn: 1759.1679737\ttotal: 6.47s\tremaining: 19.1s\n",
      "150:\tlearn: 1707.3347038\ttotal: 9.6s\tremaining: 15.8s\n",
      "200:\tlearn: 1673.0222629\ttotal: 12.9s\tremaining: 12.8s\n",
      "250:\tlearn: 1650.2876467\ttotal: 16.2s\tremaining: 9.6s\n",
      "300:\tlearn: 1632.0871348\ttotal: 19.3s\tremaining: 6.35s\n",
      "350:\tlearn: 1617.6452312\ttotal: 22.5s\tremaining: 3.14s\n",
      "399:\tlearn: 1606.4885331\ttotal: 25.8s\tremaining: 0us\n",
      "0:\tlearn: 4246.5573259\ttotal: 61.3ms\tremaining: 24.5s\n",
      "50:\tlearn: 1874.8783330\ttotal: 3.1s\tremaining: 21.2s\n",
      "100:\tlearn: 1755.6026848\ttotal: 6.13s\tremaining: 18.1s\n",
      "150:\tlearn: 1703.1102682\ttotal: 9.14s\tremaining: 15.1s\n",
      "200:\tlearn: 1668.8383906\ttotal: 12.1s\tremaining: 12s\n",
      "250:\tlearn: 1645.1979342\ttotal: 15.2s\tremaining: 9.02s\n",
      "300:\tlearn: 1625.2753787\ttotal: 18.2s\tremaining: 5.97s\n",
      "350:\tlearn: 1608.6339620\ttotal: 21.1s\tremaining: 2.95s\n",
      "399:\tlearn: 1596.9538922\ttotal: 24.4s\tremaining: 0us\n",
      "0:\tlearn: 4241.3114118\ttotal: 62.9ms\tremaining: 25.1s\n",
      "100:\tlearn: 1761.0128474\ttotal: 6.79s\tremaining: 20.1s\n",
      "200:\tlearn: 1673.8211559\ttotal: 13.2s\tremaining: 13.1s\n",
      "300:\tlearn: 1631.8232557\ttotal: 19.4s\tremaining: 6.37s\n",
      "399:\tlearn: 1600.5545973\ttotal: 25.6s\tremaining: 0us\n",
      "0:\tlearn: 4251.6664948\ttotal: 63.1ms\tremaining: 25.2s\n",
      "100:\tlearn: 1759.4809704\ttotal: 6.65s\tremaining: 19.7s\n",
      "200:\tlearn: 1672.4236090\ttotal: 12.8s\tremaining: 12.7s\n",
      "300:\tlearn: 1627.7845612\ttotal: 18.9s\tremaining: 6.22s\n",
      "399:\tlearn: 1600.2329564\ttotal: 24.9s\tremaining: 0us\n",
      "0:\tlearn: 4253.0765189\ttotal: 55.6ms\tremaining: 22.2s\n",
      "100:\tlearn: 1752.8476925\ttotal: 6.26s\tremaining: 18.5s\n",
      "200:\tlearn: 1667.1535261\ttotal: 13s\tremaining: 12.8s\n",
      "300:\tlearn: 1626.9461494\ttotal: 19.3s\tremaining: 6.34s\n",
      "399:\tlearn: 1599.3034041\ttotal: 25.4s\tremaining: 0us\n",
      "0:\tlearn: 4240.9431884\ttotal: 66.6ms\tremaining: 26.6s\n",
      "100:\tlearn: 1759.1679737\ttotal: 6.38s\tremaining: 18.9s\n",
      "200:\tlearn: 1673.0222629\ttotal: 12.7s\tremaining: 12.6s\n",
      "300:\tlearn: 1632.0871348\ttotal: 18.8s\tremaining: 6.17s\n",
      "399:\tlearn: 1606.4885331\ttotal: 24.8s\tremaining: 0us\n",
      "0:\tlearn: 4246.5573259\ttotal: 57.5ms\tremaining: 22.9s\n",
      "100:\tlearn: 1755.6026848\ttotal: 6.27s\tremaining: 18.6s\n",
      "200:\tlearn: 1668.8383906\ttotal: 12.9s\tremaining: 12.8s\n",
      "300:\tlearn: 1625.2753787\ttotal: 19.6s\tremaining: 6.45s\n",
      "399:\tlearn: 1596.9538922\ttotal: 25.8s\tremaining: 0us\n",
      "0:\tlearn: 4241.3114118\ttotal: 58.1ms\tremaining: 46.4s\n",
      "50:\tlearn: 1871.1018741\ttotal: 3.27s\tremaining: 48.1s\n",
      "100:\tlearn: 1761.0128474\ttotal: 6.38s\tremaining: 44.2s\n",
      "150:\tlearn: 1709.5864518\ttotal: 9.5s\tremaining: 40.8s\n",
      "200:\tlearn: 1673.8211559\ttotal: 12.5s\tremaining: 37.3s\n",
      "250:\tlearn: 1648.8825616\ttotal: 15.8s\tremaining: 34.6s\n",
      "300:\tlearn: 1631.8232557\ttotal: 18.9s\tremaining: 31.4s\n",
      "350:\tlearn: 1615.6003572\ttotal: 22s\tremaining: 28.1s\n",
      "400:\tlearn: 1600.3280214\ttotal: 25s\tremaining: 24.9s\n",
      "450:\tlearn: 1589.5356927\ttotal: 28s\tremaining: 21.7s\n",
      "500:\tlearn: 1580.3537078\ttotal: 31s\tremaining: 18.5s\n",
      "550:\tlearn: 1571.9694786\ttotal: 34s\tremaining: 15.4s\n",
      "600:\tlearn: 1564.2754160\ttotal: 37.1s\tremaining: 12.3s\n",
      "650:\tlearn: 1556.3407693\ttotal: 40.2s\tremaining: 9.21s\n",
      "700:\tlearn: 1549.4700646\ttotal: 43.6s\tremaining: 6.15s\n",
      "750:\tlearn: 1544.4053452\ttotal: 47.2s\tremaining: 3.08s\n",
      "799:\tlearn: 1538.9690599\ttotal: 50.4s\tremaining: 0us\n",
      "0:\tlearn: 4251.6664948\ttotal: 58.7ms\tremaining: 46.9s\n",
      "50:\tlearn: 1871.2394354\ttotal: 3.05s\tremaining: 44.8s\n",
      "100:\tlearn: 1759.4809704\ttotal: 6.13s\tremaining: 42.4s\n",
      "150:\tlearn: 1707.8411837\ttotal: 9.18s\tremaining: 39.5s\n",
      "200:\tlearn: 1672.4236090\ttotal: 12.3s\tremaining: 36.7s\n",
      "250:\tlearn: 1648.0007096\ttotal: 15.5s\tremaining: 33.9s\n",
      "300:\tlearn: 1627.7845612\ttotal: 18.7s\tremaining: 31s\n",
      "350:\tlearn: 1612.5953643\ttotal: 21.7s\tremaining: 27.8s\n",
      "400:\tlearn: 1599.6471977\ttotal: 24.7s\tremaining: 24.6s\n",
      "450:\tlearn: 1588.9352592\ttotal: 28s\tremaining: 21.7s\n",
      "500:\tlearn: 1578.1794176\ttotal: 31.2s\tremaining: 18.6s\n",
      "550:\tlearn: 1568.2979012\ttotal: 34.3s\tremaining: 15.5s\n",
      "600:\tlearn: 1560.7777743\ttotal: 37.3s\tremaining: 12.3s\n",
      "650:\tlearn: 1554.2210131\ttotal: 40.3s\tremaining: 9.21s\n",
      "700:\tlearn: 1546.9728115\ttotal: 43.7s\tremaining: 6.17s\n",
      "750:\tlearn: 1541.5222217\ttotal: 47s\tremaining: 3.07s\n",
      "799:\tlearn: 1535.8857271\ttotal: 50.3s\tremaining: 0us\n",
      "0:\tlearn: 4253.0765189\ttotal: 66.3ms\tremaining: 53s\n",
      "50:\tlearn: 1867.1649479\ttotal: 3.33s\tremaining: 48.9s\n",
      "100:\tlearn: 1752.8476925\ttotal: 6.45s\tremaining: 44.7s\n",
      "150:\tlearn: 1701.5848960\ttotal: 9.59s\tremaining: 41.2s\n",
      "200:\tlearn: 1667.1535261\ttotal: 12.9s\tremaining: 38.5s\n",
      "250:\tlearn: 1644.2338930\ttotal: 16s\tremaining: 35s\n",
      "300:\tlearn: 1626.9461494\ttotal: 19.1s\tremaining: 31.7s\n",
      "350:\tlearn: 1611.2317454\ttotal: 22.4s\tremaining: 28.6s\n",
      "400:\tlearn: 1599.0747127\ttotal: 25.5s\tremaining: 25.4s\n",
      "450:\tlearn: 1589.0621048\ttotal: 28.6s\tremaining: 22.1s\n",
      "500:\tlearn: 1579.5077237\ttotal: 31.7s\tremaining: 18.9s\n",
      "550:\tlearn: 1568.2214720\ttotal: 34.7s\tremaining: 15.7s\n",
      "600:\tlearn: 1559.6262182\ttotal: 37.7s\tremaining: 12.5s\n",
      "650:\tlearn: 1552.4349556\ttotal: 40.7s\tremaining: 9.32s\n",
      "700:\tlearn: 1545.9058132\ttotal: 43.8s\tremaining: 6.18s\n",
      "750:\tlearn: 1538.8717351\ttotal: 46.8s\tremaining: 3.05s\n",
      "799:\tlearn: 1532.8836152\ttotal: 49.7s\tremaining: 0us\n",
      "0:\tlearn: 4240.9431884\ttotal: 64.1ms\tremaining: 51.2s\n",
      "50:\tlearn: 1873.6293987\ttotal: 3.32s\tremaining: 48.8s\n",
      "100:\tlearn: 1759.1679737\ttotal: 6.42s\tremaining: 44.5s\n",
      "150:\tlearn: 1707.3347038\ttotal: 9.49s\tremaining: 40.8s\n",
      "200:\tlearn: 1673.0222629\ttotal: 12.5s\tremaining: 37.3s\n",
      "250:\tlearn: 1650.2876467\ttotal: 15.6s\tremaining: 34.2s\n",
      "300:\tlearn: 1632.0871348\ttotal: 18.9s\tremaining: 31.4s\n",
      "350:\tlearn: 1617.6452312\ttotal: 22.2s\tremaining: 28.4s\n",
      "400:\tlearn: 1606.1782078\ttotal: 25.4s\tremaining: 25.3s\n",
      "450:\tlearn: 1596.4573474\ttotal: 28.6s\tremaining: 22.1s\n",
      "500:\tlearn: 1585.5832594\ttotal: 31.9s\tremaining: 19s\n",
      "550:\tlearn: 1577.0480353\ttotal: 35s\tremaining: 15.8s\n",
      "600:\tlearn: 1569.5843029\ttotal: 38.2s\tremaining: 12.7s\n",
      "650:\tlearn: 1562.7498867\ttotal: 41.3s\tremaining: 9.45s\n",
      "700:\tlearn: 1556.9377995\ttotal: 44.4s\tremaining: 6.27s\n",
      "750:\tlearn: 1552.3373614\ttotal: 47.5s\tremaining: 3.1s\n",
      "799:\tlearn: 1548.0443172\ttotal: 50.5s\tremaining: 0us\n",
      "0:\tlearn: 4246.5573259\ttotal: 58.3ms\tremaining: 46.6s\n",
      "50:\tlearn: 1874.8783330\ttotal: 3s\tremaining: 44s\n",
      "100:\tlearn: 1755.6026848\ttotal: 6.53s\tremaining: 45.2s\n",
      "150:\tlearn: 1703.1102682\ttotal: 9.85s\tremaining: 42.3s\n",
      "200:\tlearn: 1668.8383906\ttotal: 12.9s\tremaining: 38.3s\n",
      "250:\tlearn: 1645.1979342\ttotal: 16s\tremaining: 35.1s\n",
      "300:\tlearn: 1625.2753787\ttotal: 19.2s\tremaining: 31.8s\n",
      "350:\tlearn: 1608.6339620\ttotal: 22.2s\tremaining: 28.4s\n",
      "400:\tlearn: 1596.6836426\ttotal: 25.6s\tremaining: 25.4s\n",
      "450:\tlearn: 1585.0849666\ttotal: 28.8s\tremaining: 22.3s\n",
      "500:\tlearn: 1575.1628829\ttotal: 32s\tremaining: 19.1s\n",
      "550:\tlearn: 1566.4739172\ttotal: 35.2s\tremaining: 15.9s\n",
      "600:\tlearn: 1558.3415178\ttotal: 38.2s\tremaining: 12.6s\n",
      "650:\tlearn: 1551.4499000\ttotal: 41.2s\tremaining: 9.44s\n",
      "700:\tlearn: 1544.2711104\ttotal: 44.3s\tremaining: 6.25s\n",
      "750:\tlearn: 1537.7065932\ttotal: 47.2s\tremaining: 3.08s\n",
      "799:\tlearn: 1531.7551393\ttotal: 50.2s\tremaining: 0us\n",
      "0:\tlearn: 4241.3114118\ttotal: 56.7ms\tremaining: 45.3s\n",
      "100:\tlearn: 1761.0128474\ttotal: 6.1s\tremaining: 42.2s\n",
      "200:\tlearn: 1673.8211559\ttotal: 12.4s\tremaining: 36.9s\n",
      "300:\tlearn: 1631.8232557\ttotal: 19.1s\tremaining: 31.6s\n",
      "400:\tlearn: 1600.3280214\ttotal: 25.7s\tremaining: 25.6s\n",
      "500:\tlearn: 1580.3537078\ttotal: 32s\tremaining: 19.1s\n",
      "600:\tlearn: 1564.2754160\ttotal: 38.4s\tremaining: 12.7s\n",
      "700:\tlearn: 1549.4700646\ttotal: 44.8s\tremaining: 6.33s\n",
      "799:\tlearn: 1538.9690599\ttotal: 50.9s\tremaining: 0us\n",
      "0:\tlearn: 4251.6664948\ttotal: 58.4ms\tremaining: 46.6s\n",
      "100:\tlearn: 1759.4809704\ttotal: 6.02s\tremaining: 41.7s\n",
      "200:\tlearn: 1672.4236090\ttotal: 12s\tremaining: 35.8s\n",
      "300:\tlearn: 1627.7845612\ttotal: 18.3s\tremaining: 30.3s\n",
      "400:\tlearn: 1599.6471977\ttotal: 24.8s\tremaining: 24.7s\n",
      "500:\tlearn: 1578.1794176\ttotal: 30.8s\tremaining: 18.4s\n",
      "600:\tlearn: 1560.7777743\ttotal: 37.1s\tremaining: 12.3s\n",
      "700:\tlearn: 1546.9728115\ttotal: 43.4s\tremaining: 6.13s\n",
      "799:\tlearn: 1535.8857271\ttotal: 49.8s\tremaining: 0us\n",
      "0:\tlearn: 4253.0765189\ttotal: 60ms\tremaining: 48s\n",
      "100:\tlearn: 1752.8476925\ttotal: 6.17s\tremaining: 42.7s\n",
      "200:\tlearn: 1667.1535261\ttotal: 12.2s\tremaining: 36.3s\n",
      "300:\tlearn: 1626.9461494\ttotal: 18.3s\tremaining: 30.3s\n",
      "400:\tlearn: 1599.0747127\ttotal: 24.4s\tremaining: 24.2s\n",
      "500:\tlearn: 1579.5077237\ttotal: 30.7s\tremaining: 18.3s\n",
      "600:\tlearn: 1559.6262182\ttotal: 36.8s\tremaining: 12.2s\n",
      "700:\tlearn: 1545.9058132\ttotal: 42.9s\tremaining: 6.06s\n",
      "799:\tlearn: 1532.8836152\ttotal: 49.3s\tremaining: 0us\n",
      "0:\tlearn: 4240.9431884\ttotal: 58.6ms\tremaining: 46.8s\n",
      "100:\tlearn: 1759.1679737\ttotal: 6.44s\tremaining: 44.5s\n",
      "200:\tlearn: 1673.0222629\ttotal: 12.6s\tremaining: 37.6s\n",
      "300:\tlearn: 1632.0871348\ttotal: 18.7s\tremaining: 31s\n",
      "400:\tlearn: 1606.1782078\ttotal: 24.9s\tremaining: 24.8s\n",
      "500:\tlearn: 1585.5832594\ttotal: 30.9s\tremaining: 18.5s\n",
      "600:\tlearn: 1569.5843029\ttotal: 37.8s\tremaining: 12.5s\n",
      "700:\tlearn: 1556.9377995\ttotal: 43.9s\tremaining: 6.2s\n",
      "799:\tlearn: 1548.0443172\ttotal: 49.9s\tremaining: 0us\n",
      "0:\tlearn: 4246.5573259\ttotal: 62ms\tremaining: 49.5s\n",
      "100:\tlearn: 1755.6026848\ttotal: 6.34s\tremaining: 43.9s\n",
      "200:\tlearn: 1668.8383906\ttotal: 12.7s\tremaining: 38s\n",
      "300:\tlearn: 1625.2753787\ttotal: 19s\tremaining: 31.5s\n",
      "400:\tlearn: 1596.6836426\ttotal: 25.2s\tremaining: 25s\n",
      "500:\tlearn: 1575.1628829\ttotal: 31.3s\tremaining: 18.7s\n",
      "600:\tlearn: 1558.3415178\ttotal: 37.3s\tremaining: 12.3s\n",
      "700:\tlearn: 1544.2711104\ttotal: 43.6s\tremaining: 6.16s\n",
      "799:\tlearn: 1531.7551393\ttotal: 50s\tremaining: 0us\n",
      "0:\tlearn: 4241.3114118\ttotal: 59ms\tremaining: 1m 10s\n",
      "50:\tlearn: 1871.1018741\ttotal: 3.09s\tremaining: 1m 9s\n",
      "100:\tlearn: 1761.0128474\ttotal: 6.21s\tremaining: 1m 7s\n",
      "150:\tlearn: 1709.5864518\ttotal: 9.38s\tremaining: 1m 5s\n",
      "200:\tlearn: 1673.8211559\ttotal: 12.6s\tremaining: 1m 2s\n",
      "250:\tlearn: 1648.8825616\ttotal: 15.8s\tremaining: 59.7s\n",
      "300:\tlearn: 1631.8232557\ttotal: 18.9s\tremaining: 56.4s\n",
      "350:\tlearn: 1615.6003572\ttotal: 21.9s\tremaining: 53s\n",
      "400:\tlearn: 1600.3280214\ttotal: 24.9s\tremaining: 49.6s\n",
      "450:\tlearn: 1589.5356927\ttotal: 27.9s\tremaining: 46.3s\n",
      "500:\tlearn: 1580.3537078\ttotal: 30.9s\tremaining: 43.1s\n",
      "550:\tlearn: 1571.9694786\ttotal: 34s\tremaining: 40s\n",
      "600:\tlearn: 1564.2754160\ttotal: 36.9s\tremaining: 36.8s\n",
      "650:\tlearn: 1556.3407693\ttotal: 39.9s\tremaining: 33.7s\n",
      "700:\tlearn: 1549.4700646\ttotal: 42.9s\tremaining: 30.6s\n",
      "750:\tlearn: 1544.4053452\ttotal: 46s\tremaining: 27.5s\n",
      "800:\tlearn: 1538.8105080\ttotal: 49.5s\tremaining: 24.7s\n",
      "850:\tlearn: 1534.4662176\ttotal: 52.9s\tremaining: 21.7s\n",
      "900:\tlearn: 1530.4251560\ttotal: 55.9s\tremaining: 18.6s\n",
      "950:\tlearn: 1526.9332336\ttotal: 59s\tremaining: 15.4s\n",
      "1000:\tlearn: 1523.4064441\ttotal: 1m 2s\tremaining: 12.3s\n",
      "1050:\tlearn: 1519.0649115\ttotal: 1m 5s\tremaining: 9.24s\n",
      "1100:\tlearn: 1515.9017889\ttotal: 1m 8s\tremaining: 6.15s\n",
      "1150:\tlearn: 1513.0494361\ttotal: 1m 11s\tremaining: 3.05s\n",
      "1199:\tlearn: 1510.6508549\ttotal: 1m 14s\tremaining: 0us\n",
      "0:\tlearn: 4251.6664948\ttotal: 58ms\tremaining: 1m 9s\n",
      "50:\tlearn: 1871.2394354\ttotal: 3.28s\tremaining: 1m 13s\n",
      "100:\tlearn: 1759.4809704\ttotal: 6.53s\tremaining: 1m 11s\n",
      "150:\tlearn: 1707.8411837\ttotal: 9.64s\tremaining: 1m 6s\n",
      "200:\tlearn: 1672.4236090\ttotal: 12.6s\tremaining: 1m 2s\n",
      "250:\tlearn: 1648.0007096\ttotal: 15.7s\tremaining: 59.2s\n",
      "300:\tlearn: 1627.7845612\ttotal: 18.7s\tremaining: 55.7s\n",
      "350:\tlearn: 1612.5953643\ttotal: 21.7s\tremaining: 52.5s\n",
      "400:\tlearn: 1599.6471977\ttotal: 24.6s\tremaining: 49.1s\n",
      "450:\tlearn: 1588.9352592\ttotal: 27.6s\tremaining: 45.9s\n",
      "500:\tlearn: 1578.1794176\ttotal: 30.7s\tremaining: 42.9s\n",
      "550:\tlearn: 1568.2979012\ttotal: 34s\tremaining: 40s\n",
      "600:\tlearn: 1560.7777743\ttotal: 37.1s\tremaining: 37s\n",
      "650:\tlearn: 1554.2210131\ttotal: 40.2s\tremaining: 33.9s\n",
      "700:\tlearn: 1546.9728115\ttotal: 43.2s\tremaining: 30.8s\n",
      "750:\tlearn: 1541.5222217\ttotal: 46.3s\tremaining: 27.7s\n",
      "800:\tlearn: 1535.7269885\ttotal: 49.5s\tremaining: 24.7s\n",
      "850:\tlearn: 1530.3442222\ttotal: 52.8s\tremaining: 21.6s\n",
      "900:\tlearn: 1524.8648763\ttotal: 56s\tremaining: 18.6s\n",
      "950:\tlearn: 1518.9676654\ttotal: 59.1s\tremaining: 15.5s\n",
      "1000:\tlearn: 1514.5581723\ttotal: 1m 2s\tremaining: 12.4s\n",
      "1050:\tlearn: 1510.8165635\ttotal: 1m 5s\tremaining: 9.33s\n",
      "1100:\tlearn: 1507.0352702\ttotal: 1m 8s\tremaining: 6.19s\n",
      "1150:\tlearn: 1503.8667190\ttotal: 1m 11s\tremaining: 3.06s\n",
      "1199:\tlearn: 1500.8408204\ttotal: 1m 14s\tremaining: 0us\n",
      "0:\tlearn: 4253.0765189\ttotal: 57.6ms\tremaining: 1m 9s\n",
      "50:\tlearn: 1867.1649479\ttotal: 3.07s\tremaining: 1m 9s\n",
      "100:\tlearn: 1752.8476925\ttotal: 6.05s\tremaining: 1m 5s\n",
      "150:\tlearn: 1701.5848960\ttotal: 9.06s\tremaining: 1m 2s\n",
      "200:\tlearn: 1667.1535261\ttotal: 12.6s\tremaining: 1m 2s\n",
      "250:\tlearn: 1644.2338930\ttotal: 15.9s\tremaining: 1m\n",
      "300:\tlearn: 1626.9461494\ttotal: 19.2s\tremaining: 57.2s\n",
      "350:\tlearn: 1611.2317454\ttotal: 22.3s\tremaining: 54s\n",
      "400:\tlearn: 1599.0747127\ttotal: 25.3s\tremaining: 50.5s\n",
      "450:\tlearn: 1589.0621048\ttotal: 28.4s\tremaining: 47.2s\n",
      "500:\tlearn: 1579.5077237\ttotal: 31.7s\tremaining: 44.3s\n",
      "550:\tlearn: 1568.2214720\ttotal: 34.9s\tremaining: 41.1s\n",
      "600:\tlearn: 1559.6262182\ttotal: 38.1s\tremaining: 38s\n",
      "650:\tlearn: 1552.4349556\ttotal: 41.3s\tremaining: 34.8s\n",
      "700:\tlearn: 1545.9058132\ttotal: 44.6s\tremaining: 31.7s\n",
      "750:\tlearn: 1538.8717351\ttotal: 47.9s\tremaining: 28.6s\n",
      "800:\tlearn: 1532.6268628\ttotal: 51s\tremaining: 25.4s\n",
      "850:\tlearn: 1527.2998417\ttotal: 54s\tremaining: 22.2s\n",
      "900:\tlearn: 1522.0921120\ttotal: 57.1s\tremaining: 18.9s\n",
      "950:\tlearn: 1517.2292778\ttotal: 1m\tremaining: 15.7s\n",
      "1000:\tlearn: 1512.0125057\ttotal: 1m 3s\tremaining: 12.5s\n",
      "1050:\tlearn: 1507.6883427\ttotal: 1m 6s\tremaining: 9.38s\n",
      "1100:\tlearn: 1503.2724497\ttotal: 1m 9s\tremaining: 6.23s\n",
      "1150:\tlearn: 1499.4622428\ttotal: 1m 12s\tremaining: 3.09s\n",
      "1199:\tlearn: 1496.2411465\ttotal: 1m 15s\tremaining: 0us\n",
      "0:\tlearn: 4240.9431884\ttotal: 73.7ms\tremaining: 1m 28s\n",
      "50:\tlearn: 1873.6293987\ttotal: 3.13s\tremaining: 1m 10s\n",
      "100:\tlearn: 1759.1679737\ttotal: 6.17s\tremaining: 1m 7s\n",
      "150:\tlearn: 1707.3347038\ttotal: 9.25s\tremaining: 1m 4s\n",
      "200:\tlearn: 1673.0222629\ttotal: 12.4s\tremaining: 1m 1s\n",
      "250:\tlearn: 1650.2876467\ttotal: 15.6s\tremaining: 59.1s\n",
      "300:\tlearn: 1632.0871348\ttotal: 18.9s\tremaining: 56.4s\n",
      "350:\tlearn: 1617.6452312\ttotal: 22s\tremaining: 53.2s\n",
      "400:\tlearn: 1606.1782078\ttotal: 25.3s\tremaining: 50.4s\n",
      "450:\tlearn: 1596.4573474\ttotal: 28.6s\tremaining: 47.5s\n",
      "500:\tlearn: 1585.5832594\ttotal: 31.7s\tremaining: 44.3s\n",
      "550:\tlearn: 1577.0480353\ttotal: 34.8s\tremaining: 41s\n",
      "600:\tlearn: 1569.5843029\ttotal: 37.9s\tremaining: 37.8s\n",
      "650:\tlearn: 1562.7498867\ttotal: 40.9s\tremaining: 34.5s\n",
      "700:\tlearn: 1556.9377995\ttotal: 44s\tremaining: 31.3s\n",
      "750:\tlearn: 1552.3373614\ttotal: 47s\tremaining: 28.1s\n",
      "800:\tlearn: 1547.8560276\ttotal: 50.1s\tremaining: 24.9s\n",
      "850:\tlearn: 1543.6984311\ttotal: 53.6s\tremaining: 22s\n",
      "900:\tlearn: 1539.9457353\ttotal: 56.9s\tremaining: 18.9s\n",
      "950:\tlearn: 1536.4404722\ttotal: 1m\tremaining: 15.8s\n",
      "1000:\tlearn: 1532.6756878\ttotal: 1m 3s\tremaining: 12.6s\n",
      "1050:\tlearn: 1530.3054382\ttotal: 1m 6s\tremaining: 9.4s\n",
      "1100:\tlearn: 1527.3584082\ttotal: 1m 9s\tremaining: 6.24s\n",
      "1150:\tlearn: 1524.3512833\ttotal: 1m 12s\tremaining: 3.08s\n",
      "1199:\tlearn: 1521.8079856\ttotal: 1m 15s\tremaining: 0us\n",
      "0:\tlearn: 4246.5573259\ttotal: 57ms\tremaining: 1m 8s\n",
      "50:\tlearn: 1874.8783330\ttotal: 3.14s\tremaining: 1m 10s\n",
      "100:\tlearn: 1755.6026848\ttotal: 6.39s\tremaining: 1m 9s\n",
      "150:\tlearn: 1703.1102682\ttotal: 9.74s\tremaining: 1m 7s\n",
      "200:\tlearn: 1668.8383906\ttotal: 12.8s\tremaining: 1m 3s\n",
      "250:\tlearn: 1645.1979342\ttotal: 15.8s\tremaining: 59.9s\n",
      "300:\tlearn: 1625.2753787\ttotal: 18.9s\tremaining: 56.4s\n",
      "350:\tlearn: 1608.6339620\ttotal: 21.9s\tremaining: 53.1s\n",
      "400:\tlearn: 1596.6836426\ttotal: 25.1s\tremaining: 50s\n",
      "450:\tlearn: 1585.0849666\ttotal: 28.1s\tremaining: 46.7s\n",
      "500:\tlearn: 1575.1628829\ttotal: 31.2s\tremaining: 43.5s\n",
      "550:\tlearn: 1566.4739172\ttotal: 34.3s\tremaining: 40.4s\n",
      "600:\tlearn: 1558.3415178\ttotal: 37.5s\tremaining: 37.4s\n",
      "650:\tlearn: 1551.4499000\ttotal: 40.9s\tremaining: 34.5s\n",
      "700:\tlearn: 1544.2711104\ttotal: 44s\tremaining: 31.3s\n",
      "750:\tlearn: 1537.7065932\ttotal: 47s\tremaining: 28.1s\n",
      "800:\tlearn: 1531.5780822\ttotal: 50.1s\tremaining: 25s\n",
      "850:\tlearn: 1525.8755108\ttotal: 53.4s\tremaining: 21.9s\n",
      "900:\tlearn: 1520.4840537\ttotal: 56.6s\tremaining: 18.8s\n",
      "950:\tlearn: 1515.8473390\ttotal: 59.7s\tremaining: 15.6s\n",
      "1000:\tlearn: 1512.1142248\ttotal: 1m 2s\tremaining: 12.5s\n",
      "1050:\tlearn: 1507.6776434\ttotal: 1m 5s\tremaining: 9.36s\n",
      "1100:\tlearn: 1502.7627696\ttotal: 1m 9s\tremaining: 6.23s\n",
      "1150:\tlearn: 1499.1541912\ttotal: 1m 12s\tremaining: 3.08s\n",
      "1199:\tlearn: 1495.6664482\ttotal: 1m 15s\tremaining: 0us\n",
      "0:\tlearn: 4241.3114118\ttotal: 57.9ms\tremaining: 1m 9s\n",
      "100:\tlearn: 1761.0128474\ttotal: 6.09s\tremaining: 1m 6s\n",
      "200:\tlearn: 1673.8211559\ttotal: 12.1s\tremaining: 59.9s\n",
      "300:\tlearn: 1631.8232557\ttotal: 18.9s\tremaining: 56.3s\n",
      "400:\tlearn: 1600.3280214\ttotal: 25.3s\tremaining: 50.3s\n",
      "500:\tlearn: 1580.3537078\ttotal: 31.3s\tremaining: 43.7s\n",
      "600:\tlearn: 1564.2754160\ttotal: 37.5s\tremaining: 37.4s\n",
      "700:\tlearn: 1549.4700646\ttotal: 44s\tremaining: 31.3s\n",
      "800:\tlearn: 1538.8105080\ttotal: 50s\tremaining: 24.9s\n",
      "900:\tlearn: 1530.4251560\ttotal: 56.2s\tremaining: 18.6s\n",
      "1000:\tlearn: 1523.4064441\ttotal: 1m 2s\tremaining: 12.4s\n",
      "1100:\tlearn: 1515.9017889\ttotal: 1m 8s\tremaining: 6.15s\n",
      "1199:\tlearn: 1510.6508549\ttotal: 1m 14s\tremaining: 0us\n",
      "0:\tlearn: 4251.6664948\ttotal: 64.2ms\tremaining: 1m 17s\n",
      "100:\tlearn: 1759.4809704\ttotal: 6.57s\tremaining: 1m 11s\n",
      "200:\tlearn: 1672.4236090\ttotal: 12.8s\tremaining: 1m 3s\n",
      "300:\tlearn: 1627.7845612\ttotal: 19.2s\tremaining: 57.4s\n",
      "400:\tlearn: 1599.6471977\ttotal: 25.3s\tremaining: 50.5s\n",
      "500:\tlearn: 1578.1794176\ttotal: 31.5s\tremaining: 43.9s\n",
      "600:\tlearn: 1560.7777743\ttotal: 37.6s\tremaining: 37.5s\n",
      "700:\tlearn: 1546.9728115\ttotal: 43.6s\tremaining: 31s\n",
      "800:\tlearn: 1535.7269885\ttotal: 49.7s\tremaining: 24.7s\n",
      "900:\tlearn: 1524.8648763\ttotal: 55.7s\tremaining: 18.5s\n",
      "1000:\tlearn: 1514.5581723\ttotal: 1m 2s\tremaining: 12.4s\n",
      "1100:\tlearn: 1507.0352702\ttotal: 1m 8s\tremaining: 6.19s\n",
      "1199:\tlearn: 1500.8408204\ttotal: 1m 14s\tremaining: 0us\n",
      "0:\tlearn: 4253.0765189\ttotal: 58.2ms\tremaining: 1m 9s\n",
      "100:\tlearn: 1752.8476925\ttotal: 6.26s\tremaining: 1m 8s\n",
      "200:\tlearn: 1667.1535261\ttotal: 12.4s\tremaining: 1m 1s\n",
      "300:\tlearn: 1626.9461494\ttotal: 18.5s\tremaining: 55.2s\n",
      "400:\tlearn: 1599.0747127\ttotal: 24.6s\tremaining: 49s\n",
      "500:\tlearn: 1579.5077237\ttotal: 30.6s\tremaining: 42.7s\n",
      "600:\tlearn: 1559.6262182\ttotal: 36.6s\tremaining: 36.5s\n",
      "700:\tlearn: 1545.9058132\ttotal: 43s\tremaining: 30.6s\n",
      "800:\tlearn: 1532.6268628\ttotal: 49.5s\tremaining: 24.6s\n",
      "900:\tlearn: 1522.0921120\ttotal: 55.6s\tremaining: 18.4s\n",
      "1000:\tlearn: 1512.0125057\ttotal: 1m 1s\tremaining: 12.3s\n",
      "1100:\tlearn: 1503.2724497\ttotal: 1m 8s\tremaining: 6.12s\n",
      "1199:\tlearn: 1496.2411465\ttotal: 1m 14s\tremaining: 0us\n",
      "0:\tlearn: 4240.9431884\ttotal: 61ms\tremaining: 1m 13s\n",
      "100:\tlearn: 1759.1679737\ttotal: 6.17s\tremaining: 1m 7s\n",
      "200:\tlearn: 1673.0222629\ttotal: 12.4s\tremaining: 1m 1s\n",
      "300:\tlearn: 1632.0871348\ttotal: 18.5s\tremaining: 55.2s\n",
      "400:\tlearn: 1606.1782078\ttotal: 25.1s\tremaining: 49.9s\n",
      "500:\tlearn: 1585.5832594\ttotal: 31.8s\tremaining: 44.3s\n",
      "600:\tlearn: 1569.5843029\ttotal: 38s\tremaining: 37.9s\n",
      "700:\tlearn: 1556.9377995\ttotal: 44.5s\tremaining: 31.7s\n",
      "800:\tlearn: 1547.8560276\ttotal: 51s\tremaining: 25.4s\n",
      "900:\tlearn: 1539.9457353\ttotal: 57.5s\tremaining: 19.1s\n",
      "1000:\tlearn: 1532.6756878\ttotal: 1m 3s\tremaining: 12.6s\n",
      "1100:\tlearn: 1527.3584082\ttotal: 1m 9s\tremaining: 6.27s\n",
      "1199:\tlearn: 1521.8079856\ttotal: 1m 15s\tremaining: 0us\n",
      "0:\tlearn: 4246.5573259\ttotal: 55.8ms\tremaining: 1m 6s\n",
      "100:\tlearn: 1755.6026848\ttotal: 6.31s\tremaining: 1m 8s\n",
      "200:\tlearn: 1668.8383906\ttotal: 13s\tremaining: 1m 4s\n",
      "300:\tlearn: 1625.2753787\ttotal: 19.1s\tremaining: 57s\n",
      "400:\tlearn: 1596.6836426\ttotal: 25.3s\tremaining: 50.4s\n",
      "500:\tlearn: 1575.1628829\ttotal: 31.6s\tremaining: 44.1s\n",
      "600:\tlearn: 1558.3415178\ttotal: 38.2s\tremaining: 38s\n",
      "700:\tlearn: 1544.2711104\ttotal: 44.6s\tremaining: 31.7s\n",
      "800:\tlearn: 1531.5780822\ttotal: 50.6s\tremaining: 25.2s\n",
      "900:\tlearn: 1520.4840537\ttotal: 56.7s\tremaining: 18.8s\n",
      "1000:\tlearn: 1512.1142248\ttotal: 1m 2s\tremaining: 12.5s\n",
      "1100:\tlearn: 1502.7627696\ttotal: 1m 9s\tremaining: 6.26s\n",
      "1199:\tlearn: 1495.6664482\ttotal: 1m 15s\tremaining: 0us\n",
      "0:\tlearn: 3667.9144910\ttotal: 58ms\tremaining: 23.1s\n",
      "50:\tlearn: 1718.5255725\ttotal: 3.14s\tremaining: 21.5s\n",
      "100:\tlearn: 1638.7862792\ttotal: 6.36s\tremaining: 18.8s\n",
      "150:\tlearn: 1594.1387832\ttotal: 9.58s\tremaining: 15.8s\n",
      "200:\tlearn: 1563.7028858\ttotal: 12.7s\tremaining: 12.5s\n",
      "250:\tlearn: 1547.5230469\ttotal: 15.9s\tremaining: 9.44s\n",
      "300:\tlearn: 1531.9727722\ttotal: 19.2s\tremaining: 6.33s\n",
      "350:\tlearn: 1520.5039127\ttotal: 22.5s\tremaining: 3.14s\n",
      "399:\tlearn: 1510.3299184\ttotal: 25.6s\tremaining: 0us\n",
      "0:\tlearn: 3674.4323311\ttotal: 58.5ms\tremaining: 23.4s\n",
      "50:\tlearn: 1715.4563809\ttotal: 3.09s\tremaining: 21.2s\n",
      "100:\tlearn: 1634.4542262\ttotal: 6.21s\tremaining: 18.4s\n",
      "150:\tlearn: 1593.6629918\ttotal: 9.23s\tremaining: 15.2s\n",
      "200:\tlearn: 1562.6461733\ttotal: 12.2s\tremaining: 12.1s\n",
      "250:\tlearn: 1540.5763060\ttotal: 15.4s\tremaining: 9.12s\n",
      "300:\tlearn: 1525.6886028\ttotal: 18.4s\tremaining: 6.06s\n",
      "350:\tlearn: 1512.8665704\ttotal: 21.7s\tremaining: 3.03s\n",
      "399:\tlearn: 1503.1340108\ttotal: 25s\tremaining: 0us\n",
      "0:\tlearn: 3687.0452886\ttotal: 58ms\tremaining: 23.2s\n",
      "50:\tlearn: 1703.8361306\ttotal: 3.12s\tremaining: 21.3s\n",
      "100:\tlearn: 1628.8944398\ttotal: 6.23s\tremaining: 18.4s\n",
      "150:\tlearn: 1584.7438564\ttotal: 9.42s\tremaining: 15.5s\n",
      "200:\tlearn: 1559.9726619\ttotal: 12.5s\tremaining: 12.4s\n",
      "250:\tlearn: 1537.7163725\ttotal: 15.6s\tremaining: 9.27s\n",
      "300:\tlearn: 1524.6127476\ttotal: 18.8s\tremaining: 6.18s\n",
      "350:\tlearn: 1511.1780777\ttotal: 22.2s\tremaining: 3.1s\n",
      "399:\tlearn: 1499.3693639\ttotal: 25.3s\tremaining: 0us\n",
      "0:\tlearn: 3657.6687783\ttotal: 62.1ms\tremaining: 24.8s\n",
      "50:\tlearn: 1710.1171094\ttotal: 3.1s\tremaining: 21.2s\n",
      "100:\tlearn: 1634.3644705\ttotal: 6.13s\tremaining: 18.2s\n",
      "150:\tlearn: 1594.7676171\ttotal: 9.3s\tremaining: 15.3s\n",
      "200:\tlearn: 1569.0469140\ttotal: 12.4s\tremaining: 12.3s\n",
      "250:\tlearn: 1549.4837472\ttotal: 15.4s\tremaining: 9.17s\n",
      "300:\tlearn: 1535.2069841\ttotal: 18.8s\tremaining: 6.18s\n",
      "350:\tlearn: 1525.8882806\ttotal: 22.2s\tremaining: 3.1s\n",
      "399:\tlearn: 1518.6869124\ttotal: 25.5s\tremaining: 0us\n",
      "0:\tlearn: 3651.4063377\ttotal: 63.6ms\tremaining: 25.4s\n",
      "50:\tlearn: 1710.9832987\ttotal: 3.35s\tremaining: 22.9s\n",
      "100:\tlearn: 1630.5087096\ttotal: 6.43s\tremaining: 19.1s\n",
      "150:\tlearn: 1589.8368869\ttotal: 9.48s\tremaining: 15.6s\n",
      "200:\tlearn: 1561.7779014\ttotal: 12.7s\tremaining: 12.6s\n",
      "250:\tlearn: 1542.1390844\ttotal: 15.9s\tremaining: 9.46s\n",
      "300:\tlearn: 1525.6616389\ttotal: 19.1s\tremaining: 6.27s\n",
      "350:\tlearn: 1513.7923312\ttotal: 22.3s\tremaining: 3.11s\n",
      "399:\tlearn: 1502.4135138\ttotal: 25.5s\tremaining: 0us\n",
      "0:\tlearn: 3667.9144910\ttotal: 62.4ms\tremaining: 24.9s\n",
      "100:\tlearn: 1638.7862792\ttotal: 6.24s\tremaining: 18.5s\n",
      "200:\tlearn: 1563.7028858\ttotal: 12.3s\tremaining: 12.2s\n",
      "300:\tlearn: 1531.9727722\ttotal: 18.4s\tremaining: 6.05s\n",
      "399:\tlearn: 1510.3299184\ttotal: 24.8s\tremaining: 0us\n",
      "0:\tlearn: 3674.4323311\ttotal: 64.6ms\tremaining: 25.8s\n",
      "100:\tlearn: 1634.4542262\ttotal: 6.41s\tremaining: 19s\n",
      "200:\tlearn: 1562.6461733\ttotal: 12.5s\tremaining: 12.4s\n",
      "300:\tlearn: 1525.6886028\ttotal: 18.8s\tremaining: 6.18s\n",
      "399:\tlearn: 1503.1340108\ttotal: 25.1s\tremaining: 0us\n",
      "0:\tlearn: 3687.0452886\ttotal: 64.6ms\tremaining: 25.8s\n",
      "100:\tlearn: 1628.8944398\ttotal: 6.63s\tremaining: 19.6s\n",
      "200:\tlearn: 1559.9726619\ttotal: 12.7s\tremaining: 12.6s\n",
      "300:\tlearn: 1524.6127476\ttotal: 18.9s\tremaining: 6.22s\n",
      "399:\tlearn: 1499.3693639\ttotal: 24.9s\tremaining: 0us\n",
      "0:\tlearn: 3657.6687783\ttotal: 58.2ms\tremaining: 23.2s\n",
      "100:\tlearn: 1634.3644705\ttotal: 6.76s\tremaining: 20s\n",
      "200:\tlearn: 1569.0469140\ttotal: 13.5s\tremaining: 13.4s\n",
      "300:\tlearn: 1535.2069841\ttotal: 19.8s\tremaining: 6.5s\n",
      "399:\tlearn: 1518.6869124\ttotal: 26.2s\tremaining: 0us\n",
      "0:\tlearn: 3651.4063377\ttotal: 59.2ms\tremaining: 23.6s\n",
      "100:\tlearn: 1630.5087096\ttotal: 6.28s\tremaining: 18.6s\n",
      "200:\tlearn: 1561.7779014\ttotal: 12.4s\tremaining: 12.3s\n",
      "300:\tlearn: 1525.6616389\ttotal: 18.4s\tremaining: 6.07s\n",
      "399:\tlearn: 1502.4135138\ttotal: 24.5s\tremaining: 0us\n",
      "0:\tlearn: 3667.9144910\ttotal: 57.8ms\tremaining: 46.2s\n",
      "50:\tlearn: 1718.5255725\ttotal: 3.05s\tremaining: 44.8s\n",
      "100:\tlearn: 1638.7862792\ttotal: 6.11s\tremaining: 42.3s\n",
      "150:\tlearn: 1594.1387832\ttotal: 9.16s\tremaining: 39.4s\n",
      "200:\tlearn: 1563.7028858\ttotal: 12.5s\tremaining: 37.2s\n",
      "250:\tlearn: 1547.5230469\ttotal: 15.9s\tremaining: 34.8s\n",
      "300:\tlearn: 1531.9727722\ttotal: 19s\tremaining: 31.6s\n",
      "350:\tlearn: 1520.5039127\ttotal: 22.1s\tremaining: 28.3s\n",
      "400:\tlearn: 1510.2397684\ttotal: 25.2s\tremaining: 25.1s\n",
      "450:\tlearn: 1500.8217447\ttotal: 28.3s\tremaining: 21.9s\n",
      "500:\tlearn: 1494.7774878\ttotal: 31.5s\tremaining: 18.8s\n",
      "550:\tlearn: 1488.5645928\ttotal: 34.6s\tremaining: 15.7s\n",
      "600:\tlearn: 1482.4368168\ttotal: 37.9s\tremaining: 12.5s\n",
      "650:\tlearn: 1474.3328589\ttotal: 41s\tremaining: 9.39s\n",
      "700:\tlearn: 1465.4600126\ttotal: 44.1s\tremaining: 6.23s\n",
      "750:\tlearn: 1460.2320987\ttotal: 47.2s\tremaining: 3.08s\n",
      "799:\tlearn: 1454.6035329\ttotal: 50.1s\tremaining: 0us\n",
      "0:\tlearn: 3674.4323311\ttotal: 58.7ms\tremaining: 46.9s\n",
      "50:\tlearn: 1715.4563809\ttotal: 3.08s\tremaining: 45.2s\n",
      "100:\tlearn: 1634.4542262\ttotal: 6.12s\tremaining: 42.4s\n",
      "150:\tlearn: 1593.6629918\ttotal: 9.12s\tremaining: 39.2s\n",
      "200:\tlearn: 1562.6461733\ttotal: 12.2s\tremaining: 36.3s\n",
      "250:\tlearn: 1540.5763060\ttotal: 15.4s\tremaining: 33.7s\n",
      "300:\tlearn: 1525.6886028\ttotal: 18.7s\tremaining: 31s\n",
      "350:\tlearn: 1512.8665704\ttotal: 21.7s\tremaining: 27.8s\n",
      "400:\tlearn: 1502.8366132\ttotal: 24.9s\tremaining: 24.8s\n",
      "450:\tlearn: 1494.3177493\ttotal: 28s\tremaining: 21.6s\n",
      "500:\tlearn: 1486.5028846\ttotal: 31s\tremaining: 18.5s\n",
      "550:\tlearn: 1479.7787004\ttotal: 34.3s\tremaining: 15.5s\n",
      "600:\tlearn: 1475.3157176\ttotal: 37.5s\tremaining: 12.4s\n",
      "650:\tlearn: 1472.3265056\ttotal: 40.7s\tremaining: 9.31s\n",
      "700:\tlearn: 1468.3290262\ttotal: 43.8s\tremaining: 6.19s\n",
      "750:\tlearn: 1464.4284941\ttotal: 47.1s\tremaining: 3.07s\n",
      "799:\tlearn: 1462.1020587\ttotal: 50.4s\tremaining: 0us\n",
      "0:\tlearn: 3687.0452886\ttotal: 72ms\tremaining: 57.5s\n",
      "50:\tlearn: 1703.8361306\ttotal: 3.25s\tremaining: 47.7s\n",
      "100:\tlearn: 1628.8944398\ttotal: 6.41s\tremaining: 44.4s\n",
      "150:\tlearn: 1584.7438564\ttotal: 9.41s\tremaining: 40.4s\n",
      "200:\tlearn: 1559.9726619\ttotal: 12.5s\tremaining: 37.2s\n",
      "250:\tlearn: 1537.7163725\ttotal: 15.5s\tremaining: 33.9s\n",
      "300:\tlearn: 1524.6127476\ttotal: 18.6s\tremaining: 30.9s\n",
      "350:\tlearn: 1511.1780777\ttotal: 21.8s\tremaining: 27.9s\n",
      "400:\tlearn: 1499.2850120\ttotal: 25s\tremaining: 24.9s\n",
      "450:\tlearn: 1488.2413482\ttotal: 28.5s\tremaining: 22.1s\n",
      "500:\tlearn: 1478.6133177\ttotal: 31.8s\tremaining: 19s\n",
      "550:\tlearn: 1471.8654900\ttotal: 34.9s\tremaining: 15.8s\n",
      "600:\tlearn: 1464.2558335\ttotal: 38s\tremaining: 12.6s\n",
      "650:\tlearn: 1457.5704945\ttotal: 41s\tremaining: 9.38s\n",
      "700:\tlearn: 1451.4548148\ttotal: 44.3s\tremaining: 6.25s\n",
      "750:\tlearn: 1445.4452755\ttotal: 47.4s\tremaining: 3.09s\n",
      "799:\tlearn: 1440.6830339\ttotal: 50.5s\tremaining: 0us\n",
      "0:\tlearn: 3657.6687783\ttotal: 66.7ms\tremaining: 53.3s\n",
      "50:\tlearn: 1710.1171094\ttotal: 3.15s\tremaining: 46.3s\n",
      "100:\tlearn: 1634.3644705\ttotal: 6.22s\tremaining: 43s\n",
      "150:\tlearn: 1594.7676171\ttotal: 9.3s\tremaining: 40s\n",
      "200:\tlearn: 1569.0469140\ttotal: 12.4s\tremaining: 36.8s\n",
      "250:\tlearn: 1549.4837472\ttotal: 15.4s\tremaining: 33.6s\n",
      "300:\tlearn: 1535.2069841\ttotal: 18.4s\tremaining: 30.5s\n",
      "350:\tlearn: 1525.8882806\ttotal: 21.4s\tremaining: 27.4s\n",
      "400:\tlearn: 1518.6467842\ttotal: 24.5s\tremaining: 24.3s\n",
      "450:\tlearn: 1511.5546725\ttotal: 27.8s\tremaining: 21.6s\n",
      "500:\tlearn: 1504.2955678\ttotal: 31.2s\tremaining: 18.6s\n",
      "550:\tlearn: 1498.4453191\ttotal: 34.6s\tremaining: 15.6s\n",
      "600:\tlearn: 1494.9251874\ttotal: 38s\tremaining: 12.6s\n",
      "650:\tlearn: 1489.4820045\ttotal: 41.3s\tremaining: 9.46s\n",
      "700:\tlearn: 1485.1309510\ttotal: 44.5s\tremaining: 6.29s\n",
      "750:\tlearn: 1478.9488475\ttotal: 47.8s\tremaining: 3.12s\n",
      "799:\tlearn: 1473.1612228\ttotal: 51.1s\tremaining: 0us\n",
      "0:\tlearn: 3651.4063377\ttotal: 60.2ms\tremaining: 48.1s\n",
      "50:\tlearn: 1710.9832987\ttotal: 3.16s\tremaining: 46.4s\n",
      "100:\tlearn: 1630.5087096\ttotal: 6.31s\tremaining: 43.7s\n",
      "150:\tlearn: 1589.8368869\ttotal: 9.65s\tremaining: 41.5s\n",
      "200:\tlearn: 1561.7779014\ttotal: 13s\tremaining: 38.7s\n",
      "250:\tlearn: 1542.1390844\ttotal: 16.3s\tremaining: 35.7s\n",
      "300:\tlearn: 1525.6616389\ttotal: 19.4s\tremaining: 32.1s\n",
      "350:\tlearn: 1513.7923312\ttotal: 22.4s\tremaining: 28.7s\n",
      "400:\tlearn: 1502.0995342\ttotal: 25.5s\tremaining: 25.4s\n",
      "450:\tlearn: 1492.9231396\ttotal: 28.4s\tremaining: 22s\n",
      "500:\tlearn: 1485.2381580\ttotal: 31.5s\tremaining: 18.8s\n",
      "550:\tlearn: 1477.6459439\ttotal: 34.5s\tremaining: 15.6s\n",
      "600:\tlearn: 1470.9700570\ttotal: 37.6s\tremaining: 12.4s\n",
      "650:\tlearn: 1465.6396221\ttotal: 40.8s\tremaining: 9.34s\n",
      "700:\tlearn: 1462.3675821\ttotal: 44.2s\tremaining: 6.24s\n",
      "750:\tlearn: 1456.1044908\ttotal: 47.5s\tremaining: 3.1s\n",
      "799:\tlearn: 1453.1010565\ttotal: 50.6s\tremaining: 0us\n",
      "0:\tlearn: 3667.9144910\ttotal: 58ms\tremaining: 46.4s\n",
      "100:\tlearn: 1638.7862792\ttotal: 6.34s\tremaining: 43.9s\n",
      "200:\tlearn: 1563.7028858\ttotal: 12.6s\tremaining: 37.5s\n",
      "300:\tlearn: 1531.9727722\ttotal: 18.8s\tremaining: 31.2s\n",
      "400:\tlearn: 1510.2397684\ttotal: 25s\tremaining: 24.8s\n",
      "500:\tlearn: 1494.7774878\ttotal: 31s\tremaining: 18.5s\n",
      "600:\tlearn: 1482.4368168\ttotal: 37.1s\tremaining: 12.3s\n",
      "700:\tlearn: 1465.4600126\ttotal: 43.6s\tremaining: 6.16s\n",
      "799:\tlearn: 1454.6035329\ttotal: 50.2s\tremaining: 0us\n",
      "0:\tlearn: 3674.4323311\ttotal: 69.8ms\tremaining: 55.7s\n",
      "100:\tlearn: 1634.4542262\ttotal: 6.55s\tremaining: 45.3s\n",
      "200:\tlearn: 1562.6461733\ttotal: 12.7s\tremaining: 37.8s\n",
      "300:\tlearn: 1525.6886028\ttotal: 19.1s\tremaining: 31.7s\n",
      "400:\tlearn: 1502.8366132\ttotal: 25.8s\tremaining: 25.7s\n",
      "500:\tlearn: 1486.5028846\ttotal: 32.4s\tremaining: 19.3s\n",
      "600:\tlearn: 1475.3157176\ttotal: 38.4s\tremaining: 12.7s\n",
      "700:\tlearn: 1468.3290262\ttotal: 44.5s\tremaining: 6.28s\n",
      "799:\tlearn: 1462.1020587\ttotal: 50.8s\tremaining: 0us\n",
      "0:\tlearn: 3687.0452886\ttotal: 62.9ms\tremaining: 50.3s\n",
      "100:\tlearn: 1628.8944398\ttotal: 6.63s\tremaining: 45.9s\n",
      "200:\tlearn: 1559.9726619\ttotal: 13s\tremaining: 38.6s\n",
      "300:\tlearn: 1524.6127476\ttotal: 19.1s\tremaining: 31.7s\n",
      "400:\tlearn: 1499.2850120\ttotal: 25.3s\tremaining: 25.2s\n",
      "500:\tlearn: 1478.6133177\ttotal: 32s\tremaining: 19.1s\n",
      "600:\tlearn: 1464.2558335\ttotal: 38.5s\tremaining: 12.8s\n",
      "700:\tlearn: 1451.4548148\ttotal: 44.6s\tremaining: 6.3s\n",
      "799:\tlearn: 1440.6830339\ttotal: 50.7s\tremaining: 0us\n",
      "0:\tlearn: 3657.6687783\ttotal: 57.6ms\tremaining: 46s\n",
      "100:\tlearn: 1634.3644705\ttotal: 6.7s\tremaining: 46.4s\n",
      "200:\tlearn: 1569.0469140\ttotal: 12.9s\tremaining: 38.3s\n",
      "300:\tlearn: 1535.2069841\ttotal: 19.1s\tremaining: 31.7s\n",
      "400:\tlearn: 1518.6467842\ttotal: 25.3s\tremaining: 25.2s\n",
      "500:\tlearn: 1504.2955678\ttotal: 31.7s\tremaining: 18.9s\n",
      "600:\tlearn: 1494.9251874\ttotal: 38.3s\tremaining: 12.7s\n",
      "700:\tlearn: 1485.1309510\ttotal: 44.5s\tremaining: 6.29s\n",
      "799:\tlearn: 1473.1612228\ttotal: 50.6s\tremaining: 0us\n",
      "0:\tlearn: 3651.4063377\ttotal: 62.8ms\tremaining: 50.1s\n",
      "100:\tlearn: 1630.5087096\ttotal: 6.13s\tremaining: 42.5s\n",
      "200:\tlearn: 1561.7779014\ttotal: 12.4s\tremaining: 37s\n",
      "300:\tlearn: 1525.6616389\ttotal: 19.2s\tremaining: 31.8s\n",
      "400:\tlearn: 1502.0995342\ttotal: 25.7s\tremaining: 25.6s\n",
      "500:\tlearn: 1485.2381580\ttotal: 32s\tremaining: 19.1s\n",
      "600:\tlearn: 1470.9700570\ttotal: 38.3s\tremaining: 12.7s\n",
      "700:\tlearn: 1462.3675821\ttotal: 44.9s\tremaining: 6.34s\n",
      "799:\tlearn: 1453.1010565\ttotal: 51.2s\tremaining: 0us\n",
      "0:\tlearn: 3667.9144910\ttotal: 59.2ms\tremaining: 1m 11s\n",
      "50:\tlearn: 1718.5255725\ttotal: 3.15s\tremaining: 1m 10s\n",
      "100:\tlearn: 1638.7862792\ttotal: 6.21s\tremaining: 1m 7s\n",
      "150:\tlearn: 1594.1387832\ttotal: 9.24s\tremaining: 1m 4s\n",
      "200:\tlearn: 1563.7028858\ttotal: 12.3s\tremaining: 1m 1s\n",
      "250:\tlearn: 1547.5230469\ttotal: 15.5s\tremaining: 58.6s\n",
      "300:\tlearn: 1531.9727722\ttotal: 18.9s\tremaining: 56.5s\n",
      "350:\tlearn: 1520.5039127\ttotal: 22.3s\tremaining: 53.9s\n",
      "400:\tlearn: 1510.2397684\ttotal: 25.6s\tremaining: 51.1s\n",
      "450:\tlearn: 1500.8217447\ttotal: 29.1s\tremaining: 48.3s\n",
      "500:\tlearn: 1494.7774878\ttotal: 32.3s\tremaining: 45.1s\n",
      "550:\tlearn: 1488.5645928\ttotal: 35.6s\tremaining: 41.9s\n",
      "600:\tlearn: 1482.4368168\ttotal: 38.8s\tremaining: 38.7s\n",
      "650:\tlearn: 1474.3328589\ttotal: 42.1s\tremaining: 35.5s\n",
      "700:\tlearn: 1465.4600126\ttotal: 45.2s\tremaining: 32.2s\n",
      "750:\tlearn: 1460.2320987\ttotal: 48.3s\tremaining: 28.9s\n",
      "800:\tlearn: 1454.4974088\ttotal: 51.4s\tremaining: 25.6s\n",
      "850:\tlearn: 1449.6410982\ttotal: 54.5s\tremaining: 22.4s\n",
      "900:\tlearn: 1445.9451260\ttotal: 57.7s\tremaining: 19.2s\n",
      "950:\tlearn: 1440.4967211\ttotal: 1m\tremaining: 15.9s\n",
      "1000:\tlearn: 1436.4659107\ttotal: 1m 3s\tremaining: 12.7s\n",
      "1050:\tlearn: 1432.9996564\ttotal: 1m 7s\tremaining: 9.5s\n",
      "1100:\tlearn: 1429.7969749\ttotal: 1m 10s\tremaining: 6.3s\n",
      "1150:\tlearn: 1426.7084813\ttotal: 1m 13s\tremaining: 3.11s\n",
      "1199:\tlearn: 1423.8748158\ttotal: 1m 16s\tremaining: 0us\n",
      "0:\tlearn: 3674.4323311\ttotal: 63.3ms\tremaining: 1m 15s\n",
      "50:\tlearn: 1715.4563809\ttotal: 3.17s\tremaining: 1m 11s\n",
      "100:\tlearn: 1634.4542262\ttotal: 6.26s\tremaining: 1m 8s\n",
      "150:\tlearn: 1593.6629918\ttotal: 9.34s\tremaining: 1m 4s\n",
      "200:\tlearn: 1562.6461733\ttotal: 12.4s\tremaining: 1m 1s\n",
      "250:\tlearn: 1540.5763060\ttotal: 15.4s\tremaining: 58.3s\n",
      "300:\tlearn: 1525.6886028\ttotal: 18.5s\tremaining: 55.3s\n",
      "350:\tlearn: 1512.8665704\ttotal: 21.7s\tremaining: 52.5s\n",
      "400:\tlearn: 1502.8366132\ttotal: 24.9s\tremaining: 49.6s\n",
      "450:\tlearn: 1494.3177493\ttotal: 28s\tremaining: 46.6s\n",
      "500:\tlearn: 1486.5028846\ttotal: 31.3s\tremaining: 43.7s\n",
      "550:\tlearn: 1479.7787004\ttotal: 34.7s\tremaining: 40.8s\n",
      "600:\tlearn: 1475.3157176\ttotal: 38.1s\tremaining: 38s\n",
      "650:\tlearn: 1472.3265056\ttotal: 41.1s\tremaining: 34.7s\n",
      "700:\tlearn: 1468.3290262\ttotal: 44.2s\tremaining: 31.4s\n",
      "750:\tlearn: 1464.4284941\ttotal: 47.2s\tremaining: 28.2s\n",
      "800:\tlearn: 1461.9705950\ttotal: 50.2s\tremaining: 25s\n",
      "850:\tlearn: 1458.9073218\ttotal: 53.2s\tremaining: 21.8s\n",
      "900:\tlearn: 1456.6188544\ttotal: 56.4s\tremaining: 18.7s\n",
      "950:\tlearn: 1454.5453898\ttotal: 59.7s\tremaining: 15.6s\n",
      "1000:\tlearn: 1452.5013138\ttotal: 1m 2s\tremaining: 12.5s\n",
      "1050:\tlearn: 1451.6402799\ttotal: 1m 5s\tremaining: 9.35s\n",
      "1100:\tlearn: 1449.5283708\ttotal: 1m 9s\tremaining: 6.22s\n",
      "1150:\tlearn: 1448.4491331\ttotal: 1m 12s\tremaining: 3.08s\n",
      "1199:\tlearn: 1447.2171528\ttotal: 1m 15s\tremaining: 0us\n",
      "0:\tlearn: 3687.0452886\ttotal: 59.5ms\tremaining: 1m 11s\n",
      "50:\tlearn: 1703.8361306\ttotal: 3.15s\tremaining: 1m 11s\n",
      "100:\tlearn: 1628.8944398\ttotal: 6.37s\tremaining: 1m 9s\n",
      "150:\tlearn: 1584.7438564\ttotal: 9.5s\tremaining: 1m 6s\n",
      "200:\tlearn: 1559.9726619\ttotal: 12.6s\tremaining: 1m 2s\n",
      "250:\tlearn: 1537.7163725\ttotal: 15.6s\tremaining: 59.1s\n",
      "300:\tlearn: 1524.6127476\ttotal: 18.7s\tremaining: 55.8s\n",
      "350:\tlearn: 1511.1780777\ttotal: 21.7s\tremaining: 52.6s\n",
      "400:\tlearn: 1499.2850120\ttotal: 24.8s\tremaining: 49.4s\n",
      "450:\tlearn: 1488.2413482\ttotal: 27.8s\tremaining: 46.2s\n",
      "500:\tlearn: 1478.6133177\ttotal: 30.9s\tremaining: 43.2s\n",
      "550:\tlearn: 1471.8654900\ttotal: 34s\tremaining: 40s\n",
      "600:\tlearn: 1464.2558335\ttotal: 37s\tremaining: 36.9s\n",
      "650:\tlearn: 1457.5704945\ttotal: 40s\tremaining: 33.8s\n",
      "700:\tlearn: 1451.4548148\ttotal: 43.2s\tremaining: 30.8s\n",
      "750:\tlearn: 1445.4452755\ttotal: 46.6s\tremaining: 27.9s\n",
      "800:\tlearn: 1440.6092901\ttotal: 50s\tremaining: 24.9s\n",
      "850:\tlearn: 1436.3807847\ttotal: 53.2s\tremaining: 21.8s\n",
      "900:\tlearn: 1433.6753128\ttotal: 56.3s\tremaining: 18.7s\n",
      "950:\tlearn: 1429.7405210\ttotal: 59.4s\tremaining: 15.6s\n",
      "1000:\tlearn: 1425.8378064\ttotal: 1m 2s\tremaining: 12.4s\n",
      "1050:\tlearn: 1421.9552016\ttotal: 1m 5s\tremaining: 9.31s\n",
      "1100:\tlearn: 1418.3048669\ttotal: 1m 8s\tremaining: 6.19s\n",
      "1150:\tlearn: 1414.6564472\ttotal: 1m 12s\tremaining: 3.07s\n",
      "1199:\tlearn: 1411.6543080\ttotal: 1m 15s\tremaining: 0us\n",
      "0:\tlearn: 3657.6687783\ttotal: 56.5ms\tremaining: 1m 7s\n",
      "50:\tlearn: 1710.1171094\ttotal: 3.22s\tremaining: 1m 12s\n",
      "100:\tlearn: 1634.3644705\ttotal: 6.29s\tremaining: 1m 8s\n",
      "150:\tlearn: 1594.7676171\ttotal: 9.32s\tremaining: 1m 4s\n",
      "200:\tlearn: 1569.0469140\ttotal: 12.5s\tremaining: 1m 2s\n",
      "250:\tlearn: 1549.4837472\ttotal: 15.6s\tremaining: 58.8s\n",
      "300:\tlearn: 1535.2069841\ttotal: 18.7s\tremaining: 55.7s\n",
      "350:\tlearn: 1525.8882806\ttotal: 22.2s\tremaining: 53.8s\n",
      "400:\tlearn: 1518.6467842\ttotal: 25.8s\tremaining: 51.3s\n",
      "450:\tlearn: 1511.5546725\ttotal: 28.9s\tremaining: 48s\n",
      "500:\tlearn: 1504.2955678\ttotal: 32.1s\tremaining: 44.8s\n",
      "550:\tlearn: 1498.4453191\ttotal: 35.2s\tremaining: 41.4s\n",
      "600:\tlearn: 1494.9251874\ttotal: 38.3s\tremaining: 38.2s\n",
      "650:\tlearn: 1489.4820045\ttotal: 41.5s\tremaining: 35s\n",
      "700:\tlearn: 1485.1309510\ttotal: 44.7s\tremaining: 31.8s\n",
      "750:\tlearn: 1478.9488475\ttotal: 48s\tremaining: 28.7s\n",
      "800:\tlearn: 1473.1370124\ttotal: 51.1s\tremaining: 25.5s\n",
      "850:\tlearn: 1469.5666207\ttotal: 54.4s\tremaining: 22.3s\n",
      "900:\tlearn: 1466.2708072\ttotal: 57.5s\tremaining: 19.1s\n",
      "950:\tlearn: 1464.0534205\ttotal: 1m\tremaining: 15.9s\n",
      "1000:\tlearn: 1462.2531405\ttotal: 1m 3s\tremaining: 12.7s\n",
      "1050:\tlearn: 1459.5691340\ttotal: 1m 6s\tremaining: 9.48s\n",
      "1100:\tlearn: 1458.5250448\ttotal: 1m 9s\tremaining: 6.29s\n",
      "1150:\tlearn: 1458.1413141\ttotal: 1m 13s\tremaining: 3.12s\n",
      "1199:\tlearn: 1456.2913997\ttotal: 1m 16s\tremaining: 0us\n",
      "0:\tlearn: 3651.4063377\ttotal: 68.6ms\tremaining: 1m 22s\n",
      "50:\tlearn: 1710.9832987\ttotal: 3.4s\tremaining: 1m 16s\n",
      "100:\tlearn: 1630.5087096\ttotal: 6.68s\tremaining: 1m 12s\n",
      "150:\tlearn: 1589.8368869\ttotal: 9.76s\tremaining: 1m 7s\n",
      "200:\tlearn: 1561.7779014\ttotal: 12.8s\tremaining: 1m 3s\n",
      "250:\tlearn: 1542.1390844\ttotal: 15.9s\tremaining: 1m\n",
      "300:\tlearn: 1525.6616389\ttotal: 19s\tremaining: 56.8s\n",
      "350:\tlearn: 1513.7923312\ttotal: 22.1s\tremaining: 53.4s\n",
      "400:\tlearn: 1502.0995342\ttotal: 25.2s\tremaining: 50.2s\n",
      "450:\tlearn: 1492.9231396\ttotal: 28.5s\tremaining: 47.4s\n",
      "500:\tlearn: 1485.2381580\ttotal: 31.8s\tremaining: 44.3s\n",
      "550:\tlearn: 1477.6459439\ttotal: 35.1s\tremaining: 41.3s\n",
      "600:\tlearn: 1470.9700570\ttotal: 38.3s\tremaining: 38.2s\n",
      "650:\tlearn: 1465.6396221\ttotal: 41.6s\tremaining: 35s\n",
      "700:\tlearn: 1462.3675821\ttotal: 44.8s\tremaining: 31.9s\n",
      "750:\tlearn: 1456.1044908\ttotal: 48.1s\tremaining: 28.8s\n",
      "800:\tlearn: 1453.1004841\ttotal: 51.3s\tremaining: 25.6s\n",
      "850:\tlearn: 1449.8022477\ttotal: 54.5s\tremaining: 22.4s\n",
      "900:\tlearn: 1444.8816923\ttotal: 57.6s\tremaining: 19.1s\n",
      "950:\tlearn: 1441.3250075\ttotal: 1m\tremaining: 15.9s\n",
      "1000:\tlearn: 1438.5022086\ttotal: 1m 4s\tremaining: 12.8s\n",
      "1050:\tlearn: 1436.3204854\ttotal: 1m 7s\tremaining: 9.61s\n",
      "1100:\tlearn: 1433.2000596\ttotal: 1m 11s\tremaining: 6.39s\n",
      "1150:\tlearn: 1431.7907644\ttotal: 1m 14s\tremaining: 3.17s\n",
      "1199:\tlearn: 1429.7294146\ttotal: 1m 17s\tremaining: 0us\n",
      "0:\tlearn: 3667.9144910\ttotal: 62.7ms\tremaining: 1m 15s\n",
      "100:\tlearn: 1638.7862792\ttotal: 6.69s\tremaining: 1m 12s\n",
      "200:\tlearn: 1563.7028858\ttotal: 13.2s\tremaining: 1m 5s\n",
      "300:\tlearn: 1531.9727722\ttotal: 19.5s\tremaining: 58.3s\n",
      "400:\tlearn: 1510.2397684\ttotal: 25.9s\tremaining: 51.6s\n",
      "500:\tlearn: 1494.7774878\ttotal: 32.3s\tremaining: 45s\n",
      "600:\tlearn: 1482.4368168\ttotal: 38.7s\tremaining: 38.5s\n",
      "700:\tlearn: 1465.4600126\ttotal: 45.4s\tremaining: 32.3s\n",
      "800:\tlearn: 1454.4974088\ttotal: 52s\tremaining: 25.9s\n",
      "900:\tlearn: 1445.9451260\ttotal: 58.6s\tremaining: 19.4s\n",
      "1000:\tlearn: 1436.4659107\ttotal: 1m 5s\tremaining: 12.9s\n",
      "1100:\tlearn: 1429.7969749\ttotal: 1m 11s\tremaining: 6.43s\n",
      "1199:\tlearn: 1423.8748158\ttotal: 1m 17s\tremaining: 0us\n",
      "0:\tlearn: 3674.4323311\ttotal: 59ms\tremaining: 1m 10s\n",
      "100:\tlearn: 1634.4542262\ttotal: 6.57s\tremaining: 1m 11s\n",
      "200:\tlearn: 1562.6461733\ttotal: 13.1s\tremaining: 1m 4s\n",
      "300:\tlearn: 1525.6886028\ttotal: 19.4s\tremaining: 58s\n",
      "400:\tlearn: 1502.8366132\ttotal: 26.2s\tremaining: 52.2s\n",
      "500:\tlearn: 1486.5028846\ttotal: 32.6s\tremaining: 45.5s\n",
      "600:\tlearn: 1475.3157176\ttotal: 39.1s\tremaining: 39s\n",
      "700:\tlearn: 1468.3290262\ttotal: 45.7s\tremaining: 32.5s\n",
      "800:\tlearn: 1461.9705950\ttotal: 52.2s\tremaining: 26s\n",
      "900:\tlearn: 1456.6188544\ttotal: 58.4s\tremaining: 19.4s\n",
      "1000:\tlearn: 1452.5013138\ttotal: 1m 4s\tremaining: 12.8s\n",
      "1100:\tlearn: 1449.5283708\ttotal: 1m 10s\tremaining: 6.36s\n",
      "1199:\tlearn: 1447.2171528\ttotal: 1m 16s\tremaining: 0us\n",
      "0:\tlearn: 3687.0452886\ttotal: 58.3ms\tremaining: 1m 9s\n",
      "100:\tlearn: 1628.8944398\ttotal: 6.46s\tremaining: 1m 10s\n",
      "200:\tlearn: 1559.9726619\ttotal: 12.6s\tremaining: 1m 2s\n",
      "300:\tlearn: 1524.6127476\ttotal: 18.8s\tremaining: 56s\n",
      "400:\tlearn: 1499.2850120\ttotal: 24.9s\tremaining: 49.6s\n",
      "500:\tlearn: 1478.6133177\ttotal: 31.1s\tremaining: 43.4s\n",
      "600:\tlearn: 1464.2558335\ttotal: 37.7s\tremaining: 37.6s\n",
      "700:\tlearn: 1451.4548148\ttotal: 43.9s\tremaining: 31.2s\n",
      "800:\tlearn: 1440.6092901\ttotal: 50s\tremaining: 24.9s\n",
      "900:\tlearn: 1433.6753128\ttotal: 56.1s\tremaining: 18.6s\n",
      "1000:\tlearn: 1425.8378064\ttotal: 1m 2s\tremaining: 12.4s\n",
      "1100:\tlearn: 1418.3048669\ttotal: 1m 8s\tremaining: 6.18s\n",
      "1199:\tlearn: 1411.6543080\ttotal: 1m 14s\tremaining: 0us\n",
      "0:\tlearn: 3657.6687783\ttotal: 57.5ms\tremaining: 1m 8s\n",
      "100:\tlearn: 1634.3644705\ttotal: 6.36s\tremaining: 1m 9s\n",
      "200:\tlearn: 1569.0469140\ttotal: 12.7s\tremaining: 1m 3s\n",
      "300:\tlearn: 1535.2069841\ttotal: 19s\tremaining: 56.6s\n",
      "400:\tlearn: 1518.6467842\ttotal: 25.1s\tremaining: 50s\n",
      "500:\tlearn: 1504.2955678\ttotal: 31.3s\tremaining: 43.6s\n",
      "600:\tlearn: 1494.9251874\ttotal: 37.4s\tremaining: 37.3s\n",
      "700:\tlearn: 1485.1309510\ttotal: 43.6s\tremaining: 31.1s\n",
      "800:\tlearn: 1473.1370124\ttotal: 49.9s\tremaining: 24.8s\n",
      "900:\tlearn: 1466.2708072\ttotal: 56s\tremaining: 18.6s\n",
      "1000:\tlearn: 1462.2531405\ttotal: 1m 2s\tremaining: 12.4s\n",
      "1100:\tlearn: 1458.5250448\ttotal: 1m 8s\tremaining: 6.17s\n",
      "1199:\tlearn: 1456.2913997\ttotal: 1m 14s\tremaining: 0us\n",
      "0:\tlearn: 3651.4063377\ttotal: 63.9ms\tremaining: 1m 16s\n",
      "100:\tlearn: 1630.5087096\ttotal: 6.32s\tremaining: 1m 8s\n",
      "200:\tlearn: 1561.7779014\ttotal: 12.4s\tremaining: 1m 1s\n",
      "300:\tlearn: 1525.6616389\ttotal: 18.6s\tremaining: 55.6s\n",
      "400:\tlearn: 1502.0995342\ttotal: 24.9s\tremaining: 49.6s\n",
      "500:\tlearn: 1485.2381580\ttotal: 31.5s\tremaining: 44s\n",
      "600:\tlearn: 1470.9700570\ttotal: 37.8s\tremaining: 37.7s\n",
      "700:\tlearn: 1462.3675821\ttotal: 43.9s\tremaining: 31.3s\n",
      "800:\tlearn: 1453.1004841\ttotal: 50.4s\tremaining: 25.1s\n",
      "900:\tlearn: 1444.8816923\ttotal: 56.7s\tremaining: 18.8s\n",
      "1000:\tlearn: 1438.5022086\ttotal: 1m 3s\tremaining: 12.5s\n",
      "1100:\tlearn: 1433.2000596\ttotal: 1m 9s\tremaining: 6.22s\n",
      "1199:\tlearn: 1429.7294146\ttotal: 1m 15s\tremaining: 0us\n",
      "0:\tlearn: 3648.9060743\ttotal: 67ms\tremaining: 1m 20s\n",
      "50:\tlearn: 1715.2473345\ttotal: 3.44s\tremaining: 1m 17s\n",
      "100:\tlearn: 1639.5737845\ttotal: 6.9s\tremaining: 1m 15s\n",
      "150:\tlearn: 1598.1360429\ttotal: 10.4s\tremaining: 1m 12s\n",
      "200:\tlearn: 1567.7860505\ttotal: 14s\tremaining: 1m 9s\n",
      "250:\tlearn: 1543.8254240\ttotal: 17.6s\tremaining: 1m 6s\n",
      "300:\tlearn: 1526.1672161\ttotal: 21s\tremaining: 1m 2s\n",
      "350:\tlearn: 1513.9111318\ttotal: 24.4s\tremaining: 59.1s\n",
      "400:\tlearn: 1501.0267373\ttotal: 27.9s\tremaining: 55.5s\n",
      "450:\tlearn: 1490.4348904\ttotal: 31.4s\tremaining: 52.1s\n",
      "500:\tlearn: 1481.2852391\ttotal: 34.9s\tremaining: 48.7s\n",
      "550:\tlearn: 1473.5200080\ttotal: 38.5s\tremaining: 45.3s\n",
      "600:\tlearn: 1465.2984771\ttotal: 42.2s\tremaining: 42.1s\n",
      "650:\tlearn: 1457.8044869\ttotal: 45.6s\tremaining: 38.5s\n",
      "700:\tlearn: 1451.6887994\ttotal: 49s\tremaining: 34.9s\n",
      "750:\tlearn: 1446.3072544\ttotal: 52.4s\tremaining: 31.3s\n",
      "800:\tlearn: 1442.4358146\ttotal: 55.8s\tremaining: 27.8s\n",
      "850:\tlearn: 1438.3003461\ttotal: 59.3s\tremaining: 24.3s\n",
      "900:\tlearn: 1434.2448121\ttotal: 1m 2s\tremaining: 20.8s\n",
      "950:\tlearn: 1429.9935212\ttotal: 1m 6s\tremaining: 17.3s\n",
      "1000:\tlearn: 1425.8844926\ttotal: 1m 9s\tremaining: 13.9s\n",
      "1050:\tlearn: 1421.7739748\ttotal: 1m 13s\tremaining: 10.4s\n",
      "1100:\tlearn: 1418.2521750\ttotal: 1m 17s\tremaining: 6.93s\n",
      "1150:\tlearn: 1414.9587916\ttotal: 1m 20s\tremaining: 3.44s\n",
      "1199:\tlearn: 1412.4824186\ttotal: 1m 24s\tremaining: 0us\n",
      "лучшие параметры: {'boosting_type': 'Ordered', 'learning_rate': 0.3, 'n_estimators': 1200, 'random_state': 12345, 'verbose': 50}\n",
      "CPU times: user 52min 53s, sys: 12 s, total: 53min 5s\n",
      "Wall time: 54min 34s\n"
     ]
    }
   ],
   "source": [
    "%%time\n",
    "grid_c = { \n",
    "    'random_state' : [12345],\n",
    "    'learning_rate': [0.1, 0.3],\n",
    "    'boosting_type': ['Ordered'],\n",
    "    'verbose': range(50, 150, 50),\n",
    "    'n_estimators': range(400, 1600, 400)       \n",
    "}\n",
    "\n",
    "cat_cv = GridSearchCV(estimator=CatBoostRegressor(), param_grid=grid_c, cv=5, scoring='neg_mean_squared_error')\n",
    "cat_cv.fit(features_train, target_train)\n",
    "best_grid_c = cat_cv.best_params_\n",
    "print('лучшие параметры:', cat_cv.best_params_)"
   ]
  },
  {
   "cell_type": "code",
   "execution_count": 37,
   "metadata": {},
   "outputs": [
    {
     "name": "stdout",
     "output_type": "stream",
     "text": [
      "0:\tlearn: 3658.6963364\ttest: 3636.7260741\tbest: 3636.7260741 (0)\ttotal: 393ms\tremaining: 7m 50s\n",
      "50:\tlearn: 1684.9163147\ttest: 1678.9747491\tbest: 1678.9747491 (50)\ttotal: 16.7s\tremaining: 6m 16s\n",
      "100:\tlearn: 1623.2525374\ttest: 1632.8823518\tbest: 1632.8823518 (100)\ttotal: 31.3s\tremaining: 5m 41s\n",
      "150:\tlearn: 1590.6095133\ttest: 1610.1591285\tbest: 1610.1591285 (150)\ttotal: 46.3s\tremaining: 5m 21s\n",
      "200:\tlearn: 1566.4808729\ttest: 1594.5256693\tbest: 1594.5256693 (200)\ttotal: 1m 2s\tremaining: 5m 8s\n",
      "250:\tlearn: 1549.9819243\ttest: 1584.5633872\tbest: 1584.5633872 (250)\ttotal: 1m 18s\tremaining: 4m 55s\n",
      "300:\tlearn: 1536.9169015\ttest: 1576.8665641\tbest: 1576.8665641 (300)\ttotal: 1m 34s\tremaining: 4m 41s\n",
      "350:\tlearn: 1525.2523626\ttest: 1571.7589410\tbest: 1571.7589410 (350)\ttotal: 1m 49s\tremaining: 4m 25s\n",
      "400:\tlearn: 1516.7145743\ttest: 1567.1147181\tbest: 1567.0765492 (396)\ttotal: 2m 5s\tremaining: 4m 10s\n",
      "450:\tlearn: 1507.8836200\ttest: 1562.7959413\tbest: 1562.7827088 (445)\ttotal: 2m 22s\tremaining: 3m 56s\n",
      "500:\tlearn: 1500.9961910\ttest: 1559.9868926\tbest: 1559.9868926 (500)\ttotal: 2m 38s\tremaining: 3m 41s\n",
      "550:\tlearn: 1492.7362552\ttest: 1557.0146947\tbest: 1556.9293606 (545)\ttotal: 2m 55s\tremaining: 3m 26s\n",
      "600:\tlearn: 1486.3921557\ttest: 1555.0426452\tbest: 1555.0426452 (600)\ttotal: 3m 11s\tremaining: 3m 10s\n",
      "650:\tlearn: 1480.1599957\ttest: 1552.6613363\tbest: 1552.6613363 (650)\ttotal: 3m 27s\tremaining: 2m 55s\n",
      "700:\tlearn: 1473.5824279\ttest: 1551.9205272\tbest: 1551.9205272 (700)\ttotal: 3m 44s\tremaining: 2m 39s\n",
      "750:\tlearn: 1466.7736722\ttest: 1550.6244388\tbest: 1550.4719797 (746)\ttotal: 4m\tremaining: 2m 23s\n",
      "800:\tlearn: 1460.7144192\ttest: 1548.8012577\tbest: 1548.8012577 (800)\ttotal: 4m 16s\tremaining: 2m 7s\n",
      "850:\tlearn: 1456.0416234\ttest: 1547.3342389\tbest: 1546.9887399 (845)\ttotal: 4m 32s\tremaining: 1m 51s\n",
      "900:\tlearn: 1450.4944891\ttest: 1545.8538199\tbest: 1545.8364949 (899)\ttotal: 4m 49s\tremaining: 1m 35s\n",
      "950:\tlearn: 1444.9416382\ttest: 1543.4014318\tbest: 1543.4014318 (950)\ttotal: 5m 4s\tremaining: 1m 19s\n",
      "1000:\tlearn: 1440.3420477\ttest: 1542.5344934\tbest: 1542.5344934 (1000)\ttotal: 5m 20s\tremaining: 1m 3s\n",
      "1050:\tlearn: 1436.5718170\ttest: 1542.0546966\tbest: 1541.9382589 (1035)\ttotal: 5m 36s\tremaining: 47.7s\n",
      "1100:\tlearn: 1432.8454479\ttest: 1542.0568771\tbest: 1541.9382589 (1035)\ttotal: 5m 53s\tremaining: 31.8s\n",
      "1150:\tlearn: 1428.4110590\ttest: 1539.7889924\tbest: 1539.7889924 (1150)\ttotal: 6m 9s\tremaining: 15.8s\n",
      "1199:\tlearn: 1425.0004377\ttest: 1538.7837160\tbest: 1538.7764789 (1189)\ttotal: 6m 25s\tremaining: 0us\n",
      "\n",
      "bestTest = 1538.776479\n",
      "bestIteration = 1189\n",
      "\n",
      "Shrink model to first 1190 iterations.\n",
      "RMSE модели Градиентный бустинг CatBoost: 1538.776478866166\n",
      "Время обучения модели Градиентный бустинг CatBoost: 392.78\n",
      "Время предсказания модели Градиентный бустинг CatBoost: 0.87\n"
     ]
    }
   ],
   "source": [
    "cat_features = ['vehicletype', 'gearbox', 'model', 'fueltype', 'brand', 'repaired']\n",
    "\n",
    "start_c_s = time.time()\n",
    "model_cat = CatBoostRegressor(**best_grid_c, cat_features=cat_features)\n",
    "model_cat.fit(features_train_c, target_train_c, eval_set=(features_valid_c, target_valid_c))\n",
    "end_c_s = time.time()\n",
    "\n",
    "start_c_p = time.time()\n",
    "pred_cat = model_cat.predict(features_valid_c)\n",
    "end_c_p = time.time()\n",
    "\n",
    "result_cat = mean_squared_error(target_valid_c, pred_cat)**0.5\n",
    "\n",
    "t_cat_s=round(end_c_s-start_c_s,2)\n",
    "t_cat_p=round(end_c_p-start_c_p,2)\n",
    "print('RMSE модели Градиентный бустинг CatBoost:', result_cat)\n",
    "print('Время обучения модели Градиентный бустинг CatBoost:', t_cat_s)\n",
    "print('Время предсказания модели Градиентный бустинг CatBoost:', t_cat_p)"
   ]
  },
  {
   "cell_type": "markdown",
   "metadata": {},
   "source": [
    "## Анализ моделей"
   ]
  },
  {
   "cell_type": "markdown",
   "metadata": {},
   "source": [
    "<b>Было обучено пять моделей, они обучались с разной скоростью и давали в результате разные метрики RMSE. Сравню показатели.<b/>"
   ]
  },
  {
   "cell_type": "code",
   "execution_count": 38,
   "metadata": {},
   "outputs": [
    {
     "name": "stdout",
     "output_type": "stream",
     "text": [
      "                   Метрики         RMSE  Время обучения  Время предсказания\n",
      "0            Случайный лес  1608.026860           60.05               60.05\n",
      "1       Линейная регрессия  2524.865807           38.54                0.20\n",
      "2  Класс линейной регресии  5091.131553          101.70                0.21\n",
      "3              ГБ LightGBM  1536.060034           26.30                2.41\n",
      "4              ГБ CatBoost  1538.776479          392.78                0.87\n"
     ]
    }
   ],
   "source": [
    "comparison = pd.DataFrame(\n",
    "    {'Метрики': ['Случайный лес', 'Линейная регрессия', 'Класс линейной регресии','ГБ LightGBM', 'ГБ CatBoost'],\n",
    "     'RMSE': [result_f, result_lr, result_lr_c, result_lgbm, result_cat], \n",
    "     'Время обучения': [t_f_s, t_lr_s, t_lr_c_s, t_lgbm_s, t_cat_s],\n",
    "     'Время предсказания': [t_f_p, t_lr_p, t_lr_c_p, t_lgbm_p, t_cat_p]}\n",
    ")\n",
    "print(comparison)"
   ]
  },
  {
   "cell_type": "markdown",
   "metadata": {},
   "source": [
    "<b>Точность моделей градиентного бустинга оказалась почти одинаковой, но время предсказания модели CatBoost в три раза быстрее, что важно для целей заказчика, так что ее я определяю, как лучшую и буду тестировать.<b/>"
   ]
  },
  {
   "cell_type": "code",
   "execution_count": 39,
   "metadata": {},
   "outputs": [
    {
     "name": "stdout",
     "output_type": "stream",
     "text": [
      "RMSE модели Градиентный бустинг CatBoost: 1551.8362401748648\n",
      "Время предсказания модели Градиентный бустинг CatBoost: 0.88\n"
     ]
    }
   ],
   "source": [
    "start_test = time.time()\n",
    "pred_cat_test = model_cat.predict(features_test_c)\n",
    "end_test = time.time()\n",
    "result_cat_test = mean_squared_error(target_test_c, pred_cat_test)**0.5\n",
    "t_cat_test=round(end_test-start_test,2)\n",
    "\n",
    "print('RMSE модели Градиентный бустинг CatBoost:', result_cat_test)\n",
    "print('Время предсказания модели Градиентный бустинг CatBoost:', t_cat_test)"
   ]
  },
  {
   "cell_type": "markdown",
   "metadata": {},
   "source": [
    "## Вывод."
   ]
  },
  {
   "cell_type": "markdown",
   "metadata": {},
   "source": [
    "<b>Я загрузила и изучила данные. В них имелось много пропусков, которые заполнила по возможности:\n",
    "    \n",
    "    признак notrepaired (была машина в ремонте или нет) пропущенные данные я заполнила значением \"unknown\", потому что не було возмножности их восстановить;\n",
    "    \n",
    "    пропуски в столбце model я восстановила по сочетанию парметров бренда и мощности;\n",
    "    \n",
    "    пропуски в столбце vehicletype, gearbox и fueltype заполнила по столбцу model.\n",
    "    \n",
    "Изучила более детально цеелвой признак, удалила близкие к нулю значения.\n",
    "    \n",
    "Обучила 5 моделей Случайный лес, Линейная регрессия, Класс линейной регресии, ГБ LightGBM, ГБ CatBoost.\n",
    "    \n",
    "По условиям задачи необходимо было достичь показателя RMSE меньше 2500, с чем не справились модели линейной регрессии. \n",
    "    \n",
    "Самыми точными оказались модели градиентного бустинга CatBoost и LightGBM, но так как закзчику очень важен показатель времени предсказания для быстрой работы приложения по определению цены, то лучшей моделью я посчитала CatBoost.\n",
    "\n",
    "Моедль CatBoost была проверена на тестовой выборке и показала резултат RMSE = 1552, а время предсказания 0,88 и может быть рекомендована для работы приложение по определению цены.<b/>"
   ]
  },
  {
   "cell_type": "code",
   "execution_count": null,
   "metadata": {},
   "outputs": [],
   "source": []
  }
 ],
 "metadata": {
  "ExecuteTimeLog": [
   {
    "duration": 1584,
    "start_time": "2022-10-26T13:22:36.142Z"
   },
   {
    "duration": 3577,
    "start_time": "2022-10-26T13:23:57.350Z"
   },
   {
    "duration": 3,
    "start_time": "2022-10-26T13:24:01.640Z"
   },
   {
    "duration": 136,
    "start_time": "2022-10-26T13:24:48.997Z"
   },
   {
    "duration": 3,
    "start_time": "2022-10-26T13:45:48.625Z"
   },
   {
    "duration": 26,
    "start_time": "2022-10-26T13:46:08.472Z"
   },
   {
    "duration": 119,
    "start_time": "2022-10-26T13:46:24.679Z"
   },
   {
    "duration": 113,
    "start_time": "2022-10-26T13:54:45.079Z"
   },
   {
    "duration": 14,
    "start_time": "2022-10-26T13:55:25.959Z"
   },
   {
    "duration": 4232,
    "start_time": "2022-10-26T13:58:34.391Z"
   },
   {
    "duration": 3431,
    "start_time": "2022-10-26T14:00:02.825Z"
   },
   {
    "duration": 129,
    "start_time": "2022-10-26T14:00:25.767Z"
   },
   {
    "duration": 1032,
    "start_time": "2022-10-26T14:02:49.639Z"
   },
   {
    "duration": 122,
    "start_time": "2022-10-26T14:03:08.233Z"
   },
   {
    "duration": 998,
    "start_time": "2022-10-26T14:08:03.886Z"
   },
   {
    "duration": 124,
    "start_time": "2022-10-26T14:08:04.952Z"
   },
   {
    "duration": 12,
    "start_time": "2022-10-26T14:08:56.489Z"
   },
   {
    "duration": 51,
    "start_time": "2022-10-26T14:38:16.545Z"
   },
   {
    "duration": 1017,
    "start_time": "2022-10-26T14:40:39.066Z"
   },
   {
    "duration": 15,
    "start_time": "2022-10-26T14:41:29.883Z"
   },
   {
    "duration": 127,
    "start_time": "2022-10-26T14:42:44.381Z"
   },
   {
    "duration": 5,
    "start_time": "2022-10-26T14:49:24.388Z"
   },
   {
    "duration": 180,
    "start_time": "2022-10-26T14:49:38.539Z"
   },
   {
    "duration": 43,
    "start_time": "2022-10-26T14:49:58.379Z"
   },
   {
    "duration": 2079,
    "start_time": "2022-10-27T06:09:16.024Z"
   },
   {
    "duration": 3275,
    "start_time": "2022-10-27T06:09:18.105Z"
   },
   {
    "duration": 25,
    "start_time": "2022-10-27T06:09:21.382Z"
   },
   {
    "duration": 189,
    "start_time": "2022-10-27T06:09:21.409Z"
   },
   {
    "duration": 3777,
    "start_time": "2022-10-27T06:09:21.602Z"
   },
   {
    "duration": 790,
    "start_time": "2022-10-27T06:09:27.221Z"
   },
   {
    "duration": 3,
    "start_time": "2022-10-27T06:15:22.724Z"
   },
   {
    "duration": 890,
    "start_time": "2022-10-27T06:15:23.315Z"
   },
   {
    "duration": 19,
    "start_time": "2022-10-27T06:15:24.516Z"
   },
   {
    "duration": 102,
    "start_time": "2022-10-27T06:15:25.572Z"
   },
   {
    "duration": 3668,
    "start_time": "2022-10-27T06:15:29.684Z"
   },
   {
    "duration": 539,
    "start_time": "2022-10-27T06:15:46.707Z"
   },
   {
    "duration": 483,
    "start_time": "2022-10-27T06:17:43.668Z"
   },
   {
    "duration": 28,
    "start_time": "2022-10-27T06:54:11.105Z"
   },
   {
    "duration": 487,
    "start_time": "2022-10-27T07:05:47.462Z"
   },
   {
    "duration": 21,
    "start_time": "2022-10-27T07:06:58.877Z"
   },
   {
    "duration": 911,
    "start_time": "2022-10-27T07:09:45.063Z"
   },
   {
    "duration": 122,
    "start_time": "2022-10-27T07:10:02.040Z"
   },
   {
    "duration": 27,
    "start_time": "2022-10-27T07:18:07.254Z"
   },
   {
    "duration": 14,
    "start_time": "2022-10-27T07:24:21.047Z"
   },
   {
    "duration": 21,
    "start_time": "2022-10-27T07:24:28.583Z"
   },
   {
    "duration": 158,
    "start_time": "2022-10-27T07:24:29.606Z"
   },
   {
    "duration": 11,
    "start_time": "2022-10-27T07:49:31.960Z"
   },
   {
    "duration": 218,
    "start_time": "2022-10-27T14:44:06.785Z"
   },
   {
    "duration": 147,
    "start_time": "2022-10-27T14:45:28.003Z"
   },
   {
    "duration": 126,
    "start_time": "2022-10-27T14:46:39.003Z"
   },
   {
    "duration": 69,
    "start_time": "2022-10-27T14:46:56.187Z"
   },
   {
    "duration": 4,
    "start_time": "2022-10-27T14:49:17.467Z"
   },
   {
    "duration": 1536,
    "start_time": "2022-10-28T07:14:53.518Z"
   },
   {
    "duration": 1227,
    "start_time": "2022-10-28T07:14:55.056Z"
   },
   {
    "duration": 17,
    "start_time": "2022-10-28T07:14:56.286Z"
   },
   {
    "duration": 103,
    "start_time": "2022-10-28T07:14:56.332Z"
   },
   {
    "duration": 19,
    "start_time": "2022-10-28T07:14:57.660Z"
   },
   {
    "duration": 3459,
    "start_time": "2022-10-28T07:14:59.756Z"
   },
   {
    "duration": 988,
    "start_time": "2022-10-28T07:15:34.429Z"
   },
   {
    "duration": 109,
    "start_time": "2022-10-28T07:15:35.419Z"
   },
   {
    "duration": 36,
    "start_time": "2022-10-28T07:15:37.501Z"
   },
   {
    "duration": 19,
    "start_time": "2022-10-28T07:15:42.845Z"
   },
   {
    "duration": 386,
    "start_time": "2022-10-28T07:15:44.781Z"
   },
   {
    "duration": 119,
    "start_time": "2022-10-28T07:19:23.678Z"
   },
   {
    "duration": 3,
    "start_time": "2022-10-28T07:19:28.389Z"
   },
   {
    "duration": 852,
    "start_time": "2022-10-28T07:19:28.845Z"
   },
   {
    "duration": 14,
    "start_time": "2022-10-28T07:19:29.821Z"
   },
   {
    "duration": 104,
    "start_time": "2022-10-28T07:19:30.301Z"
   },
   {
    "duration": 20,
    "start_time": "2022-10-28T07:19:31.325Z"
   },
   {
    "duration": 3531,
    "start_time": "2022-10-28T07:19:32.221Z"
   },
   {
    "duration": 851,
    "start_time": "2022-10-28T07:19:37.020Z"
   },
   {
    "duration": 104,
    "start_time": "2022-10-28T07:19:37.873Z"
   },
   {
    "duration": 34,
    "start_time": "2022-10-28T07:19:38.749Z"
   },
   {
    "duration": 16,
    "start_time": "2022-10-28T07:19:39.357Z"
   },
   {
    "duration": 380,
    "start_time": "2022-10-28T07:19:39.949Z"
   },
   {
    "duration": 21,
    "start_time": "2022-10-28T07:19:42.301Z"
   },
   {
    "duration": 69,
    "start_time": "2022-10-28T07:19:42.829Z"
   },
   {
    "duration": 246,
    "start_time": "2022-10-28T07:30:08.095Z"
   },
   {
    "duration": 256,
    "start_time": "2022-10-28T07:30:21.837Z"
   },
   {
    "duration": 1808,
    "start_time": "2022-10-28T07:38:10.550Z"
   },
   {
    "duration": 1232,
    "start_time": "2022-10-28T07:38:12.360Z"
   },
   {
    "duration": 17,
    "start_time": "2022-10-28T07:38:13.593Z"
   },
   {
    "duration": 122,
    "start_time": "2022-10-28T07:38:13.612Z"
   },
   {
    "duration": 23,
    "start_time": "2022-10-28T07:38:13.736Z"
   },
   {
    "duration": 3436,
    "start_time": "2022-10-28T07:38:14.756Z"
   },
   {
    "duration": 865,
    "start_time": "2022-10-28T07:38:18.194Z"
   },
   {
    "duration": 99,
    "start_time": "2022-10-28T07:38:19.061Z"
   },
   {
    "duration": 36,
    "start_time": "2022-10-28T07:39:27.684Z"
   },
   {
    "duration": 18,
    "start_time": "2022-10-28T07:39:28.291Z"
   },
   {
    "duration": 458,
    "start_time": "2022-10-28T07:39:28.996Z"
   },
   {
    "duration": 23,
    "start_time": "2022-10-28T07:39:32.436Z"
   },
   {
    "duration": 73,
    "start_time": "2022-10-28T07:39:33.348Z"
   },
   {
    "duration": 279,
    "start_time": "2022-10-28T07:39:34.980Z"
   },
   {
    "duration": 252,
    "start_time": "2022-10-28T07:39:36.276Z"
   },
   {
    "duration": 130,
    "start_time": "2022-10-28T07:39:58.676Z"
   },
   {
    "duration": 1678,
    "start_time": "2022-10-28T07:40:15.124Z"
   },
   {
    "duration": 1215,
    "start_time": "2022-10-28T07:40:16.803Z"
   },
   {
    "duration": 16,
    "start_time": "2022-10-28T07:40:18.020Z"
   },
   {
    "duration": 113,
    "start_time": "2022-10-28T07:40:18.037Z"
   },
   {
    "duration": 32,
    "start_time": "2022-10-28T07:40:18.152Z"
   },
   {
    "duration": 3397,
    "start_time": "2022-10-28T07:40:18.981Z"
   },
   {
    "duration": 873,
    "start_time": "2022-10-28T07:40:22.380Z"
   },
   {
    "duration": 102,
    "start_time": "2022-10-28T07:40:24.307Z"
   },
   {
    "duration": 37,
    "start_time": "2022-10-28T07:40:25.363Z"
   },
   {
    "duration": 17,
    "start_time": "2022-10-28T07:40:25.892Z"
   },
   {
    "duration": 497,
    "start_time": "2022-10-28T07:40:26.452Z"
   },
   {
    "duration": 23,
    "start_time": "2022-10-28T07:40:29.287Z"
   },
   {
    "duration": 70,
    "start_time": "2022-10-28T07:40:29.876Z"
   },
   {
    "duration": 258,
    "start_time": "2022-10-28T07:40:31.156Z"
   },
   {
    "duration": 261,
    "start_time": "2022-10-28T07:40:32.372Z"
   },
   {
    "duration": 97,
    "start_time": "2022-10-28T07:40:55.365Z"
   },
   {
    "duration": 1700,
    "start_time": "2022-10-28T07:42:18.277Z"
   },
   {
    "duration": 1195,
    "start_time": "2022-10-28T07:42:19.979Z"
   },
   {
    "duration": 24,
    "start_time": "2022-10-28T07:42:21.177Z"
   },
   {
    "duration": 116,
    "start_time": "2022-10-28T07:42:22.484Z"
   },
   {
    "duration": 23,
    "start_time": "2022-10-28T07:42:23.956Z"
   },
   {
    "duration": 3596,
    "start_time": "2022-10-28T07:42:25.091Z"
   },
   {
    "duration": 886,
    "start_time": "2022-10-28T07:42:28.690Z"
   },
   {
    "duration": 113,
    "start_time": "2022-10-28T07:42:29.578Z"
   },
   {
    "duration": 36,
    "start_time": "2022-10-28T07:44:42.357Z"
   },
   {
    "duration": 17,
    "start_time": "2022-10-28T07:44:42.851Z"
   },
   {
    "duration": 489,
    "start_time": "2022-10-28T07:44:43.412Z"
   },
   {
    "duration": 22,
    "start_time": "2022-10-28T07:44:47.700Z"
   },
   {
    "duration": 69,
    "start_time": "2022-10-28T07:44:48.164Z"
   },
   {
    "duration": 235,
    "start_time": "2022-10-28T07:44:49.428Z"
   },
   {
    "duration": 251,
    "start_time": "2022-10-28T07:44:50.996Z"
   },
   {
    "duration": 1703,
    "start_time": "2022-10-28T07:45:18.501Z"
   },
   {
    "duration": 1206,
    "start_time": "2022-10-28T07:45:20.206Z"
   },
   {
    "duration": 16,
    "start_time": "2022-10-28T07:45:21.414Z"
   },
   {
    "duration": 109,
    "start_time": "2022-10-28T07:45:21.432Z"
   },
   {
    "duration": 21,
    "start_time": "2022-10-28T07:45:21.604Z"
   },
   {
    "duration": 3396,
    "start_time": "2022-10-28T07:45:22.868Z"
   },
   {
    "duration": 909,
    "start_time": "2022-10-28T07:45:26.265Z"
   },
   {
    "duration": 104,
    "start_time": "2022-10-28T07:45:27.177Z"
   },
   {
    "duration": 43,
    "start_time": "2022-10-28T07:45:27.283Z"
   },
   {
    "duration": 17,
    "start_time": "2022-10-28T07:45:27.328Z"
   },
   {
    "duration": 485,
    "start_time": "2022-10-28T07:45:27.700Z"
   },
   {
    "duration": 22,
    "start_time": "2022-10-28T07:45:31.412Z"
   },
   {
    "duration": 74,
    "start_time": "2022-10-28T07:45:32.148Z"
   },
   {
    "duration": 268,
    "start_time": "2022-10-28T07:45:36.963Z"
   },
   {
    "duration": 247,
    "start_time": "2022-10-28T07:45:38.596Z"
   },
   {
    "duration": 1243,
    "start_time": "2022-10-28T07:45:42.580Z"
   },
   {
    "duration": 990489,
    "start_time": "2022-10-28T07:46:12.854Z"
   },
   {
    "duration": 116790,
    "start_time": "2022-10-28T08:04:43.494Z"
   },
   {
    "duration": 0,
    "start_time": "2022-10-28T08:06:40.286Z"
   },
   {
    "duration": 998139,
    "start_time": "2022-10-28T08:18:18.776Z"
   },
   {
    "duration": 120016,
    "start_time": "2022-10-28T08:39:50.889Z"
   },
   {
    "duration": 62,
    "start_time": "2022-10-28T08:44:10.153Z"
   },
   {
    "duration": 62,
    "start_time": "2022-10-28T08:44:17.136Z"
   },
   {
    "duration": 66,
    "start_time": "2022-10-28T08:44:22.969Z"
   },
   {
    "duration": 69,
    "start_time": "2022-10-28T08:44:42.744Z"
   },
   {
    "duration": 79,
    "start_time": "2022-10-28T08:45:36.954Z"
   },
   {
    "duration": 63,
    "start_time": "2022-10-28T08:46:31.833Z"
   },
   {
    "duration": 73,
    "start_time": "2022-10-28T08:47:47.769Z"
   },
   {
    "duration": 62,
    "start_time": "2022-10-28T08:48:10.554Z"
   },
   {
    "duration": 67,
    "start_time": "2022-10-28T08:48:20.809Z"
   },
   {
    "duration": 81,
    "start_time": "2022-10-28T08:48:32.152Z"
   },
   {
    "duration": 63,
    "start_time": "2022-10-28T08:48:50.409Z"
   },
   {
    "duration": 61,
    "start_time": "2022-10-28T08:49:02.121Z"
   },
   {
    "duration": 1312,
    "start_time": "2022-10-28T08:49:15.417Z"
   },
   {
    "duration": 1827,
    "start_time": "2022-10-28T08:55:44.281Z"
   },
   {
    "duration": 1212,
    "start_time": "2022-10-28T08:55:46.109Z"
   },
   {
    "duration": 17,
    "start_time": "2022-10-28T08:55:47.322Z"
   },
   {
    "duration": 109,
    "start_time": "2022-10-28T08:55:47.340Z"
   },
   {
    "duration": 30,
    "start_time": "2022-10-28T08:55:47.452Z"
   },
   {
    "duration": 3464,
    "start_time": "2022-10-28T08:55:48.729Z"
   },
   {
    "duration": 912,
    "start_time": "2022-10-28T08:55:52.194Z"
   },
   {
    "duration": 120,
    "start_time": "2022-10-28T08:55:53.108Z"
   },
   {
    "duration": 52,
    "start_time": "2022-10-28T08:55:53.230Z"
   },
   {
    "duration": 18,
    "start_time": "2022-10-28T08:55:53.284Z"
   },
   {
    "duration": 517,
    "start_time": "2022-10-28T08:55:53.929Z"
   },
   {
    "duration": 21,
    "start_time": "2022-10-28T08:55:57.081Z"
   },
   {
    "duration": 79,
    "start_time": "2022-10-28T08:55:57.688Z"
   },
   {
    "duration": 250,
    "start_time": "2022-10-28T08:55:59.048Z"
   },
   {
    "duration": 276,
    "start_time": "2022-10-28T08:56:00.281Z"
   },
   {
    "duration": 1503,
    "start_time": "2022-10-28T09:04:02.059Z"
   },
   {
    "duration": 1206,
    "start_time": "2022-10-28T09:04:03.564Z"
   },
   {
    "duration": 17,
    "start_time": "2022-10-28T09:04:04.772Z"
   },
   {
    "duration": 112,
    "start_time": "2022-10-28T09:04:04.790Z"
   },
   {
    "duration": 20,
    "start_time": "2022-10-28T09:04:06.137Z"
   },
   {
    "duration": 3483,
    "start_time": "2022-10-28T09:04:07.273Z"
   },
   {
    "duration": 897,
    "start_time": "2022-10-28T09:04:10.758Z"
   },
   {
    "duration": 115,
    "start_time": "2022-10-28T09:04:11.657Z"
   },
   {
    "duration": 38,
    "start_time": "2022-10-28T09:04:11.777Z"
   },
   {
    "duration": 24,
    "start_time": "2022-10-28T09:04:11.816Z"
   },
   {
    "duration": 471,
    "start_time": "2022-10-28T09:04:12.009Z"
   },
   {
    "duration": 23,
    "start_time": "2022-10-28T09:04:15.689Z"
   },
   {
    "duration": 72,
    "start_time": "2022-10-28T09:04:16.601Z"
   },
   {
    "duration": 264,
    "start_time": "2022-10-28T09:04:24.633Z"
   },
   {
    "duration": 145,
    "start_time": "2022-10-28T09:04:33.993Z"
   },
   {
    "duration": 244,
    "start_time": "2022-10-28T09:04:39.593Z"
   },
   {
    "duration": 256,
    "start_time": "2022-10-28T09:05:00.777Z"
   },
   {
    "duration": 1001643,
    "start_time": "2022-10-28T09:05:04.267Z"
   },
   {
    "duration": 12,
    "start_time": "2022-10-28T09:21:45.912Z"
   },
   {
    "duration": 22,
    "start_time": "2022-10-28T09:22:55.835Z"
   },
   {
    "duration": 88,
    "start_time": "2022-10-28T09:22:57.034Z"
   },
   {
    "duration": 9,
    "start_time": "2022-10-28T09:23:24.795Z"
   },
   {
    "duration": 3,
    "start_time": "2022-10-28T09:24:00.251Z"
   },
   {
    "duration": 13,
    "start_time": "2022-10-28T09:24:13.179Z"
   },
   {
    "duration": 59,
    "start_time": "2022-10-28T09:24:40.955Z"
   },
   {
    "duration": 10,
    "start_time": "2022-10-28T09:24:47.195Z"
   },
   {
    "duration": 293,
    "start_time": "2022-10-28T09:24:58.239Z"
   },
   {
    "duration": 333,
    "start_time": "2022-10-28T09:25:05.674Z"
   },
   {
    "duration": 10,
    "start_time": "2022-10-28T09:25:57.740Z"
   },
   {
    "duration": 11,
    "start_time": "2022-10-28T09:28:28.135Z"
   },
   {
    "duration": 13,
    "start_time": "2022-10-28T09:28:35.372Z"
   },
   {
    "duration": 11,
    "start_time": "2022-10-28T09:28:50.535Z"
   },
   {
    "duration": 48,
    "start_time": "2022-10-28T09:29:18.075Z"
   },
   {
    "duration": 33,
    "start_time": "2022-10-28T09:29:28.268Z"
   },
   {
    "duration": 16,
    "start_time": "2022-10-28T10:07:15.520Z"
   },
   {
    "duration": 19,
    "start_time": "2022-10-28T10:11:02.177Z"
   },
   {
    "duration": 3,
    "start_time": "2022-10-28T10:11:29.520Z"
   },
   {
    "duration": 867,
    "start_time": "2022-10-28T10:11:30.029Z"
   },
   {
    "duration": 14,
    "start_time": "2022-10-28T10:11:31.887Z"
   },
   {
    "duration": 106,
    "start_time": "2022-10-28T10:11:32.574Z"
   },
   {
    "duration": 30,
    "start_time": "2022-10-28T10:11:36.976Z"
   },
   {
    "duration": 39,
    "start_time": "2022-10-28T10:11:48.942Z"
   },
   {
    "duration": 12,
    "start_time": "2022-10-28T10:14:00.912Z"
   },
   {
    "duration": 12,
    "start_time": "2022-10-28T10:14:19.390Z"
   },
   {
    "duration": 15,
    "start_time": "2022-10-28T10:14:43.598Z"
   },
   {
    "duration": 258,
    "start_time": "2022-10-28T10:15:02.718Z"
   },
   {
    "duration": 21,
    "start_time": "2022-10-28T10:15:24.831Z"
   },
   {
    "duration": 10,
    "start_time": "2022-10-28T10:16:26.927Z"
   },
   {
    "duration": 862,
    "start_time": "2022-10-28T10:18:57.072Z"
   },
   {
    "duration": 45,
    "start_time": "2022-10-28T10:19:03.246Z"
   },
   {
    "duration": 3396,
    "start_time": "2022-10-28T10:20:18.912Z"
   },
   {
    "duration": 35,
    "start_time": "2022-10-28T10:21:58.897Z"
   },
   {
    "duration": 36,
    "start_time": "2022-10-28T10:22:26.159Z"
   },
   {
    "duration": 4,
    "start_time": "2022-10-28T10:23:51.495Z"
   },
   {
    "duration": 897,
    "start_time": "2022-10-28T10:23:52.198Z"
   },
   {
    "duration": 16,
    "start_time": "2022-10-28T10:23:55.142Z"
   },
   {
    "duration": 102,
    "start_time": "2022-10-28T10:23:57.734Z"
   },
   {
    "duration": 19,
    "start_time": "2022-10-28T10:24:03.095Z"
   },
   {
    "duration": 39,
    "start_time": "2022-10-28T10:24:06.135Z"
   },
   {
    "duration": 3014,
    "start_time": "2022-10-28T10:24:24.710Z"
   },
   {
    "duration": 43,
    "start_time": "2022-10-28T10:24:32.248Z"
   },
   {
    "duration": 23,
    "start_time": "2022-10-28T10:28:24.408Z"
   },
   {
    "duration": 11,
    "start_time": "2022-10-28T10:28:52.775Z"
   },
   {
    "duration": 6,
    "start_time": "2022-10-28T10:31:08.799Z"
   },
   {
    "duration": 1487,
    "start_time": "2022-10-28T10:57:53.548Z"
   },
   {
    "duration": 971,
    "start_time": "2022-10-28T10:57:55.037Z"
   },
   {
    "duration": 16,
    "start_time": "2022-10-28T10:57:59.841Z"
   },
   {
    "duration": 98,
    "start_time": "2022-10-28T10:58:03.994Z"
   },
   {
    "duration": 21,
    "start_time": "2022-10-28T10:58:07.562Z"
   },
   {
    "duration": 10,
    "start_time": "2022-10-28T10:58:45.005Z"
   },
   {
    "duration": 61,
    "start_time": "2022-10-28T10:59:09.866Z"
   },
   {
    "duration": 41,
    "start_time": "2022-10-28T10:59:18.647Z"
   },
   {
    "duration": 137,
    "start_time": "2022-10-28T11:00:05.735Z"
   },
   {
    "duration": 19,
    "start_time": "2022-10-28T11:00:48.652Z"
   },
   {
    "duration": 17,
    "start_time": "2022-10-28T11:00:59.594Z"
   },
   {
    "duration": 46,
    "start_time": "2022-10-28T11:02:13.771Z"
   },
   {
    "duration": 24,
    "start_time": "2022-10-28T11:02:46.587Z"
   },
   {
    "duration": 25,
    "start_time": "2022-10-28T11:02:57.771Z"
   },
   {
    "duration": 32,
    "start_time": "2022-10-28T11:03:07.979Z"
   },
   {
    "duration": 42,
    "start_time": "2022-10-28T11:03:14.334Z"
   },
   {
    "duration": 38,
    "start_time": "2022-10-28T11:05:17.947Z"
   },
   {
    "duration": 18,
    "start_time": "2022-10-28T11:06:21.571Z"
   },
   {
    "duration": 26,
    "start_time": "2022-10-28T11:08:33.195Z"
   },
   {
    "duration": 20,
    "start_time": "2022-10-28T11:08:57.323Z"
   },
   {
    "duration": 25,
    "start_time": "2022-10-28T11:10:20.347Z"
   },
   {
    "duration": 19,
    "start_time": "2022-10-28T11:10:20.779Z"
   },
   {
    "duration": 6,
    "start_time": "2022-10-28T11:10:21.239Z"
   },
   {
    "duration": 30,
    "start_time": "2022-10-28T11:16:24.129Z"
   },
   {
    "duration": 34,
    "start_time": "2022-10-28T11:16:42.060Z"
   },
   {
    "duration": 37,
    "start_time": "2022-10-28T11:20:38.897Z"
   },
   {
    "duration": 61,
    "start_time": "2022-10-28T11:20:53.732Z"
   },
   {
    "duration": 32,
    "start_time": "2022-10-28T11:21:06.832Z"
   },
   {
    "duration": 2928,
    "start_time": "2022-10-28T11:25:46.077Z"
   },
   {
    "duration": 14,
    "start_time": "2022-10-28T11:26:26.573Z"
   },
   {
    "duration": 28,
    "start_time": "2022-10-28T11:27:04.640Z"
   },
   {
    "duration": 15,
    "start_time": "2022-10-28T11:28:33.869Z"
   },
   {
    "duration": 1730,
    "start_time": "2022-10-28T11:28:58.062Z"
   },
   {
    "duration": 102,
    "start_time": "2022-10-28T11:29:00.685Z"
   },
   {
    "duration": 11,
    "start_time": "2022-10-28T11:39:14.286Z"
   },
   {
    "duration": 9,
    "start_time": "2022-10-28T11:39:24.383Z"
   },
   {
    "duration": 160,
    "start_time": "2022-10-28T11:39:31.998Z"
   },
   {
    "duration": 165,
    "start_time": "2022-10-28T11:39:47.358Z"
   },
   {
    "duration": 10,
    "start_time": "2022-10-28T11:40:13.534Z"
   },
   {
    "duration": 11,
    "start_time": "2022-10-28T11:40:17.220Z"
   },
   {
    "duration": 19911,
    "start_time": "2022-10-28T11:40:38.366Z"
   },
   {
    "duration": 27,
    "start_time": "2022-10-28T11:44:08.320Z"
   },
   {
    "duration": 9,
    "start_time": "2022-10-28T11:45:04.974Z"
   },
   {
    "duration": 5,
    "start_time": "2022-10-28T11:49:06.991Z"
   },
   {
    "duration": 26,
    "start_time": "2022-10-28T11:49:22.271Z"
   },
   {
    "duration": 9,
    "start_time": "2022-10-28T11:50:08.978Z"
   },
   {
    "duration": 10,
    "start_time": "2022-10-28T11:51:51.856Z"
   },
   {
    "duration": 11,
    "start_time": "2022-10-28T11:52:04.962Z"
   },
   {
    "duration": 39,
    "start_time": "2022-10-28T11:52:43.295Z"
   },
   {
    "duration": 19,
    "start_time": "2022-10-28T11:52:52.335Z"
   },
   {
    "duration": 3,
    "start_time": "2022-10-28T11:55:57.552Z"
   },
   {
    "duration": 2,
    "start_time": "2022-10-28T11:58:22.250Z"
   },
   {
    "duration": 1568,
    "start_time": "2022-10-28T12:03:42.096Z"
   },
   {
    "duration": 1662,
    "start_time": "2022-10-28T12:04:40.630Z"
   },
   {
    "duration": 3,
    "start_time": "2022-10-28T12:04:48.800Z"
   },
   {
    "duration": 51,
    "start_time": "2022-10-28T12:04:49.872Z"
   },
   {
    "duration": 3147,
    "start_time": "2022-10-28T12:05:45.792Z"
   },
   {
    "duration": 55,
    "start_time": "2022-10-28T12:07:31.153Z"
   },
   {
    "duration": 56,
    "start_time": "2022-10-28T12:07:35.856Z"
   },
   {
    "duration": 56,
    "start_time": "2022-10-28T12:07:47.136Z"
   },
   {
    "duration": 50,
    "start_time": "2022-10-28T12:10:40.640Z"
   },
   {
    "duration": 3436,
    "start_time": "2022-10-28T12:13:35.030Z"
   },
   {
    "duration": 262,
    "start_time": "2022-10-28T12:14:55.332Z"
   },
   {
    "duration": 268,
    "start_time": "2022-10-28T12:15:14.635Z"
   },
   {
    "duration": 66,
    "start_time": "2022-10-28T12:15:34.227Z"
   },
   {
    "duration": 262,
    "start_time": "2022-10-28T12:15:41.072Z"
   },
   {
    "duration": 262,
    "start_time": "2022-10-28T12:19:40.593Z"
   },
   {
    "duration": 10,
    "start_time": "2022-10-28T12:22:49.826Z"
   },
   {
    "duration": 8,
    "start_time": "2022-10-28T12:22:57.266Z"
   },
   {
    "duration": 45,
    "start_time": "2022-10-28T12:24:09.266Z"
   },
   {
    "duration": 29,
    "start_time": "2022-10-28T12:24:12.881Z"
   },
   {
    "duration": 28,
    "start_time": "2022-10-28T12:24:27.138Z"
   },
   {
    "duration": 10,
    "start_time": "2022-10-28T12:24:46.215Z"
   },
   {
    "duration": 10,
    "start_time": "2022-10-28T12:24:50.115Z"
   },
   {
    "duration": 4,
    "start_time": "2022-10-28T12:25:05.570Z"
   },
   {
    "duration": 5,
    "start_time": "2022-10-28T12:25:25.202Z"
   },
   {
    "duration": 125,
    "start_time": "2022-10-28T12:26:49.906Z"
   },
   {
    "duration": 10,
    "start_time": "2022-10-28T12:30:28.435Z"
   },
   {
    "duration": 8,
    "start_time": "2022-10-28T12:30:35.875Z"
   },
   {
    "duration": 14,
    "start_time": "2022-10-28T12:32:25.420Z"
   },
   {
    "duration": 13,
    "start_time": "2022-10-28T12:32:41.827Z"
   },
   {
    "duration": 14,
    "start_time": "2022-10-28T12:32:45.570Z"
   },
   {
    "duration": 44,
    "start_time": "2022-10-28T12:33:09.971Z"
   },
   {
    "duration": 10,
    "start_time": "2022-10-28T12:33:19.233Z"
   },
   {
    "duration": 9,
    "start_time": "2022-10-28T12:33:55.299Z"
   },
   {
    "duration": 17,
    "start_time": "2022-10-28T12:34:01.699Z"
   },
   {
    "duration": 386,
    "start_time": "2022-10-28T12:34:02.962Z"
   },
   {
    "duration": 448,
    "start_time": "2022-10-28T12:34:06.947Z"
   },
   {
    "duration": 17,
    "start_time": "2022-10-28T12:34:24.082Z"
   },
   {
    "duration": 68,
    "start_time": "2022-10-28T12:34:26.066Z"
   },
   {
    "duration": 47,
    "start_time": "2022-10-28T12:35:10.595Z"
   },
   {
    "duration": 2,
    "start_time": "2022-10-28T12:35:39.522Z"
   },
   {
    "duration": 579,
    "start_time": "2022-10-28T12:35:46.370Z"
   },
   {
    "duration": 125,
    "start_time": "2022-10-28T12:36:02.451Z"
   },
   {
    "duration": 2429,
    "start_time": "2022-10-28T12:36:13.842Z"
   },
   {
    "duration": 2148,
    "start_time": "2022-10-28T12:36:20.919Z"
   },
   {
    "duration": 27,
    "start_time": "2022-10-28T12:36:40.006Z"
   },
   {
    "duration": 103,
    "start_time": "2022-10-28T12:36:43.123Z"
   },
   {
    "duration": 124,
    "start_time": "2022-10-28T12:36:49.017Z"
   },
   {
    "duration": 3,
    "start_time": "2022-10-28T12:44:00.468Z"
   },
   {
    "duration": 2140,
    "start_time": "2022-10-28T12:44:28.387Z"
   },
   {
    "duration": 548,
    "start_time": "2022-10-28T12:44:51.555Z"
   },
   {
    "duration": 26,
    "start_time": "2022-10-28T12:44:55.123Z"
   },
   {
    "duration": 91,
    "start_time": "2022-10-28T12:44:57.747Z"
   },
   {
    "duration": 265,
    "start_time": "2022-10-28T12:45:01.971Z"
   },
   {
    "duration": 86,
    "start_time": "2022-10-28T12:47:04.563Z"
   },
   {
    "duration": 3,
    "start_time": "2022-10-28T12:50:27.118Z"
   },
   {
    "duration": 14,
    "start_time": "2022-10-28T12:50:27.700Z"
   },
   {
    "duration": 12,
    "start_time": "2022-10-28T12:51:33.284Z"
   },
   {
    "duration": 44,
    "start_time": "2022-10-28T12:51:38.164Z"
   },
   {
    "duration": 15,
    "start_time": "2022-10-28T12:51:38.878Z"
   },
   {
    "duration": 3,
    "start_time": "2022-10-28T12:51:40.717Z"
   },
   {
    "duration": 13,
    "start_time": "2022-10-28T12:51:41.587Z"
   },
   {
    "duration": 12,
    "start_time": "2022-10-28T12:54:57.573Z"
   },
   {
    "duration": 10,
    "start_time": "2022-10-28T12:55:21.669Z"
   },
   {
    "duration": 172,
    "start_time": "2022-10-28T12:55:35.236Z"
   },
   {
    "duration": 72,
    "start_time": "2022-10-28T12:55:42.996Z"
   },
   {
    "duration": 9,
    "start_time": "2022-10-28T12:58:05.604Z"
   },
   {
    "duration": 12,
    "start_time": "2022-10-28T12:58:28.821Z"
   },
   {
    "duration": 1436,
    "start_time": "2022-10-28T13:10:41.525Z"
   },
   {
    "duration": 918,
    "start_time": "2022-10-28T13:10:42.963Z"
   },
   {
    "duration": 17,
    "start_time": "2022-10-28T13:10:50.988Z"
   },
   {
    "duration": 103,
    "start_time": "2022-10-28T13:10:56.053Z"
   },
   {
    "duration": 20,
    "start_time": "2022-10-28T13:11:11.796Z"
   },
   {
    "duration": 2864,
    "start_time": "2022-10-28T13:11:40.374Z"
   },
   {
    "duration": 3406,
    "start_time": "2022-10-28T13:11:52.021Z"
   },
   {
    "duration": 1846,
    "start_time": "2022-10-28T13:12:24.437Z"
   },
   {
    "duration": 117,
    "start_time": "2022-10-28T13:12:26.285Z"
   },
   {
    "duration": 5,
    "start_time": "2022-10-28T13:12:30.853Z"
   },
   {
    "duration": 3,
    "start_time": "2022-10-28T13:12:31.701Z"
   },
   {
    "duration": 280,
    "start_time": "2022-10-28T13:12:32.341Z"
   },
   {
    "duration": 9,
    "start_time": "2022-10-28T13:13:01.365Z"
   },
   {
    "duration": 13,
    "start_time": "2022-10-28T13:13:04.666Z"
   },
   {
    "duration": 13,
    "start_time": "2022-10-28T13:13:15.590Z"
   },
   {
    "duration": 17,
    "start_time": "2022-10-28T13:13:29.942Z"
   },
   {
    "duration": 11,
    "start_time": "2022-10-28T13:13:46.277Z"
   },
   {
    "duration": 39,
    "start_time": "2022-10-28T13:14:07.798Z"
   },
   {
    "duration": 7,
    "start_time": "2022-10-28T13:14:10.102Z"
   },
   {
    "duration": 57,
    "start_time": "2022-10-28T13:14:31.530Z"
   },
   {
    "duration": 18,
    "start_time": "2022-10-28T13:14:33.716Z"
   },
   {
    "duration": 487,
    "start_time": "2022-10-28T13:14:35.254Z"
   },
   {
    "duration": 387,
    "start_time": "2022-10-28T13:14:35.930Z"
   },
   {
    "duration": 18,
    "start_time": "2022-10-28T13:14:38.901Z"
   },
   {
    "duration": 71,
    "start_time": "2022-10-28T13:14:41.748Z"
   },
   {
    "duration": 3,
    "start_time": "2022-10-28T13:14:50.101Z"
   },
   {
    "duration": 147,
    "start_time": "2022-10-28T13:15:05.205Z"
   },
   {
    "duration": 4,
    "start_time": "2022-10-28T13:15:51.701Z"
   },
   {
    "duration": 2491,
    "start_time": "2022-10-28T13:19:44.118Z"
   },
   {
    "duration": 2170,
    "start_time": "2022-10-28T13:19:48.525Z"
   },
   {
    "duration": 153,
    "start_time": "2022-10-28T13:19:50.697Z"
   },
   {
    "duration": 290,
    "start_time": "2022-10-28T13:19:54.214Z"
   },
   {
    "duration": 139,
    "start_time": "2022-10-28T13:20:44.165Z"
   },
   {
    "duration": 1508,
    "start_time": "2022-10-28T13:20:50.165Z"
   },
   {
    "duration": 1209,
    "start_time": "2022-10-28T13:20:51.675Z"
   },
   {
    "duration": 17,
    "start_time": "2022-10-28T13:20:52.887Z"
   },
   {
    "duration": 120,
    "start_time": "2022-10-28T13:20:52.905Z"
   },
   {
    "duration": 21,
    "start_time": "2022-10-28T13:20:53.590Z"
   },
   {
    "duration": 2988,
    "start_time": "2022-10-28T13:20:54.230Z"
   },
   {
    "duration": 3186,
    "start_time": "2022-10-28T13:20:57.220Z"
   },
   {
    "duration": 1809,
    "start_time": "2022-10-28T13:21:00.408Z"
   },
   {
    "duration": 100,
    "start_time": "2022-10-28T13:21:02.219Z"
   },
   {
    "duration": 59,
    "start_time": "2022-10-28T13:21:02.321Z"
   },
   {
    "duration": 30,
    "start_time": "2022-10-28T13:21:02.382Z"
   },
   {
    "duration": 316,
    "start_time": "2022-10-28T13:21:02.414Z"
   },
   {
    "duration": 8,
    "start_time": "2022-10-28T13:21:05.477Z"
   },
   {
    "duration": 40,
    "start_time": "2022-10-28T13:21:07.814Z"
   },
   {
    "duration": 8,
    "start_time": "2022-10-28T13:21:25.574Z"
   },
   {
    "duration": 59,
    "start_time": "2022-10-28T13:21:26.101Z"
   },
   {
    "duration": 17,
    "start_time": "2022-10-28T13:21:27.350Z"
   },
   {
    "duration": 388,
    "start_time": "2022-10-28T13:21:28.053Z"
   },
   {
    "duration": 344,
    "start_time": "2022-10-28T13:21:28.678Z"
   },
   {
    "duration": 18,
    "start_time": "2022-10-28T13:21:31.702Z"
   },
   {
    "duration": 76,
    "start_time": "2022-10-28T13:21:32.432Z"
   },
   {
    "duration": 2,
    "start_time": "2022-10-28T13:21:36.534Z"
   },
   {
    "duration": 85,
    "start_time": "2022-10-28T13:21:43.014Z"
   },
   {
    "duration": 2312,
    "start_time": "2022-10-28T13:21:50.054Z"
   },
   {
    "duration": 2168,
    "start_time": "2022-10-28T13:21:56.757Z"
   },
   {
    "duration": 151,
    "start_time": "2022-10-28T13:21:58.932Z"
   },
   {
    "duration": 275,
    "start_time": "2022-10-28T13:22:01.382Z"
   },
   {
    "duration": 1562,
    "start_time": "2022-10-29T03:52:47.588Z"
   },
   {
    "duration": 1298,
    "start_time": "2022-10-29T03:52:49.152Z"
   },
   {
    "duration": 14,
    "start_time": "2022-10-29T03:52:50.452Z"
   },
   {
    "duration": 130,
    "start_time": "2022-10-29T03:52:50.468Z"
   },
   {
    "duration": 26,
    "start_time": "2022-10-29T03:52:51.913Z"
   },
   {
    "duration": 2783,
    "start_time": "2022-10-29T03:52:52.576Z"
   },
   {
    "duration": 3158,
    "start_time": "2022-10-29T03:52:55.361Z"
   },
   {
    "duration": 1808,
    "start_time": "2022-10-29T03:52:58.524Z"
   },
   {
    "duration": 121,
    "start_time": "2022-10-29T03:53:00.334Z"
   },
   {
    "duration": 4,
    "start_time": "2022-10-29T03:53:05.240Z"
   },
   {
    "duration": 2,
    "start_time": "2022-10-29T03:53:05.996Z"
   },
   {
    "duration": 312,
    "start_time": "2022-10-29T03:53:06.785Z"
   },
   {
    "duration": 9,
    "start_time": "2022-10-29T03:53:09.066Z"
   },
   {
    "duration": 44,
    "start_time": "2022-10-29T03:53:10.602Z"
   },
   {
    "duration": 6,
    "start_time": "2022-10-29T03:53:11.244Z"
   },
   {
    "duration": 49,
    "start_time": "2022-10-29T03:53:11.947Z"
   },
   {
    "duration": 17,
    "start_time": "2022-10-29T03:53:13.133Z"
   },
   {
    "duration": 429,
    "start_time": "2022-10-29T03:53:13.982Z"
   },
   {
    "duration": 346,
    "start_time": "2022-10-29T03:53:16.609Z"
   },
   {
    "duration": 16,
    "start_time": "2022-10-29T03:53:21.139Z"
   },
   {
    "duration": 78,
    "start_time": "2022-10-29T03:53:23.140Z"
   },
   {
    "duration": 2,
    "start_time": "2022-10-29T03:53:25.447Z"
   },
   {
    "duration": 117,
    "start_time": "2022-10-29T03:53:26.490Z"
   },
   {
    "duration": 2346,
    "start_time": "2022-10-29T03:53:31.107Z"
   },
   {
    "duration": 2242,
    "start_time": "2022-10-29T03:53:37.115Z"
   },
   {
    "duration": 155,
    "start_time": "2022-10-29T03:53:41.208Z"
   },
   {
    "duration": 269,
    "start_time": "2022-10-29T03:53:46.466Z"
   },
   {
    "duration": 8244963,
    "start_time": "2022-10-29T03:53:58.684Z"
   },
   {
    "duration": 1463,
    "start_time": "2022-10-29T15:41:31.012Z"
   },
   {
    "duration": 1235,
    "start_time": "2022-10-29T15:41:32.476Z"
   },
   {
    "duration": 24,
    "start_time": "2022-10-29T15:41:33.713Z"
   },
   {
    "duration": 203,
    "start_time": "2022-10-29T15:41:39.070Z"
   },
   {
    "duration": 25,
    "start_time": "2022-10-29T15:41:40.382Z"
   },
   {
    "duration": 2801,
    "start_time": "2022-10-29T15:41:40.844Z"
   },
   {
    "duration": 3072,
    "start_time": "2022-10-29T15:41:43.647Z"
   },
   {
    "duration": 1811,
    "start_time": "2022-10-29T15:41:46.721Z"
   },
   {
    "duration": 122,
    "start_time": "2022-10-29T15:41:48.534Z"
   },
   {
    "duration": 4,
    "start_time": "2022-10-29T15:41:52.194Z"
   },
   {
    "duration": 3,
    "start_time": "2022-10-29T15:41:52.635Z"
   },
   {
    "duration": 315,
    "start_time": "2022-10-29T15:41:54.091Z"
   },
   {
    "duration": 8,
    "start_time": "2022-10-29T15:41:59.091Z"
   },
   {
    "duration": 39,
    "start_time": "2022-10-29T15:42:02.853Z"
   },
   {
    "duration": 7,
    "start_time": "2022-10-29T15:42:03.265Z"
   },
   {
    "duration": 54,
    "start_time": "2022-10-29T15:42:06.452Z"
   },
   {
    "duration": 16,
    "start_time": "2022-10-29T15:42:07.285Z"
   },
   {
    "duration": 415,
    "start_time": "2022-10-29T15:42:10.493Z"
   },
   {
    "duration": 347,
    "start_time": "2022-10-29T15:42:10.910Z"
   },
   {
    "duration": 16,
    "start_time": "2022-10-29T15:42:12.946Z"
   },
   {
    "duration": 92,
    "start_time": "2022-10-29T15:42:14.017Z"
   },
   {
    "duration": 3,
    "start_time": "2022-10-29T15:42:15.664Z"
   },
   {
    "duration": 127,
    "start_time": "2022-10-29T15:42:16.357Z"
   },
   {
    "duration": 2458,
    "start_time": "2022-10-29T15:42:21.938Z"
   },
   {
    "duration": 2149,
    "start_time": "2022-10-29T15:42:24.398Z"
   },
   {
    "duration": 158,
    "start_time": "2022-10-29T15:42:26.548Z"
   },
   {
    "duration": 280,
    "start_time": "2022-10-29T15:42:46.833Z"
   },
   {
    "duration": 1460,
    "start_time": "2022-10-29T15:43:06.908Z"
   },
   {
    "duration": 1331,
    "start_time": "2022-10-29T15:43:08.369Z"
   },
   {
    "duration": 14,
    "start_time": "2022-10-29T15:43:09.702Z"
   },
   {
    "duration": 123,
    "start_time": "2022-10-29T15:43:10.833Z"
   },
   {
    "duration": 20,
    "start_time": "2022-10-29T15:43:12.300Z"
   },
   {
    "duration": 2955,
    "start_time": "2022-10-29T15:43:12.914Z"
   },
   {
    "duration": 3280,
    "start_time": "2022-10-29T15:43:15.871Z"
   },
   {
    "duration": 1856,
    "start_time": "2022-10-29T15:43:19.153Z"
   },
   {
    "duration": 135,
    "start_time": "2022-10-29T15:43:21.011Z"
   },
   {
    "duration": 4,
    "start_time": "2022-10-29T15:43:21.147Z"
   },
   {
    "duration": 4,
    "start_time": "2022-10-29T15:43:21.153Z"
   },
   {
    "duration": 318,
    "start_time": "2022-10-29T15:43:21.158Z"
   },
   {
    "duration": 7,
    "start_time": "2022-10-29T15:43:21.477Z"
   },
   {
    "duration": 39,
    "start_time": "2022-10-29T15:43:22.033Z"
   },
   {
    "duration": 7,
    "start_time": "2022-10-29T15:43:22.708Z"
   },
   {
    "duration": 56,
    "start_time": "2022-10-29T15:43:23.640Z"
   },
   {
    "duration": 16,
    "start_time": "2022-10-29T15:43:25.150Z"
   },
   {
    "duration": 418,
    "start_time": "2022-10-29T15:43:25.902Z"
   },
   {
    "duration": 343,
    "start_time": "2022-10-29T15:43:27.343Z"
   },
   {
    "duration": 17,
    "start_time": "2022-10-29T15:43:30.292Z"
   },
   {
    "duration": 82,
    "start_time": "2022-10-29T15:43:31.034Z"
   },
   {
    "duration": 3,
    "start_time": "2022-10-29T15:43:32.557Z"
   },
   {
    "duration": 114,
    "start_time": "2022-10-29T15:43:33.298Z"
   },
   {
    "duration": 2243,
    "start_time": "2022-10-29T15:43:35.898Z"
   },
   {
    "duration": 2179,
    "start_time": "2022-10-29T15:43:38.848Z"
   },
   {
    "duration": 164,
    "start_time": "2022-10-29T15:43:41.029Z"
   },
   {
    "duration": 275,
    "start_time": "2022-10-29T15:43:44.569Z"
   },
   {
    "duration": 104,
    "start_time": "2022-10-30T12:58:03.099Z"
   },
   {
    "duration": 1323,
    "start_time": "2022-10-30T12:58:11.977Z"
   },
   {
    "duration": 1093,
    "start_time": "2022-10-30T12:58:13.302Z"
   },
   {
    "duration": 14,
    "start_time": "2022-10-30T12:58:14.397Z"
   },
   {
    "duration": 120,
    "start_time": "2022-10-30T12:58:14.412Z"
   },
   {
    "duration": 13,
    "start_time": "2022-10-30T12:58:25.781Z"
   },
   {
    "duration": 112,
    "start_time": "2022-10-30T12:58:26.142Z"
   },
   {
    "duration": 20,
    "start_time": "2022-10-30T12:58:26.940Z"
   },
   {
    "duration": 2636,
    "start_time": "2022-10-30T12:58:27.302Z"
   },
   {
    "duration": 2826,
    "start_time": "2022-10-30T12:58:29.940Z"
   },
   {
    "duration": 1666,
    "start_time": "2022-10-30T12:58:32.767Z"
   },
   {
    "duration": 114,
    "start_time": "2022-10-30T12:58:34.435Z"
   },
   {
    "duration": 4,
    "start_time": "2022-10-30T12:58:34.550Z"
   },
   {
    "duration": 6,
    "start_time": "2022-10-30T12:58:34.555Z"
   },
   {
    "duration": 302,
    "start_time": "2022-10-30T12:58:34.563Z"
   },
   {
    "duration": 7,
    "start_time": "2022-10-30T12:58:34.867Z"
   },
   {
    "duration": 52,
    "start_time": "2022-10-30T12:58:34.875Z"
   },
   {
    "duration": 8,
    "start_time": "2022-10-30T12:58:34.929Z"
   },
   {
    "duration": 50,
    "start_time": "2022-10-30T12:58:34.938Z"
   },
   {
    "duration": 17,
    "start_time": "2022-10-30T12:58:35.986Z"
   },
   {
    "duration": 386,
    "start_time": "2022-10-30T12:58:36.553Z"
   },
   {
    "duration": 303,
    "start_time": "2022-10-30T12:58:37.678Z"
   },
   {
    "duration": 16,
    "start_time": "2022-10-30T12:58:40.439Z"
   },
   {
    "duration": 81,
    "start_time": "2022-10-30T12:58:41.342Z"
   },
   {
    "duration": 2,
    "start_time": "2022-10-30T12:58:42.732Z"
   },
   {
    "duration": 76,
    "start_time": "2022-10-30T12:58:43.583Z"
   },
   {
    "duration": 2177,
    "start_time": "2022-10-30T12:58:48.181Z"
   },
   {
    "duration": 2022,
    "start_time": "2022-10-30T12:58:50.360Z"
   },
   {
    "duration": 140,
    "start_time": "2022-10-30T12:58:53.521Z"
   },
   {
    "duration": 263,
    "start_time": "2022-10-30T12:58:58.212Z"
   },
   {
    "duration": 4244798,
    "start_time": "2022-10-30T12:59:16.213Z"
   },
   {
    "duration": 1571,
    "start_time": "2022-10-31T06:02:28.049Z"
   },
   {
    "duration": 3314,
    "start_time": "2022-10-31T06:02:29.623Z"
   },
   {
    "duration": 16,
    "start_time": "2022-10-31T06:02:32.938Z"
   },
   {
    "duration": 116,
    "start_time": "2022-10-31T06:02:32.955Z"
   },
   {
    "duration": 21,
    "start_time": "2022-10-31T06:02:33.073Z"
   },
   {
    "duration": 2776,
    "start_time": "2022-10-31T06:02:33.105Z"
   },
   {
    "duration": 3147,
    "start_time": "2022-10-31T06:02:38.528Z"
   },
   {
    "duration": 1947,
    "start_time": "2022-10-31T06:02:42.256Z"
   },
   {
    "duration": 117,
    "start_time": "2022-10-31T06:02:44.207Z"
   },
   {
    "duration": 4,
    "start_time": "2022-10-31T06:03:03.648Z"
   },
   {
    "duration": 3,
    "start_time": "2022-10-31T06:03:04.420Z"
   },
   {
    "duration": 283,
    "start_time": "2022-10-31T06:03:05.200Z"
   },
   {
    "duration": 9,
    "start_time": "2022-10-31T06:03:06.415Z"
   },
   {
    "duration": 36,
    "start_time": "2022-10-31T06:03:07.664Z"
   },
   {
    "duration": 7,
    "start_time": "2022-10-31T06:03:08.256Z"
   },
   {
    "duration": 55,
    "start_time": "2022-10-31T06:03:08.863Z"
   },
   {
    "duration": 16,
    "start_time": "2022-10-31T06:03:09.952Z"
   },
   {
    "duration": 378,
    "start_time": "2022-10-31T06:03:10.496Z"
   },
   {
    "duration": 309,
    "start_time": "2022-10-31T06:03:11.055Z"
   },
   {
    "duration": 26,
    "start_time": "2022-10-31T06:03:13.792Z"
   },
   {
    "duration": 69,
    "start_time": "2022-10-31T06:03:14.591Z"
   },
   {
    "duration": 3,
    "start_time": "2022-10-31T06:03:18.896Z"
   },
   {
    "duration": 123,
    "start_time": "2022-10-31T06:03:19.793Z"
   },
   {
    "duration": 2704,
    "start_time": "2022-10-31T06:03:28.976Z"
   },
   {
    "duration": 2152,
    "start_time": "2022-10-31T06:14:40.495Z"
   },
   {
    "duration": 157,
    "start_time": "2022-10-31T06:14:42.650Z"
   },
   {
    "duration": 265,
    "start_time": "2022-10-31T06:14:43.552Z"
   },
   {
    "duration": 4299016,
    "start_time": "2022-10-31T06:14:46.031Z"
   },
   {
    "duration": 7,
    "start_time": "2022-10-31T07:26:25.050Z"
   },
   {
    "duration": 9,
    "start_time": "2022-10-31T07:38:52.438Z"
   },
   {
    "duration": 3,
    "start_time": "2022-10-31T07:39:05.198Z"
   },
   {
    "duration": 278704,
    "start_time": "2022-10-31T07:45:53.312Z"
   },
   {
    "duration": 107,
    "start_time": "2022-10-31T07:56:29.335Z"
   },
   {
    "duration": 279515,
    "start_time": "2022-10-31T07:56:35.799Z"
   },
   {
    "duration": 94,
    "start_time": "2022-10-31T08:01:15.319Z"
   },
   {
    "duration": 522,
    "start_time": "2022-10-31T08:30:21.138Z"
   },
   {
    "duration": 44,
    "start_time": "2022-10-31T08:31:35.950Z"
   },
   {
    "duration": 1408,
    "start_time": "2022-10-31T08:31:42.451Z"
   },
   {
    "duration": 2984,
    "start_time": "2022-10-31T08:31:43.861Z"
   },
   {
    "duration": 14,
    "start_time": "2022-10-31T08:31:46.847Z"
   },
   {
    "duration": 104,
    "start_time": "2022-10-31T08:31:46.864Z"
   },
   {
    "duration": 22,
    "start_time": "2022-10-31T08:31:46.969Z"
   },
   {
    "duration": 2762,
    "start_time": "2022-10-31T08:31:46.992Z"
   },
   {
    "duration": 2866,
    "start_time": "2022-10-31T08:31:49.756Z"
   },
   {
    "duration": 1606,
    "start_time": "2022-10-31T08:31:52.624Z"
   },
   {
    "duration": 119,
    "start_time": "2022-10-31T08:31:54.232Z"
   },
   {
    "duration": 4,
    "start_time": "2022-10-31T08:31:54.353Z"
   },
   {
    "duration": 3,
    "start_time": "2022-10-31T08:31:56.419Z"
   },
   {
    "duration": 240,
    "start_time": "2022-10-31T08:31:56.867Z"
   },
   {
    "duration": 8,
    "start_time": "2022-10-31T08:32:00.691Z"
   },
   {
    "duration": 37,
    "start_time": "2022-10-31T08:32:01.442Z"
   },
   {
    "duration": 7,
    "start_time": "2022-10-31T08:32:01.810Z"
   },
   {
    "duration": 50,
    "start_time": "2022-10-31T08:32:02.434Z"
   },
   {
    "duration": 17,
    "start_time": "2022-10-31T08:32:03.538Z"
   },
   {
    "duration": 364,
    "start_time": "2022-10-31T08:32:04.818Z"
   },
   {
    "duration": 340,
    "start_time": "2022-10-31T08:32:05.698Z"
   },
   {
    "duration": 18,
    "start_time": "2022-10-31T08:32:08.225Z"
   },
   {
    "duration": 64,
    "start_time": "2022-10-31T08:32:08.786Z"
   },
   {
    "duration": 3,
    "start_time": "2022-10-31T08:32:11.730Z"
   },
   {
    "duration": 74,
    "start_time": "2022-10-31T08:32:13.281Z"
   },
   {
    "duration": 2443,
    "start_time": "2022-10-31T08:32:17.491Z"
   },
   {
    "duration": 2059,
    "start_time": "2022-10-31T08:32:19.936Z"
   },
   {
    "duration": 136,
    "start_time": "2022-10-31T08:32:21.997Z"
   },
   {
    "duration": 252,
    "start_time": "2022-10-31T08:32:24.595Z"
   },
   {
    "duration": 4261627,
    "start_time": "2022-10-31T08:32:27.859Z"
   },
   {
    "duration": 277980,
    "start_time": "2022-10-31T09:43:29.487Z"
   },
   {
    "duration": 583,
    "start_time": "2022-10-31T09:48:07.469Z"
   },
   {
    "duration": 1491,
    "start_time": "2022-10-31T10:29:22.638Z"
   },
   {
    "duration": 3157,
    "start_time": "2022-10-31T10:29:24.131Z"
   },
   {
    "duration": 31,
    "start_time": "2022-10-31T10:29:27.290Z"
   },
   {
    "duration": 108,
    "start_time": "2022-10-31T10:29:27.323Z"
   },
   {
    "duration": 1418,
    "start_time": "2022-10-31T10:29:27.433Z"
   },
   {
    "duration": 0,
    "start_time": "2022-10-31T10:29:28.852Z"
   },
   {
    "duration": 0,
    "start_time": "2022-10-31T10:29:28.853Z"
   },
   {
    "duration": 0,
    "start_time": "2022-10-31T10:29:28.854Z"
   },
   {
    "duration": 0,
    "start_time": "2022-10-31T10:29:28.855Z"
   },
   {
    "duration": 4,
    "start_time": "2022-10-31T10:29:29.677Z"
   },
   {
    "duration": 2,
    "start_time": "2022-10-31T10:29:30.126Z"
   },
   {
    "duration": 1351,
    "start_time": "2022-10-31T10:29:30.622Z"
   },
   {
    "duration": 0,
    "start_time": "2022-10-31T10:29:31.974Z"
   },
   {
    "duration": 48,
    "start_time": "2022-10-31T10:29:32.653Z"
   },
   {
    "duration": 9,
    "start_time": "2022-10-31T10:29:33.132Z"
   },
   {
    "duration": 56,
    "start_time": "2022-10-31T10:29:33.614Z"
   },
   {
    "duration": 18,
    "start_time": "2022-10-31T10:29:34.493Z"
   },
   {
    "duration": 364,
    "start_time": "2022-10-31T10:29:35.054Z"
   },
   {
    "duration": 304,
    "start_time": "2022-10-31T10:29:35.773Z"
   },
   {
    "duration": 24,
    "start_time": "2022-10-31T10:29:38.092Z"
   },
   {
    "duration": 67,
    "start_time": "2022-10-31T10:29:38.924Z"
   },
   {
    "duration": 2,
    "start_time": "2022-10-31T10:29:42.893Z"
   },
   {
    "duration": 17,
    "start_time": "2022-10-31T10:29:44.222Z"
   },
   {
    "duration": 918,
    "start_time": "2022-10-31T10:29:48.205Z"
   },
   {
    "duration": 634,
    "start_time": "2022-10-31T10:29:51.005Z"
   },
   {
    "duration": 141,
    "start_time": "2022-10-31T10:29:51.640Z"
   },
   {
    "duration": 81,
    "start_time": "2022-10-31T10:29:52.413Z"
   },
   {
    "duration": 70314,
    "start_time": "2022-10-31T10:29:58.350Z"
   },
   {
    "duration": 356,
    "start_time": "2022-10-31T10:31:08.665Z"
   },
   {
    "duration": 285,
    "start_time": "2022-10-31T10:40:00.689Z"
   },
   {
    "duration": 5,
    "start_time": "2022-10-31T10:40:06.945Z"
   },
   {
    "duration": 169543,
    "start_time": "2022-10-31T10:40:11.664Z"
   },
   {
    "duration": 0,
    "start_time": "2022-10-31T10:43:01.211Z"
   },
   {
    "duration": 0,
    "start_time": "2022-10-31T10:43:01.212Z"
   },
   {
    "duration": 0,
    "start_time": "2022-10-31T10:43:01.213Z"
   },
   {
    "duration": 0,
    "start_time": "2022-10-31T10:43:01.215Z"
   },
   {
    "duration": 0,
    "start_time": "2022-10-31T10:43:01.217Z"
   },
   {
    "duration": 0,
    "start_time": "2022-10-31T10:43:01.218Z"
   },
   {
    "duration": 0,
    "start_time": "2022-10-31T10:43:01.219Z"
   },
   {
    "duration": 0,
    "start_time": "2022-10-31T10:43:01.306Z"
   },
   {
    "duration": 0,
    "start_time": "2022-10-31T10:43:01.307Z"
   },
   {
    "duration": 0,
    "start_time": "2022-10-31T10:43:01.308Z"
   },
   {
    "duration": 0,
    "start_time": "2022-10-31T10:43:01.310Z"
   },
   {
    "duration": 0,
    "start_time": "2022-10-31T10:43:01.311Z"
   },
   {
    "duration": 0,
    "start_time": "2022-10-31T10:43:01.312Z"
   },
   {
    "duration": 0,
    "start_time": "2022-10-31T10:43:01.313Z"
   },
   {
    "duration": 0,
    "start_time": "2022-10-31T10:43:01.314Z"
   },
   {
    "duration": 0,
    "start_time": "2022-10-31T10:43:01.315Z"
   },
   {
    "duration": 0,
    "start_time": "2022-10-31T10:43:01.316Z"
   },
   {
    "duration": 0,
    "start_time": "2022-10-31T10:43:01.317Z"
   },
   {
    "duration": 0,
    "start_time": "2022-10-31T10:43:01.318Z"
   },
   {
    "duration": 0,
    "start_time": "2022-10-31T10:43:01.319Z"
   },
   {
    "duration": 0,
    "start_time": "2022-10-31T10:43:01.320Z"
   },
   {
    "duration": 0,
    "start_time": "2022-10-31T10:43:01.321Z"
   },
   {
    "duration": 0,
    "start_time": "2022-10-31T10:43:01.322Z"
   },
   {
    "duration": 0,
    "start_time": "2022-10-31T10:43:01.323Z"
   },
   {
    "duration": 0,
    "start_time": "2022-10-31T10:43:01.324Z"
   },
   {
    "duration": 0,
    "start_time": "2022-10-31T10:43:01.325Z"
   },
   {
    "duration": 0,
    "start_time": "2022-10-31T10:43:01.326Z"
   },
   {
    "duration": 0,
    "start_time": "2022-10-31T10:43:01.327Z"
   },
   {
    "duration": 0,
    "start_time": "2022-10-31T10:43:01.329Z"
   },
   {
    "duration": 0,
    "start_time": "2022-10-31T10:43:01.330Z"
   },
   {
    "duration": 5,
    "start_time": "2022-10-31T10:50:24.992Z"
   },
   {
    "duration": 869,
    "start_time": "2022-10-31T10:50:25.472Z"
   },
   {
    "duration": 15,
    "start_time": "2022-10-31T10:50:26.480Z"
   },
   {
    "duration": 94,
    "start_time": "2022-10-31T10:50:45.328Z"
   },
   {
    "duration": 1114,
    "start_time": "2022-10-31T10:50:46.384Z"
   },
   {
    "duration": 0,
    "start_time": "2022-10-31T10:50:47.500Z"
   },
   {
    "duration": 0,
    "start_time": "2022-10-31T10:50:47.503Z"
   },
   {
    "duration": 1569,
    "start_time": "2022-10-31T10:50:48.689Z"
   },
   {
    "duration": 98,
    "start_time": "2022-10-31T10:50:50.260Z"
   },
   {
    "duration": 6,
    "start_time": "2022-10-31T10:50:51.873Z"
   },
   {
    "duration": 3,
    "start_time": "2022-10-31T10:50:52.368Z"
   },
   {
    "duration": 1335,
    "start_time": "2022-10-31T10:50:52.930Z"
   },
   {
    "duration": 0,
    "start_time": "2022-10-31T10:50:54.267Z"
   },
   {
    "duration": 36,
    "start_time": "2022-10-31T10:50:55.121Z"
   },
   {
    "duration": 7,
    "start_time": "2022-10-31T10:50:55.584Z"
   },
   {
    "duration": 58,
    "start_time": "2022-10-31T10:50:56.529Z"
   },
   {
    "duration": 17,
    "start_time": "2022-10-31T10:50:57.648Z"
   },
   {
    "duration": 437,
    "start_time": "2022-10-31T10:50:58.112Z"
   },
   {
    "duration": 333,
    "start_time": "2022-10-31T10:50:58.656Z"
   },
   {
    "duration": 17,
    "start_time": "2022-10-31T10:51:01.455Z"
   },
   {
    "duration": 71,
    "start_time": "2022-10-31T10:51:01.873Z"
   },
   {
    "duration": 4,
    "start_time": "2022-10-31T10:51:03.408Z"
   },
   {
    "duration": 19,
    "start_time": "2022-10-31T10:51:03.890Z"
   },
   {
    "duration": 3453,
    "start_time": "2022-10-31T10:51:21.394Z"
   },
   {
    "duration": 2199,
    "start_time": "2022-10-31T10:51:24.849Z"
   },
   {
    "duration": 146,
    "start_time": "2022-10-31T10:51:27.050Z"
   },
   {
    "duration": 298,
    "start_time": "2022-10-31T10:51:27.198Z"
   },
   {
    "duration": 112,
    "start_time": "2022-10-31T10:52:45.092Z"
   },
   {
    "duration": 1457,
    "start_time": "2022-10-31T12:50:54.208Z"
   },
   {
    "duration": 2819,
    "start_time": "2022-10-31T12:50:55.694Z"
   },
   {
    "duration": 4,
    "start_time": "2022-10-31T12:51:42.383Z"
   },
   {
    "duration": 826,
    "start_time": "2022-10-31T12:51:43.103Z"
   },
   {
    "duration": 18,
    "start_time": "2022-10-31T12:51:44.847Z"
   },
   {
    "duration": 93,
    "start_time": "2022-10-31T12:51:45.551Z"
   },
   {
    "duration": 1162,
    "start_time": "2022-10-31T12:51:50.367Z"
   },
   {
    "duration": 4,
    "start_time": "2022-10-31T12:52:06.623Z"
   },
   {
    "duration": 828,
    "start_time": "2022-10-31T12:52:07.487Z"
   },
   {
    "duration": 14,
    "start_time": "2022-10-31T12:52:12.127Z"
   },
   {
    "duration": 96,
    "start_time": "2022-10-31T12:52:13.280Z"
   },
   {
    "duration": 1192,
    "start_time": "2022-10-31T12:52:18.143Z"
   },
   {
    "duration": 18,
    "start_time": "2022-10-31T12:52:56.385Z"
   },
   {
    "duration": 2635,
    "start_time": "2022-10-31T12:53:01.585Z"
   },
   {
    "duration": 2995,
    "start_time": "2022-10-31T12:53:04.222Z"
   },
   {
    "duration": 1817,
    "start_time": "2022-10-31T12:53:07.219Z"
   },
   {
    "duration": 99,
    "start_time": "2022-10-31T12:53:09.038Z"
   },
   {
    "duration": 4,
    "start_time": "2022-10-31T12:53:18.928Z"
   },
   {
    "duration": 3,
    "start_time": "2022-10-31T12:53:27.552Z"
   },
   {
    "duration": 261,
    "start_time": "2022-10-31T12:53:28.944Z"
   },
   {
    "duration": 8,
    "start_time": "2022-10-31T12:53:33.859Z"
   },
   {
    "duration": 38,
    "start_time": "2022-10-31T12:53:36.255Z"
   },
   {
    "duration": 7,
    "start_time": "2022-10-31T12:53:37.008Z"
   },
   {
    "duration": 51,
    "start_time": "2022-10-31T12:53:38.624Z"
   },
   {
    "duration": 19,
    "start_time": "2022-10-31T12:53:40.096Z"
   },
   {
    "duration": 391,
    "start_time": "2022-10-31T12:53:41.185Z"
   },
   {
    "duration": 334,
    "start_time": "2022-10-31T12:53:42.235Z"
   },
   {
    "duration": 17,
    "start_time": "2022-10-31T12:53:53.472Z"
   },
   {
    "duration": 65,
    "start_time": "2022-10-31T12:53:55.408Z"
   },
   {
    "duration": 3,
    "start_time": "2022-10-31T12:54:02.897Z"
   },
   {
    "duration": 14,
    "start_time": "2022-10-31T12:54:04.033Z"
   },
   {
    "duration": 2997,
    "start_time": "2022-10-31T12:54:06.832Z"
   },
   {
    "duration": 2094,
    "start_time": "2022-10-31T12:54:09.832Z"
   },
   {
    "duration": 144,
    "start_time": "2022-10-31T12:54:11.929Z"
   },
   {
    "duration": 265,
    "start_time": "2022-10-31T12:54:12.075Z"
   },
   {
    "duration": 269919,
    "start_time": "2022-10-31T12:54:20.321Z"
   },
   {
    "duration": 566,
    "start_time": "2022-10-31T12:58:50.243Z"
   },
   {
    "duration": 272962,
    "start_time": "2022-10-31T12:59:52.946Z"
   },
   {
    "duration": 276401,
    "start_time": "2022-10-31T13:04:46.178Z"
   },
   {
    "duration": 6,
    "start_time": "2022-10-31T13:10:23.556Z"
   },
   {
    "duration": 46,
    "start_time": "2022-10-31T13:10:30.102Z"
   },
   {
    "duration": 1385,
    "start_time": "2022-10-31T13:10:55.364Z"
   },
   {
    "duration": 2812,
    "start_time": "2022-10-31T13:10:56.751Z"
   },
   {
    "duration": 17,
    "start_time": "2022-10-31T13:10:59.564Z"
   },
   {
    "duration": 109,
    "start_time": "2022-10-31T13:10:59.582Z"
   },
   {
    "duration": 24,
    "start_time": "2022-10-31T13:10:59.693Z"
   },
   {
    "duration": 2718,
    "start_time": "2022-10-31T13:10:59.939Z"
   },
   {
    "duration": 2999,
    "start_time": "2022-10-31T13:11:02.659Z"
   },
   {
    "duration": 1813,
    "start_time": "2022-10-31T13:11:05.660Z"
   },
   {
    "duration": 108,
    "start_time": "2022-10-31T13:11:07.476Z"
   },
   {
    "duration": 5,
    "start_time": "2022-10-31T13:11:07.586Z"
   },
   {
    "duration": 3,
    "start_time": "2022-10-31T13:11:07.606Z"
   },
   {
    "duration": 274,
    "start_time": "2022-10-31T13:11:07.611Z"
   },
   {
    "duration": 23,
    "start_time": "2022-10-31T13:11:07.887Z"
   },
   {
    "duration": 39,
    "start_time": "2022-10-31T13:11:07.939Z"
   },
   {
    "duration": 7,
    "start_time": "2022-10-31T13:11:08.532Z"
   },
   {
    "duration": 53,
    "start_time": "2022-10-31T13:11:09.091Z"
   },
   {
    "duration": 18,
    "start_time": "2022-10-31T13:11:10.292Z"
   },
   {
    "duration": 380,
    "start_time": "2022-10-31T13:11:10.916Z"
   },
   {
    "duration": 333,
    "start_time": "2022-10-31T13:11:11.619Z"
   },
   {
    "duration": 18,
    "start_time": "2022-10-31T13:11:13.891Z"
   },
   {
    "duration": 70,
    "start_time": "2022-10-31T13:11:14.499Z"
   },
   {
    "duration": 3,
    "start_time": "2022-10-31T13:11:16.003Z"
   },
   {
    "duration": 91,
    "start_time": "2022-10-31T13:11:17.987Z"
   },
   {
    "duration": 3034,
    "start_time": "2022-10-31T13:11:19.459Z"
   },
   {
    "duration": 2113,
    "start_time": "2022-10-31T13:11:22.496Z"
   },
   {
    "duration": 140,
    "start_time": "2022-10-31T13:11:35.908Z"
   },
   {
    "duration": 256,
    "start_time": "2022-10-31T13:11:36.675Z"
   },
   {
    "duration": 10,
    "start_time": "2022-10-31T13:12:28.436Z"
   },
   {
    "duration": 8,
    "start_time": "2022-10-31T13:12:33.892Z"
   },
   {
    "duration": 49,
    "start_time": "2022-10-31T13:12:38.981Z"
   },
   {
    "duration": 1436,
    "start_time": "2022-10-31T13:13:07.732Z"
   },
   {
    "duration": 2960,
    "start_time": "2022-10-31T13:13:09.170Z"
   },
   {
    "duration": 16,
    "start_time": "2022-10-31T13:13:12.132Z"
   },
   {
    "duration": 101,
    "start_time": "2022-10-31T13:13:14.005Z"
   },
   {
    "duration": 19,
    "start_time": "2022-10-31T13:13:14.931Z"
   },
   {
    "duration": 2715,
    "start_time": "2022-10-31T13:13:15.284Z"
   },
   {
    "duration": 2930,
    "start_time": "2022-10-31T13:13:18.002Z"
   },
   {
    "duration": 1722,
    "start_time": "2022-10-31T13:13:20.934Z"
   },
   {
    "duration": 103,
    "start_time": "2022-10-31T13:13:22.658Z"
   },
   {
    "duration": 3,
    "start_time": "2022-10-31T13:13:22.763Z"
   },
   {
    "duration": 11,
    "start_time": "2022-10-31T13:13:22.768Z"
   },
   {
    "duration": 270,
    "start_time": "2022-10-31T13:13:22.780Z"
   },
   {
    "duration": 9,
    "start_time": "2022-10-31T13:13:23.052Z"
   },
   {
    "duration": 38,
    "start_time": "2022-10-31T13:13:23.827Z"
   },
   {
    "duration": 8,
    "start_time": "2022-10-31T13:13:24.291Z"
   },
   {
    "duration": 54,
    "start_time": "2022-10-31T13:13:24.834Z"
   },
   {
    "duration": 17,
    "start_time": "2022-10-31T13:13:25.875Z"
   },
   {
    "duration": 394,
    "start_time": "2022-10-31T13:13:26.581Z"
   },
   {
    "duration": 346,
    "start_time": "2022-10-31T13:13:27.124Z"
   },
   {
    "duration": 16,
    "start_time": "2022-10-31T13:13:29.427Z"
   },
   {
    "duration": 79,
    "start_time": "2022-10-31T13:13:30.004Z"
   },
   {
    "duration": 3,
    "start_time": "2022-10-31T13:13:34.084Z"
   },
   {
    "duration": 86,
    "start_time": "2022-10-31T13:13:34.564Z"
   },
   {
    "duration": 3,
    "start_time": "2022-10-31T13:13:57.748Z"
   },
   {
    "duration": 480,
    "start_time": "2022-10-31T13:13:58.467Z"
   },
   {
    "duration": 3092,
    "start_time": "2022-10-31T13:14:01.460Z"
   },
   {
    "duration": 2093,
    "start_time": "2022-10-31T13:14:04.554Z"
   },
   {
    "duration": 37,
    "start_time": "2022-10-31T13:14:13.203Z"
   },
   {
    "duration": 103,
    "start_time": "2022-10-31T13:14:16.276Z"
   },
   {
    "duration": 154,
    "start_time": "2022-10-31T13:14:19.171Z"
   },
   {
    "duration": 144,
    "start_time": "2022-10-31T13:14:29.363Z"
   },
   {
    "duration": 8,
    "start_time": "2022-10-31T13:14:29.812Z"
   },
   {
    "duration": 12262,
    "start_time": "2022-10-31T13:14:37.188Z"
   },
   {
    "duration": 170,
    "start_time": "2022-10-31T13:14:49.451Z"
   },
   {
    "duration": 378477,
    "start_time": "2022-10-31T13:20:08.549Z"
   },
   {
    "duration": 9,
    "start_time": "2022-10-31T13:26:27.028Z"
   },
   {
    "duration": 0,
    "start_time": "2022-10-31T13:26:27.039Z"
   },
   {
    "duration": 37289,
    "start_time": "2022-10-31T13:28:01.639Z"
   },
   {
    "duration": 4913,
    "start_time": "2022-10-31T13:28:55.207Z"
   },
   {
    "duration": 11,
    "start_time": "2022-10-31T13:29:05.734Z"
   },
   {
    "duration": 2,
    "start_time": "2022-10-31T13:29:21.191Z"
   },
   {
    "duration": 2115,
    "start_time": "2022-10-31T13:29:29.271Z"
   },
   {
    "duration": 2388,
    "start_time": "2022-10-31T13:30:31.336Z"
   },
   {
    "duration": 13,
    "start_time": "2022-10-31T13:34:51.367Z"
   },
   {
    "duration": 9,
    "start_time": "2022-10-31T13:34:54.264Z"
   },
   {
    "duration": 10,
    "start_time": "2022-10-31T13:35:19.352Z"
   },
   {
    "duration": 6,
    "start_time": "2022-10-31T13:35:23.302Z"
   },
   {
    "duration": 4850,
    "start_time": "2022-10-31T13:35:24.456Z"
   },
   {
    "duration": 0,
    "start_time": "2022-10-31T13:35:29.308Z"
   },
   {
    "duration": 5171,
    "start_time": "2022-10-31T13:36:06.647Z"
   },
   {
    "duration": 6,
    "start_time": "2022-10-31T13:37:08.488Z"
   },
   {
    "duration": 6,
    "start_time": "2022-10-31T13:37:11.864Z"
   },
   {
    "duration": 5,
    "start_time": "2022-10-31T13:37:25.432Z"
   },
   {
    "duration": 4776,
    "start_time": "2022-10-31T13:37:32.231Z"
   },
   {
    "duration": 0,
    "start_time": "2022-10-31T13:37:37.009Z"
   },
   {
    "duration": 2151,
    "start_time": "2022-10-31T13:38:40.201Z"
   },
   {
    "duration": 13,
    "start_time": "2022-10-31T13:38:42.354Z"
   },
   {
    "duration": 11,
    "start_time": "2022-10-31T13:39:01.911Z"
   },
   {
    "duration": 6929,
    "start_time": "2022-10-31T14:46:42.018Z"
   },
   {
    "duration": 1322,
    "start_time": "2022-10-31T14:46:48.949Z"
   },
   {
    "duration": 17,
    "start_time": "2022-10-31T14:46:50.273Z"
   },
   {
    "duration": 120,
    "start_time": "2022-10-31T14:46:50.291Z"
   },
   {
    "duration": 22,
    "start_time": "2022-10-31T14:46:50.414Z"
   },
   {
    "duration": 3016,
    "start_time": "2022-10-31T14:46:50.438Z"
   },
   {
    "duration": 3304,
    "start_time": "2022-10-31T14:46:53.457Z"
   },
   {
    "duration": 1837,
    "start_time": "2022-10-31T14:46:56.763Z"
   },
   {
    "duration": 115,
    "start_time": "2022-10-31T14:46:58.602Z"
   },
   {
    "duration": 5,
    "start_time": "2022-10-31T14:46:58.719Z"
   },
   {
    "duration": 8,
    "start_time": "2022-10-31T14:46:58.726Z"
   },
   {
    "duration": 292,
    "start_time": "2022-10-31T14:46:58.736Z"
   },
   {
    "duration": 9,
    "start_time": "2022-10-31T14:46:59.030Z"
   },
   {
    "duration": 47,
    "start_time": "2022-10-31T14:46:59.056Z"
   },
   {
    "duration": 10,
    "start_time": "2022-10-31T14:46:59.105Z"
   },
   {
    "duration": 87,
    "start_time": "2022-10-31T14:46:59.117Z"
   },
   {
    "duration": 20,
    "start_time": "2022-10-31T14:46:59.206Z"
   },
   {
    "duration": 468,
    "start_time": "2022-10-31T14:46:59.228Z"
   },
   {
    "duration": 354,
    "start_time": "2022-10-31T14:46:59.697Z"
   },
   {
    "duration": 22,
    "start_time": "2022-10-31T14:47:00.054Z"
   },
   {
    "duration": 133,
    "start_time": "2022-10-31T14:47:00.078Z"
   },
   {
    "duration": 104,
    "start_time": "2022-10-31T14:47:00.214Z"
   },
   {
    "duration": 624,
    "start_time": "2022-10-31T14:47:00.320Z"
   },
   {
    "duration": 39,
    "start_time": "2022-10-31T14:47:00.946Z"
   },
   {
    "duration": 153,
    "start_time": "2022-10-31T14:47:00.987Z"
   },
   {
    "duration": 180,
    "start_time": "2022-10-31T14:47:01.142Z"
   },
   {
    "duration": 9,
    "start_time": "2022-10-31T14:47:01.324Z"
   },
   {
    "duration": 58,
    "start_time": "2022-10-31T14:47:01.335Z"
   },
   {
    "duration": 41,
    "start_time": "2022-10-31T14:47:01.395Z"
   },
   {
    "duration": 25,
    "start_time": "2022-10-31T14:47:01.438Z"
   },
   {
    "duration": 13250,
    "start_time": "2022-10-31T14:47:01.466Z"
   },
   {
    "duration": 200,
    "start_time": "2022-10-31T14:47:14.718Z"
   },
   {
    "duration": 6,
    "start_time": "2022-10-31T14:52:04.491Z"
   },
   {
    "duration": 5512,
    "start_time": "2022-10-31T14:52:04.843Z"
   },
   {
    "duration": 8,
    "start_time": "2022-10-31T14:52:15.773Z"
   },
   {
    "duration": 4,
    "start_time": "2022-10-31T14:52:21.893Z"
   },
   {
    "duration": 7,
    "start_time": "2022-10-31T16:52:53.802Z"
   },
   {
    "duration": 11,
    "start_time": "2022-10-31T16:52:54.094Z"
   },
   {
    "duration": 6,
    "start_time": "2022-10-31T16:53:01.844Z"
   },
   {
    "duration": 5521,
    "start_time": "2022-10-31T16:53:02.134Z"
   },
   {
    "duration": 21,
    "start_time": "2022-10-31T16:53:32.404Z"
   },
   {
    "duration": 5,
    "start_time": "2022-10-31T16:53:51.923Z"
   },
   {
    "duration": 6,
    "start_time": "2022-10-31T16:54:00.024Z"
   },
   {
    "duration": 20055,
    "start_time": "2022-10-31T16:54:00.301Z"
   },
   {
    "duration": 7,
    "start_time": "2022-10-31T16:54:27.283Z"
   },
   {
    "duration": 0,
    "start_time": "2022-10-31T16:54:47.968Z"
   },
   {
    "duration": 0,
    "start_time": "2022-10-31T16:54:47.969Z"
   },
   {
    "duration": 7,
    "start_time": "2022-10-31T16:54:52.450Z"
   },
   {
    "duration": 19780,
    "start_time": "2022-10-31T16:54:53.081Z"
   },
   {
    "duration": 20,
    "start_time": "2022-10-31T16:55:34.861Z"
   },
   {
    "duration": 6,
    "start_time": "2022-10-31T16:55:42.999Z"
   },
   {
    "duration": 3,
    "start_time": "2022-10-31T16:56:16.121Z"
   },
   {
    "duration": 13872,
    "start_time": "2022-10-31T16:56:19.401Z"
   },
   {
    "duration": 22,
    "start_time": "2022-10-31T16:56:44.525Z"
   },
   {
    "duration": 24,
    "start_time": "2022-10-31T16:56:52.050Z"
   },
   {
    "duration": 75,
    "start_time": "2022-10-31T16:56:52.558Z"
   },
   {
    "duration": 3621,
    "start_time": "2022-10-31T16:56:58.101Z"
   },
   {
    "duration": 2363,
    "start_time": "2022-10-31T16:57:02.335Z"
   },
   {
    "duration": 155,
    "start_time": "2022-10-31T16:57:04.700Z"
   },
   {
    "duration": 6,
    "start_time": "2022-10-31T16:57:11.960Z"
   },
   {
    "duration": 2986,
    "start_time": "2022-10-31T16:57:34.304Z"
   },
   {
    "duration": 1215,
    "start_time": "2022-10-31T16:57:37.292Z"
   },
   {
    "duration": 19,
    "start_time": "2022-10-31T16:57:38.509Z"
   },
   {
    "duration": 129,
    "start_time": "2022-10-31T16:57:38.530Z"
   },
   {
    "duration": 25,
    "start_time": "2022-10-31T16:57:38.661Z"
   },
   {
    "duration": 2972,
    "start_time": "2022-10-31T16:57:38.689Z"
   },
   {
    "duration": 3329,
    "start_time": "2022-10-31T16:57:41.664Z"
   },
   {
    "duration": 1844,
    "start_time": "2022-10-31T16:57:44.994Z"
   },
   {
    "duration": 116,
    "start_time": "2022-10-31T16:57:46.839Z"
   },
   {
    "duration": 4,
    "start_time": "2022-10-31T16:57:46.956Z"
   },
   {
    "duration": 5,
    "start_time": "2022-10-31T16:57:46.962Z"
   },
   {
    "duration": 309,
    "start_time": "2022-10-31T16:57:46.969Z"
   },
   {
    "duration": 11,
    "start_time": "2022-10-31T16:57:47.280Z"
   },
   {
    "duration": 69,
    "start_time": "2022-10-31T16:57:47.293Z"
   },
   {
    "duration": 8,
    "start_time": "2022-10-31T16:57:47.364Z"
   },
   {
    "duration": 81,
    "start_time": "2022-10-31T16:57:47.374Z"
   },
   {
    "duration": 19,
    "start_time": "2022-10-31T16:57:47.457Z"
   },
   {
    "duration": 477,
    "start_time": "2022-10-31T16:57:47.478Z"
   },
   {
    "duration": 334,
    "start_time": "2022-10-31T16:57:47.956Z"
   },
   {
    "duration": 19,
    "start_time": "2022-10-31T16:57:48.292Z"
   },
   {
    "duration": 77,
    "start_time": "2022-10-31T16:57:54.061Z"
   },
   {
    "duration": 3336,
    "start_time": "2022-10-31T16:57:58.288Z"
   },
   {
    "duration": 2345,
    "start_time": "2022-10-31T16:58:01.627Z"
   },
   {
    "duration": 151,
    "start_time": "2022-10-31T16:58:07.701Z"
   },
   {
    "duration": 7,
    "start_time": "2022-10-31T16:58:16.982Z"
   },
   {
    "duration": 2894,
    "start_time": "2022-10-31T16:58:38.969Z"
   },
   {
    "duration": 1240,
    "start_time": "2022-10-31T16:58:41.865Z"
   },
   {
    "duration": 17,
    "start_time": "2022-10-31T16:58:43.107Z"
   },
   {
    "duration": 113,
    "start_time": "2022-10-31T16:58:43.125Z"
   },
   {
    "duration": 27,
    "start_time": "2022-10-31T16:58:43.241Z"
   },
   {
    "duration": 2934,
    "start_time": "2022-10-31T16:58:43.269Z"
   },
   {
    "duration": 3226,
    "start_time": "2022-10-31T16:58:46.205Z"
   },
   {
    "duration": 1869,
    "start_time": "2022-10-31T16:58:49.433Z"
   },
   {
    "duration": 122,
    "start_time": "2022-10-31T16:58:51.305Z"
   },
   {
    "duration": 4,
    "start_time": "2022-10-31T16:58:51.430Z"
   },
   {
    "duration": 5,
    "start_time": "2022-10-31T16:58:51.436Z"
   },
   {
    "duration": 354,
    "start_time": "2022-10-31T16:58:51.443Z"
   },
   {
    "duration": 8,
    "start_time": "2022-10-31T16:58:51.799Z"
   },
   {
    "duration": 60,
    "start_time": "2022-10-31T16:58:51.810Z"
   },
   {
    "duration": 8,
    "start_time": "2022-10-31T16:58:51.872Z"
   },
   {
    "duration": 75,
    "start_time": "2022-10-31T16:58:51.882Z"
   },
   {
    "duration": 20,
    "start_time": "2022-10-31T16:58:51.959Z"
   },
   {
    "duration": 468,
    "start_time": "2022-10-31T16:58:51.981Z"
   },
   {
    "duration": 385,
    "start_time": "2022-10-31T16:58:52.450Z"
   },
   {
    "duration": 26,
    "start_time": "2022-10-31T16:58:52.837Z"
   },
   {
    "duration": 71,
    "start_time": "2022-10-31T16:58:52.865Z"
   },
   {
    "duration": 2950,
    "start_time": "2022-10-31T16:58:52.937Z"
   },
   {
    "duration": 2331,
    "start_time": "2022-10-31T16:58:55.889Z"
   },
   {
    "duration": 6,
    "start_time": "2022-10-31T16:58:58.222Z"
   },
   {
    "duration": 2974,
    "start_time": "2022-10-31T16:59:43.129Z"
   },
   {
    "duration": 1189,
    "start_time": "2022-10-31T16:59:46.105Z"
   },
   {
    "duration": 18,
    "start_time": "2022-10-31T16:59:47.296Z"
   },
   {
    "duration": 125,
    "start_time": "2022-10-31T16:59:47.315Z"
   },
   {
    "duration": 40,
    "start_time": "2022-10-31T16:59:47.443Z"
   },
   {
    "duration": 2852,
    "start_time": "2022-10-31T16:59:47.484Z"
   },
   {
    "duration": 3251,
    "start_time": "2022-10-31T16:59:50.337Z"
   },
   {
    "duration": 1842,
    "start_time": "2022-10-31T16:59:53.590Z"
   },
   {
    "duration": 107,
    "start_time": "2022-10-31T16:59:55.434Z"
   },
   {
    "duration": 12,
    "start_time": "2022-10-31T16:59:55.543Z"
   },
   {
    "duration": 30,
    "start_time": "2022-10-31T16:59:55.557Z"
   },
   {
    "duration": 282,
    "start_time": "2022-10-31T16:59:55.589Z"
   },
   {
    "duration": 7,
    "start_time": "2022-10-31T16:59:55.873Z"
   },
   {
    "duration": 54,
    "start_time": "2022-10-31T16:59:55.882Z"
   },
   {
    "duration": 19,
    "start_time": "2022-10-31T16:59:55.938Z"
   },
   {
    "duration": 75,
    "start_time": "2022-10-31T16:59:55.959Z"
   },
   {
    "duration": 21,
    "start_time": "2022-10-31T16:59:56.036Z"
   },
   {
    "duration": 396,
    "start_time": "2022-10-31T16:59:56.059Z"
   },
   {
    "duration": 334,
    "start_time": "2022-10-31T16:59:56.456Z"
   },
   {
    "duration": 19,
    "start_time": "2022-10-31T16:59:56.792Z"
   },
   {
    "duration": 80,
    "start_time": "2022-10-31T16:59:56.813Z"
   },
   {
    "duration": 3282,
    "start_time": "2022-10-31T16:59:56.895Z"
   },
   {
    "duration": 52,
    "start_time": "2022-10-31T17:00:00.179Z"
   },
   {
    "duration": 0,
    "start_time": "2022-10-31T17:00:47.357Z"
   },
   {
    "duration": 3067,
    "start_time": "2022-10-31T17:00:51.121Z"
   },
   {
    "duration": 2342,
    "start_time": "2022-10-31T17:00:55.191Z"
   },
   {
    "duration": 42,
    "start_time": "2022-10-31T17:00:57.535Z"
   },
   {
    "duration": 25,
    "start_time": "2022-10-31T17:01:11.990Z"
   },
   {
    "duration": 20,
    "start_time": "2022-10-31T17:01:14.941Z"
   },
   {
    "duration": 7,
    "start_time": "2022-10-31T17:01:28.721Z"
   },
   {
    "duration": 27,
    "start_time": "2022-10-31T17:01:33.202Z"
   },
   {
    "duration": 17,
    "start_time": "2022-10-31T17:01:46.384Z"
   },
   {
    "duration": 67,
    "start_time": "2022-10-31T17:01:47.505Z"
   },
   {
    "duration": 3013,
    "start_time": "2022-10-31T17:02:06.615Z"
   },
   {
    "duration": 1256,
    "start_time": "2022-10-31T17:02:22.481Z"
   },
   {
    "duration": 18,
    "start_time": "2022-10-31T17:02:23.907Z"
   },
   {
    "duration": 109,
    "start_time": "2022-10-31T17:02:24.346Z"
   },
   {
    "duration": 21,
    "start_time": "2022-10-31T17:02:27.498Z"
   },
   {
    "duration": 2960,
    "start_time": "2022-10-31T17:02:30.362Z"
   },
   {
    "duration": 6,
    "start_time": "2022-10-31T17:02:38.335Z"
   },
   {
    "duration": 30,
    "start_time": "2022-10-31T17:02:47.968Z"
   },
   {
    "duration": 5,
    "start_time": "2022-10-31T17:02:59.037Z"
   },
   {
    "duration": 5,
    "start_time": "2022-10-31T17:03:04.448Z"
   },
   {
    "duration": 76,
    "start_time": "2022-10-31T17:03:09.642Z"
   },
   {
    "duration": 72,
    "start_time": "2022-10-31T17:03:18.896Z"
   },
   {
    "duration": 1910,
    "start_time": "2022-10-31T17:03:24.615Z"
   },
   {
    "duration": 29,
    "start_time": "2022-10-31T17:03:29.077Z"
   },
   {
    "duration": 27,
    "start_time": "2022-10-31T17:03:46.336Z"
   },
   {
    "duration": 31,
    "start_time": "2022-10-31T17:03:52.807Z"
   },
   {
    "duration": 4,
    "start_time": "2022-10-31T17:04:21.985Z"
   },
   {
    "duration": 874,
    "start_time": "2022-10-31T17:04:21.992Z"
   },
   {
    "duration": 15,
    "start_time": "2022-10-31T17:04:22.868Z"
   },
   {
    "duration": 119,
    "start_time": "2022-10-31T17:04:22.885Z"
   },
   {
    "duration": 20,
    "start_time": "2022-10-31T17:04:23.007Z"
   },
   {
    "duration": 2926,
    "start_time": "2022-10-31T17:04:23.029Z"
   },
   {
    "duration": 3197,
    "start_time": "2022-10-31T17:04:25.957Z"
   },
   {
    "duration": 31,
    "start_time": "2022-10-31T17:04:29.155Z"
   },
   {
    "duration": 34,
    "start_time": "2022-10-31T17:04:29.188Z"
   },
   {
    "duration": 192,
    "start_time": "2022-10-31T17:04:29.224Z"
   },
   {
    "duration": 113,
    "start_time": "2022-10-31T17:04:37.025Z"
   },
   {
    "duration": 25,
    "start_time": "2022-10-31T17:04:42.245Z"
   },
   {
    "duration": 60,
    "start_time": "2022-10-31T17:04:42.846Z"
   },
   {
    "duration": 3,
    "start_time": "2022-10-31T17:04:43.467Z"
   },
   {
    "duration": 16,
    "start_time": "2022-10-31T17:04:43.824Z"
   },
   {
    "duration": 28,
    "start_time": "2022-10-31T17:04:54.559Z"
   },
   {
    "duration": 71,
    "start_time": "2022-10-31T17:04:54.826Z"
   },
   {
    "duration": 3,
    "start_time": "2022-10-31T17:04:55.496Z"
   },
   {
    "duration": 38,
    "start_time": "2022-10-31T17:04:55.956Z"
   },
   {
    "duration": 150,
    "start_time": "2022-10-31T17:05:09.716Z"
   },
   {
    "duration": 113,
    "start_time": "2022-10-31T17:05:15.024Z"
   },
   {
    "duration": 84,
    "start_time": "2022-10-31T17:05:15.196Z"
   },
   {
    "duration": 4,
    "start_time": "2022-10-31T17:05:15.576Z"
   },
   {
    "duration": 565,
    "start_time": "2022-10-31T17:05:16.446Z"
   },
   {
    "duration": 68,
    "start_time": "2022-10-31T17:05:19.206Z"
   },
   {
    "duration": 11,
    "start_time": "2022-10-31T17:05:19.497Z"
   },
   {
    "duration": 878,
    "start_time": "2022-10-31T17:05:22.555Z"
   },
   {
    "duration": 55,
    "start_time": "2022-10-31T17:05:23.435Z"
   },
   {
    "duration": 11,
    "start_time": "2022-10-31T17:05:23.556Z"
   },
   {
    "duration": 727,
    "start_time": "2022-10-31T17:05:25.845Z"
   },
   {
    "duration": 168,
    "start_time": "2022-10-31T17:05:26.574Z"
   },
   {
    "duration": 6,
    "start_time": "2022-10-31T17:05:34.496Z"
   },
   {
    "duration": 202323,
    "start_time": "2022-10-31T17:05:35.336Z"
   },
   {
    "duration": 86,
    "start_time": "2022-10-31T17:31:02.485Z"
   },
   {
    "duration": 85,
    "start_time": "2022-10-31T17:31:17.514Z"
   },
   {
    "duration": 83,
    "start_time": "2022-10-31T17:31:21.606Z"
   },
   {
    "duration": 32,
    "start_time": "2022-10-31T17:31:47.485Z"
   },
   {
    "duration": 22,
    "start_time": "2022-10-31T17:31:58.785Z"
   },
   {
    "duration": 76,
    "start_time": "2022-10-31T17:31:59.340Z"
   },
   {
    "duration": 4,
    "start_time": "2022-10-31T17:32:00.603Z"
   },
   {
    "duration": 652,
    "start_time": "2022-10-31T17:32:00.608Z"
   },
   {
    "duration": 996,
    "start_time": "2022-10-31T17:32:02.526Z"
   },
   {
    "duration": 737,
    "start_time": "2022-10-31T17:32:03.525Z"
   },
   {
    "duration": 165,
    "start_time": "2022-10-31T17:32:04.264Z"
   },
   {
    "duration": 36,
    "start_time": "2022-10-31T17:32:07.583Z"
   },
   {
    "duration": 24,
    "start_time": "2022-10-31T17:32:15.565Z"
   },
   {
    "duration": 71,
    "start_time": "2022-10-31T17:32:15.895Z"
   },
   {
    "duration": 3,
    "start_time": "2022-10-31T17:32:17.845Z"
   },
   {
    "duration": 532,
    "start_time": "2022-10-31T17:32:18.814Z"
   },
   {
    "duration": 29,
    "start_time": "2022-10-31T17:32:20.535Z"
   },
   {
    "duration": 106,
    "start_time": "2022-10-31T17:32:21.035Z"
   },
   {
    "duration": 164,
    "start_time": "2022-10-31T17:32:21.245Z"
   },
   {
    "duration": 23,
    "start_time": "2022-10-31T17:32:25.505Z"
   },
   {
    "duration": 1512,
    "start_time": "2022-10-31T17:32:30.324Z"
   },
   {
    "duration": 21,
    "start_time": "2022-10-31T17:33:36.788Z"
   },
   {
    "duration": 72,
    "start_time": "2022-10-31T17:33:37.883Z"
   },
   {
    "duration": 138,
    "start_time": "2022-10-31T17:34:02.785Z"
   },
   {
    "duration": 2433,
    "start_time": "2022-10-31T17:34:09.014Z"
   },
   {
    "duration": 980,
    "start_time": "2022-10-31T17:34:33.489Z"
   },
   {
    "duration": 969,
    "start_time": "2022-10-31T17:34:47.510Z"
   },
   {
    "duration": 19,
    "start_time": "2022-10-31T17:35:03.625Z"
   },
   {
    "duration": 6,
    "start_time": "2022-10-31T17:35:08.585Z"
   },
   {
    "duration": 1542,
    "start_time": "2022-10-31T17:35:15.927Z"
   },
   {
    "duration": 4,
    "start_time": "2022-10-31T17:37:52.704Z"
   },
   {
    "duration": 866,
    "start_time": "2022-10-31T17:37:52.710Z"
   },
   {
    "duration": 14,
    "start_time": "2022-10-31T17:37:53.578Z"
   },
   {
    "duration": 121,
    "start_time": "2022-10-31T17:37:53.594Z"
   },
   {
    "duration": 19,
    "start_time": "2022-10-31T17:37:53.717Z"
   },
   {
    "duration": 2883,
    "start_time": "2022-10-31T17:37:53.738Z"
   },
   {
    "duration": 3227,
    "start_time": "2022-10-31T17:37:56.622Z"
   },
   {
    "duration": 31,
    "start_time": "2022-10-31T17:37:59.851Z"
   },
   {
    "duration": 36,
    "start_time": "2022-10-31T17:37:59.883Z"
   },
   {
    "duration": 1948,
    "start_time": "2022-10-31T17:37:59.921Z"
   },
   {
    "duration": 109,
    "start_time": "2022-10-31T17:38:01.871Z"
   },
   {
    "duration": 5,
    "start_time": "2022-10-31T17:38:05.469Z"
   },
   {
    "duration": 64,
    "start_time": "2022-10-31T17:38:08.861Z"
   },
   {
    "duration": 74,
    "start_time": "2022-10-31T17:38:36.829Z"
   },
   {
    "duration": 66,
    "start_time": "2022-10-31T17:38:42.002Z"
   },
   {
    "duration": 64,
    "start_time": "2022-10-31T17:38:49.630Z"
   },
   {
    "duration": 62,
    "start_time": "2022-10-31T17:38:54.943Z"
   },
   {
    "duration": 81,
    "start_time": "2022-10-31T17:39:01.515Z"
   },
   {
    "duration": 6,
    "start_time": "2022-10-31T17:39:22.984Z"
   },
   {
    "duration": 27,
    "start_time": "2022-10-31T17:39:27.324Z"
   },
   {
    "duration": 4,
    "start_time": "2022-10-31T17:39:32.735Z"
   },
   {
    "duration": 871,
    "start_time": "2022-10-31T17:39:32.742Z"
   },
   {
    "duration": 13,
    "start_time": "2022-10-31T17:39:33.614Z"
   },
   {
    "duration": 128,
    "start_time": "2022-10-31T17:39:33.629Z"
   },
   {
    "duration": 19,
    "start_time": "2022-10-31T17:39:33.759Z"
   },
   {
    "duration": 2832,
    "start_time": "2022-10-31T17:39:33.780Z"
   },
   {
    "duration": 3235,
    "start_time": "2022-10-31T17:39:36.614Z"
   },
   {
    "duration": 32,
    "start_time": "2022-10-31T17:39:39.850Z"
   },
   {
    "duration": 33,
    "start_time": "2022-10-31T17:39:39.884Z"
   },
   {
    "duration": 68,
    "start_time": "2022-10-31T17:39:47.094Z"
   },
   {
    "duration": 120,
    "start_time": "2022-10-31T17:44:48.433Z"
   },
   {
    "duration": 122,
    "start_time": "2022-10-31T17:50:58.885Z"
   },
   {
    "duration": 16,
    "start_time": "2022-10-31T17:51:25.412Z"
   },
   {
    "duration": 102,
    "start_time": "2022-10-31T17:51:30.000Z"
   },
   {
    "duration": 11,
    "start_time": "2022-10-31T17:51:40.473Z"
   },
   {
    "duration": 848,
    "start_time": "2022-10-31T17:52:05.291Z"
   },
   {
    "duration": 8,
    "start_time": "2022-10-31T17:52:09.352Z"
   },
   {
    "duration": 94,
    "start_time": "2022-10-31T17:52:16.203Z"
   },
   {
    "duration": 5,
    "start_time": "2022-10-31T17:53:31.999Z"
   },
   {
    "duration": 1030,
    "start_time": "2022-10-31T17:53:32.012Z"
   },
   {
    "duration": 21,
    "start_time": "2022-10-31T17:53:33.045Z"
   },
   {
    "duration": 147,
    "start_time": "2022-10-31T17:53:33.069Z"
   },
   {
    "duration": 42,
    "start_time": "2022-10-31T17:53:33.218Z"
   },
   {
    "duration": 3151,
    "start_time": "2022-10-31T17:53:33.265Z"
   },
   {
    "duration": 3462,
    "start_time": "2022-10-31T17:53:36.418Z"
   },
   {
    "duration": 138,
    "start_time": "2022-10-31T17:53:39.882Z"
   },
   {
    "duration": 35,
    "start_time": "2022-10-31T17:53:40.022Z"
   },
   {
    "duration": 15,
    "start_time": "2022-10-31T18:00:48.174Z"
   },
   {
    "duration": 16,
    "start_time": "2022-10-31T18:01:00.914Z"
   },
   {
    "duration": 112,
    "start_time": "2022-10-31T18:01:09.204Z"
   },
   {
    "duration": 274,
    "start_time": "2022-10-31T18:01:20.473Z"
   },
   {
    "duration": 11,
    "start_time": "2022-10-31T18:04:50.465Z"
   },
   {
    "duration": 12,
    "start_time": "2022-10-31T18:04:55.064Z"
   },
   {
    "duration": 87,
    "start_time": "2022-10-31T18:04:58.394Z"
   },
   {
    "duration": 6,
    "start_time": "2022-10-31T18:05:02.594Z"
   },
   {
    "duration": 11,
    "start_time": "2022-10-31T18:05:11.114Z"
   },
   {
    "duration": 15,
    "start_time": "2022-10-31T18:05:13.355Z"
   },
   {
    "duration": 82,
    "start_time": "2022-10-31T18:05:16.536Z"
   },
   {
    "duration": 16,
    "start_time": "2022-10-31T18:05:17.514Z"
   },
   {
    "duration": 14,
    "start_time": "2022-10-31T18:05:20.403Z"
   },
   {
    "duration": 16,
    "start_time": "2022-10-31T18:05:21.394Z"
   },
   {
    "duration": 17,
    "start_time": "2022-10-31T18:05:27.984Z"
   },
   {
    "duration": 31,
    "start_time": "2022-10-31T18:05:32.424Z"
   },
   {
    "duration": 13,
    "start_time": "2022-10-31T18:06:07.685Z"
   },
   {
    "duration": 10,
    "start_time": "2022-10-31T18:06:10.565Z"
   },
   {
    "duration": 349,
    "start_time": "2022-10-31T18:06:13.056Z"
   },
   {
    "duration": 13,
    "start_time": "2022-10-31T18:06:21.448Z"
   },
   {
    "duration": 29,
    "start_time": "2022-10-31T18:06:23.705Z"
   },
   {
    "duration": 15,
    "start_time": "2022-10-31T18:06:28.893Z"
   },
   {
    "duration": 111,
    "start_time": "2022-10-31T18:07:05.935Z"
   },
   {
    "duration": 50,
    "start_time": "2022-10-31T18:07:18.937Z"
   },
   {
    "duration": 60,
    "start_time": "2022-10-31T18:07:23.854Z"
   },
   {
    "duration": 67,
    "start_time": "2022-10-31T18:07:25.355Z"
   },
   {
    "duration": 12,
    "start_time": "2022-10-31T18:07:43.835Z"
   },
   {
    "duration": 115,
    "start_time": "2022-10-31T18:07:53.335Z"
   },
   {
    "duration": 11,
    "start_time": "2022-10-31T18:08:07.625Z"
   },
   {
    "duration": 5,
    "start_time": "2022-10-31T18:08:16.073Z"
   },
   {
    "duration": 65,
    "start_time": "2022-10-31T18:08:18.773Z"
   },
   {
    "duration": 66,
    "start_time": "2022-10-31T18:08:31.263Z"
   },
   {
    "duration": 5,
    "start_time": "2022-10-31T18:08:47.305Z"
   },
   {
    "duration": 6,
    "start_time": "2022-10-31T18:09:42.565Z"
   },
   {
    "duration": 931,
    "start_time": "2022-10-31T18:09:42.573Z"
   },
   {
    "duration": 15,
    "start_time": "2022-10-31T18:09:43.507Z"
   },
   {
    "duration": 124,
    "start_time": "2022-10-31T18:09:43.524Z"
   },
   {
    "duration": 23,
    "start_time": "2022-10-31T18:09:43.653Z"
   },
   {
    "duration": 3085,
    "start_time": "2022-10-31T18:09:43.678Z"
   },
   {
    "duration": 3323,
    "start_time": "2022-10-31T18:09:46.765Z"
   },
   {
    "duration": 136,
    "start_time": "2022-10-31T18:09:50.091Z"
   },
   {
    "duration": 50,
    "start_time": "2022-10-31T18:09:56.255Z"
   },
   {
    "duration": 322,
    "start_time": "2022-10-31T18:10:00.322Z"
   },
   {
    "duration": 9,
    "start_time": "2022-10-31T18:10:04.155Z"
   },
   {
    "duration": 60,
    "start_time": "2022-10-31T18:10:07.625Z"
   },
   {
    "duration": 15,
    "start_time": "2022-10-31T18:10:15.015Z"
   },
   {
    "duration": 16,
    "start_time": "2022-10-31T18:10:33.495Z"
   },
   {
    "duration": 29,
    "start_time": "2022-10-31T18:10:42.045Z"
   },
   {
    "duration": 348,
    "start_time": "2022-10-31T18:10:50.695Z"
   },
   {
    "duration": 17,
    "start_time": "2022-10-31T18:10:52.933Z"
   },
   {
    "duration": 30,
    "start_time": "2022-10-31T18:10:55.833Z"
   },
   {
    "duration": 16,
    "start_time": "2022-10-31T18:11:12.406Z"
   },
   {
    "duration": 264,
    "start_time": "2022-10-31T18:11:22.745Z"
   },
   {
    "duration": 15,
    "start_time": "2022-10-31T18:11:25.385Z"
   },
   {
    "duration": 31,
    "start_time": "2022-10-31T18:11:26.395Z"
   },
   {
    "duration": 5,
    "start_time": "2022-10-31T18:12:05.887Z"
   },
   {
    "duration": 854,
    "start_time": "2022-10-31T18:12:05.895Z"
   },
   {
    "duration": 17,
    "start_time": "2022-10-31T18:12:06.750Z"
   },
   {
    "duration": 132,
    "start_time": "2022-10-31T18:12:06.769Z"
   },
   {
    "duration": 19,
    "start_time": "2022-10-31T18:12:06.903Z"
   },
   {
    "duration": 2924,
    "start_time": "2022-10-31T18:12:06.924Z"
   },
   {
    "duration": 3380,
    "start_time": "2022-10-31T18:12:09.850Z"
   },
   {
    "duration": 278,
    "start_time": "2022-10-31T18:12:14.528Z"
   },
   {
    "duration": 31,
    "start_time": "2022-10-31T18:12:34.554Z"
   },
   {
    "duration": 261,
    "start_time": "2022-10-31T18:12:35.944Z"
   },
   {
    "duration": 32,
    "start_time": "2022-10-31T18:12:39.314Z"
   },
   {
    "duration": 57,
    "start_time": "2022-10-31T18:30:20.773Z"
   },
   {
    "duration": 1567,
    "start_time": "2022-11-01T06:38:18.876Z"
   },
   {
    "duration": 1207,
    "start_time": "2022-11-01T06:38:20.445Z"
   },
   {
    "duration": 17,
    "start_time": "2022-11-01T06:38:22.329Z"
   },
   {
    "duration": 120,
    "start_time": "2022-11-01T06:38:25.882Z"
   },
   {
    "duration": 22,
    "start_time": "2022-11-01T06:38:34.985Z"
   },
   {
    "duration": 2719,
    "start_time": "2022-11-01T06:38:35.689Z"
   },
   {
    "duration": 3012,
    "start_time": "2022-11-01T06:38:38.410Z"
   },
   {
    "duration": 281,
    "start_time": "2022-11-01T06:38:41.424Z"
   },
   {
    "duration": 130,
    "start_time": "2022-11-01T06:39:00.585Z"
   },
   {
    "duration": 883,
    "start_time": "2022-11-01T06:40:10.474Z"
   },
   {
    "duration": 134,
    "start_time": "2022-11-01T06:40:11.359Z"
   },
   {
    "duration": 223,
    "start_time": "2022-11-01T06:45:16.698Z"
   },
   {
    "duration": 100,
    "start_time": "2022-11-01T06:45:17.226Z"
   },
   {
    "duration": 125,
    "start_time": "2022-11-01T06:45:22.442Z"
   },
   {
    "duration": 67,
    "start_time": "2022-11-01T06:46:19.048Z"
   },
   {
    "duration": 4,
    "start_time": "2022-11-01T06:46:37.720Z"
   },
   {
    "duration": 3,
    "start_time": "2022-11-01T06:46:38.729Z"
   },
   {
    "duration": 337,
    "start_time": "2022-11-01T06:46:41.001Z"
   },
   {
    "duration": 39,
    "start_time": "2022-11-01T06:46:44.457Z"
   },
   {
    "duration": 8,
    "start_time": "2022-11-01T06:46:46.937Z"
   },
   {
    "duration": 135,
    "start_time": "2022-11-01T06:47:12.664Z"
   },
   {
    "duration": 53,
    "start_time": "2022-11-01T06:47:21.529Z"
   },
   {
    "duration": 8,
    "start_time": "2022-11-01T06:47:25.354Z"
   },
   {
    "duration": 39,
    "start_time": "2022-11-01T06:47:36.009Z"
   },
   {
    "duration": 28,
    "start_time": "2022-11-01T06:52:08.932Z"
   },
   {
    "duration": 16,
    "start_time": "2022-11-01T06:52:10.184Z"
   },
   {
    "duration": 423,
    "start_time": "2022-11-01T06:52:11.147Z"
   },
   {
    "duration": 303,
    "start_time": "2022-11-01T06:52:11.850Z"
   },
   {
    "duration": 32,
    "start_time": "2022-11-01T06:53:51.865Z"
   },
   {
    "duration": 31,
    "start_time": "2022-11-01T06:54:13.968Z"
   },
   {
    "duration": 39,
    "start_time": "2022-11-01T06:55:15.977Z"
   },
   {
    "duration": 41,
    "start_time": "2022-11-01T06:55:33.392Z"
   },
   {
    "duration": 107,
    "start_time": "2022-11-01T06:55:53.434Z"
   },
   {
    "duration": 117,
    "start_time": "2022-11-01T06:55:56.122Z"
   },
   {
    "duration": 30,
    "start_time": "2022-11-01T06:56:43.353Z"
   },
   {
    "duration": 113,
    "start_time": "2022-11-01T06:56:43.960Z"
   },
   {
    "duration": 9,
    "start_time": "2022-11-01T06:56:54.538Z"
   },
   {
    "duration": 20,
    "start_time": "2022-11-01T06:57:34.137Z"
   },
   {
    "duration": 112,
    "start_time": "2022-11-01T06:57:36.792Z"
   },
   {
    "duration": 10,
    "start_time": "2022-11-01T07:07:47.689Z"
   },
   {
    "duration": 8,
    "start_time": "2022-11-01T07:07:49.624Z"
   },
   {
    "duration": 639,
    "start_time": "2022-11-01T07:07:56.025Z"
   },
   {
    "duration": 590,
    "start_time": "2022-11-01T07:07:58.744Z"
   },
   {
    "duration": 162,
    "start_time": "2022-11-01T07:08:00.474Z"
   },
   {
    "duration": 137,
    "start_time": "2022-11-01T07:08:06.825Z"
   },
   {
    "duration": 79,
    "start_time": "2022-11-01T07:08:10.777Z"
   },
   {
    "duration": 29,
    "start_time": "2022-11-01T07:08:12.185Z"
   },
   {
    "duration": 27,
    "start_time": "2022-11-01T07:08:13.513Z"
   },
   {
    "duration": 8,
    "start_time": "2022-11-01T07:09:15.643Z"
   },
   {
    "duration": 170887,
    "start_time": "2022-11-01T07:09:17.657Z"
   },
   {
    "duration": 10,
    "start_time": "2022-11-01T07:16:13.322Z"
   },
   {
    "duration": 5,
    "start_time": "2022-11-01T07:16:37.264Z"
   },
   {
    "duration": 35129,
    "start_time": "2022-11-01T07:16:59.514Z"
   },
   {
    "duration": 508,
    "start_time": "2022-11-01T07:19:19.693Z"
   },
   {
    "duration": 102,
    "start_time": "2022-11-01T07:21:01.385Z"
   },
   {
    "duration": 12046,
    "start_time": "2022-11-01T07:21:51.098Z"
   },
   {
    "duration": 11757,
    "start_time": "2022-11-01T07:29:28.674Z"
   },
   {
    "duration": 4,
    "start_time": "2022-11-01T07:36:53.415Z"
   },
   {
    "duration": 33863,
    "start_time": "2022-11-01T07:40:31.077Z"
   },
   {
    "duration": 47927,
    "start_time": "2022-11-01T07:41:22.828Z"
   },
   {
    "duration": 41931,
    "start_time": "2022-11-01T07:42:26.517Z"
   },
   {
    "duration": 113,
    "start_time": "2022-11-01T08:14:09.364Z"
   },
   {
    "duration": 11,
    "start_time": "2022-11-01T08:18:06.323Z"
   },
   {
    "duration": 136,
    "start_time": "2022-11-01T08:18:10.956Z"
   },
   {
    "duration": 13,
    "start_time": "2022-11-01T08:18:14.211Z"
   },
   {
    "duration": 2183,
    "start_time": "2022-11-01T08:19:01.845Z"
   },
   {
    "duration": 1874,
    "start_time": "2022-11-01T12:11:57.184Z"
   },
   {
    "duration": 214126,
    "start_time": "2022-11-01T12:15:14.815Z"
   },
   {
    "duration": 4,
    "start_time": "2022-11-01T12:31:49.575Z"
   },
   {
    "duration": 1432,
    "start_time": "2022-11-01T12:35:31.434Z"
   },
   {
    "duration": 979,
    "start_time": "2022-11-01T12:35:32.867Z"
   },
   {
    "duration": 17,
    "start_time": "2022-11-01T12:35:34.361Z"
   },
   {
    "duration": 122,
    "start_time": "2022-11-01T12:35:35.017Z"
   },
   {
    "duration": 23,
    "start_time": "2022-11-01T12:35:36.409Z"
   },
   {
    "duration": 2855,
    "start_time": "2022-11-01T12:35:37.162Z"
   },
   {
    "duration": 3157,
    "start_time": "2022-11-01T12:35:40.018Z"
   },
   {
    "duration": 837,
    "start_time": "2022-11-01T12:35:43.176Z"
   },
   {
    "duration": 125,
    "start_time": "2022-11-01T12:35:44.015Z"
   },
   {
    "duration": 223,
    "start_time": "2022-11-01T12:35:46.635Z"
   },
   {
    "duration": 120,
    "start_time": "2022-11-01T12:35:49.354Z"
   },
   {
    "duration": 4,
    "start_time": "2022-11-01T12:36:03.753Z"
   },
   {
    "duration": 3,
    "start_time": "2022-11-01T12:36:04.472Z"
   },
   {
    "duration": 334,
    "start_time": "2022-11-01T12:36:05.353Z"
   },
   {
    "duration": 36,
    "start_time": "2022-11-01T12:36:06.441Z"
   },
   {
    "duration": 9,
    "start_time": "2022-11-01T12:36:07.897Z"
   },
   {
    "duration": 55,
    "start_time": "2022-11-01T12:36:09.466Z"
   },
   {
    "duration": 7,
    "start_time": "2022-11-01T12:36:15.130Z"
   },
   {
    "duration": 19,
    "start_time": "2022-11-01T12:36:17.114Z"
   },
   {
    "duration": 412,
    "start_time": "2022-11-01T12:36:18.138Z"
   },
   {
    "duration": 340,
    "start_time": "2022-11-01T12:36:19.834Z"
   },
   {
    "duration": 43,
    "start_time": "2022-11-01T12:36:25.224Z"
   },
   {
    "duration": 28,
    "start_time": "2022-11-01T12:36:26.632Z"
   },
   {
    "duration": 16,
    "start_time": "2022-11-01T12:36:32.617Z"
   },
   {
    "duration": 89,
    "start_time": "2022-11-01T12:36:43.065Z"
   },
   {
    "duration": 697,
    "start_time": "2022-11-01T12:36:54.331Z"
   },
   {
    "duration": 52,
    "start_time": "2022-11-01T12:38:41.596Z"
   },
   {
    "duration": 819,
    "start_time": "2022-11-01T12:38:58.795Z"
   },
   {
    "duration": 620,
    "start_time": "2022-11-01T12:39:00.042Z"
   },
   {
    "duration": 149,
    "start_time": "2022-11-01T12:39:00.827Z"
   },
   {
    "duration": 83,
    "start_time": "2022-11-01T12:39:04.585Z"
   },
   {
    "duration": 32,
    "start_time": "2022-11-01T12:39:05.323Z"
   },
   {
    "duration": 27,
    "start_time": "2022-11-01T12:39:06.092Z"
   },
   {
    "duration": 33185,
    "start_time": "2022-11-01T12:39:15.772Z"
   },
   {
    "duration": 1860,
    "start_time": "2022-11-02T08:02:42.816Z"
   },
   {
    "duration": 3233,
    "start_time": "2022-11-02T08:02:44.678Z"
   },
   {
    "duration": 31,
    "start_time": "2022-11-02T08:02:47.914Z"
   },
   {
    "duration": 132,
    "start_time": "2022-11-02T08:02:47.948Z"
   },
   {
    "duration": 28,
    "start_time": "2022-11-02T08:02:54.863Z"
   },
   {
    "duration": 3109,
    "start_time": "2022-11-02T08:02:55.327Z"
   },
   {
    "duration": 3485,
    "start_time": "2022-11-02T08:02:58.438Z"
   },
   {
    "duration": 967,
    "start_time": "2022-11-02T08:03:01.925Z"
   },
   {
    "duration": 116,
    "start_time": "2022-11-02T08:03:02.895Z"
   },
   {
    "duration": 218,
    "start_time": "2022-11-02T08:03:06.382Z"
   },
   {
    "duration": 127,
    "start_time": "2022-11-02T08:03:06.847Z"
   },
   {
    "duration": 4,
    "start_time": "2022-11-02T08:03:11.902Z"
   },
   {
    "duration": 3,
    "start_time": "2022-11-02T08:03:12.539Z"
   },
   {
    "duration": 301,
    "start_time": "2022-11-02T08:03:13.007Z"
   },
   {
    "duration": 31,
    "start_time": "2022-11-02T08:03:13.871Z"
   },
   {
    "duration": 9,
    "start_time": "2022-11-02T08:03:15.087Z"
   },
   {
    "duration": 56,
    "start_time": "2022-11-02T08:03:16.254Z"
   },
   {
    "duration": 11,
    "start_time": "2022-11-02T08:03:17.968Z"
   },
   {
    "duration": 19,
    "start_time": "2022-11-02T08:03:19.145Z"
   },
   {
    "duration": 453,
    "start_time": "2022-11-02T08:03:19.790Z"
   },
   {
    "duration": 370,
    "start_time": "2022-11-02T08:03:20.479Z"
   },
   {
    "duration": 44,
    "start_time": "2022-11-02T08:03:23.535Z"
   },
   {
    "duration": 29,
    "start_time": "2022-11-02T08:03:26.270Z"
   },
   {
    "duration": 16,
    "start_time": "2022-11-02T08:03:35.134Z"
   },
   {
    "duration": 86,
    "start_time": "2022-11-02T08:03:36.430Z"
   },
   {
    "duration": 946,
    "start_time": "2022-11-02T08:03:40.126Z"
   },
   {
    "duration": 681,
    "start_time": "2022-11-02T08:03:41.150Z"
   },
   {
    "duration": 173,
    "start_time": "2022-11-02T08:03:41.834Z"
   },
   {
    "duration": 91,
    "start_time": "2022-11-02T08:03:42.863Z"
   },
   {
    "duration": 33,
    "start_time": "2022-11-02T08:03:43.582Z"
   },
   {
    "duration": 29,
    "start_time": "2022-11-02T08:03:44.367Z"
   },
   {
    "duration": 39885,
    "start_time": "2022-11-02T08:03:45.054Z"
   },
   {
    "duration": 93,
    "start_time": "2022-11-02T08:04:24.942Z"
   },
   {
    "duration": 167902,
    "start_time": "2022-11-02T08:04:56.943Z"
   },
   {
    "duration": 74,
    "start_time": "2022-11-02T08:09:21.025Z"
   },
   {
    "duration": 525,
    "start_time": "2022-11-02T08:09:29.104Z"
   },
   {
    "duration": 98,
    "start_time": "2022-11-02T08:09:30.111Z"
   },
   {
    "duration": 13061,
    "start_time": "2022-11-02T08:09:35.935Z"
   },
   {
    "duration": 163927,
    "start_time": "2022-11-02T08:12:40.829Z"
   },
   {
    "duration": 3,
    "start_time": "2022-11-02T08:15:48.672Z"
   },
   {
    "duration": 145,
    "start_time": "2022-11-02T08:15:49.345Z"
   },
   {
    "duration": 84,
    "start_time": "2022-11-02T08:52:40.266Z"
   },
   {
    "duration": 25,
    "start_time": "2022-11-02T08:53:00.802Z"
   },
   {
    "duration": 2770,
    "start_time": "2022-11-02T08:53:43.155Z"
   },
   {
    "duration": 15,
    "start_time": "2022-11-02T09:00:29.427Z"
   },
   {
    "duration": 263667,
    "start_time": "2022-11-02T09:06:30.291Z"
   },
   {
    "duration": 262118,
    "start_time": "2022-11-02T09:11:19.106Z"
   },
   {
    "duration": 266866,
    "start_time": "2022-11-02T09:19:21.175Z"
   },
   {
    "duration": 86,
    "start_time": "2022-11-02T09:24:31.107Z"
   },
   {
    "duration": 14,
    "start_time": "2022-11-02T09:25:12.018Z"
   },
   {
    "duration": 42199,
    "start_time": "2022-11-02T09:27:47.369Z"
   },
   {
    "duration": 8,
    "start_time": "2022-11-02T09:28:42.242Z"
   },
   {
    "duration": 2066,
    "start_time": "2022-11-02T10:11:43.093Z"
   },
   {
    "duration": 8,
    "start_time": "2022-11-02T10:11:49.112Z"
   },
   {
    "duration": 9,
    "start_time": "2022-11-02T10:12:31.723Z"
   },
   {
    "duration": 45520,
    "start_time": "2022-11-02T10:15:56.917Z"
   },
   {
    "duration": 811,
    "start_time": "2022-11-02T10:17:50.326Z"
   },
   {
    "duration": 3002,
    "start_time": "2022-11-02T14:17:24.200Z"
   },
   {
    "duration": 1113,
    "start_time": "2022-11-02T14:17:27.204Z"
   },
   {
    "duration": 15,
    "start_time": "2022-11-02T14:17:28.319Z"
   },
   {
    "duration": 98,
    "start_time": "2022-11-02T14:17:28.336Z"
   },
   {
    "duration": 17,
    "start_time": "2022-11-02T14:17:28.436Z"
   },
   {
    "duration": 2517,
    "start_time": "2022-11-02T14:17:28.454Z"
   },
   {
    "duration": 2867,
    "start_time": "2022-11-02T14:17:30.972Z"
   },
   {
    "duration": 815,
    "start_time": "2022-11-02T14:17:33.841Z"
   },
   {
    "duration": 92,
    "start_time": "2022-11-02T14:17:34.657Z"
   },
   {
    "duration": 194,
    "start_time": "2022-11-02T14:17:34.750Z"
   },
   {
    "duration": 93,
    "start_time": "2022-11-02T14:17:34.945Z"
   },
   {
    "duration": 3,
    "start_time": "2022-11-02T14:17:35.040Z"
   },
   {
    "duration": 5,
    "start_time": "2022-11-02T14:17:35.044Z"
   },
   {
    "duration": 287,
    "start_time": "2022-11-02T14:17:35.051Z"
   },
   {
    "duration": 26,
    "start_time": "2022-11-02T14:17:35.339Z"
   },
   {
    "duration": 29,
    "start_time": "2022-11-02T14:17:35.366Z"
   },
   {
    "duration": 57,
    "start_time": "2022-11-02T14:17:35.397Z"
   },
   {
    "duration": 7,
    "start_time": "2022-11-02T14:17:35.455Z"
   },
   {
    "duration": 30,
    "start_time": "2022-11-02T14:17:35.464Z"
   },
   {
    "duration": 335,
    "start_time": "2022-11-02T14:17:35.496Z"
   },
   {
    "duration": 317,
    "start_time": "2022-11-02T14:17:35.833Z"
   },
   {
    "duration": 48,
    "start_time": "2022-11-02T14:17:36.152Z"
   },
   {
    "duration": 26,
    "start_time": "2022-11-02T14:17:36.202Z"
   },
   {
    "duration": 15,
    "start_time": "2022-11-02T14:17:36.230Z"
   },
   {
    "duration": 72,
    "start_time": "2022-11-02T14:17:36.247Z"
   },
   {
    "duration": 579,
    "start_time": "2022-11-02T14:17:36.321Z"
   },
   {
    "duration": 571,
    "start_time": "2022-11-02T14:17:36.902Z"
   },
   {
    "duration": 120,
    "start_time": "2022-11-02T14:17:37.475Z"
   },
   {
    "duration": 35,
    "start_time": "2022-11-02T14:17:42.017Z"
   },
   {
    "duration": 5,
    "start_time": "2022-11-02T14:17:48.219Z"
   },
   {
    "duration": 122713,
    "start_time": "2022-11-02T14:17:48.578Z"
   },
   {
    "duration": 8,
    "start_time": "2022-11-02T14:22:31.524Z"
   },
   {
    "duration": 3,
    "start_time": "2022-11-02T14:22:33.492Z"
   },
   {
    "duration": 7,
    "start_time": "2022-11-02T14:22:36.972Z"
   },
   {
    "duration": 5,
    "start_time": "2022-11-02T14:22:51.559Z"
   },
   {
    "duration": 21845,
    "start_time": "2022-11-02T14:22:51.961Z"
   },
   {
    "duration": 10501,
    "start_time": "2022-11-02T14:23:15.203Z"
   },
   {
    "duration": 11508,
    "start_time": "2022-11-02T14:23:33.321Z"
   },
   {
    "duration": 18201,
    "start_time": "2022-11-02T14:23:47.103Z"
   },
   {
    "duration": 9,
    "start_time": "2022-11-02T14:24:16.096Z"
   },
   {
    "duration": 7,
    "start_time": "2022-11-02T14:24:18.928Z"
   },
   {
    "duration": 21510,
    "start_time": "2022-11-02T14:24:20.091Z"
   },
   {
    "duration": 5,
    "start_time": "2022-11-02T14:24:52.318Z"
   },
   {
    "duration": 405,
    "start_time": "2022-11-02T14:24:55.823Z"
   },
   {
    "duration": 5,
    "start_time": "2022-11-02T14:25:15.828Z"
   },
   {
    "duration": 589,
    "start_time": "2022-11-02T14:25:16.263Z"
   },
   {
    "duration": 5,
    "start_time": "2022-11-02T14:25:43.630Z"
   },
   {
    "duration": 2867,
    "start_time": "2022-11-02T14:26:03.221Z"
   },
   {
    "duration": 1096,
    "start_time": "2022-11-02T14:26:06.089Z"
   },
   {
    "duration": 21,
    "start_time": "2022-11-02T14:26:07.186Z"
   },
   {
    "duration": 98,
    "start_time": "2022-11-02T14:26:07.208Z"
   },
   {
    "duration": 19,
    "start_time": "2022-11-02T14:26:07.308Z"
   },
   {
    "duration": 2538,
    "start_time": "2022-11-02T14:26:07.329Z"
   },
   {
    "duration": 2854,
    "start_time": "2022-11-02T14:26:09.868Z"
   },
   {
    "duration": 764,
    "start_time": "2022-11-02T14:26:12.723Z"
   },
   {
    "duration": 95,
    "start_time": "2022-11-02T14:26:13.489Z"
   },
   {
    "duration": 190,
    "start_time": "2022-11-02T14:26:13.585Z"
   },
   {
    "duration": 91,
    "start_time": "2022-11-02T14:26:13.777Z"
   },
   {
    "duration": 17,
    "start_time": "2022-11-02T14:26:13.870Z"
   },
   {
    "duration": 9,
    "start_time": "2022-11-02T14:26:13.889Z"
   },
   {
    "duration": 260,
    "start_time": "2022-11-02T14:26:13.900Z"
   },
   {
    "duration": 39,
    "start_time": "2022-11-02T14:26:14.162Z"
   },
   {
    "duration": 13,
    "start_time": "2022-11-02T14:26:14.202Z"
   },
   {
    "duration": 54,
    "start_time": "2022-11-02T14:26:14.216Z"
   },
   {
    "duration": 7,
    "start_time": "2022-11-02T14:26:14.271Z"
   },
   {
    "duration": 33,
    "start_time": "2022-11-02T14:26:14.280Z"
   },
   {
    "duration": 364,
    "start_time": "2022-11-02T14:26:14.315Z"
   },
   {
    "duration": 298,
    "start_time": "2022-11-02T14:26:14.681Z"
   },
   {
    "duration": 43,
    "start_time": "2022-11-02T14:26:14.981Z"
   },
   {
    "duration": 29,
    "start_time": "2022-11-02T14:26:15.026Z"
   },
   {
    "duration": 16,
    "start_time": "2022-11-02T14:26:15.056Z"
   },
   {
    "duration": 90,
    "start_time": "2022-11-02T14:26:15.073Z"
   },
   {
    "duration": 600,
    "start_time": "2022-11-02T14:26:15.164Z"
   },
   {
    "duration": 581,
    "start_time": "2022-11-02T14:26:15.766Z"
   },
   {
    "duration": 124,
    "start_time": "2022-11-02T14:26:16.349Z"
   },
   {
    "duration": 6,
    "start_time": "2022-11-02T14:29:18.860Z"
   },
   {
    "duration": 508,
    "start_time": "2022-11-02T14:29:20.148Z"
   },
   {
    "duration": 6,
    "start_time": "2022-11-02T14:29:36.821Z"
   },
   {
    "duration": 410,
    "start_time": "2022-11-02T14:29:37.380Z"
   },
   {
    "duration": 5,
    "start_time": "2022-11-02T14:29:49.710Z"
   },
   {
    "duration": 402,
    "start_time": "2022-11-02T14:29:50.980Z"
   },
   {
    "duration": 30,
    "start_time": "2022-11-02T14:29:58.640Z"
   },
   {
    "duration": 5,
    "start_time": "2022-11-02T14:30:19.139Z"
   },
   {
    "duration": 9107,
    "start_time": "2022-11-02T14:30:19.599Z"
   },
   {
    "duration": 5,
    "start_time": "2022-11-02T14:30:56.599Z"
   },
   {
    "duration": 7,
    "start_time": "2022-11-02T14:31:01.749Z"
   },
   {
    "duration": 580,
    "start_time": "2022-11-02T14:31:02.098Z"
   },
   {
    "duration": 6,
    "start_time": "2022-11-02T14:31:12.599Z"
   },
   {
    "duration": 624,
    "start_time": "2022-11-02T14:31:12.821Z"
   },
   {
    "duration": 6,
    "start_time": "2022-11-02T14:31:38.087Z"
   },
   {
    "duration": 9,
    "start_time": "2022-11-02T14:31:43.506Z"
   },
   {
    "duration": 39,
    "start_time": "2022-11-02T14:31:43.795Z"
   },
   {
    "duration": 2669,
    "start_time": "2022-11-02T14:31:51.452Z"
   },
   {
    "duration": 1162,
    "start_time": "2022-11-02T14:31:54.124Z"
   },
   {
    "duration": 16,
    "start_time": "2022-11-02T14:31:55.287Z"
   },
   {
    "duration": 106,
    "start_time": "2022-11-02T14:31:55.304Z"
   },
   {
    "duration": 22,
    "start_time": "2022-11-02T14:31:55.412Z"
   },
   {
    "duration": 2595,
    "start_time": "2022-11-02T14:31:55.436Z"
   },
   {
    "duration": 2933,
    "start_time": "2022-11-02T14:31:58.033Z"
   },
   {
    "duration": 781,
    "start_time": "2022-11-02T14:32:00.968Z"
   },
   {
    "duration": 93,
    "start_time": "2022-11-02T14:32:01.751Z"
   },
   {
    "duration": 199,
    "start_time": "2022-11-02T14:32:01.845Z"
   },
   {
    "duration": 98,
    "start_time": "2022-11-02T14:32:02.045Z"
   },
   {
    "duration": 4,
    "start_time": "2022-11-02T14:32:02.144Z"
   },
   {
    "duration": 6,
    "start_time": "2022-11-02T14:32:02.149Z"
   },
   {
    "duration": 260,
    "start_time": "2022-11-02T14:32:02.157Z"
   },
   {
    "duration": 26,
    "start_time": "2022-11-02T14:32:02.419Z"
   },
   {
    "duration": 9,
    "start_time": "2022-11-02T14:32:02.447Z"
   },
   {
    "duration": 67,
    "start_time": "2022-11-02T14:32:02.458Z"
   },
   {
    "duration": 7,
    "start_time": "2022-11-02T14:32:02.527Z"
   },
   {
    "duration": 15,
    "start_time": "2022-11-02T14:32:02.535Z"
   },
   {
    "duration": 353,
    "start_time": "2022-11-02T14:32:02.552Z"
   },
   {
    "duration": 303,
    "start_time": "2022-11-02T14:32:02.906Z"
   },
   {
    "duration": 42,
    "start_time": "2022-11-02T14:32:03.211Z"
   },
   {
    "duration": 29,
    "start_time": "2022-11-02T14:32:03.254Z"
   },
   {
    "duration": 16,
    "start_time": "2022-11-02T14:32:03.299Z"
   },
   {
    "duration": 72,
    "start_time": "2022-11-02T14:32:03.317Z"
   },
   {
    "duration": 637,
    "start_time": "2022-11-02T14:32:03.390Z"
   },
   {
    "duration": 628,
    "start_time": "2022-11-02T14:32:04.029Z"
   },
   {
    "duration": 126,
    "start_time": "2022-11-02T14:32:04.659Z"
   },
   {
    "duration": 6,
    "start_time": "2022-11-02T14:32:59.387Z"
   },
   {
    "duration": 8617,
    "start_time": "2022-11-02T14:33:00.400Z"
   },
   {
    "duration": 5544,
    "start_time": "2022-11-02T14:33:11.759Z"
   },
   {
    "duration": 5576,
    "start_time": "2022-11-02T14:33:19.731Z"
   },
   {
    "duration": 5141,
    "start_time": "2022-11-02T14:33:31.362Z"
   },
   {
    "duration": 6,
    "start_time": "2022-11-02T14:35:11.782Z"
   },
   {
    "duration": 6952,
    "start_time": "2022-11-02T14:35:12.152Z"
   },
   {
    "duration": 2558,
    "start_time": "2022-11-02T14:35:24.242Z"
   },
   {
    "duration": 2723,
    "start_time": "2022-11-02T14:35:32.778Z"
   },
   {
    "duration": 2643,
    "start_time": "2022-11-02T14:35:39.656Z"
   },
   {
    "duration": 8161,
    "start_time": "2022-11-02T14:38:01.313Z"
   },
   {
    "duration": 11,
    "start_time": "2022-11-02T14:38:20.755Z"
   },
   {
    "duration": 7148,
    "start_time": "2022-11-02T14:38:21.701Z"
   },
   {
    "duration": 8304,
    "start_time": "2022-11-02T14:38:29.550Z"
   },
   {
    "duration": 4062,
    "start_time": "2022-11-02T14:38:39.643Z"
   },
   {
    "duration": 6,
    "start_time": "2022-11-02T14:38:44.164Z"
   },
   {
    "duration": 6153,
    "start_time": "2022-11-02T14:38:44.452Z"
   },
   {
    "duration": 5,
    "start_time": "2022-11-02T14:38:55.503Z"
   },
   {
    "duration": 5855,
    "start_time": "2022-11-02T14:38:55.753Z"
   },
   {
    "duration": 6,
    "start_time": "2022-11-02T14:39:07.471Z"
   },
   {
    "duration": 6,
    "start_time": "2022-11-02T14:43:31.535Z"
   },
   {
    "duration": 38,
    "start_time": "2022-11-02T14:43:33.044Z"
   },
   {
    "duration": 2834,
    "start_time": "2022-11-02T14:43:38.854Z"
   },
   {
    "duration": 1088,
    "start_time": "2022-11-02T14:43:41.690Z"
   },
   {
    "duration": 16,
    "start_time": "2022-11-02T14:43:42.779Z"
   },
   {
    "duration": 90,
    "start_time": "2022-11-02T14:43:42.800Z"
   },
   {
    "duration": 19,
    "start_time": "2022-11-02T14:43:42.899Z"
   },
   {
    "duration": 2621,
    "start_time": "2022-11-02T14:43:42.919Z"
   },
   {
    "duration": 2981,
    "start_time": "2022-11-02T14:43:45.542Z"
   },
   {
    "duration": 804,
    "start_time": "2022-11-02T14:43:48.525Z"
   },
   {
    "duration": 94,
    "start_time": "2022-11-02T14:43:49.331Z"
   },
   {
    "duration": 198,
    "start_time": "2022-11-02T14:43:49.427Z"
   },
   {
    "duration": 95,
    "start_time": "2022-11-02T14:43:49.626Z"
   },
   {
    "duration": 7,
    "start_time": "2022-11-02T14:43:49.723Z"
   },
   {
    "duration": 12,
    "start_time": "2022-11-02T14:43:49.731Z"
   },
   {
    "duration": 262,
    "start_time": "2022-11-02T14:43:49.746Z"
   },
   {
    "duration": 26,
    "start_time": "2022-11-02T14:43:50.010Z"
   },
   {
    "duration": 10,
    "start_time": "2022-11-02T14:43:50.038Z"
   },
   {
    "duration": 68,
    "start_time": "2022-11-02T14:43:50.050Z"
   },
   {
    "duration": 8,
    "start_time": "2022-11-02T14:43:50.120Z"
   },
   {
    "duration": 15,
    "start_time": "2022-11-02T14:43:50.130Z"
   },
   {
    "duration": 360,
    "start_time": "2022-11-02T14:43:50.146Z"
   },
   {
    "duration": 292,
    "start_time": "2022-11-02T14:43:50.508Z"
   },
   {
    "duration": 42,
    "start_time": "2022-11-02T14:43:50.802Z"
   },
   {
    "duration": 27,
    "start_time": "2022-11-02T14:43:50.846Z"
   },
   {
    "duration": 33,
    "start_time": "2022-11-02T14:43:50.875Z"
   },
   {
    "duration": 65,
    "start_time": "2022-11-02T14:43:50.910Z"
   },
   {
    "duration": 584,
    "start_time": "2022-11-02T14:43:50.977Z"
   },
   {
    "duration": 576,
    "start_time": "2022-11-02T14:43:51.563Z"
   },
   {
    "duration": 129,
    "start_time": "2022-11-02T14:43:52.141Z"
   },
   {
    "duration": 6,
    "start_time": "2022-11-02T14:43:52.272Z"
   },
   {
    "duration": 822,
    "start_time": "2022-11-02T14:43:52.289Z"
   },
   {
    "duration": 6,
    "start_time": "2022-11-02T14:53:47.657Z"
   },
   {
    "duration": 7225,
    "start_time": "2022-11-02T14:53:48.177Z"
   },
   {
    "duration": 38040,
    "start_time": "2022-11-02T14:54:13.761Z"
   },
   {
    "duration": 5,
    "start_time": "2022-11-02T14:55:10.656Z"
   },
   {
    "duration": 10,
    "start_time": "2022-11-02T14:55:10.920Z"
   },
   {
    "duration": 6,
    "start_time": "2022-11-02T14:55:14.749Z"
   },
   {
    "duration": 10,
    "start_time": "2022-11-02T14:55:14.984Z"
   },
   {
    "duration": 5,
    "start_time": "2022-11-02T14:55:18.969Z"
   },
   {
    "duration": 11758,
    "start_time": "2022-11-02T14:55:19.178Z"
   },
   {
    "duration": 7,
    "start_time": "2022-11-02T14:55:56.662Z"
   },
   {
    "duration": 17031,
    "start_time": "2022-11-02T14:56:07.375Z"
   },
   {
    "duration": 29,
    "start_time": "2022-11-02T14:56:52.557Z"
   },
   {
    "duration": 57,
    "start_time": "2022-11-02T14:57:07.103Z"
   },
   {
    "duration": 16,
    "start_time": "2022-11-02T14:57:15.497Z"
   },
   {
    "duration": 13,
    "start_time": "2022-11-02T14:57:50.873Z"
   },
   {
    "duration": 1954,
    "start_time": "2022-11-02T14:57:56.294Z"
   },
   {
    "duration": 1965,
    "start_time": "2022-11-02T14:58:01.675Z"
   },
   {
    "duration": 1939,
    "start_time": "2022-11-02T14:58:05.191Z"
   },
   {
    "duration": 1956,
    "start_time": "2022-11-02T14:58:08.189Z"
   },
   {
    "duration": 727,
    "start_time": "2022-11-02T14:58:11.427Z"
   },
   {
    "duration": 687,
    "start_time": "2022-11-02T14:58:13.319Z"
   },
   {
    "duration": 322,
    "start_time": "2022-11-02T14:58:15.671Z"
   },
   {
    "duration": 348,
    "start_time": "2022-11-02T14:58:18.038Z"
   },
   {
    "duration": 389,
    "start_time": "2022-11-02T14:58:25.838Z"
   },
   {
    "duration": 393,
    "start_time": "2022-11-02T14:58:27.511Z"
   },
   {
    "duration": 364,
    "start_time": "2022-11-02T14:58:29.930Z"
   },
   {
    "duration": 350,
    "start_time": "2022-11-02T14:58:31.947Z"
   },
   {
    "duration": 334,
    "start_time": "2022-11-02T14:58:34.859Z"
   },
   {
    "duration": 756,
    "start_time": "2022-11-02T14:58:43.137Z"
   },
   {
    "duration": 6767,
    "start_time": "2022-11-02T14:58:49.434Z"
   },
   {
    "duration": 6769,
    "start_time": "2022-11-02T14:59:09.931Z"
   },
   {
    "duration": 5,
    "start_time": "2022-11-02T14:59:37.889Z"
   },
   {
    "duration": 6401,
    "start_time": "2022-11-02T15:00:06.304Z"
   },
   {
    "duration": 6781,
    "start_time": "2022-11-02T15:00:14.525Z"
   },
   {
    "duration": 10693,
    "start_time": "2022-11-02T15:00:25.312Z"
   },
   {
    "duration": 2701,
    "start_time": "2022-11-02T15:00:47.557Z"
   },
   {
    "duration": 1108,
    "start_time": "2022-11-02T15:00:50.260Z"
   },
   {
    "duration": 18,
    "start_time": "2022-11-02T15:00:51.369Z"
   },
   {
    "duration": 118,
    "start_time": "2022-11-02T15:00:51.388Z"
   },
   {
    "duration": 22,
    "start_time": "2022-11-02T15:00:51.508Z"
   },
   {
    "duration": 2548,
    "start_time": "2022-11-02T15:00:51.531Z"
   },
   {
    "duration": 2903,
    "start_time": "2022-11-02T15:00:54.081Z"
   },
   {
    "duration": 756,
    "start_time": "2022-11-02T15:00:56.985Z"
   },
   {
    "duration": 97,
    "start_time": "2022-11-02T15:00:57.742Z"
   },
   {
    "duration": 195,
    "start_time": "2022-11-02T15:00:57.841Z"
   },
   {
    "duration": 102,
    "start_time": "2022-11-02T15:00:58.038Z"
   },
   {
    "duration": 4,
    "start_time": "2022-11-02T15:00:58.141Z"
   },
   {
    "duration": 8,
    "start_time": "2022-11-02T15:00:58.146Z"
   },
   {
    "duration": 291,
    "start_time": "2022-11-02T15:00:58.156Z"
   },
   {
    "duration": 26,
    "start_time": "2022-11-02T15:00:58.449Z"
   },
   {
    "duration": 17,
    "start_time": "2022-11-02T15:00:58.477Z"
   },
   {
    "duration": 66,
    "start_time": "2022-11-02T15:00:58.495Z"
   },
   {
    "duration": 7,
    "start_time": "2022-11-02T15:00:58.563Z"
   },
   {
    "duration": 14,
    "start_time": "2022-11-02T15:00:58.572Z"
   },
   {
    "duration": 340,
    "start_time": "2022-11-02T15:00:58.588Z"
   },
   {
    "duration": 292,
    "start_time": "2022-11-02T15:00:58.929Z"
   },
   {
    "duration": 48,
    "start_time": "2022-11-02T15:00:59.223Z"
   },
   {
    "duration": 44,
    "start_time": "2022-11-02T15:00:59.273Z"
   },
   {
    "duration": 15,
    "start_time": "2022-11-02T15:00:59.318Z"
   },
   {
    "duration": 83,
    "start_time": "2022-11-02T15:00:59.335Z"
   },
   {
    "duration": 586,
    "start_time": "2022-11-02T15:00:59.420Z"
   },
   {
    "duration": 584,
    "start_time": "2022-11-02T15:01:00.008Z"
   },
   {
    "duration": 131,
    "start_time": "2022-11-02T15:01:00.593Z"
   },
   {
    "duration": 104,
    "start_time": "2022-11-02T15:01:04.756Z"
   },
   {
    "duration": 5,
    "start_time": "2022-11-02T15:01:07.599Z"
   },
   {
    "duration": 17147,
    "start_time": "2022-11-02T15:01:07.859Z"
   },
   {
    "duration": 22833,
    "start_time": "2022-11-02T15:01:26.968Z"
   },
   {
    "duration": 7628,
    "start_time": "2022-11-02T15:02:13.203Z"
   },
   {
    "duration": 10,
    "start_time": "2022-11-02T15:02:49.021Z"
   },
   {
    "duration": 52,
    "start_time": "2022-11-02T15:02:52.508Z"
   },
   {
    "duration": 9,
    "start_time": "2022-11-02T15:02:54.893Z"
   },
   {
    "duration": 9,
    "start_time": "2022-11-02T15:02:58.426Z"
   },
   {
    "duration": 2705,
    "start_time": "2022-11-02T15:03:39.801Z"
   },
   {
    "duration": 21799,
    "start_time": "2022-11-02T15:04:04.502Z"
   },
   {
    "duration": 4,
    "start_time": "2022-11-02T15:04:56.673Z"
   },
   {
    "duration": 3815,
    "start_time": "2022-11-02T15:05:01.216Z"
   },
   {
    "duration": 10,
    "start_time": "2022-11-02T15:05:06.199Z"
   },
   {
    "duration": 10741,
    "start_time": "2022-11-02T15:05:06.492Z"
   },
   {
    "duration": 120,
    "start_time": "2022-11-02T15:09:01.008Z"
   },
   {
    "duration": 171261,
    "start_time": "2022-11-02T15:09:09.847Z"
   },
   {
    "duration": 1506,
    "start_time": "2022-11-03T06:31:51.167Z"
   },
   {
    "duration": 2950,
    "start_time": "2022-11-03T06:31:52.675Z"
   },
   {
    "duration": 14,
    "start_time": "2022-11-03T06:31:55.627Z"
   },
   {
    "duration": 101,
    "start_time": "2022-11-03T06:31:55.642Z"
   },
   {
    "duration": 18,
    "start_time": "2022-11-03T06:31:55.744Z"
   },
   {
    "duration": 2789,
    "start_time": "2022-11-03T06:31:55.763Z"
   },
   {
    "duration": 2841,
    "start_time": "2022-11-03T06:31:58.554Z"
   },
   {
    "duration": 782,
    "start_time": "2022-11-03T06:32:01.397Z"
   },
   {
    "duration": 93,
    "start_time": "2022-11-03T06:32:02.181Z"
   },
   {
    "duration": 198,
    "start_time": "2022-11-03T06:32:02.276Z"
   },
   {
    "duration": 94,
    "start_time": "2022-11-03T06:32:02.475Z"
   },
   {
    "duration": 3,
    "start_time": "2022-11-03T06:32:13.661Z"
   },
   {
    "duration": 2,
    "start_time": "2022-11-03T06:32:14.460Z"
   },
   {
    "duration": 248,
    "start_time": "2022-11-03T06:32:15.196Z"
   },
   {
    "duration": 26,
    "start_time": "2022-11-03T06:32:15.820Z"
   },
   {
    "duration": 8,
    "start_time": "2022-11-03T06:32:17.068Z"
   },
   {
    "duration": 50,
    "start_time": "2022-11-03T06:32:18.444Z"
   },
   {
    "duration": 7,
    "start_time": "2022-11-03T06:32:22.108Z"
   },
   {
    "duration": 15,
    "start_time": "2022-11-03T06:32:23.389Z"
   },
   {
    "duration": 320,
    "start_time": "2022-11-03T06:32:24.285Z"
   },
   {
    "duration": 275,
    "start_time": "2022-11-03T06:32:24.830Z"
   },
   {
    "duration": 42,
    "start_time": "2022-11-03T06:32:27.149Z"
   },
   {
    "duration": 28,
    "start_time": "2022-11-03T06:32:36.493Z"
   },
   {
    "duration": 15,
    "start_time": "2022-11-03T06:32:38.509Z"
   },
   {
    "duration": 59,
    "start_time": "2022-11-03T06:32:40.882Z"
   },
   {
    "duration": 588,
    "start_time": "2022-11-03T06:32:47.965Z"
   },
   {
    "duration": 572,
    "start_time": "2022-11-03T06:32:49.356Z"
   },
   {
    "duration": 120,
    "start_time": "2022-11-03T06:32:49.930Z"
   },
   {
    "duration": 72,
    "start_time": "2022-11-03T06:32:51.180Z"
   },
   {
    "duration": 29,
    "start_time": "2022-11-03T06:32:51.997Z"
   },
   {
    "duration": 25,
    "start_time": "2022-11-03T06:32:52.876Z"
   },
   {
    "duration": 34111,
    "start_time": "2022-11-03T06:32:53.612Z"
   },
   {
    "duration": 5,
    "start_time": "2022-11-03T06:33:54.973Z"
   },
   {
    "duration": 168298,
    "start_time": "2022-11-03T06:33:56.557Z"
   },
   {
    "duration": 133775,
    "start_time": "2022-11-03T06:40:27.953Z"
   },
   {
    "duration": 123127,
    "start_time": "2022-11-03T06:44:58.095Z"
   },
   {
    "duration": 130304,
    "start_time": "2022-11-03T06:48:55.519Z"
   },
   {
    "duration": 132529,
    "start_time": "2022-11-03T06:52:40.079Z"
   },
   {
    "duration": 305990,
    "start_time": "2022-11-03T06:58:22.959Z"
   },
   {
    "duration": 257483,
    "start_time": "2022-11-03T07:05:15.640Z"
   },
   {
    "duration": 458,
    "start_time": "2022-11-03T07:11:30.415Z"
   },
   {
    "duration": 96,
    "start_time": "2022-11-03T07:11:30.974Z"
   },
   {
    "duration": 11382,
    "start_time": "2022-11-03T07:11:35.919Z"
   },
   {
    "duration": 178118,
    "start_time": "2022-11-03T07:11:54.127Z"
   },
   {
    "duration": 133,
    "start_time": "2022-11-03T07:15:06.176Z"
   },
   {
    "duration": 176380,
    "start_time": "2022-11-03T07:15:08.622Z"
   },
   {
    "duration": 7,
    "start_time": "2022-11-03T07:18:57.487Z"
   },
   {
    "duration": 147695,
    "start_time": "2022-11-03T07:22:12.760Z"
   },
   {
    "duration": 8,
    "start_time": "2022-11-03T07:25:02.353Z"
   },
   {
    "duration": 33450,
    "start_time": "2022-11-03T07:25:24.673Z"
   },
   {
    "duration": 7,
    "start_time": "2022-11-03T07:26:19.136Z"
   },
   {
    "duration": 74,
    "start_time": "2022-11-03T07:33:17.792Z"
   },
   {
    "duration": 692,
    "start_time": "2022-11-03T07:33:26.562Z"
   },
   {
    "duration": 1464,
    "start_time": "2023-03-15T07:38:46.922Z"
   },
   {
    "duration": 1174,
    "start_time": "2023-03-15T07:38:48.388Z"
   },
   {
    "duration": 23,
    "start_time": "2023-03-15T07:39:03.853Z"
   },
   {
    "duration": 19,
    "start_time": "2023-03-15T07:42:17.010Z"
   },
   {
    "duration": 123,
    "start_time": "2023-03-15T07:42:17.533Z"
   },
   {
    "duration": 22,
    "start_time": "2023-03-15T07:42:18.674Z"
   },
   {
    "duration": 2710,
    "start_time": "2023-03-15T07:42:19.202Z"
   },
   {
    "duration": 3101,
    "start_time": "2023-03-15T07:42:21.914Z"
   },
   {
    "duration": 847,
    "start_time": "2023-03-15T07:42:50.502Z"
   },
   {
    "duration": 127,
    "start_time": "2023-03-15T07:42:52.330Z"
   },
   {
    "duration": 221,
    "start_time": "2023-03-15T07:42:55.330Z"
   },
   {
    "duration": 144,
    "start_time": "2023-03-15T07:42:55.929Z"
   },
   {
    "duration": 4,
    "start_time": "2023-03-15T07:43:08.444Z"
   },
   {
    "duration": 3,
    "start_time": "2023-03-15T07:44:18.902Z"
   },
   {
    "duration": 4,
    "start_time": "2023-03-15T07:44:39.718Z"
   },
   {
    "duration": 868,
    "start_time": "2023-03-15T07:45:07.069Z"
   },
   {
    "duration": 37,
    "start_time": "2023-03-15T07:45:17.255Z"
   },
   {
    "duration": 8,
    "start_time": "2023-03-15T07:45:20.930Z"
   },
   {
    "duration": 55,
    "start_time": "2023-03-15T07:45:44.973Z"
   },
   {
    "duration": 7,
    "start_time": "2023-03-15T07:45:45.773Z"
   },
   {
    "duration": 17,
    "start_time": "2023-03-15T07:46:02.270Z"
   },
   {
    "duration": 433,
    "start_time": "2023-03-15T07:46:04.929Z"
   },
   {
    "duration": 348,
    "start_time": "2023-03-15T07:46:07.618Z"
   },
   {
    "duration": 307,
    "start_time": "2023-03-15T07:46:31.719Z"
   },
   {
    "duration": 43,
    "start_time": "2023-03-15T07:47:04.230Z"
   },
   {
    "duration": 26,
    "start_time": "2023-03-15T07:47:09.122Z"
   },
   {
    "duration": 15,
    "start_time": "2023-03-15T07:47:27.222Z"
   },
   {
    "duration": 75,
    "start_time": "2023-03-15T07:47:31.310Z"
   },
   {
    "duration": 581,
    "start_time": "2023-03-15T07:47:53.052Z"
   },
   {
    "duration": 603,
    "start_time": "2023-03-15T07:47:55.855Z"
   },
   {
    "duration": 134,
    "start_time": "2023-03-15T07:47:58.025Z"
   },
   {
    "duration": 34001,
    "start_time": "2023-03-15T07:48:04.830Z"
   },
   {
    "duration": 6,
    "start_time": "2023-03-15T07:49:13.502Z"
   },
   {
    "duration": 175766,
    "start_time": "2023-03-15T07:49:20.669Z"
   },
   {
    "duration": 182528,
    "start_time": "2023-03-15T07:56:53.205Z"
   },
   {
    "duration": 542,
    "start_time": "2023-03-15T08:02:32.906Z"
   },
   {
    "duration": 88,
    "start_time": "2023-03-15T08:02:34.608Z"
   },
   {
    "duration": 11686,
    "start_time": "2023-03-15T08:02:39.710Z"
   },
   {
    "duration": 10,
    "start_time": "2023-03-15T08:08:24.575Z"
   },
   {
    "duration": 64961,
    "start_time": "2023-03-15T08:09:01.505Z"
   },
   {
    "duration": 190,
    "start_time": "2023-03-15T08:10:06.469Z"
   },
   {
    "duration": 189033,
    "start_time": "2023-03-15T08:10:06.660Z"
   },
   {
    "duration": 7,
    "start_time": "2023-03-15T08:13:15.695Z"
   },
   {
    "duration": 690,
    "start_time": "2023-03-15T08:15:10.336Z"
   },
   {
    "duration": 114,
    "start_time": "2023-03-15T08:32:39.552Z"
   },
   {
    "duration": 4,
    "start_time": "2023-03-15T08:33:25.376Z"
   },
   {
    "duration": 199,
    "start_time": "2023-03-15T08:33:34.351Z"
   },
   {
    "duration": 91,
    "start_time": "2023-03-15T08:33:58.271Z"
   },
   {
    "duration": 110,
    "start_time": "2023-03-15T08:34:46.922Z"
   },
   {
    "duration": 1496,
    "start_time": "2023-03-15T14:20:30.627Z"
   },
   {
    "duration": 935,
    "start_time": "2023-03-15T14:20:32.125Z"
   },
   {
    "duration": 16,
    "start_time": "2023-03-15T14:20:33.062Z"
   },
   {
    "duration": 136,
    "start_time": "2023-03-15T14:20:33.079Z"
   },
   {
    "duration": 26,
    "start_time": "2023-03-15T14:20:33.292Z"
   },
   {
    "duration": 2937,
    "start_time": "2023-03-15T14:20:33.775Z"
   },
   {
    "duration": 3298,
    "start_time": "2023-03-15T14:20:36.715Z"
   },
   {
    "duration": 851,
    "start_time": "2023-03-15T14:20:42.306Z"
   },
   {
    "duration": 122,
    "start_time": "2023-03-15T14:20:43.251Z"
   },
   {
    "duration": 237,
    "start_time": "2023-03-15T14:20:44.011Z"
   },
   {
    "duration": 122,
    "start_time": "2023-03-15T14:20:44.643Z"
   },
   {
    "duration": 3,
    "start_time": "2023-03-15T14:20:46.451Z"
   },
   {
    "duration": 871,
    "start_time": "2023-03-15T14:20:47.090Z"
   },
   {
    "duration": 35,
    "start_time": "2023-03-15T14:20:49.251Z"
   },
   {
    "duration": 8,
    "start_time": "2023-03-15T14:20:50.451Z"
   },
   {
    "duration": 55,
    "start_time": "2023-03-15T14:20:51.890Z"
   },
   {
    "duration": 8,
    "start_time": "2023-03-15T14:20:52.724Z"
   },
   {
    "duration": 18,
    "start_time": "2023-03-15T14:20:54.131Z"
   },
   {
    "duration": 412,
    "start_time": "2023-03-15T14:20:54.723Z"
   },
   {
    "duration": 329,
    "start_time": "2023-03-15T14:20:55.428Z"
   },
   {
    "duration": 70,
    "start_time": "2023-03-15T14:20:57.796Z"
   },
   {
    "duration": 19,
    "start_time": "2023-03-15T14:20:59.827Z"
   },
   {
    "duration": 85,
    "start_time": "2023-03-15T14:21:00.452Z"
   },
   {
    "duration": 679,
    "start_time": "2023-03-15T14:21:01.843Z"
   },
   {
    "duration": 612,
    "start_time": "2023-03-15T14:21:03.043Z"
   },
   {
    "duration": 144,
    "start_time": "2023-03-15T14:21:03.657Z"
   },
   {
    "duration": 34337,
    "start_time": "2023-03-15T14:21:05.695Z"
   },
   {
    "duration": 96,
    "start_time": "2023-03-15T14:21:40.036Z"
   },
   {
    "duration": 174498,
    "start_time": "2023-03-15T14:21:40.134Z"
   },
   {
    "duration": 655,
    "start_time": "2023-03-15T14:24:34.635Z"
   },
   {
    "duration": 98,
    "start_time": "2023-03-15T14:24:35.292Z"
   },
   {
    "duration": 1565,
    "start_time": "2023-03-16T06:02:26.098Z"
   },
   {
    "duration": 1021,
    "start_time": "2023-03-16T06:02:27.665Z"
   },
   {
    "duration": 16,
    "start_time": "2023-03-16T06:02:28.688Z"
   },
   {
    "duration": 103,
    "start_time": "2023-03-16T06:02:28.706Z"
   },
   {
    "duration": 18,
    "start_time": "2023-03-16T06:02:30.278Z"
   },
   {
    "duration": 2322,
    "start_time": "2023-03-16T06:02:30.698Z"
   },
   {
    "duration": 3474,
    "start_time": "2023-03-16T06:02:33.022Z"
   },
   {
    "duration": 828,
    "start_time": "2023-03-16T06:02:36.497Z"
   },
   {
    "duration": 109,
    "start_time": "2023-03-16T06:02:37.327Z"
   },
   {
    "duration": 212,
    "start_time": "2023-03-16T06:02:37.438Z"
   },
   {
    "duration": 146,
    "start_time": "2023-03-16T06:02:37.652Z"
   },
   {
    "duration": 3,
    "start_time": "2023-03-16T06:02:37.800Z"
   },
   {
    "duration": 805,
    "start_time": "2023-03-16T06:02:38.293Z"
   },
   {
    "duration": 34,
    "start_time": "2023-03-16T06:02:39.100Z"
   },
   {
    "duration": 12,
    "start_time": "2023-03-16T06:02:40.425Z"
   },
   {
    "duration": 50,
    "start_time": "2023-03-16T06:02:41.578Z"
   },
   {
    "duration": 7,
    "start_time": "2023-03-16T06:02:42.117Z"
   },
   {
    "duration": 16,
    "start_time": "2023-03-16T06:02:43.228Z"
   },
   {
    "duration": 346,
    "start_time": "2023-03-16T06:02:43.778Z"
   },
   {
    "duration": 258,
    "start_time": "2023-03-16T06:02:44.412Z"
   },
   {
    "duration": 75,
    "start_time": "2023-03-16T06:02:45.918Z"
   },
   {
    "duration": 15,
    "start_time": "2023-03-16T06:02:49.894Z"
   },
   {
    "duration": 62,
    "start_time": "2023-03-16T06:02:50.482Z"
   },
   {
    "duration": 452,
    "start_time": "2023-03-16T06:02:51.547Z"
   },
   {
    "duration": 394,
    "start_time": "2023-03-16T06:02:52.594Z"
   },
   {
    "duration": 149,
    "start_time": "2023-03-16T06:02:53.053Z"
   },
   {
    "duration": 49642,
    "start_time": "2023-03-16T06:02:54.640Z"
   },
   {
    "duration": 7,
    "start_time": "2023-03-16T06:03:44.284Z"
   },
   {
    "duration": 213093,
    "start_time": "2023-03-16T06:03:44.293Z"
   },
   {
    "duration": 574,
    "start_time": "2023-03-16T06:07:17.388Z"
   },
   {
    "duration": 71,
    "start_time": "2023-03-16T06:07:17.963Z"
   },
   {
    "duration": 2559137,
    "start_time": "2023-03-16T06:07:18.036Z"
   },
   {
    "duration": 11,
    "start_time": "2023-03-16T06:49:57.174Z"
   },
   {
    "duration": 0,
    "start_time": "2023-03-16T06:49:57.187Z"
   },
   {
    "duration": 0,
    "start_time": "2023-03-16T06:49:57.188Z"
   },
   {
    "duration": 1339,
    "start_time": "2023-03-16T06:50:10.895Z"
   },
   {
    "duration": 772,
    "start_time": "2023-03-16T06:50:12.236Z"
   },
   {
    "duration": 14,
    "start_time": "2023-03-16T06:50:13.010Z"
   },
   {
    "duration": 115,
    "start_time": "2023-03-16T06:50:13.025Z"
   },
   {
    "duration": 24,
    "start_time": "2023-03-16T06:50:13.460Z"
   },
   {
    "duration": 2408,
    "start_time": "2023-03-16T06:50:14.296Z"
   },
   {
    "duration": 2918,
    "start_time": "2023-03-16T06:50:16.705Z"
   },
   {
    "duration": 710,
    "start_time": "2023-03-16T06:50:19.624Z"
   },
   {
    "duration": 93,
    "start_time": "2023-03-16T06:50:20.336Z"
   },
   {
    "duration": 216,
    "start_time": "2023-03-16T06:50:20.430Z"
   },
   {
    "duration": 97,
    "start_time": "2023-03-16T06:50:20.648Z"
   },
   {
    "duration": 2,
    "start_time": "2023-03-16T06:50:22.636Z"
   },
   {
    "duration": 715,
    "start_time": "2023-03-16T06:50:23.048Z"
   },
   {
    "duration": 39,
    "start_time": "2023-03-16T06:50:23.765Z"
   },
   {
    "duration": 9,
    "start_time": "2023-03-16T06:50:24.812Z"
   },
   {
    "duration": 51,
    "start_time": "2023-03-16T06:50:25.896Z"
   },
   {
    "duration": 7,
    "start_time": "2023-03-16T06:50:26.390Z"
   },
   {
    "duration": 15,
    "start_time": "2023-03-16T06:50:27.609Z"
   },
   {
    "duration": 329,
    "start_time": "2023-03-16T06:50:28.121Z"
   },
   {
    "duration": 284,
    "start_time": "2023-03-16T06:50:28.921Z"
   },
   {
    "duration": 60,
    "start_time": "2023-03-16T06:50:30.441Z"
   },
   {
    "duration": 15,
    "start_time": "2023-03-16T06:50:32.192Z"
   },
   {
    "duration": 61,
    "start_time": "2023-03-16T06:50:32.782Z"
   },
   {
    "duration": 459,
    "start_time": "2023-03-16T06:50:34.303Z"
   },
   {
    "duration": 400,
    "start_time": "2023-03-16T06:50:35.396Z"
   },
   {
    "duration": 135,
    "start_time": "2023-03-16T06:50:35.898Z"
   },
   {
    "duration": 36079,
    "start_time": "2023-03-16T06:50:37.801Z"
   },
   {
    "duration": 8,
    "start_time": "2023-03-16T06:51:13.884Z"
   },
   {
    "duration": 92500,
    "start_time": "2023-03-16T06:51:13.980Z"
   },
   {
    "duration": 549,
    "start_time": "2023-03-16T06:52:46.485Z"
   },
   {
    "duration": 97,
    "start_time": "2023-03-16T06:52:47.036Z"
   },
   {
    "duration": 2709196,
    "start_time": "2023-03-16T06:52:50.799Z"
   },
   {
    "duration": 12,
    "start_time": "2023-03-16T07:37:59.997Z"
   },
   {
    "duration": 1785,
    "start_time": "2023-03-17T06:10:52.124Z"
   },
   {
    "duration": 1408,
    "start_time": "2023-03-17T06:10:54.076Z"
   },
   {
    "duration": 18,
    "start_time": "2023-03-17T06:10:58.684Z"
   },
   {
    "duration": 128,
    "start_time": "2023-03-17T06:10:59.147Z"
   },
   {
    "duration": 22,
    "start_time": "2023-03-17T06:11:00.075Z"
   },
   {
    "duration": 3054,
    "start_time": "2023-03-17T06:11:00.525Z"
   },
   {
    "duration": 3485,
    "start_time": "2023-03-17T06:11:03.581Z"
   },
   {
    "duration": 1054,
    "start_time": "2023-03-17T06:11:09.565Z"
   },
   {
    "duration": 142,
    "start_time": "2023-03-17T06:11:10.622Z"
   },
   {
    "duration": 255,
    "start_time": "2023-03-17T06:11:10.908Z"
   },
   {
    "duration": 150,
    "start_time": "2023-03-17T06:11:11.580Z"
   },
   {
    "duration": 4,
    "start_time": "2023-03-17T06:11:13.068Z"
   },
   {
    "duration": 1166,
    "start_time": "2023-03-17T06:11:13.532Z"
   },
   {
    "duration": 36,
    "start_time": "2023-03-17T06:11:14.700Z"
   },
   {
    "duration": 9,
    "start_time": "2023-03-17T06:11:15.100Z"
   },
   {
    "duration": 58,
    "start_time": "2023-03-17T06:11:16.141Z"
   },
   {
    "duration": 9,
    "start_time": "2023-03-17T06:11:16.603Z"
   },
   {
    "duration": 19,
    "start_time": "2023-03-17T06:11:17.643Z"
   },
   {
    "duration": 467,
    "start_time": "2023-03-17T06:11:18.140Z"
   },
   {
    "duration": 344,
    "start_time": "2023-03-17T06:11:18.652Z"
   },
   {
    "duration": 71,
    "start_time": "2023-03-17T06:11:19.628Z"
   },
   {
    "duration": 17,
    "start_time": "2023-03-17T06:11:20.876Z"
   },
   {
    "duration": 83,
    "start_time": "2023-03-17T06:11:21.244Z"
   },
   {
    "duration": 968,
    "start_time": "2023-03-17T06:11:22.171Z"
   },
   {
    "duration": 662,
    "start_time": "2023-03-17T06:11:23.142Z"
   },
   {
    "duration": 171,
    "start_time": "2023-03-17T06:11:23.996Z"
   },
   {
    "duration": 36466,
    "start_time": "2023-03-17T06:11:25.307Z"
   },
   {
    "duration": 7,
    "start_time": "2023-03-17T06:12:01.866Z"
   },
   {
    "duration": 174590,
    "start_time": "2023-03-17T06:12:01.875Z"
   },
   {
    "duration": 613,
    "start_time": "2023-03-17T06:15:16.493Z"
   },
   {
    "duration": 106,
    "start_time": "2023-03-17T06:15:17.308Z"
   },
   {
    "duration": 7,
    "start_time": "2023-03-17T06:15:18.635Z"
   },
   {
    "duration": 1725,
    "start_time": "2023-03-20T12:53:25.146Z"
   },
   {
    "duration": 1478,
    "start_time": "2023-03-20T12:53:26.873Z"
   },
   {
    "duration": 26,
    "start_time": "2023-03-20T12:53:29.972Z"
   },
   {
    "duration": 122,
    "start_time": "2023-03-20T12:53:30.640Z"
   },
   {
    "duration": 22,
    "start_time": "2023-03-20T12:53:32.335Z"
   },
   {
    "duration": 3262,
    "start_time": "2023-03-20T12:53:33.247Z"
   },
   {
    "duration": 3693,
    "start_time": "2023-03-20T12:53:36.511Z"
   },
   {
    "duration": 996,
    "start_time": "2023-03-20T12:53:40.208Z"
   },
   {
    "duration": 126,
    "start_time": "2023-03-20T12:53:41.207Z"
   },
   {
    "duration": 266,
    "start_time": "2023-03-20T12:53:44.672Z"
   },
   {
    "duration": 147,
    "start_time": "2023-03-20T12:53:45.551Z"
   },
   {
    "duration": 3,
    "start_time": "2023-03-20T12:53:50.577Z"
   },
   {
    "duration": 1142,
    "start_time": "2023-03-20T12:53:51.152Z"
   },
   {
    "duration": 34,
    "start_time": "2023-03-20T12:54:27.647Z"
   },
   {
    "duration": 10,
    "start_time": "2023-03-20T12:54:29.398Z"
   },
   {
    "duration": 67,
    "start_time": "2023-03-20T12:54:48.864Z"
   },
   {
    "duration": 9,
    "start_time": "2023-03-20T12:54:49.905Z"
   },
   {
    "duration": 23,
    "start_time": "2023-03-20T12:54:55.472Z"
   },
   {
    "duration": 604,
    "start_time": "2023-03-20T12:54:57.300Z"
   },
   {
    "duration": 394,
    "start_time": "2023-03-20T12:55:01.569Z"
   },
   {
    "duration": 86,
    "start_time": "2023-03-20T12:55:03.680Z"
   },
   {
    "duration": 19,
    "start_time": "2023-03-20T12:55:05.600Z"
   },
   {
    "duration": 98,
    "start_time": "2023-03-20T12:55:06.128Z"
   },
   {
    "duration": 1164,
    "start_time": "2023-03-20T12:55:11.204Z"
   },
   {
    "duration": 776,
    "start_time": "2023-03-20T12:55:14.100Z"
   },
   {
    "duration": 192,
    "start_time": "2023-03-20T12:55:20.319Z"
   },
   {
    "duration": 109881,
    "start_time": "2023-03-20T12:55:51.007Z"
   },
   {
    "duration": 12,
    "start_time": "2023-03-20T12:57:40.980Z"
   },
   {
    "duration": 522595,
    "start_time": "2023-03-20T12:57:40.993Z"
   },
   {
    "duration": 703,
    "start_time": "2023-03-20T13:06:23.595Z"
   },
   {
    "duration": 134,
    "start_time": "2023-03-20T13:06:24.300Z"
   },
   {
    "duration": 223,
    "start_time": "2023-03-20T13:06:24.437Z"
   },
   {
    "duration": 590,
    "start_time": "2023-03-20T13:10:13.304Z"
   },
   {
    "duration": 1585,
    "start_time": "2023-03-21T06:05:25.081Z"
   },
   {
    "duration": 2785,
    "start_time": "2023-03-21T06:05:26.668Z"
   },
   {
    "duration": 16,
    "start_time": "2023-03-21T06:05:29.454Z"
   },
   {
    "duration": 112,
    "start_time": "2023-03-21T06:05:29.472Z"
   },
   {
    "duration": 24,
    "start_time": "2023-03-21T06:05:29.585Z"
   },
   {
    "duration": 2441,
    "start_time": "2023-03-21T06:05:29.611Z"
   },
   {
    "duration": 3146,
    "start_time": "2023-03-21T06:05:32.053Z"
   },
   {
    "duration": 689,
    "start_time": "2023-03-21T06:05:35.200Z"
   },
   {
    "duration": 100,
    "start_time": "2023-03-21T06:05:35.891Z"
   },
   {
    "duration": 197,
    "start_time": "2023-03-21T06:05:35.993Z"
   },
   {
    "duration": 123,
    "start_time": "2023-03-21T06:05:36.192Z"
   },
   {
    "duration": 3,
    "start_time": "2023-03-21T06:05:36.316Z"
   },
   {
    "duration": 755,
    "start_time": "2023-03-21T06:05:36.320Z"
   },
   {
    "duration": 30,
    "start_time": "2023-03-21T06:05:37.160Z"
   },
   {
    "duration": 9,
    "start_time": "2023-03-21T06:05:38.008Z"
   },
   {
    "duration": 56,
    "start_time": "2023-03-21T06:05:39.017Z"
   },
   {
    "duration": 7,
    "start_time": "2023-03-21T06:05:39.481Z"
   },
   {
    "duration": 15,
    "start_time": "2023-03-21T06:05:40.361Z"
   },
   {
    "duration": 430,
    "start_time": "2023-03-21T06:05:40.876Z"
   },
   {
    "duration": 276,
    "start_time": "2023-03-21T06:05:41.387Z"
   },
   {
    "duration": 71,
    "start_time": "2023-03-21T06:05:42.377Z"
   },
   {
    "duration": 17,
    "start_time": "2023-03-21T06:05:43.929Z"
   },
   {
    "duration": 115,
    "start_time": "2023-03-21T06:05:44.460Z"
   },
   {
    "duration": 441,
    "start_time": "2023-03-21T06:05:45.336Z"
   },
   {
    "duration": 445,
    "start_time": "2023-03-21T06:05:46.178Z"
   },
   {
    "duration": 135,
    "start_time": "2023-03-21T06:05:46.625Z"
   },
   {
    "duration": 33935,
    "start_time": "2023-03-21T06:05:47.816Z"
   },
   {
    "duration": 90,
    "start_time": "2023-03-21T06:06:21.753Z"
   },
   {
    "duration": 109318,
    "start_time": "2023-03-21T06:06:21.845Z"
   },
   {
    "duration": 604,
    "start_time": "2023-03-21T06:08:11.241Z"
   },
   {
    "duration": 65,
    "start_time": "2023-03-21T06:08:11.847Z"
   },
   {
    "duration": 7,
    "start_time": "2023-03-21T06:08:11.914Z"
   },
   {
    "duration": 6773082,
    "start_time": "2023-03-21T06:08:11.923Z"
   },
   {
    "duration": 1801,
    "start_time": "2023-03-22T06:02:06.859Z"
   },
   {
    "duration": 3336,
    "start_time": "2023-03-22T06:02:08.663Z"
   },
   {
    "duration": 18,
    "start_time": "2023-03-22T06:02:12.001Z"
   },
   {
    "duration": 121,
    "start_time": "2023-03-22T06:02:12.021Z"
   },
   {
    "duration": 44,
    "start_time": "2023-03-22T06:02:12.144Z"
   },
   {
    "duration": 3098,
    "start_time": "2023-03-22T06:02:12.190Z"
   },
   {
    "duration": 3414,
    "start_time": "2023-03-22T06:02:15.289Z"
   },
   {
    "duration": 839,
    "start_time": "2023-03-22T06:02:18.705Z"
   },
   {
    "duration": 101,
    "start_time": "2023-03-22T06:02:19.546Z"
   },
   {
    "duration": 207,
    "start_time": "2023-03-22T06:02:19.649Z"
   },
   {
    "duration": 112,
    "start_time": "2023-03-22T06:02:19.861Z"
   },
   {
    "duration": 3,
    "start_time": "2023-03-22T06:02:19.975Z"
   },
   {
    "duration": 1012,
    "start_time": "2023-03-22T06:02:19.980Z"
   },
   {
    "duration": 30,
    "start_time": "2023-03-22T06:02:20.993Z"
   },
   {
    "duration": 19,
    "start_time": "2023-03-22T06:02:21.024Z"
   },
   {
    "duration": 68,
    "start_time": "2023-03-22T06:02:21.045Z"
   },
   {
    "duration": 10,
    "start_time": "2023-03-22T06:02:21.116Z"
   },
   {
    "duration": 56,
    "start_time": "2023-03-22T06:02:21.128Z"
   },
   {
    "duration": 510,
    "start_time": "2023-03-22T06:02:21.186Z"
   },
   {
    "duration": 359,
    "start_time": "2023-03-22T06:02:21.699Z"
   },
   {
    "duration": 72,
    "start_time": "2023-03-22T06:02:22.713Z"
   },
   {
    "duration": 17,
    "start_time": "2023-03-22T06:02:28.042Z"
   },
   {
    "duration": 85,
    "start_time": "2023-03-22T06:02:28.843Z"
   },
   {
    "duration": 971,
    "start_time": "2023-03-22T06:02:31.034Z"
   },
   {
    "duration": 616,
    "start_time": "2023-03-22T06:02:32.362Z"
   },
   {
    "duration": 149,
    "start_time": "2023-03-22T06:02:33.291Z"
   },
   {
    "duration": 34858,
    "start_time": "2023-03-22T06:02:40.605Z"
   },
   {
    "duration": 13,
    "start_time": "2023-03-22T06:03:15.465Z"
   },
   {
    "duration": 126884,
    "start_time": "2023-03-22T06:03:15.480Z"
   },
   {
    "duration": 649,
    "start_time": "2023-03-22T06:05:22.370Z"
   },
   {
    "duration": 99,
    "start_time": "2023-03-22T06:05:23.021Z"
   },
   {
    "duration": 1781,
    "start_time": "2023-03-23T07:31:43.834Z"
   },
   {
    "duration": 1330,
    "start_time": "2023-03-23T07:31:45.618Z"
   },
   {
    "duration": 27,
    "start_time": "2023-03-23T07:31:46.950Z"
   },
   {
    "duration": 160,
    "start_time": "2023-03-23T07:31:46.979Z"
   },
   {
    "duration": 30,
    "start_time": "2023-03-23T07:31:47.141Z"
   },
   {
    "duration": 3453,
    "start_time": "2023-03-23T07:31:47.173Z"
   },
   {
    "duration": 3410,
    "start_time": "2023-03-23T07:31:50.628Z"
   },
   {
    "duration": 895,
    "start_time": "2023-03-23T07:31:54.041Z"
   },
   {
    "duration": 162,
    "start_time": "2023-03-23T07:31:54.937Z"
   },
   {
    "duration": 261,
    "start_time": "2023-03-23T07:31:55.101Z"
   },
   {
    "duration": 144,
    "start_time": "2023-03-23T07:31:55.364Z"
   },
   {
    "duration": 3,
    "start_time": "2023-03-23T07:31:55.510Z"
   },
   {
    "duration": 1027,
    "start_time": "2023-03-23T07:31:55.514Z"
   },
   {
    "duration": 38,
    "start_time": "2023-03-23T07:31:56.543Z"
   },
   {
    "duration": 9,
    "start_time": "2023-03-23T07:31:56.597Z"
   },
   {
    "duration": 60,
    "start_time": "2023-03-23T07:31:56.608Z"
   },
   {
    "duration": 29,
    "start_time": "2023-03-23T07:31:56.670Z"
   },
   {
    "duration": 21,
    "start_time": "2023-03-23T07:31:56.701Z"
   },
   {
    "duration": 547,
    "start_time": "2023-03-23T07:31:56.725Z"
   },
   {
    "duration": 366,
    "start_time": "2023-03-23T07:31:57.274Z"
   },
   {
    "duration": 90,
    "start_time": "2023-03-23T07:31:57.642Z"
   },
   {
    "duration": 17,
    "start_time": "2023-03-23T07:31:57.734Z"
   },
   {
    "duration": 105,
    "start_time": "2023-03-23T07:31:57.754Z"
   },
   {
    "duration": 912,
    "start_time": "2023-03-23T07:31:59.049Z"
   },
   {
    "duration": 691,
    "start_time": "2023-03-23T07:31:59.964Z"
   },
   {
    "duration": 170,
    "start_time": "2023-03-23T07:32:01.241Z"
   },
   {
    "duration": 50160,
    "start_time": "2023-03-23T07:32:02.744Z"
   },
   {
    "duration": 7,
    "start_time": "2023-03-23T07:32:52.997Z"
   },
   {
    "duration": 215693,
    "start_time": "2023-03-23T07:32:53.006Z"
   },
   {
    "duration": 764,
    "start_time": "2023-03-23T07:36:28.702Z"
   },
   {
    "duration": 103,
    "start_time": "2023-03-23T07:36:29.468Z"
   },
   {
    "duration": 1811,
    "start_time": "2023-03-24T06:52:33.518Z"
   },
   {
    "duration": 1587,
    "start_time": "2023-03-24T06:52:35.332Z"
   },
   {
    "duration": 38,
    "start_time": "2023-03-24T06:52:36.921Z"
   },
   {
    "duration": 193,
    "start_time": "2023-03-24T06:52:36.967Z"
   },
   {
    "duration": 29,
    "start_time": "2023-03-24T06:52:37.162Z"
   },
   {
    "duration": 3205,
    "start_time": "2023-03-24T06:52:37.193Z"
   },
   {
    "duration": 3694,
    "start_time": "2023-03-24T06:52:40.400Z"
   },
   {
    "duration": 845,
    "start_time": "2023-03-24T06:52:44.095Z"
   },
   {
    "duration": 157,
    "start_time": "2023-03-24T06:52:44.953Z"
   },
   {
    "duration": 266,
    "start_time": "2023-03-24T06:52:45.112Z"
   },
   {
    "duration": 165,
    "start_time": "2023-03-24T06:52:45.379Z"
   },
   {
    "duration": 16,
    "start_time": "2023-03-24T06:52:45.546Z"
   },
   {
    "duration": 1019,
    "start_time": "2023-03-24T06:52:45.564Z"
   },
   {
    "duration": 37,
    "start_time": "2023-03-24T06:52:46.585Z"
   },
   {
    "duration": 49,
    "start_time": "2023-03-24T06:52:46.624Z"
   },
   {
    "duration": 59,
    "start_time": "2023-03-24T06:52:46.676Z"
   },
   {
    "duration": 22,
    "start_time": "2023-03-24T06:52:46.737Z"
   },
   {
    "duration": 32,
    "start_time": "2023-03-24T06:52:46.762Z"
   },
   {
    "duration": 556,
    "start_time": "2023-03-24T06:52:46.796Z"
   },
   {
    "duration": 323,
    "start_time": "2023-03-24T06:52:47.362Z"
   },
   {
    "duration": 71,
    "start_time": "2023-03-24T06:52:48.189Z"
   },
   {
    "duration": 15,
    "start_time": "2023-03-24T06:52:49.485Z"
   },
   {
    "duration": 92,
    "start_time": "2023-03-24T06:52:49.887Z"
   },
   {
    "duration": 1087,
    "start_time": "2023-03-24T06:52:50.940Z"
   },
   {
    "duration": 775,
    "start_time": "2023-03-24T06:52:52.029Z"
   },
   {
    "duration": 182,
    "start_time": "2023-03-24T06:52:52.806Z"
   },
   {
    "duration": 150782,
    "start_time": "2023-03-24T06:52:54.953Z"
   },
   {
    "duration": 17,
    "start_time": "2023-03-24T06:55:25.740Z"
   },
   {
    "duration": 764285,
    "start_time": "2023-03-24T06:55:25.759Z"
   },
   {
    "duration": 735,
    "start_time": "2023-03-24T07:08:10.058Z"
   },
   {
    "duration": 121,
    "start_time": "2023-03-24T07:08:10.794Z"
   },
   {
    "duration": 1640,
    "start_time": "2023-03-24T18:18:14.969Z"
   },
   {
    "duration": 3240,
    "start_time": "2023-03-24T18:18:16.611Z"
   },
   {
    "duration": 16,
    "start_time": "2023-03-24T18:18:19.852Z"
   },
   {
    "duration": 110,
    "start_time": "2023-03-24T18:18:19.870Z"
   },
   {
    "duration": 23,
    "start_time": "2023-03-24T18:18:19.982Z"
   },
   {
    "duration": 2655,
    "start_time": "2023-03-24T18:18:20.006Z"
   },
   {
    "duration": 3180,
    "start_time": "2023-03-24T18:18:22.662Z"
   },
   {
    "duration": 783,
    "start_time": "2023-03-24T18:18:25.843Z"
   },
   {
    "duration": 138,
    "start_time": "2023-03-24T18:18:26.629Z"
   },
   {
    "duration": 198,
    "start_time": "2023-03-24T18:18:26.769Z"
   },
   {
    "duration": 103,
    "start_time": "2023-03-24T18:18:26.968Z"
   },
   {
    "duration": 2,
    "start_time": "2023-03-24T18:18:27.073Z"
   },
   {
    "duration": 702,
    "start_time": "2023-03-24T18:18:27.076Z"
   },
   {
    "duration": 29,
    "start_time": "2023-03-24T18:18:27.779Z"
   },
   {
    "duration": 8,
    "start_time": "2023-03-24T18:18:27.810Z"
   },
   {
    "duration": 62,
    "start_time": "2023-03-24T18:18:27.820Z"
   },
   {
    "duration": 7,
    "start_time": "2023-03-24T18:18:27.884Z"
   },
   {
    "duration": 15,
    "start_time": "2023-03-24T18:18:27.893Z"
   },
   {
    "duration": 398,
    "start_time": "2023-03-24T18:18:27.909Z"
   },
   {
    "duration": 290,
    "start_time": "2023-03-24T18:18:28.308Z"
   },
   {
    "duration": 68,
    "start_time": "2023-03-24T18:18:28.601Z"
   },
   {
    "duration": 16,
    "start_time": "2023-03-24T18:18:30.027Z"
   },
   {
    "duration": 69,
    "start_time": "2023-03-24T18:18:30.538Z"
   },
   {
    "duration": 444,
    "start_time": "2023-03-24T18:18:31.541Z"
   },
   {
    "duration": 418,
    "start_time": "2023-03-24T18:18:32.539Z"
   },
   {
    "duration": 130,
    "start_time": "2023-03-24T18:18:33.527Z"
   },
   {
    "duration": 27409,
    "start_time": "2023-03-24T18:18:36.342Z"
   },
   {
    "duration": 88,
    "start_time": "2023-03-24T18:19:03.753Z"
   },
   {
    "duration": 94315,
    "start_time": "2023-03-24T18:19:03.847Z"
   },
   {
    "duration": 686,
    "start_time": "2023-03-24T18:20:38.164Z"
   },
   {
    "duration": 61,
    "start_time": "2023-03-24T18:20:38.851Z"
   },
   {
    "duration": 1595,
    "start_time": "2023-03-24T22:17:56.531Z"
   },
   {
    "duration": 1285,
    "start_time": "2023-03-24T22:17:58.128Z"
   },
   {
    "duration": 15,
    "start_time": "2023-03-24T22:17:59.415Z"
   },
   {
    "duration": 122,
    "start_time": "2023-03-24T22:17:59.431Z"
   },
   {
    "duration": 37,
    "start_time": "2023-03-24T22:18:00.566Z"
   },
   {
    "duration": 2612,
    "start_time": "2023-03-24T22:18:07.457Z"
   },
   {
    "duration": 3442,
    "start_time": "2023-03-24T22:18:10.072Z"
   },
   {
    "duration": 741,
    "start_time": "2023-03-24T22:18:13.515Z"
   },
   {
    "duration": 119,
    "start_time": "2023-03-24T22:18:14.258Z"
   },
   {
    "duration": 198,
    "start_time": "2023-03-24T22:18:14.379Z"
   },
   {
    "duration": 115,
    "start_time": "2023-03-24T22:18:14.578Z"
   },
   {
    "duration": 3,
    "start_time": "2023-03-24T22:18:14.695Z"
   },
   {
    "duration": 842,
    "start_time": "2023-03-24T22:18:14.700Z"
   },
   {
    "duration": 47,
    "start_time": "2023-03-24T22:18:15.544Z"
   },
   {
    "duration": 10,
    "start_time": "2023-03-24T22:18:15.594Z"
   },
   {
    "duration": 50,
    "start_time": "2023-03-24T22:18:15.605Z"
   },
   {
    "duration": 12,
    "start_time": "2023-03-24T22:18:16.149Z"
   },
   {
    "duration": 30,
    "start_time": "2023-03-24T22:18:17.556Z"
   },
   {
    "duration": 479,
    "start_time": "2023-03-24T22:18:18.127Z"
   },
   {
    "duration": 290,
    "start_time": "2023-03-24T22:18:18.717Z"
   },
   {
    "duration": 70,
    "start_time": "2023-03-24T22:18:19.916Z"
   },
   {
    "duration": 16,
    "start_time": "2023-03-24T22:18:21.791Z"
   },
   {
    "duration": 79,
    "start_time": "2023-03-24T22:18:22.349Z"
   },
   {
    "duration": 568,
    "start_time": "2023-03-24T22:18:23.651Z"
   },
   {
    "duration": 456,
    "start_time": "2023-03-24T22:18:24.586Z"
   },
   {
    "duration": 133,
    "start_time": "2023-03-24T22:18:25.093Z"
   },
   {
    "duration": 92855,
    "start_time": "2023-03-24T22:18:27.631Z"
   },
   {
    "duration": 87,
    "start_time": "2023-03-24T22:20:00.490Z"
   },
   {
    "duration": 451012,
    "start_time": "2023-03-24T22:20:00.582Z"
   },
   {
    "duration": 633,
    "start_time": "2023-03-24T22:27:31.677Z"
   },
   {
    "duration": 77,
    "start_time": "2023-03-24T22:27:32.311Z"
   },
   {
    "duration": 25529595,
    "start_time": "2023-03-24T22:27:32.390Z"
   },
   {
    "duration": 1385,
    "start_time": "2023-03-25T06:25:25.306Z"
   },
   {
    "duration": 1013,
    "start_time": "2023-03-25T06:25:26.693Z"
   },
   {
    "duration": 14,
    "start_time": "2023-03-25T06:25:27.707Z"
   },
   {
    "duration": 102,
    "start_time": "2023-03-25T06:25:27.722Z"
   },
   {
    "duration": 19,
    "start_time": "2023-03-25T06:25:27.825Z"
   },
   {
    "duration": 2296,
    "start_time": "2023-03-25T06:25:27.845Z"
   },
   {
    "duration": 3024,
    "start_time": "2023-03-25T06:25:30.142Z"
   },
   {
    "duration": 666,
    "start_time": "2023-03-25T06:25:33.168Z"
   },
   {
    "duration": 97,
    "start_time": "2023-03-25T06:25:33.836Z"
   },
   {
    "duration": 197,
    "start_time": "2023-03-25T06:25:33.934Z"
   },
   {
    "duration": 103,
    "start_time": "2023-03-25T06:25:34.133Z"
   },
   {
    "duration": 2,
    "start_time": "2023-03-25T06:25:34.237Z"
   },
   {
    "duration": 744,
    "start_time": "2023-03-25T06:25:34.241Z"
   },
   {
    "duration": 31,
    "start_time": "2023-03-25T06:25:34.987Z"
   },
   {
    "duration": 17,
    "start_time": "2023-03-25T06:25:35.020Z"
   },
   {
    "duration": 64,
    "start_time": "2023-03-25T06:25:35.039Z"
   },
   {
    "duration": 8,
    "start_time": "2023-03-25T06:25:35.105Z"
   },
   {
    "duration": 46,
    "start_time": "2023-03-25T06:25:35.114Z"
   },
   {
    "duration": 430,
    "start_time": "2023-03-25T06:25:35.161Z"
   },
   {
    "duration": 307,
    "start_time": "2023-03-25T06:25:35.592Z"
   },
   {
    "duration": 81,
    "start_time": "2023-03-25T06:25:35.902Z"
   },
   {
    "duration": 16,
    "start_time": "2023-03-25T06:25:35.985Z"
   },
   {
    "duration": 67,
    "start_time": "2023-03-25T06:25:36.185Z"
   },
   {
    "duration": 442,
    "start_time": "2023-03-25T06:25:37.327Z"
   },
   {
    "duration": 425,
    "start_time": "2023-03-25T06:25:38.207Z"
   },
   {
    "duration": 121,
    "start_time": "2023-03-25T06:25:38.665Z"
   },
   {
    "duration": 24322,
    "start_time": "2023-03-25T06:25:40.056Z"
   },
   {
    "duration": 96,
    "start_time": "2023-03-25T06:26:04.380Z"
   },
   {
    "duration": 78123,
    "start_time": "2023-03-25T06:26:04.478Z"
   },
   {
    "duration": 599,
    "start_time": "2023-03-25T06:27:22.674Z"
   },
   {
    "duration": 64,
    "start_time": "2023-03-25T06:27:23.274Z"
   },
   {
    "duration": 1777,
    "start_time": "2023-03-27T06:15:33.972Z"
   },
   {
    "duration": 3099,
    "start_time": "2023-03-27T06:15:35.752Z"
   },
   {
    "duration": 22,
    "start_time": "2023-03-27T06:15:38.854Z"
   },
   {
    "duration": 121,
    "start_time": "2023-03-27T06:15:38.879Z"
   },
   {
    "duration": 22,
    "start_time": "2023-03-27T06:15:39.002Z"
   },
   {
    "duration": 2615,
    "start_time": "2023-03-27T06:15:39.026Z"
   },
   {
    "duration": 3458,
    "start_time": "2023-03-27T06:15:41.642Z"
   },
   {
    "duration": 807,
    "start_time": "2023-03-27T06:15:45.102Z"
   },
   {
    "duration": 103,
    "start_time": "2023-03-27T06:15:45.911Z"
   },
   {
    "duration": 224,
    "start_time": "2023-03-27T06:15:46.016Z"
   },
   {
    "duration": 174,
    "start_time": "2023-03-27T06:15:46.242Z"
   },
   {
    "duration": 3,
    "start_time": "2023-03-27T06:15:46.417Z"
   },
   {
    "duration": 932,
    "start_time": "2023-03-27T06:15:46.421Z"
   },
   {
    "duration": 29,
    "start_time": "2023-03-27T06:15:47.355Z"
   },
   {
    "duration": 8,
    "start_time": "2023-03-27T06:15:47.386Z"
   },
   {
    "duration": 71,
    "start_time": "2023-03-27T06:15:47.396Z"
   },
   {
    "duration": 8,
    "start_time": "2023-03-27T06:15:47.469Z"
   },
   {
    "duration": 17,
    "start_time": "2023-03-27T06:15:47.478Z"
   },
   {
    "duration": 463,
    "start_time": "2023-03-27T06:15:47.497Z"
   },
   {
    "duration": 365,
    "start_time": "2023-03-27T06:15:47.963Z"
   },
   {
    "duration": 71,
    "start_time": "2023-03-27T06:15:48.329Z"
   },
   {
    "duration": 17,
    "start_time": "2023-03-27T06:15:49.524Z"
   },
   {
    "duration": 90,
    "start_time": "2023-03-27T06:15:50.052Z"
   },
   {
    "duration": 594,
    "start_time": "2023-03-27T06:15:51.479Z"
   },
   {
    "duration": 638,
    "start_time": "2023-03-27T06:15:52.339Z"
   },
   {
    "duration": 144,
    "start_time": "2023-03-27T06:15:52.979Z"
   },
   {
    "duration": 52642,
    "start_time": "2023-03-27T06:15:54.308Z"
   },
   {
    "duration": 87,
    "start_time": "2023-03-27T06:16:46.956Z"
   },
   {
    "duration": 291236,
    "start_time": "2023-03-27T06:16:47.044Z"
   },
   {
    "duration": 630,
    "start_time": "2023-03-27T06:21:38.351Z"
   },
   {
    "duration": 106,
    "start_time": "2023-03-27T06:21:38.983Z"
   },
   {
    "duration": 1761,
    "start_time": "2023-03-27T11:02:25.570Z"
   },
   {
    "duration": 4154,
    "start_time": "2023-03-27T11:02:27.333Z"
   },
   {
    "duration": 16,
    "start_time": "2023-03-27T11:02:31.490Z"
   },
   {
    "duration": 188,
    "start_time": "2023-03-27T11:02:31.508Z"
   },
   {
    "duration": 24,
    "start_time": "2023-03-27T11:02:31.697Z"
   },
   {
    "duration": 2788,
    "start_time": "2023-03-27T11:02:31.723Z"
   },
   {
    "duration": 3966,
    "start_time": "2023-03-27T11:02:34.513Z"
   },
   {
    "duration": 843,
    "start_time": "2023-03-27T11:02:38.483Z"
   },
   {
    "duration": 163,
    "start_time": "2023-03-27T11:02:39.327Z"
   },
   {
    "duration": 228,
    "start_time": "2023-03-27T11:02:39.492Z"
   },
   {
    "duration": 158,
    "start_time": "2023-03-27T11:02:39.722Z"
   },
   {
    "duration": 3,
    "start_time": "2023-03-27T11:02:39.882Z"
   },
   {
    "duration": 1034,
    "start_time": "2023-03-27T11:02:39.887Z"
   },
   {
    "duration": 57,
    "start_time": "2023-03-27T11:02:40.923Z"
   },
   {
    "duration": 12,
    "start_time": "2023-03-27T11:02:40.981Z"
   },
   {
    "duration": 56,
    "start_time": "2023-03-27T11:02:40.994Z"
   },
   {
    "duration": 23,
    "start_time": "2023-03-27T11:02:41.060Z"
   },
   {
    "duration": 18,
    "start_time": "2023-03-27T11:02:41.084Z"
   },
   {
    "duration": 573,
    "start_time": "2023-03-27T11:02:41.104Z"
   },
   {
    "duration": 321,
    "start_time": "2023-03-27T11:02:41.686Z"
   },
   {
    "duration": 95,
    "start_time": "2023-03-27T11:02:42.009Z"
   },
   {
    "duration": 16,
    "start_time": "2023-03-27T11:02:42.106Z"
   },
   {
    "duration": 94,
    "start_time": "2023-03-27T11:02:42.124Z"
   },
   {
    "duration": 561,
    "start_time": "2023-03-27T11:02:42.220Z"
   },
   {
    "duration": 517,
    "start_time": "2023-03-27T11:02:42.782Z"
   },
   {
    "duration": 179,
    "start_time": "2023-03-27T11:02:43.301Z"
   },
   {
    "duration": 128890,
    "start_time": "2023-03-27T11:02:44.165Z"
   },
   {
    "duration": 28,
    "start_time": "2023-03-27T11:04:53.065Z"
   },
   {
    "duration": 1654,
    "start_time": "2023-03-27T13:02:22.199Z"
   },
   {
    "duration": 1229,
    "start_time": "2023-03-27T13:02:23.855Z"
   },
   {
    "duration": 22,
    "start_time": "2023-03-27T13:02:25.086Z"
   },
   {
    "duration": 124,
    "start_time": "2023-03-27T13:02:25.111Z"
   },
   {
    "duration": 34,
    "start_time": "2023-03-27T13:02:25.237Z"
   },
   {
    "duration": 3312,
    "start_time": "2023-03-27T13:02:25.274Z"
   },
   {
    "duration": 3370,
    "start_time": "2023-03-27T13:02:28.588Z"
   },
   {
    "duration": 871,
    "start_time": "2023-03-27T13:02:31.962Z"
   },
   {
    "duration": 119,
    "start_time": "2023-03-27T13:02:32.835Z"
   },
   {
    "duration": 293,
    "start_time": "2023-03-27T13:02:32.961Z"
   },
   {
    "duration": 107,
    "start_time": "2023-03-27T13:02:33.256Z"
   },
   {
    "duration": 4,
    "start_time": "2023-03-27T13:02:33.365Z"
   },
   {
    "duration": 1104,
    "start_time": "2023-03-27T13:02:33.371Z"
   },
   {
    "duration": 56,
    "start_time": "2023-03-27T13:02:34.479Z"
   },
   {
    "duration": 30,
    "start_time": "2023-03-27T13:02:34.537Z"
   },
   {
    "duration": 72,
    "start_time": "2023-03-27T13:02:34.699Z"
   },
   {
    "duration": 11,
    "start_time": "2023-03-27T13:02:35.157Z"
   },
   {
    "duration": 19,
    "start_time": "2023-03-27T13:02:36.294Z"
   },
   {
    "duration": 497,
    "start_time": "2023-03-27T13:02:36.774Z"
   },
   {
    "duration": 413,
    "start_time": "2023-03-27T13:02:37.274Z"
   },
   {
    "duration": 71,
    "start_time": "2023-03-27T13:02:38.271Z"
   },
   {
    "duration": 19,
    "start_time": "2023-03-27T13:02:39.851Z"
   },
   {
    "duration": 76,
    "start_time": "2023-03-27T13:02:40.391Z"
   },
   {
    "duration": 1038,
    "start_time": "2023-03-27T13:02:41.558Z"
   },
   {
    "duration": 646,
    "start_time": "2023-03-27T13:02:42.598Z"
   },
   {
    "duration": 149,
    "start_time": "2023-03-27T13:02:43.247Z"
   },
   {
    "duration": 50257,
    "start_time": "2023-03-27T13:02:44.806Z"
   },
   {
    "duration": 95,
    "start_time": "2023-03-27T13:03:35.069Z"
   },
   {
    "duration": 127709,
    "start_time": "2023-03-27T13:03:35.165Z"
   },
   {
    "duration": 505,
    "start_time": "2023-03-27T13:05:42.963Z"
   },
   {
    "duration": 101,
    "start_time": "2023-03-27T13:05:43.470Z"
   },
   {
    "duration": 1725,
    "start_time": "2023-03-27T17:51:06.839Z"
   },
   {
    "duration": 1118,
    "start_time": "2023-03-27T17:51:08.567Z"
   },
   {
    "duration": 16,
    "start_time": "2023-03-27T17:51:09.687Z"
   },
   {
    "duration": 110,
    "start_time": "2023-03-27T17:51:09.705Z"
   },
   {
    "duration": 28,
    "start_time": "2023-03-27T17:51:09.817Z"
   },
   {
    "duration": 2586,
    "start_time": "2023-03-27T17:51:09.846Z"
   },
   {
    "duration": 3324,
    "start_time": "2023-03-27T17:51:12.435Z"
   },
   {
    "duration": 772,
    "start_time": "2023-03-27T17:51:15.761Z"
   },
   {
    "duration": 150,
    "start_time": "2023-03-27T17:51:16.535Z"
   },
   {
    "duration": 227,
    "start_time": "2023-03-27T17:51:16.687Z"
   },
   {
    "duration": 113,
    "start_time": "2023-03-27T17:51:16.915Z"
   },
   {
    "duration": 2,
    "start_time": "2023-03-27T17:51:17.031Z"
   },
   {
    "duration": 829,
    "start_time": "2023-03-27T17:51:17.040Z"
   },
   {
    "duration": 29,
    "start_time": "2023-03-27T17:51:17.871Z"
   },
   {
    "duration": 9,
    "start_time": "2023-03-27T17:51:17.902Z"
   },
   {
    "duration": 69,
    "start_time": "2023-03-27T17:51:17.912Z"
   },
   {
    "duration": 9,
    "start_time": "2023-03-27T17:51:17.983Z"
   },
   {
    "duration": 17,
    "start_time": "2023-03-27T17:51:17.994Z"
   },
   {
    "duration": 463,
    "start_time": "2023-03-27T17:51:18.012Z"
   },
   {
    "duration": 304,
    "start_time": "2023-03-27T17:51:18.477Z"
   },
   {
    "duration": 69,
    "start_time": "2023-03-27T17:51:18.783Z"
   },
   {
    "duration": 16,
    "start_time": "2023-03-27T17:51:18.854Z"
   },
   {
    "duration": 79,
    "start_time": "2023-03-27T17:51:18.871Z"
   },
   {
    "duration": 494,
    "start_time": "2023-03-27T17:51:19.286Z"
   },
   {
    "duration": 441,
    "start_time": "2023-03-27T17:51:20.377Z"
   },
   {
    "duration": 139,
    "start_time": "2023-03-27T17:51:20.821Z"
   },
   {
    "duration": 27924,
    "start_time": "2023-03-27T17:51:23.521Z"
   },
   {
    "duration": 96,
    "start_time": "2023-03-27T17:51:51.447Z"
   },
   {
    "duration": 89294,
    "start_time": "2023-03-27T17:51:51.545Z"
   },
   {
    "duration": 618,
    "start_time": "2023-03-27T17:53:20.842Z"
   },
   {
    "duration": 66,
    "start_time": "2023-03-27T17:53:21.462Z"
   },
   {
    "duration": 1710,
    "start_time": "2023-03-28T06:04:07.858Z"
   },
   {
    "duration": 3485,
    "start_time": "2023-03-28T06:04:09.570Z"
   },
   {
    "duration": 19,
    "start_time": "2023-03-28T06:04:13.056Z"
   },
   {
    "duration": 146,
    "start_time": "2023-03-28T06:04:13.077Z"
   },
   {
    "duration": 27,
    "start_time": "2023-03-28T06:04:13.226Z"
   },
   {
    "duration": 3176,
    "start_time": "2023-03-28T06:04:13.255Z"
   },
   {
    "duration": 3343,
    "start_time": "2023-03-28T06:04:16.433Z"
   },
   {
    "duration": 902,
    "start_time": "2023-03-28T06:04:19.778Z"
   },
   {
    "duration": 112,
    "start_time": "2023-03-28T06:04:20.682Z"
   },
   {
    "duration": 293,
    "start_time": "2023-03-28T06:04:20.796Z"
   },
   {
    "duration": 117,
    "start_time": "2023-03-28T06:04:21.091Z"
   },
   {
    "duration": 10,
    "start_time": "2023-03-28T06:04:21.210Z"
   },
   {
    "duration": 1073,
    "start_time": "2023-03-28T06:04:21.244Z"
   },
   {
    "duration": 40,
    "start_time": "2023-03-28T06:04:22.319Z"
   },
   {
    "duration": 41,
    "start_time": "2023-03-28T06:04:22.361Z"
   },
   {
    "duration": 74,
    "start_time": "2023-03-28T06:04:22.404Z"
   },
   {
    "duration": 9,
    "start_time": "2023-03-28T06:04:22.480Z"
   },
   {
    "duration": 21,
    "start_time": "2023-03-28T06:04:22.490Z"
   },
   {
    "duration": 579,
    "start_time": "2023-03-28T06:04:22.512Z"
   },
   {
    "duration": 379,
    "start_time": "2023-03-28T06:04:23.092Z"
   },
   {
    "duration": 88,
    "start_time": "2023-03-28T06:04:23.473Z"
   },
   {
    "duration": 18,
    "start_time": "2023-03-28T06:04:23.564Z"
   },
   {
    "duration": 88,
    "start_time": "2023-03-28T06:04:23.584Z"
   },
   {
    "duration": 1032,
    "start_time": "2023-03-28T06:04:23.674Z"
   },
   {
    "duration": 740,
    "start_time": "2023-03-28T06:04:24.708Z"
   },
   {
    "duration": 148,
    "start_time": "2023-03-28T06:04:25.452Z"
   },
   {
    "duration": 101319,
    "start_time": "2023-03-28T06:04:26.226Z"
   },
   {
    "duration": 10,
    "start_time": "2023-03-28T06:06:07.555Z"
   },
   {
    "duration": 497802,
    "start_time": "2023-03-28T06:06:07.642Z"
   },
   {
    "duration": 801,
    "start_time": "2023-03-28T06:14:25.446Z"
   },
   {
    "duration": 122,
    "start_time": "2023-03-28T06:14:26.249Z"
   },
   {
    "duration": 9757978,
    "start_time": "2023-03-28T06:14:26.372Z"
   },
   {
    "duration": 128,
    "start_time": "2023-03-28T08:57:04.352Z"
   },
   {
    "duration": 30,
    "start_time": "2023-03-28T09:15:34.330Z"
   },
   {
    "duration": 33,
    "start_time": "2023-03-28T09:18:20.835Z"
   },
   {
    "duration": 24,
    "start_time": "2023-03-28T09:18:27.561Z"
   },
   {
    "duration": 3,
    "start_time": "2023-03-28T09:21:35.566Z"
   },
   {
    "duration": 1592,
    "start_time": "2023-03-28T09:23:17.916Z"
   },
   {
    "duration": 3920,
    "start_time": "2023-03-28T09:23:19.510Z"
   },
   {
    "duration": 31,
    "start_time": "2023-03-28T09:23:23.432Z"
   },
   {
    "duration": 154,
    "start_time": "2023-03-28T09:23:23.466Z"
   },
   {
    "duration": 34,
    "start_time": "2023-03-28T09:23:23.621Z"
   },
   {
    "duration": 3277,
    "start_time": "2023-03-28T09:23:23.657Z"
   },
   {
    "duration": 3615,
    "start_time": "2023-03-28T09:23:26.936Z"
   },
   {
    "duration": 927,
    "start_time": "2023-03-28T09:23:30.559Z"
   },
   {
    "duration": 116,
    "start_time": "2023-03-28T09:23:31.489Z"
   },
   {
    "duration": 259,
    "start_time": "2023-03-28T09:23:31.606Z"
   },
   {
    "duration": 115,
    "start_time": "2023-03-28T09:23:31.869Z"
   },
   {
    "duration": 22,
    "start_time": "2023-03-28T09:23:31.986Z"
   },
   {
    "duration": 1125,
    "start_time": "2023-03-28T09:23:32.010Z"
   },
   {
    "duration": 40,
    "start_time": "2023-03-28T09:23:33.147Z"
   },
   {
    "duration": 18,
    "start_time": "2023-03-28T09:23:33.188Z"
   },
   {
    "duration": 88,
    "start_time": "2023-03-28T09:23:33.207Z"
   },
   {
    "duration": 8,
    "start_time": "2023-03-28T09:23:33.297Z"
   },
   {
    "duration": 21,
    "start_time": "2023-03-28T09:23:33.307Z"
   },
   {
    "duration": 624,
    "start_time": "2023-03-28T09:23:33.343Z"
   },
   {
    "duration": 361,
    "start_time": "2023-03-28T09:23:33.969Z"
   },
   {
    "duration": 101,
    "start_time": "2023-03-28T09:23:34.333Z"
   },
   {
    "duration": 28,
    "start_time": "2023-03-28T09:23:34.436Z"
   },
   {
    "duration": 84,
    "start_time": "2023-03-28T09:23:34.908Z"
   },
   {
    "duration": 1101,
    "start_time": "2023-03-28T09:23:36.011Z"
   },
   {
    "duration": 722,
    "start_time": "2023-03-28T09:23:37.114Z"
   },
   {
    "duration": 166,
    "start_time": "2023-03-28T09:23:37.838Z"
   },
   {
    "duration": 112485,
    "start_time": "2023-03-28T09:23:38.571Z"
   },
   {
    "duration": 91,
    "start_time": "2023-03-28T09:25:31.058Z"
   },
   {
    "duration": 434705,
    "start_time": "2023-03-28T09:25:31.158Z"
   },
   {
    "duration": 723,
    "start_time": "2023-03-28T09:32:45.872Z"
   },
   {
    "duration": 160,
    "start_time": "2023-03-28T09:32:46.596Z"
   },
   {
    "duration": 404,
    "start_time": "2023-03-28T09:32:46.758Z"
   },
   {
    "duration": 12,
    "start_time": "2023-03-28T09:32:47.165Z"
   },
   {
    "duration": 0,
    "start_time": "2023-03-28T09:32:47.179Z"
   },
   {
    "duration": 0,
    "start_time": "2023-03-28T09:32:47.180Z"
   },
   {
    "duration": 0,
    "start_time": "2023-03-28T09:32:47.181Z"
   },
   {
    "duration": 0,
    "start_time": "2023-03-28T09:32:47.182Z"
   },
   {
    "duration": 0,
    "start_time": "2023-03-28T09:32:47.184Z"
   },
   {
    "duration": 0,
    "start_time": "2023-03-28T09:32:47.185Z"
   },
   {
    "duration": 0,
    "start_time": "2023-03-28T09:32:47.186Z"
   },
   {
    "duration": 5101846,
    "start_time": "2023-03-28T10:37:17.222Z"
   },
   {
    "duration": 1744,
    "start_time": "2023-03-28T12:07:35.292Z"
   },
   {
    "duration": 3761,
    "start_time": "2023-03-28T12:07:37.038Z"
   },
   {
    "duration": 17,
    "start_time": "2023-03-28T12:07:40.801Z"
   },
   {
    "duration": 139,
    "start_time": "2023-03-28T12:07:40.821Z"
   },
   {
    "duration": 26,
    "start_time": "2023-03-28T12:07:40.964Z"
   },
   {
    "duration": 3089,
    "start_time": "2023-03-28T12:07:40.992Z"
   },
   {
    "duration": 3789,
    "start_time": "2023-03-28T12:07:44.083Z"
   },
   {
    "duration": 891,
    "start_time": "2023-03-28T12:07:47.879Z"
   },
   {
    "duration": 121,
    "start_time": "2023-03-28T12:07:48.772Z"
   },
   {
    "duration": 287,
    "start_time": "2023-03-28T12:07:48.896Z"
   },
   {
    "duration": 146,
    "start_time": "2023-03-28T12:07:49.185Z"
   },
   {
    "duration": 3,
    "start_time": "2023-03-28T12:07:49.333Z"
   },
   {
    "duration": 1153,
    "start_time": "2023-03-28T12:07:49.338Z"
   },
   {
    "duration": 32,
    "start_time": "2023-03-28T12:07:50.492Z"
   },
   {
    "duration": 25,
    "start_time": "2023-03-28T12:07:50.526Z"
   },
   {
    "duration": 86,
    "start_time": "2023-03-28T12:07:50.553Z"
   },
   {
    "duration": 19,
    "start_time": "2023-03-28T12:07:50.641Z"
   },
   {
    "duration": 24,
    "start_time": "2023-03-28T12:07:50.665Z"
   },
   {
    "duration": 590,
    "start_time": "2023-03-28T12:07:50.691Z"
   },
   {
    "duration": 350,
    "start_time": "2023-03-28T12:07:51.283Z"
   },
   {
    "duration": 94,
    "start_time": "2023-03-28T12:07:51.635Z"
   },
   {
    "duration": 39,
    "start_time": "2023-03-28T12:07:51.731Z"
   },
   {
    "duration": 79,
    "start_time": "2023-03-28T12:07:51.772Z"
   },
   {
    "duration": 945,
    "start_time": "2023-03-28T12:07:51.859Z"
   },
   {
    "duration": 728,
    "start_time": "2023-03-28T12:07:52.806Z"
   },
   {
    "duration": 174,
    "start_time": "2023-03-28T12:07:53.536Z"
   },
   {
    "duration": 116552,
    "start_time": "2023-03-28T12:07:53.714Z"
   },
   {
    "duration": 85,
    "start_time": "2023-03-28T12:09:50.268Z"
   },
   {
    "duration": 507488,
    "start_time": "2023-03-28T12:09:50.360Z"
   },
   {
    "duration": 677,
    "start_time": "2023-03-28T12:18:17.852Z"
   },
   {
    "duration": 125,
    "start_time": "2023-03-28T12:18:18.531Z"
   },
   {
    "duration": 5157095,
    "start_time": "2023-03-28T12:18:18.658Z"
   },
   {
    "duration": 1582,
    "start_time": "2023-03-30T11:54:32.331Z"
   },
   {
    "duration": 2989,
    "start_time": "2023-03-30T11:54:33.914Z"
   },
   {
    "duration": 15,
    "start_time": "2023-03-30T11:54:51.232Z"
   },
   {
    "duration": 1572,
    "start_time": "2023-03-30T13:00:48.358Z"
   },
   {
    "duration": 792,
    "start_time": "2023-03-30T13:00:49.931Z"
   },
   {
    "duration": 15,
    "start_time": "2023-03-30T13:00:50.724Z"
   },
   {
    "duration": 113,
    "start_time": "2023-03-30T13:00:50.740Z"
   },
   {
    "duration": 23,
    "start_time": "2023-03-30T13:00:51.870Z"
   },
   {
    "duration": 2354,
    "start_time": "2023-03-30T13:00:52.462Z"
   },
   {
    "duration": 1341,
    "start_time": "2023-03-30T13:02:25.614Z"
   },
   {
    "duration": 816,
    "start_time": "2023-03-30T13:02:26.957Z"
   },
   {
    "duration": 16,
    "start_time": "2023-03-30T13:02:27.775Z"
   },
   {
    "duration": 116,
    "start_time": "2023-03-30T13:02:27.792Z"
   },
   {
    "duration": 20,
    "start_time": "2023-03-30T13:02:29.025Z"
   },
   {
    "duration": 2521,
    "start_time": "2023-03-30T13:03:09.966Z"
   },
   {
    "duration": 3182,
    "start_time": "2023-03-30T13:03:12.489Z"
   },
   {
    "duration": 15,
    "start_time": "2023-03-30T13:03:38.430Z"
   },
   {
    "duration": 692,
    "start_time": "2023-03-30T13:06:24.045Z"
   },
   {
    "duration": 101,
    "start_time": "2023-03-30T13:06:24.738Z"
   },
   {
    "duration": 185,
    "start_time": "2023-03-30T13:07:22.462Z"
   },
   {
    "duration": 99,
    "start_time": "2023-03-30T13:07:23.422Z"
   },
   {
    "duration": 3,
    "start_time": "2023-03-30T13:08:41.037Z"
   },
   {
    "duration": 723,
    "start_time": "2023-03-30T13:08:41.647Z"
   },
   {
    "duration": 85,
    "start_time": "2023-03-30T13:10:26.494Z"
   },
   {
    "duration": 559,
    "start_time": "2023-03-30T13:10:43.248Z"
   },
   {
    "duration": 50,
    "start_time": "2023-03-30T13:11:42.669Z"
   },
   {
    "duration": 8,
    "start_time": "2023-03-30T13:11:44.588Z"
   },
   {
    "duration": 17,
    "start_time": "2023-03-30T13:11:58.637Z"
   },
   {
    "duration": 427,
    "start_time": "2023-03-30T13:16:00.878Z"
   },
   {
    "duration": 301,
    "start_time": "2023-03-30T13:16:21.932Z"
   },
   {
    "duration": 293,
    "start_time": "2023-03-30T13:16:34.717Z"
   },
   {
    "duration": 293,
    "start_time": "2023-03-30T13:18:52.781Z"
   },
   {
    "duration": 65,
    "start_time": "2023-03-30T13:20:26.028Z"
   },
   {
    "duration": 301,
    "start_time": "2023-03-30T13:20:26.388Z"
   },
   {
    "duration": 22,
    "start_time": "2023-03-30T13:22:35.455Z"
   },
   {
    "duration": 65,
    "start_time": "2023-03-30T13:22:36.684Z"
   },
   {
    "duration": 498,
    "start_time": "2023-03-30T13:22:58.395Z"
   },
   {
    "duration": 446,
    "start_time": "2023-03-30T13:23:14.047Z"
   },
   {
    "duration": 139,
    "start_time": "2023-03-30T13:23:17.851Z"
   },
   {
    "duration": 26677,
    "start_time": "2023-03-30T13:25:10.203Z"
   },
   {
    "duration": 91,
    "start_time": "2023-03-30T13:25:36.882Z"
   },
   {
    "duration": 103824,
    "start_time": "2023-03-30T13:25:36.975Z"
   },
   {
    "duration": 757,
    "start_time": "2023-03-30T13:27:20.874Z"
   },
   {
    "duration": 73,
    "start_time": "2023-03-30T13:27:21.633Z"
   },
   {
    "duration": 3232673,
    "start_time": "2023-03-30T13:27:21.707Z"
   },
   {
    "duration": 1471,
    "start_time": "2023-03-30T14:23:54.560Z"
   },
   {
    "duration": 2795,
    "start_time": "2023-03-30T14:23:56.033Z"
   },
   {
    "duration": 15,
    "start_time": "2023-03-30T14:23:58.830Z"
   },
   {
    "duration": 110,
    "start_time": "2023-03-30T14:23:58.847Z"
   },
   {
    "duration": 27,
    "start_time": "2023-03-30T14:23:58.959Z"
   },
   {
    "duration": 2477,
    "start_time": "2023-03-30T14:23:58.987Z"
   },
   {
    "duration": 3317,
    "start_time": "2023-03-30T14:24:01.466Z"
   },
   {
    "duration": 747,
    "start_time": "2023-03-30T14:24:04.785Z"
   },
   {
    "duration": 110,
    "start_time": "2023-03-30T14:24:05.534Z"
   },
   {
    "duration": 218,
    "start_time": "2023-03-30T14:24:05.645Z"
   },
   {
    "duration": 114,
    "start_time": "2023-03-30T14:24:05.864Z"
   },
   {
    "duration": 2,
    "start_time": "2023-03-30T14:24:05.979Z"
   },
   {
    "duration": 814,
    "start_time": "2023-03-30T14:24:05.983Z"
   },
   {
    "duration": 605,
    "start_time": "2023-03-30T14:24:06.799Z"
   },
   {
    "duration": 50,
    "start_time": "2023-03-30T14:24:07.407Z"
   },
   {
    "duration": 19,
    "start_time": "2023-03-30T14:24:07.459Z"
   },
   {
    "duration": 17,
    "start_time": "2023-03-30T14:24:07.479Z"
   },
   {
    "duration": 341,
    "start_time": "2023-03-30T14:24:08.005Z"
   },
   {
    "duration": 64,
    "start_time": "2023-03-30T14:24:09.765Z"
   },
   {
    "duration": 318,
    "start_time": "2023-03-30T14:24:10.564Z"
   },
   {
    "duration": 15,
    "start_time": "2023-03-30T14:24:13.764Z"
   },
   {
    "duration": 64,
    "start_time": "2023-03-30T14:24:14.325Z"
   },
   {
    "duration": 468,
    "start_time": "2023-03-30T14:24:15.540Z"
   },
   {
    "duration": 441,
    "start_time": "2023-03-30T14:24:16.789Z"
   },
   {
    "duration": 129,
    "start_time": "2023-03-30T14:24:17.685Z"
   },
   {
    "duration": 27065,
    "start_time": "2023-03-30T14:24:19.411Z"
   },
   {
    "duration": 95,
    "start_time": "2023-03-30T14:24:46.478Z"
   },
   {
    "duration": 82697,
    "start_time": "2023-03-30T14:24:46.575Z"
   },
   {
    "duration": 632,
    "start_time": "2023-03-30T14:26:09.275Z"
   },
   {
    "duration": 70,
    "start_time": "2023-03-30T14:26:09.909Z"
   },
   {
    "duration": 1694,
    "start_time": "2023-03-31T05:58:52.472Z"
   },
   {
    "duration": 1237,
    "start_time": "2023-03-31T05:58:54.169Z"
   },
   {
    "duration": 16,
    "start_time": "2023-03-31T05:58:55.408Z"
   },
   {
    "duration": 125,
    "start_time": "2023-03-31T05:58:55.426Z"
   },
   {
    "duration": 35,
    "start_time": "2023-03-31T05:58:55.553Z"
   },
   {
    "duration": 2849,
    "start_time": "2023-03-31T05:58:55.689Z"
   },
   {
    "duration": 3329,
    "start_time": "2023-03-31T05:58:58.540Z"
   },
   {
    "duration": 797,
    "start_time": "2023-03-31T05:59:01.871Z"
   },
   {
    "duration": 107,
    "start_time": "2023-03-31T05:59:02.671Z"
   },
   {
    "duration": 207,
    "start_time": "2023-03-31T05:59:02.780Z"
   },
   {
    "duration": 112,
    "start_time": "2023-03-31T05:59:02.989Z"
   },
   {
    "duration": 3,
    "start_time": "2023-03-31T05:59:03.102Z"
   },
   {
    "duration": 894,
    "start_time": "2023-03-31T05:59:03.106Z"
   },
   {
    "duration": 735,
    "start_time": "2023-03-31T05:59:04.002Z"
   },
   {
    "duration": 68,
    "start_time": "2023-03-31T05:59:04.739Z"
   },
   {
    "duration": 11,
    "start_time": "2023-03-31T05:59:04.809Z"
   },
   {
    "duration": 16,
    "start_time": "2023-03-31T05:59:05.111Z"
   },
   {
    "duration": 403,
    "start_time": "2023-03-31T05:59:05.689Z"
   },
   {
    "duration": 77,
    "start_time": "2023-03-31T05:59:06.839Z"
   },
   {
    "duration": 383,
    "start_time": "2023-03-31T05:59:07.351Z"
   },
   {
    "duration": 17,
    "start_time": "2023-03-31T05:59:10.096Z"
   },
   {
    "duration": 73,
    "start_time": "2023-03-31T05:59:10.615Z"
   },
   {
    "duration": 836,
    "start_time": "2023-03-31T05:59:11.751Z"
   },
   {
    "duration": 653,
    "start_time": "2023-03-31T05:59:12.743Z"
   },
   {
    "duration": 158,
    "start_time": "2023-03-31T05:59:13.398Z"
   },
   {
    "duration": 71858,
    "start_time": "2023-03-31T05:59:19.926Z"
   },
   {
    "duration": 91,
    "start_time": "2023-03-31T06:00:31.787Z"
   },
   {
    "duration": 426900,
    "start_time": "2023-03-31T06:00:31.887Z"
   },
   {
    "duration": 617,
    "start_time": "2023-03-31T06:07:38.790Z"
   },
   {
    "duration": 102,
    "start_time": "2023-03-31T06:07:39.409Z"
   },
   {
    "duration": 2380768,
    "start_time": "2023-03-31T06:07:39.512Z"
   },
   {
    "duration": 65027,
    "start_time": "2023-03-31T06:47:20.292Z"
   },
   {
    "duration": 186,
    "start_time": "2023-03-31T06:48:38.857Z"
   },
   {
    "duration": 13,
    "start_time": "2023-03-31T06:48:39.601Z"
   },
   {
    "duration": 13,
    "start_time": "2023-03-31T06:49:43.385Z"
   },
   {
    "duration": 31418,
    "start_time": "2023-03-31T06:49:49.306Z"
   },
   {
    "duration": 16,
    "start_time": "2023-03-31T06:50:20.726Z"
   },
   {
    "duration": 110,
    "start_time": "2023-03-31T06:51:38.170Z"
   },
   {
    "duration": 31400,
    "start_time": "2023-03-31T06:51:57.034Z"
   },
   {
    "duration": 159,
    "start_time": "2023-03-31T06:52:28.436Z"
   },
   {
    "duration": 3892298,
    "start_time": "2023-03-31T06:52:28.597Z"
   },
   {
    "duration": 446334,
    "start_time": "2023-03-31T07:57:20.897Z"
   },
   {
    "duration": 16,
    "start_time": "2023-03-31T08:04:47.233Z"
   },
   {
    "duration": 1943,
    "start_time": "2023-04-03T06:04:11.400Z"
   },
   {
    "duration": 3039,
    "start_time": "2023-04-03T06:04:13.345Z"
   },
   {
    "duration": 18,
    "start_time": "2023-04-03T06:04:16.385Z"
   },
   {
    "duration": 144,
    "start_time": "2023-04-03T06:04:16.417Z"
   },
   {
    "duration": 30,
    "start_time": "2023-04-03T06:04:16.563Z"
   },
   {
    "duration": 2934,
    "start_time": "2023-04-03T06:04:16.595Z"
   },
   {
    "duration": 3381,
    "start_time": "2023-04-03T06:04:19.531Z"
   },
   {
    "duration": 881,
    "start_time": "2023-04-03T06:04:22.917Z"
   },
   {
    "duration": 134,
    "start_time": "2023-04-03T06:04:23.799Z"
   },
   {
    "duration": 235,
    "start_time": "2023-04-03T06:04:23.936Z"
   },
   {
    "duration": 131,
    "start_time": "2023-04-03T06:04:24.172Z"
   },
   {
    "duration": 11,
    "start_time": "2023-04-03T06:04:24.304Z"
   },
   {
    "duration": 993,
    "start_time": "2023-04-03T06:04:24.318Z"
   },
   {
    "duration": 731,
    "start_time": "2023-04-03T06:04:25.318Z"
   },
   {
    "duration": 65,
    "start_time": "2023-04-03T06:04:26.052Z"
   },
   {
    "duration": 10,
    "start_time": "2023-04-03T06:04:26.119Z"
   },
   {
    "duration": 18,
    "start_time": "2023-04-03T06:04:26.198Z"
   },
   {
    "duration": 351,
    "start_time": "2023-04-03T06:04:26.646Z"
   },
   {
    "duration": 69,
    "start_time": "2023-04-03T06:04:27.559Z"
   },
   {
    "duration": 396,
    "start_time": "2023-04-03T06:04:27.994Z"
   },
   {
    "duration": 17,
    "start_time": "2023-04-03T06:04:30.215Z"
   },
   {
    "duration": 82,
    "start_time": "2023-04-03T06:04:30.596Z"
   },
   {
    "duration": 719,
    "start_time": "2023-04-03T06:04:31.464Z"
   },
   {
    "duration": 626,
    "start_time": "2023-04-03T06:04:32.326Z"
   },
   {
    "duration": 165,
    "start_time": "2023-04-03T06:04:34.215Z"
   },
   {
    "duration": 44685,
    "start_time": "2023-04-03T06:04:36.455Z"
   },
   {
    "duration": 99,
    "start_time": "2023-04-03T06:05:21.219Z"
   },
   {
    "duration": 202698,
    "start_time": "2023-04-03T06:05:21.321Z"
   },
   {
    "duration": 643,
    "start_time": "2023-04-03T06:08:44.026Z"
   },
   {
    "duration": 97,
    "start_time": "2023-04-03T06:08:44.671Z"
   },
   {
    "duration": 2250363,
    "start_time": "2023-04-03T06:08:44.769Z"
   },
   {
    "duration": 63780,
    "start_time": "2023-04-03T06:46:15.134Z"
   },
   {
    "duration": 3827514,
    "start_time": "2023-04-03T06:50:42.321Z"
   },
   {
    "duration": 130,
    "start_time": "2023-04-03T07:54:29.837Z"
   },
   {
    "duration": 133,
    "start_time": "2023-04-03T08:01:39.777Z"
   },
   {
    "duration": 440186,
    "start_time": "2023-04-03T08:01:43.263Z"
   },
   {
    "duration": 191,
    "start_time": "2023-04-03T08:11:57.139Z"
   },
   {
    "duration": 124,
    "start_time": "2023-04-03T08:12:12.261Z"
   },
   {
    "duration": 110,
    "start_time": "2023-04-03T08:12:19.692Z"
   },
   {
    "duration": 162,
    "start_time": "2023-04-03T08:12:40.462Z"
   },
   {
    "duration": 1759,
    "start_time": "2023-04-04T06:10:22.345Z"
   },
   {
    "duration": 2876,
    "start_time": "2023-04-04T06:10:24.871Z"
   },
   {
    "duration": 16,
    "start_time": "2023-04-04T06:10:27.749Z"
   },
   {
    "duration": 106,
    "start_time": "2023-04-04T06:10:27.772Z"
   },
   {
    "duration": 21,
    "start_time": "2023-04-04T06:10:27.880Z"
   },
   {
    "duration": 2536,
    "start_time": "2023-04-04T06:10:27.903Z"
   },
   {
    "duration": 3194,
    "start_time": "2023-04-04T06:10:30.440Z"
   },
   {
    "duration": 718,
    "start_time": "2023-04-04T06:10:33.636Z"
   },
   {
    "duration": 100,
    "start_time": "2023-04-04T06:10:34.355Z"
   },
   {
    "duration": 206,
    "start_time": "2023-04-04T06:10:34.456Z"
   },
   {
    "duration": 99,
    "start_time": "2023-04-04T06:10:34.664Z"
   },
   {
    "duration": 6,
    "start_time": "2023-04-04T06:10:34.771Z"
   },
   {
    "duration": 800,
    "start_time": "2023-04-04T06:10:34.778Z"
   },
   {
    "duration": 650,
    "start_time": "2023-04-04T06:10:35.579Z"
   },
   {
    "duration": 52,
    "start_time": "2023-04-04T06:10:36.232Z"
   },
   {
    "duration": 7,
    "start_time": "2023-04-04T06:10:36.286Z"
   },
   {
    "duration": 17,
    "start_time": "2023-04-04T06:10:36.294Z"
   },
   {
    "duration": 355,
    "start_time": "2023-04-04T06:10:36.312Z"
   },
   {
    "duration": 60,
    "start_time": "2023-04-04T06:10:36.672Z"
   },
   {
    "duration": 336,
    "start_time": "2023-04-04T06:10:36.786Z"
   },
   {
    "duration": 16,
    "start_time": "2023-04-04T06:10:51.382Z"
   },
   {
    "duration": 70,
    "start_time": "2023-04-04T06:10:52.131Z"
   },
   {
    "duration": 468,
    "start_time": "2023-04-04T06:10:53.669Z"
   },
   {
    "duration": 489,
    "start_time": "2023-04-04T06:10:55.934Z"
   },
   {
    "duration": 150,
    "start_time": "2023-04-04T06:10:56.467Z"
   },
   {
    "duration": 38746,
    "start_time": "2023-04-04T06:10:58.731Z"
   },
   {
    "duration": 7,
    "start_time": "2023-04-04T06:11:37.479Z"
   },
   {
    "duration": 102001,
    "start_time": "2023-04-04T06:11:37.575Z"
   },
   {
    "duration": 577,
    "start_time": "2023-04-04T06:13:19.581Z"
   },
   {
    "duration": 63,
    "start_time": "2023-04-04T06:13:20.160Z"
   },
   {
    "duration": 1738039,
    "start_time": "2023-04-04T06:13:20.224Z"
   },
   {
    "duration": 61221,
    "start_time": "2023-04-04T06:42:18.264Z"
   },
   {
    "duration": 4637609,
    "start_time": "2023-04-04T06:50:37.064Z"
   },
   {
    "duration": 28716,
    "start_time": "2023-04-04T08:07:54.674Z"
   },
   {
    "duration": 98,
    "start_time": "2023-04-04T08:15:28.827Z"
   },
   {
    "duration": 3274329,
    "start_time": "2023-04-04T08:15:29.843Z"
   },
   {
    "duration": 393652,
    "start_time": "2023-04-04T09:10:04.174Z"
   },
   {
    "duration": 7,
    "start_time": "2023-04-04T09:23:04.038Z"
   },
   {
    "duration": 886,
    "start_time": "2023-04-04T09:24:51.062Z"
   }
  ],
  "kernelspec": {
   "display_name": "Python 3 (ipykernel)",
   "language": "python",
   "name": "python3"
  },
  "language_info": {
   "codemirror_mode": {
    "name": "ipython",
    "version": 3
   },
   "file_extension": ".py",
   "mimetype": "text/x-python",
   "name": "python",
   "nbconvert_exporter": "python",
   "pygments_lexer": "ipython3",
   "version": "3.9.5"
  },
  "toc": {
   "base_numbering": 1,
   "nav_menu": {},
   "number_sections": true,
   "sideBar": true,
   "skip_h1_title": true,
   "title_cell": "Table of Contents",
   "title_sidebar": "Contents",
   "toc_cell": false,
   "toc_position": {},
   "toc_section_display": true,
   "toc_window_display": true
  }
 },
 "nbformat": 4,
 "nbformat_minor": 2
}
